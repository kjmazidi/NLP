{
 "cells": [
  {
   "cell_type": "markdown",
   "metadata": {},
   "source": [
    "# Chapter 5.2 NLTK Text Object and Methods\n",
    "\n",
    "## Demo for text analysis with NLTK\n",
    "### Code accompanies Section 5.2 \n",
    "\n",
    "NLTK is open source. The Text class definition can be found [here](https://www.nltk.org/_modules/nltk/text.html)"
   ]
  },
  {
   "cell_type": "code",
   "execution_count": 1,
   "metadata": {},
   "outputs": [
    {
     "name": "stdout",
     "output_type": "stream",
     "text": [
      "*** Introductory Examples for the NLTK Book ***\n",
      "Loading text1, ..., text9 and sent1, ..., sent9\n",
      "Type the name of the text or sentence to view it.\n",
      "Type: 'texts()' or 'sents()' to list the materials.\n",
      "text1: Moby Dick by Herman Melville 1851\n",
      "text2: Sense and Sensibility by Jane Austen 1811\n",
      "text3: The Book of Genesis\n",
      "text4: Inaugural Address Corpus\n",
      "text5: Chat Corpus\n",
      "text6: Monty Python and the Holy Grail\n",
      "text7: Wall Street Journal\n",
      "text8: Personals Corpus\n",
      "text9: The Man Who Was Thursday by G . K . Chesterton 1908\n"
     ]
    }
   ],
   "source": [
    "# imports used in the notebook\n",
    "\n",
    "from nltk.book import *\n",
    "from nltk.corpus import stopwords\n",
    "from nltk.stem import WordNetLemmatizer"
   ]
  },
  {
   "cell_type": "markdown",
   "metadata": {},
   "source": [
    "## NLTK Text object\n",
    "\n",
    "These text documents are objects of NLTK's Text class. Essentially it is a wrapper around the tokens of the original documents. The Text object has many build-in methods:\n",
    "\n",
    "* collocations\n",
    "* common_contexts\n",
    "* concordance\n",
    "* count\n",
    "* dispersion_plot\n",
    "* index\n",
    "* plot\n",
    "* similar\n",
    "* as well as some functions designed to make regex-type searches easier\n",
    "\n",
    "To make your own text document out of a raw text file, first read in the file, tokenize it, then make a Text object out of it, as shown below:"
   ]
  },
  {
   "cell_type": "code",
   "execution_count": 2,
   "metadata": {},
   "outputs": [
    {
     "name": "stdout",
     "output_type": "stream",
     "text": [
      "\n",
      "Some tokens from constitution:\n",
      " ['we', 'the', 'people', 'of', 'the', 'united', 'states', 'in', 'order', 'to', 'form', 'a', 'more', 'perfect', 'union', 'establish', 'justice', 'insure', 'domestic', 'tranquility']\n"
     ]
    }
   ],
   "source": [
    "# build your own Text object so that you can use the methods\n",
    "\n",
    "from nltk.tokenize import word_tokenize\n",
    "from nltk.text import Text\n",
    "\n",
    "with open('const.txt', 'r') as f:\n",
    "    text = f.read()\n",
    "# remove newline characters\n",
    "text = text.replace('\\n', ' ')\n",
    "\n",
    "tokens = word_tokenize(text)\n",
    "\n",
    "# lowercase, get rid of punctuation, numbers\n",
    "tokens = [t.lower() for t in tokens if t.isalpha()]\n",
    "          \n",
    "text_const = Text(tokens)\n",
    "print(\"\\nSome tokens from constitution:\\n\", text_const[:20])"
   ]
  },
  {
   "cell_type": "markdown",
   "metadata": {},
   "source": [
    "### Demo of selected Text methods\n",
    "\n",
    "The following code chunks demo some of these Text methods, and some are covered in other notebooks. "
   ]
  },
  {
   "cell_type": "code",
   "execution_count": 3,
   "metadata": {},
   "outputs": [
    {
     "data": {
      "text/plain": [
       "9"
      ]
     },
     "execution_count": 3,
     "metadata": {},
     "output_type": "execute_result"
    }
   ],
   "source": [
    "text_const.count('people')  # this is identical to Python's count()"
   ]
  },
  {
   "cell_type": "code",
   "execution_count": 4,
   "metadata": {},
   "outputs": [
    {
     "name": "stdout",
     "output_type": "stream",
     "text": [
      "Displaying 9 of 9 matches:\n",
      "we the people of the united states in order to fo\n",
      "ers chosen every second year by the people of the several states and the elect\n",
      "or of the press or the right of the people peaceably to assemble and to petiti\n",
      "ty of a free state the right of the people to keep and bear arms shall not be \n",
      "d by law amendment the right of the people to be secure in their persons house\n",
      "or disparage others retained by the people amendment the powers not delegated \n",
      "o the states respectively or to the people amendment the judicial power of the\n",
      "tors from each state elected by the people thereof for six years and each sena\n",
      "ke temporary appointments until the people fill the vacancies by election as t\n"
     ]
    }
   ],
   "source": [
    "text_const.concordance('people')  # print the context for every occurrence of 'people'"
   ]
  },
  {
   "cell_type": "code",
   "execution_count": 5,
   "metadata": {},
   "outputs": [
    {
     "data": {
      "text/plain": [
       "2"
      ]
     },
     "execution_count": 5,
     "metadata": {},
     "output_type": "execute_result"
    }
   ],
   "source": [
    "text_const.index('people')  # find the index of first occurrence"
   ]
  },
  {
   "cell_type": "code",
   "execution_count": 6,
   "metadata": {},
   "outputs": [
    {
     "name": "stdout",
     "output_type": "stream",
     "text": [
      "constitution congress senate legislature place laws right militia\n",
      "jurisdiction citizens blessings house members year state age number\n",
      "service term law\n"
     ]
    }
   ],
   "source": [
    "text_const.similar('people')  # finds words that appear in same context as 'people'"
   ]
  },
  {
   "cell_type": "code",
   "execution_count": 7,
   "metadata": {},
   "outputs": [
    {
     "name": "stdout",
     "output_type": "stream",
     "text": [
      "the_of the_to\n"
     ]
    }
   ],
   "source": [
    "text_const.common_contexts(['people', 'right'], 10)  # see what words share context wtih people and right"
   ]
  },
  {
   "cell_type": "markdown",
   "metadata": {},
   "source": [
    "## Dispersion plots\n",
    "\n",
    "A dispersion plot visualizes word occurrences in a document. Each line represents the entire document, token by token. The ticks note occurrences of the word. \n",
    "\n",
    "If you get an error, you may need to install matplotlib."
   ]
  },
  {
   "cell_type": "code",
   "execution_count": 8,
   "metadata": {},
   "outputs": [
    {
     "data": {
      "image/png": "[encoded data removed]",
      "text/plain": [
       "<Figure size 432x288 with 1 Axes>"
      ]
     },
     "metadata": {
      "needs_background": "light"
     },
     "output_type": "display_data"
    }
   ],
   "source": [
    "text_const.dispersion_plot(['people', 'congress', 'state', 'court', 'president'])"
   ]
  },
  {
   "cell_type": "markdown",
   "metadata": {},
   "source": [
    "## Generate text\n",
    "\n",
    "NLTK even has a generate() method which will generate text similar to text in the document. "
   ]
  },
  {
   "cell_type": "code",
   "execution_count": 9,
   "metadata": {},
   "outputs": [
    {
     "name": "stdout",
     "output_type": "stream",
     "text": [
      "representatives according to the states respectively the appointment\n",
      "of such male citizens shall bear to the discipline prescribed by\n",
      "congress to which the district would be entitled if it were a state or\n",
      "with a foreign power or engage in war unless actually invaded or in\n",
      "adhering to their jurisdiction congress shall have the sole power of\n",
      "the house of representatives shall immediately choose by ballot for\n",
      "president and if no person shall be necessary except on a presentment\n",
      "or indictment of a term of four years and been fourteen years a\n",
      "resident within the jurisdiction thereof for six years\n"
     ]
    },
    {
     "name": "stderr",
     "output_type": "stream",
     "text": [
      "Building ngram index...\n"
     ]
    },
    {
     "data": {
      "text/plain": [
       "'representatives according to the states respectively the appointment\\nof such male citizens shall bear to the discipline prescribed by\\ncongress to which the district would be entitled if it were a state or\\nwith a foreign power or engage in war unless actually invaded or in\\nadhering to their jurisdiction congress shall have the sole power of\\nthe house of representatives shall immediately choose by ballot for\\npresident and if no person shall be necessary except on a presentment\\nor indictment of a term of four years and been fourteen years a\\nresident within the jurisdiction thereof for six years'"
      ]
     },
     "execution_count": 9,
     "metadata": {},
     "output_type": "execute_result"
    }
   ],
   "source": [
    "text_const.generate()"
   ]
  },
  {
   "cell_type": "markdown",
   "metadata": {},
   "source": [
    "## Frequency Distributions\n",
    "\n",
    "The Text object also has methods to calculate and plot frequency distributions, shown next. The frequency distribution quantifies how the total number of tokens in the text are distributed among the vocabulary items. The *vocabulary* is the set of unique tokens.\n",
    "\n"
   ]
  },
  {
   "cell_type": "code",
   "execution_count": 10,
   "metadata": {},
   "outputs": [
    {
     "name": "stdout",
     "output_type": "stream",
     "text": [
      "<FreqDist with 1131 samples and 7488 outcomes>\n"
     ]
    }
   ],
   "source": [
    "fdist1 = FreqDist(text_const)\n",
    "print(fdist1)"
   ]
  },
  {
   "cell_type": "code",
   "execution_count": 11,
   "metadata": {},
   "outputs": [
    {
     "data": {
      "text/plain": [
       "[('the', 726),\n",
       " ('of', 494),\n",
       " ('shall', 306),\n",
       " ('and', 264),\n",
       " ('to', 202),\n",
       " ('be', 179),\n",
       " ('or', 160),\n",
       " ('in', 145),\n",
       " ('states', 129),\n",
       " ('president', 109)]"
      ]
     },
     "execution_count": 11,
     "metadata": {},
     "output_type": "execute_result"
    }
   ],
   "source": [
    "fdist1.most_common(10)  # find the 10 most common words"
   ]
  },
  {
   "cell_type": "code",
   "execution_count": 12,
   "metadata": {},
   "outputs": [
    {
     "data": {
      "text/plain": [
       "9"
      ]
     },
     "execution_count": 12,
     "metadata": {},
     "output_type": "execute_result"
    }
   ],
   "source": [
    "fdist1['people']  # same results as count()"
   ]
  },
  {
   "cell_type": "code",
   "execution_count": 13,
   "metadata": {},
   "outputs": [
    {
     "data": {
      "image/png": "[encoded data removed]",
      "text/plain": [
       "<Figure size 432x288 with 1 Axes>"
      ]
     },
     "metadata": {
      "needs_background": "light"
     },
     "output_type": "display_data"
    },
    {
     "data": {
      "text/plain": [
       "<matplotlib.axes._subplots.AxesSubplot at 0x7f955ba524c0>"
      ]
     },
     "execution_count": 13,
     "metadata": {},
     "output_type": "execute_result"
    }
   ],
   "source": [
    "fdist1.plot(50, cumulative=True)  # plot the frequencies of the 50 most common words"
   ]
  },
  {
   "cell_type": "code",
   "execution_count": 14,
   "metadata": {},
   "outputs": [
    {
     "data": {
      "image/png": "[encoded data removed]",
      "text/plain": [
       "<Figure size 432x288 with 1 Axes>"
      ]
     },
     "metadata": {
      "needs_background": "light"
     },
     "output_type": "display_data"
    },
    {
     "data": {
      "text/plain": [
       "<matplotlib.axes._subplots.AxesSubplot at 0x7f955bb593d0>"
      ]
     },
     "execution_count": 14,
     "metadata": {},
     "output_type": "execute_result"
    }
   ],
   "source": [
    "fdist1.plot(50, cumulative=False)  # plot the frequencies of the 50 most common words"
   ]
  },
  {
   "cell_type": "markdown",
   "metadata": {},
   "source": [
    "### Zipf's law\n",
    "\n",
    "Zipf's law states that for a given text corpus, the frequency of any word is inversely proportional to its rank in the frequency table. For example, the most common word occurs twice as often as the next most common word, three times as often as the next work, etc. \n",
    "\n",
    "George Zipf discovered this phenomenon in 1935 but no one knows why words follow this law. \n",
    "\n",
    "There will be many words that only occur once in a document. There is a special term for these words: hapax legomenon. The term is a transliteration of a Greek phrase that means \"something that is said once.\"\n",
    "\n",
    "NLTK has a method to discover these, see below."
   ]
  },
  {
   "cell_type": "code",
   "execution_count": 15,
   "metadata": {},
   "outputs": [
    {
     "data": {
      "text/plain": [
       "['perfect',\n",
       " 'insure',\n",
       " 'tranquility',\n",
       " 'blessings',\n",
       " 'ourselves',\n",
       " 'posterity',\n",
       " 'legislative',\n",
       " 'included',\n",
       " 'adding',\n",
       " 'fifths']"
      ]
     },
     "execution_count": 15,
     "metadata": {},
     "output_type": "execute_result"
    }
   ],
   "source": [
    "hapaxes = fdist1.hapaxes()\n",
    "hapaxes[:10]"
   ]
  },
  {
   "cell_type": "markdown",
   "metadata": {},
   "source": [
    "### Heap's Law\n",
    "\n",
    "The following code chunk processes a tokenized text sequentially, adding 1 to the dictionary count if the word has already been encountered, or adding a new dictionary item for words that have not yet been encountered:"
   ]
  },
  {
   "cell_type": "code",
   "execution_count": 16,
   "metadata": {},
   "outputs": [],
   "source": [
    "vocab = {} \n",
    "\n",
    "for token in tokens:\n",
    "    if token in vocab:\n",
    "        vocab[token] += 1\n",
    "    else:\n",
    "        vocab[token] = 1"
   ]
  },
  {
   "cell_type": "markdown",
   "metadata": {},
   "source": [
    "The following dictionary comprehension does the same thing as the for loop above:"
   ]
  },
  {
   "cell_type": "code",
   "execution_count": 18,
   "metadata": {},
   "outputs": [
    {
     "name": "stdout",
     "output_type": "stream",
     "text": [
      "1131 items in dictionary\n"
     ]
    }
   ],
   "source": [
    "# make a dictionary of word counts \n",
    "vocab = {t:tokens.count(t) for t in tokens}\n",
    "print(len(vocab), 'items in dictionary')"
   ]
  },
  {
   "cell_type": "markdown",
   "metadata": {},
   "source": [
    "As a corpus is processed, fewer and fewer new words will be encountered. **Heap's law** quantifies this phenomenon. Vocabulary growth, v, is a function of some constant, k, and the total number of words in the corpus, n, raised to a power b. \n",
    "\n",
    "$v = k * n^b$\n",
    "\n",
    "The constants k and b are found experimentally, and vary by corpus. k usually ranges between 30 and 100. A common b value is 0.5.\n",
    "\n",
    "Often the number of unique vocabulary words in a corpus is a function of the square root of the number of words in the document. "
   ]
  },
  {
   "cell_type": "markdown",
   "metadata": {},
   "source": [
    "### More examples\n",
    "\n",
    "The next two code chunks explore other ways to get to know the vocabulary of a document. The first code chunk below builds the vocabulary and then uses a list comprehension to get a list of all words longer than 12 characters.\n",
    "\n",
    "The second code chunk looks for words that are fairly common and fairly long. The code returns a list of tuples with the first item in the tuple as the word, and the second as the count."
   ]
  },
  {
   "cell_type": "code",
   "execution_count": 19,
   "metadata": {},
   "outputs": [
    {
     "data": {
      "text/plain": [
       "['qualification',\n",
       " 'naturalization',\n",
       " 'transportation',\n",
       " 'representatives',\n",
       " 'confederation',\n",
       " 'reconsideration',\n",
       " 'disqualification',\n",
       " 'representative',\n",
       " 'counterfeiting',\n",
       " 'apportionment',\n",
       " 'appropriations',\n",
       " 'controversies',\n",
       " 'extraordinary',\n",
       " 'establishment',\n",
       " 'constitutionally',\n",
       " 'insurrections',\n",
       " 'consideration',\n",
       " 'constitutional',\n",
       " 'appropriation',\n",
       " 'qualifications',\n",
       " 'massachusetts',\n",
       " 'participation',\n",
       " 'notwithstanding',\n",
       " 'representation']"
      ]
     },
     "execution_count": 19,
     "metadata": {},
     "output_type": "execute_result"
    }
   ],
   "source": [
    "# look for long words in the consitution\n",
    "v = set(text_const)  # get a vocabulary\n",
    "long_words = [w for w in v if len(w) > 12]\n",
    "long_words"
   ]
  },
  {
   "cell_type": "code",
   "execution_count": 20,
   "metadata": {},
   "outputs": [
    {
     "data": {
      "text/plain": [
       "[('legislation', 9),\n",
       " ('representatives', 29),\n",
       " ('senators', 13),\n",
       " ('officers', 11),\n",
       " ('amendment', 35),\n",
       " ('legislatures', 8),\n",
       " ('jurisdiction', 9),\n",
       " ('authority', 8),\n",
       " ('congress', 60),\n",
       " ('legislature', 13),\n",
       " ('constitution', 25),\n",
       " ('vacancies', 8),\n",
       " ('president', 109),\n",
       " ('executive', 13),\n",
       " ('electors', 16),\n",
       " ('citizens', 18),\n",
       " ('election', 9),\n",
       " ('government', 8),\n",
       " ('appropriate', 8),\n",
       " ('majority', 14),\n",
       " ('necessary', 9)]"
      ]
     },
     "execution_count": 20,
     "metadata": {},
     "output_type": "execute_result"
    }
   ],
   "source": [
    "# find common, longish words\n",
    "long_common = [(w, fdist1[w]) for w in v if len(w) > 7 and fdist1[w] > 7]\n",
    "long_common"
   ]
  },
  {
   "cell_type": "code",
   "execution_count": null,
   "metadata": {},
   "outputs": [],
   "source": []
  }
 ],
 "metadata": {
  "kernelspec": {
   "display_name": "Python 3",
   "language": "python",
   "name": "python3"
  },
  "language_info": {
   "codemirror_mode": {
    "name": "ipython",
    "version": 3
   },
   "file_extension": ".py",
   "mimetype": "text/x-python",
   "name": "python",
   "nbconvert_exporter": "python",
   "pygments_lexer": "ipython3",
   "version": "3.8.2"
  }
 },
 "nbformat": 4,
 "nbformat_minor": 4
}
