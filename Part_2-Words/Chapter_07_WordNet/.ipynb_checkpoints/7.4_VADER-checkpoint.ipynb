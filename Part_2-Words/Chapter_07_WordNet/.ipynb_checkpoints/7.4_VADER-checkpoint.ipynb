{
 "cells": [
  {
   "cell_type": "markdown",
   "metadata": {},
   "source": [
    "### VADER Valence Aware Dictionary and sEntiment Reasoner\n",
    "\n",
    "This notebook explores VADER, a rules-based NLP tool designed for sentiment analysis in social media, created by Hutto and Gilbert. VADER is open source, available at: [https://github.com/cjhutto/vaderSentiment](https://github.com/cjhutto/vaderSentiment) To install use pip or pip3:\n",
    "\n",
    "```\n",
    "pip3 install vaderSentiment\n",
    "```\n",
    "\n",
    "Let's start with a short demo from the GitHub:"
   ]
  },
  {
   "cell_type": "code",
   "execution_count": 1,
   "metadata": {},
   "outputs": [],
   "source": [
    "# imports\n",
    "\n",
    "from vaderSentiment.vaderSentiment import SentimentIntensityAnalyzer"
   ]
  },
  {
   "cell_type": "code",
   "execution_count": 2,
   "metadata": {},
   "outputs": [],
   "source": [
    "sentences = [\"VADER is smart, handsome, and funny.\",  # positive sentence example\n",
    "             \"VADER is smart, handsome, and funny!\",  # punctuation emphasis handled correctly (sentiment intensity adjusted)\n",
    "             \"VADER is very smart, handsome, and funny.\", # booster words handled correctly (sentiment intensity adjusted)\n",
    "             \"VADER is VERY SMART, handsome, and FUNNY.\",  # emphasis for ALLCAPS handled\n",
    "             \"VADER is VERY SMART, handsome, and FUNNY!!!\", # combination of signals - VADER appropriately adjusts intensity\n",
    "             \"VADER is VERY SMART, uber handsome, and FRIGGIN FUNNY!!!\", # booster words & punctuation make this close to ceiling for score\n",
    "             \"VADER is not smart, handsome, nor funny.\",  # negation sentence example\n",
    "             \"The book was good.\",  # positive sentence\n",
    "             \"At least it isn't a horrible book.\",  # negated negative sentence with contraction\n",
    "             \"The book was only kind of good.\", # qualified positive sentence is handled correctly (intensity adjusted)\n",
    "             \"The plot was good, but the characters are uncompelling and the dialog is not great.\", # mixed negation sentence\n",
    "             \"Today SUX!\",  # negative slang with capitalization emphasis\n",
    "             \"Today only kinda sux! But I'll get by, lol\", # mixed sentiment example with slang and constrastive conjunction \"but\"\n",
    "             \"Make sure you :) or :D today!\",  # emoticons handled\n",
    "             \"Catch utf-8 emoji such as such as 💘 and 💋 and 😁\",  # emojis handled\n",
    "             \"Not bad at all\"  # Capitalized negation\n",
    "             ]"
   ]
  },
  {
   "cell_type": "code",
   "execution_count": 4,
   "metadata": {},
   "outputs": [
    {
     "name": "stdout",
     "output_type": "stream",
     "text": [
      "VADER is smart, handsome, and funny. \n",
      "\t {'neg': 0.0, 'neu': 0.254, 'pos': 0.746, 'compound': 0.8316}\n",
      "VADER is smart, handsome, and funny! \n",
      "\t {'neg': 0.0, 'neu': 0.248, 'pos': 0.752, 'compound': 0.8439}\n",
      "VADER is very smart, handsome, and funny. \n",
      "\t {'neg': 0.0, 'neu': 0.299, 'pos': 0.701, 'compound': 0.8545}\n",
      "VADER is VERY SMART, handsome, and FUNNY. \n",
      "\t {'neg': 0.0, 'neu': 0.246, 'pos': 0.754, 'compound': 0.9227}\n",
      "VADER is VERY SMART, handsome, and FUNNY!!! \n",
      "\t {'neg': 0.0, 'neu': 0.233, 'pos': 0.767, 'compound': 0.9342}\n",
      "VADER is VERY SMART, uber handsome, and FRIGGIN FUNNY!!! \n",
      "\t {'neg': 0.0, 'neu': 0.294, 'pos': 0.706, 'compound': 0.9469}\n",
      "VADER is not smart, handsome, nor funny. \n",
      "\t {'neg': 0.646, 'neu': 0.354, 'pos': 0.0, 'compound': -0.7424}\n",
      "The book was good. \n",
      "\t {'neg': 0.0, 'neu': 0.508, 'pos': 0.492, 'compound': 0.4404}\n",
      "At least it isn't a horrible book. \n",
      "\t {'neg': 0.0, 'neu': 0.678, 'pos': 0.322, 'compound': 0.431}\n",
      "The book was only kind of good. \n",
      "\t {'neg': 0.0, 'neu': 0.697, 'pos': 0.303, 'compound': 0.3832}\n",
      "The plot was good, but the characters are uncompelling and the dialog is not great. \n",
      "\t {'neg': 0.327, 'neu': 0.579, 'pos': 0.094, 'compound': -0.7042}\n",
      "Today SUX! \n",
      "\t {'neg': 0.779, 'neu': 0.221, 'pos': 0.0, 'compound': -0.5461}\n",
      "Today only kinda sux! But I'll get by, lol \n",
      "\t {'neg': 0.127, 'neu': 0.556, 'pos': 0.317, 'compound': 0.5249}\n",
      "Make sure you :) or :D today! \n",
      "\t {'neg': 0.0, 'neu': 0.294, 'pos': 0.706, 'compound': 0.8633}\n",
      "Catch utf-8 emoji such as such as 💘 and 💋 and 😁 \n",
      "\t {'neg': 0.0, 'neu': 0.615, 'pos': 0.385, 'compound': 0.875}\n",
      "Not bad at all \n",
      "\t {'neg': 0.0, 'neu': 0.513, 'pos': 0.487, 'compound': 0.431}\n"
     ]
    }
   ],
   "source": [
    "analyzer = SentimentIntensityAnalyzer()\n",
    "\n",
    "for sentence in sentences:\n",
    "    vs = analyzer.polarity_scores(sentence)\n",
    "    print(sentence, '\\n\\t', str(vs))"
   ]
  },
  {
   "cell_type": "markdown",
   "metadata": {},
   "source": [
    "The compound score is based on the words in the text, and adjusted to be in the range \\[-1, +1\\]. The pos, neg, and neu scores are ratios for the portion of text in each category. \n",
    "\n",
    "### Using VADER data\n",
    "\n",
    "VADER has data you can dowload from the GitHub. The next code chunk looks at the movieReviewSnippets_GroundTruth.txt file. Sentiment analysis is shown for the first 5 reviews."
   ]
  },
  {
   "cell_type": "code",
   "execution_count": 12,
   "metadata": {},
   "outputs": [
    {
     "name": "stdout",
     "output_type": "stream",
     "text": [
      "\n",
      " The Rock is destined to be the 21st Century's new ''Conan'' and that he's going to make a splash even greater than Arnold Schwarzenegger, Jean Claud Van Damme or Steven Segal. \n",
      "\t VS= {'neg': 0.0, 'neu': 0.923, 'pos': 0.077, 'compound': 0.3612}\n",
      "\n",
      " The gorgeously elaborate continuation of ''The Lord of the Rings'' trilogy is so huge that a column of words cannot adequately describe co writer/director Peter Jackson's expanded vision of J.R.R. Tolkien's Middle earth. \n",
      "\t VS= {'neg': 0.0, 'neu': 0.783, 'pos': 0.217, 'compound': 0.8069}\n",
      "\n",
      " Effective but too tepid biopic \n",
      "\t VS= {'neg': 0.0, 'neu': 0.661, 'pos': 0.339, 'compound': 0.2617}\n",
      "\n",
      " If you sometimes like to go to the movies to have fun, Wasabi is a good place to start. \n",
      "\t VS= {'neg': 0.0, 'neu': 0.648, 'pos': 0.352, 'compound': 0.8271}\n",
      "\n",
      " Emerges as something rare, an issue movie that's so honest and keenly observed that it doesn't feel like one. \n",
      "\t VS= {'neg': 0.086, 'neu': 0.65, 'pos': 0.264, 'compound': 0.6592}\n"
     ]
    }
   ],
   "source": [
    "with open('VADER_data/movieReviewSnippets_GroundTruth.txt', 'r') as f:\n",
    "    lines = f.read().splitlines()\n",
    "    \n",
    "for line in lines[:5]:\n",
    "    i, sentiment, text = line.split('\\t')\n",
    "    vs = analyzer.polarity_scores(text)\n",
    "    print('\\n', text, '\\n\\t VS=', str(vs))"
   ]
  },
  {
   "cell_type": "markdown",
   "metadata": {},
   "source": [
    "### NLTK Integration \n",
    "\n",
    "NLTK has a VADER implementation which can be imported as follows:\n",
    "\n",
    "```\n",
    "from nltk.sentiment.vader import SentimentIntensityAnalyzer\n",
    "```\n",
    "\n",
    "Usage examples are on the NLTK site's [Sentiment Analysis](https://www.nltk.org/howto/sentiment.html) page"
   ]
  },
  {
   "cell_type": "code",
   "execution_count": null,
   "metadata": {},
   "outputs": [],
   "source": []
  }
 ],
 "metadata": {
  "kernelspec": {
   "display_name": "Python 3",
   "language": "python",
   "name": "python3"
  },
  "language_info": {
   "codemirror_mode": {
    "name": "ipython",
    "version": 3
   },
   "file_extension": ".py",
   "mimetype": "text/x-python",
   "name": "python",
   "nbconvert_exporter": "python",
   "pygments_lexer": "ipython3",
   "version": "3.8.2"
  }
 },
 "nbformat": 4,
 "nbformat_minor": 4
}
