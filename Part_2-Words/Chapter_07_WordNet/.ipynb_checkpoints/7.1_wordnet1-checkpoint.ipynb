{
 "cells": [
  {
   "cell_type": "markdown",
   "metadata": {},
   "source": [
    "# WordNet\n",
    "\n",
    "NLTK provides a Python interface to WordNet. This notebook looks at some ways to use WordNet.\n",
    "\n",
    "First, we need to import it."
   ]
  },
  {
   "cell_type": "code",
   "execution_count": 1,
   "metadata": {},
   "outputs": [],
   "source": [
    "from nltk.corpus import wordnet as wn"
   ]
  },
  {
   "cell_type": "markdown",
   "metadata": {},
   "source": [
    "The code below gets all the synsets of 'exercise'.\n",
    "\n",
    "Each synset has an ID such as 'exercise.n.01'. The form of the ID is: word.pos.nn\n",
    "\n",
    "For example, 'exercise.n.01' is the first noun synset while 'exercise.v.01' is the first verb synset."
   ]
  },
  {
   "cell_type": "code",
   "execution_count": 2,
   "metadata": {},
   "outputs": [
    {
     "data": {
      "text/plain": [
       "[Synset('exercise.n.01'),\n",
       " Synset('use.n.01'),\n",
       " Synset('exercise.n.03'),\n",
       " Synset('exercise.n.04'),\n",
       " Synset('exercise.n.05'),\n",
       " Synset('exert.v.01'),\n",
       " Synset('practice.v.01'),\n",
       " Synset('exercise.v.03'),\n",
       " Synset('exercise.v.04'),\n",
       " Synset('drill.v.03')]"
      ]
     },
     "execution_count": 2,
     "metadata": {},
     "output_type": "execute_result"
    }
   ],
   "source": [
    "# get all synsets of 'exercise'\n",
    "\n",
    "wn.synsets('exercise')"
   ]
  },
  {
   "cell_type": "markdown",
   "metadata": {},
   "source": [
    "For a given synset, we can extract:\n",
    "\n",
    "* a definition\n",
    "* usage examples\n",
    "* lemmas"
   ]
  },
  {
   "cell_type": "code",
   "execution_count": 3,
   "metadata": {},
   "outputs": [
    {
     "data": {
      "text/plain": [
       "'the activity of exerting your muscles in various ways to keep fit'"
      ]
     },
     "execution_count": 3,
     "metadata": {},
     "output_type": "execute_result"
    }
   ],
   "source": [
    "# get a definition for the first noun synset\n",
    "\n",
    "wn.synset('exercise.n.01').definition()"
   ]
  },
  {
   "cell_type": "code",
   "execution_count": 4,
   "metadata": {},
   "outputs": [
    {
     "data": {
      "text/plain": [
       "'put to use'"
      ]
     },
     "execution_count": 4,
     "metadata": {},
     "output_type": "execute_result"
    }
   ],
   "source": [
    "# get a definition for the first verb synset\n",
    "\n",
    "wn.synset('exercise.v.01').definition()"
   ]
  },
  {
   "cell_type": "code",
   "execution_count": 5,
   "metadata": {},
   "outputs": [
    {
     "data": {
      "text/plain": [
       "[\"exert one's power or influence\"]"
      ]
     },
     "execution_count": 5,
     "metadata": {},
     "output_type": "execute_result"
    }
   ],
   "source": [
    "# extract examples\n",
    "\n",
    "wn.synset('exercise.v.01').examples()"
   ]
  },
  {
   "cell_type": "code",
   "execution_count": 6,
   "metadata": {},
   "outputs": [
    {
     "data": {
      "text/plain": [
       "[Lemma('exert.v.01.exert'), Lemma('exert.v.01.exercise')]"
      ]
     },
     "execution_count": 6,
     "metadata": {},
     "output_type": "execute_result"
    }
   ],
   "source": [
    "# extract lemmas\n",
    "\n",
    "wn.synset('exercise.v.01').lemmas()"
   ]
  },
  {
   "cell_type": "code",
   "execution_count": 7,
   "metadata": {},
   "outputs": [
    {
     "name": "stdout",
     "output_type": "stream",
     "text": [
      "Synset: exert.v.01(put to use)  \n",
      "\t Lemmas:['exert', 'exercise']\n",
      "Synset: practice.v.01(carry out or practice; as of jobs and professions)  \n",
      "\t Lemmas:['practice', 'practise', 'exercise', 'do']\n",
      "Synset: exercise.v.03(give a workout to)  \n",
      "\t Lemmas:['exercise', 'work', 'work_out']\n",
      "Synset: exercise.v.04(do physical exercise)  \n",
      "\t Lemmas:['exercise', 'work_out']\n",
      "Synset: drill.v.03(learn by repetition)  \n",
      "\t Lemmas:['drill', 'exercise', 'practice', 'practise']\n"
     ]
    }
   ],
   "source": [
    "# iterate over synsets\n",
    "\n",
    "exercise_synsets = wn.synsets('exercise', pos=wn.VERB)\n",
    "for sense in exercise_synsets:\n",
    "    lemmas = [l.name() for l in sense.lemmas()]\n",
    "    print(\"Synset: \" + sense.name() + \"(\" +sense.definition() + \")  \\n\\t Lemmas:\" + str(lemmas))"
   ]
  },
  {
   "cell_type": "markdown",
   "metadata": {},
   "source": [
    "## Morphy\n",
    "\n",
    "The morphy() function returns the base form of the word. The two arguments to morphy are the inflected word, and optionally, the pos. The morphy() function is a rules-based function that uses English rules to determine the root word, given the inflected form. "
   ]
  },
  {
   "cell_type": "code",
   "execution_count": 8,
   "metadata": {},
   "outputs": [
    {
     "data": {
      "text/plain": [
       "'friendly'"
      ]
     },
     "execution_count": 8,
     "metadata": {},
     "output_type": "execute_result"
    }
   ],
   "source": [
    "wn.morphy('friendlier', wn.ADJ)"
   ]
  },
  {
   "cell_type": "code",
   "execution_count": 9,
   "metadata": {},
   "outputs": [
    {
     "data": {
      "text/plain": [
       "'friendly'"
      ]
     },
     "execution_count": 9,
     "metadata": {},
     "output_type": "execute_result"
    }
   ],
   "source": [
    "wn.morphy('friendliest')"
   ]
  },
  {
   "cell_type": "code",
   "execution_count": 10,
   "metadata": {},
   "outputs": [
    {
     "data": {
      "text/plain": [
       "'wounded'"
      ]
     },
     "execution_count": 10,
     "metadata": {},
     "output_type": "execute_result"
    }
   ],
   "source": [
    "wn.morphy('wounded', wn.ADJ)"
   ]
  },
  {
   "cell_type": "code",
   "execution_count": 11,
   "metadata": {},
   "outputs": [
    {
     "data": {
      "text/plain": [
       "'wound'"
      ]
     },
     "execution_count": 11,
     "metadata": {},
     "output_type": "execute_result"
    }
   ],
   "source": [
    "wn.morphy('wounded', wn.VERB)"
   ]
  },
  {
   "cell_type": "markdown",
   "metadata": {},
   "source": [
    "## Antonyms\n",
    "\n",
    "Not all synsets will have antonyms, in which case, WordNet will return null."
   ]
  },
  {
   "cell_type": "code",
   "execution_count": 12,
   "metadata": {},
   "outputs": [
    {
     "data": {
      "text/plain": [
       "Synset('friendly.a.01')"
      ]
     },
     "execution_count": 12,
     "metadata": {},
     "output_type": "execute_result"
    }
   ],
   "source": [
    "# get the first synset\n",
    "friendly = wn.synsets('friendly', pos=wn.ADJ)[0]\n",
    "friendly"
   ]
  },
  {
   "cell_type": "code",
   "execution_count": 13,
   "metadata": {},
   "outputs": [
    {
     "data": {
      "text/plain": [
       "[Lemma('friendly.a.01.friendly')]"
      ]
     },
     "execution_count": 13,
     "metadata": {},
     "output_type": "execute_result"
    }
   ],
   "source": [
    "friendly.lemmas()"
   ]
  },
  {
   "cell_type": "code",
   "execution_count": 14,
   "metadata": {},
   "outputs": [
    {
     "data": {
      "text/plain": [
       "[Lemma('unfriendly.a.02.unfriendly')]"
      ]
     },
     "execution_count": 14,
     "metadata": {},
     "output_type": "execute_result"
    }
   ],
   "source": [
    "# find the antonymn\n",
    "\n",
    "friendly.lemmas()[0].antonyms()"
   ]
  },
  {
   "cell_type": "code",
   "execution_count": null,
   "metadata": {},
   "outputs": [],
   "source": []
  }
 ],
 "metadata": {
  "kernelspec": {
   "display_name": "Python 3",
   "language": "python",
   "name": "python3"
  },
  "language_info": {
   "codemirror_mode": {
    "name": "ipython",
    "version": 3
   },
   "file_extension": ".py",
   "mimetype": "text/x-python",
   "name": "python",
   "nbconvert_exporter": "python",
   "pygments_lexer": "ipython3",
   "version": "3.8.2"
  }
 },
 "nbformat": 4,
 "nbformat_minor": 4
}
