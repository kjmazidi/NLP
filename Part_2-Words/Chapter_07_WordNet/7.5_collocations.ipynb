{
 "cells": [
  {
   "cell_type": "markdown",
   "metadata": {},
   "source": [
    "# collocations\n",
    "\n",
    "Collocations are words that appear together to form a meaning greater than the sum of their parts. For example the collocation *disk drive* means more than the individual words can convey. "
   ]
  },
  {
   "cell_type": "markdown",
   "metadata": {},
   "source": [
    "[![Open in Colab](https://colab.research.google.com/assets/colab-badge.svg)](https://colab.research.google.com/github/kjmazidi/NLP/blob/master/Part_2-Words/Chapter_07_WordNet/7.5_collocations.ipynb)"
   ]
  },
  {
   "cell_type": "markdown",
   "metadata": {},
   "source": [
    "###### Code accompanies *Natural Language Processing* by KJG Mazidi, all rights reserved."
   ]
  },
  {
   "cell_type": "code",
   "execution_count": 1,
   "metadata": {},
   "outputs": [
    {
     "name": "stderr",
     "output_type": "stream",
     "text": [
      "[nltk_data] Downloading collection 'book'\n",
      "[nltk_data]    | \n",
      "[nltk_data]    | Downloading package abc to\n",
      "[nltk_data]    |     /Users/janicemazidi/nltk_data...\n",
      "[nltk_data]    |   Package abc is already up-to-date!\n",
      "[nltk_data]    | Downloading package brown to\n",
      "[nltk_data]    |     /Users/janicemazidi/nltk_data...\n",
      "[nltk_data]    |   Package brown is already up-to-date!\n",
      "[nltk_data]    | Downloading package chat80 to\n",
      "[nltk_data]    |     /Users/janicemazidi/nltk_data...\n",
      "[nltk_data]    |   Package chat80 is already up-to-date!\n",
      "[nltk_data]    | Downloading package cmudict to\n",
      "[nltk_data]    |     /Users/janicemazidi/nltk_data...\n",
      "[nltk_data]    |   Package cmudict is already up-to-date!\n",
      "[nltk_data]    | Downloading package conll2000 to\n",
      "[nltk_data]    |     /Users/janicemazidi/nltk_data...\n",
      "[nltk_data]    |   Package conll2000 is already up-to-date!\n",
      "[nltk_data]    | Downloading package conll2002 to\n",
      "[nltk_data]    |     /Users/janicemazidi/nltk_data...\n",
      "[nltk_data]    |   Package conll2002 is already up-to-date!\n",
      "[nltk_data]    | Downloading package dependency_treebank to\n",
      "[nltk_data]    |     /Users/janicemazidi/nltk_data...\n",
      "[nltk_data]    |   Package dependency_treebank is already up-to-date!\n",
      "[nltk_data]    | Downloading package genesis to\n",
      "[nltk_data]    |     /Users/janicemazidi/nltk_data...\n",
      "[nltk_data]    |   Package genesis is already up-to-date!\n",
      "[nltk_data]    | Downloading package gutenberg to\n",
      "[nltk_data]    |     /Users/janicemazidi/nltk_data...\n",
      "[nltk_data]    |   Package gutenberg is already up-to-date!\n",
      "[nltk_data]    | Downloading package ieer to\n",
      "[nltk_data]    |     /Users/janicemazidi/nltk_data...\n",
      "[nltk_data]    |   Package ieer is already up-to-date!\n",
      "[nltk_data]    | Downloading package inaugural to\n",
      "[nltk_data]    |     /Users/janicemazidi/nltk_data...\n",
      "[nltk_data]    |   Package inaugural is already up-to-date!\n",
      "[nltk_data]    | Downloading package movie_reviews to\n",
      "[nltk_data]    |     /Users/janicemazidi/nltk_data...\n",
      "[nltk_data]    |   Package movie_reviews is already up-to-date!\n",
      "[nltk_data]    | Downloading package nps_chat to\n",
      "[nltk_data]    |     /Users/janicemazidi/nltk_data...\n",
      "[nltk_data]    |   Package nps_chat is already up-to-date!\n",
      "[nltk_data]    | Downloading package names to\n",
      "[nltk_data]    |     /Users/janicemazidi/nltk_data...\n",
      "[nltk_data]    |   Package names is already up-to-date!\n",
      "[nltk_data]    | Downloading package ppattach to\n",
      "[nltk_data]    |     /Users/janicemazidi/nltk_data...\n",
      "[nltk_data]    |   Package ppattach is already up-to-date!\n",
      "[nltk_data]    | Downloading package reuters to\n",
      "[nltk_data]    |     /Users/janicemazidi/nltk_data...\n",
      "[nltk_data]    |   Package reuters is already up-to-date!\n",
      "[nltk_data]    | Downloading package senseval to\n",
      "[nltk_data]    |     /Users/janicemazidi/nltk_data...\n",
      "[nltk_data]    |   Package senseval is already up-to-date!\n",
      "[nltk_data]    | Downloading package state_union to\n",
      "[nltk_data]    |     /Users/janicemazidi/nltk_data...\n",
      "[nltk_data]    |   Package state_union is already up-to-date!\n",
      "[nltk_data]    | Downloading package stopwords to\n",
      "[nltk_data]    |     /Users/janicemazidi/nltk_data...\n",
      "[nltk_data]    |   Package stopwords is already up-to-date!\n",
      "[nltk_data]    | Downloading package swadesh to\n",
      "[nltk_data]    |     /Users/janicemazidi/nltk_data...\n",
      "[nltk_data]    |   Package swadesh is already up-to-date!\n",
      "[nltk_data]    | Downloading package timit to\n",
      "[nltk_data]    |     /Users/janicemazidi/nltk_data...\n",
      "[nltk_data]    |   Package timit is already up-to-date!\n",
      "[nltk_data]    | Downloading package treebank to\n",
      "[nltk_data]    |     /Users/janicemazidi/nltk_data...\n",
      "[nltk_data]    |   Package treebank is already up-to-date!\n",
      "[nltk_data]    | Downloading package toolbox to\n",
      "[nltk_data]    |     /Users/janicemazidi/nltk_data...\n",
      "[nltk_data]    |   Package toolbox is already up-to-date!\n",
      "[nltk_data]    | Downloading package udhr to\n",
      "[nltk_data]    |     /Users/janicemazidi/nltk_data...\n",
      "[nltk_data]    |   Package udhr is already up-to-date!\n",
      "[nltk_data]    | Downloading package udhr2 to\n",
      "[nltk_data]    |     /Users/janicemazidi/nltk_data...\n",
      "[nltk_data]    |   Package udhr2 is already up-to-date!\n",
      "[nltk_data]    | Downloading package unicode_samples to\n",
      "[nltk_data]    |     /Users/janicemazidi/nltk_data...\n",
      "[nltk_data]    |   Package unicode_samples is already up-to-date!\n",
      "[nltk_data]    | Downloading package webtext to\n",
      "[nltk_data]    |     /Users/janicemazidi/nltk_data...\n",
      "[nltk_data]    |   Package webtext is already up-to-date!\n",
      "[nltk_data]    | Downloading package wordnet to\n",
      "[nltk_data]    |     /Users/janicemazidi/nltk_data...\n",
      "[nltk_data]    |   Package wordnet is already up-to-date!\n",
      "[nltk_data]    | Downloading package wordnet_ic to\n",
      "[nltk_data]    |     /Users/janicemazidi/nltk_data...\n",
      "[nltk_data]    |   Package wordnet_ic is already up-to-date!\n",
      "[nltk_data]    | Downloading package words to\n",
      "[nltk_data]    |     /Users/janicemazidi/nltk_data...\n",
      "[nltk_data]    |   Package words is already up-to-date!\n",
      "[nltk_data]    | Downloading package maxent_treebank_pos_tagger to\n",
      "[nltk_data]    |     /Users/janicemazidi/nltk_data...\n",
      "[nltk_data]    |   Package maxent_treebank_pos_tagger is already up-\n",
      "[nltk_data]    |       to-date!\n",
      "[nltk_data]    | Downloading package maxent_ne_chunker to\n",
      "[nltk_data]    |     /Users/janicemazidi/nltk_data...\n",
      "[nltk_data]    |   Package maxent_ne_chunker is already up-to-date!\n",
      "[nltk_data]    | Downloading package universal_tagset to\n",
      "[nltk_data]    |     /Users/janicemazidi/nltk_data...\n",
      "[nltk_data]    |   Package universal_tagset is already up-to-date!\n",
      "[nltk_data]    | Downloading package punkt to\n",
      "[nltk_data]    |     /Users/janicemazidi/nltk_data...\n",
      "[nltk_data]    |   Package punkt is already up-to-date!\n",
      "[nltk_data]    | Downloading package book_grammars to\n",
      "[nltk_data]    |     /Users/janicemazidi/nltk_data...\n",
      "[nltk_data]    |   Package book_grammars is already up-to-date!\n",
      "[nltk_data]    | Downloading package city_database to\n",
      "[nltk_data]    |     /Users/janicemazidi/nltk_data...\n",
      "[nltk_data]    |   Package city_database is already up-to-date!\n",
      "[nltk_data]    | Downloading package tagsets to\n",
      "[nltk_data]    |     /Users/janicemazidi/nltk_data...\n",
      "[nltk_data]    |   Package tagsets is already up-to-date!\n",
      "[nltk_data]    | Downloading package panlex_swadesh to\n",
      "[nltk_data]    |     /Users/janicemazidi/nltk_data...\n",
      "[nltk_data]    |   Package panlex_swadesh is already up-to-date!\n",
      "[nltk_data]    | Downloading package averaged_perceptron_tagger to\n",
      "[nltk_data]    |     /Users/janicemazidi/nltk_data...\n",
      "[nltk_data]    |   Package averaged_perceptron_tagger is already up-\n",
      "[nltk_data]    |       to-date!\n",
      "[nltk_data]    | \n",
      "[nltk_data]  Done downloading collection book\n"
     ]
    },
    {
     "name": "stdout",
     "output_type": "stream",
     "text": [
      "*** Introductory Examples for the NLTK Book ***\n",
      "Loading text1, ..., text9 and sent1, ..., sent9\n",
      "Type the name of the text or sentence to view it.\n",
      "Type: 'texts()' or 'sents()' to list the materials.\n",
      "text1: Moby Dick by Herman Melville 1851\n",
      "text2: Sense and Sensibility by Jane Austen 1811\n",
      "text3: The Book of Genesis\n",
      "text4: Inaugural Address Corpus\n",
      "text5: Chat Corpus\n",
      "text6: Monty Python and the Holy Grail\n",
      "text7: Wall Street Journal\n",
      "text8: Personals Corpus\n",
      "text9: The Man Who Was Thursday by G . K . Chesterton 1908\n"
     ]
    },
    {
     "data": {
      "text/plain": [
       "<Text: Monty Python and the Holy Grail>"
      ]
     },
     "execution_count": 1,
     "metadata": {},
     "output_type": "execute_result"
    }
   ],
   "source": [
    "# run this code block if on Google Colab\n",
    "import nltk\n",
    "\n",
    "nltk.download('book')\n",
    "from nltk.book import *\n",
    "text6"
   ]
  },
  {
   "cell_type": "code",
   "execution_count": 1,
   "metadata": {},
   "outputs": [
    {
     "name": "stdout",
     "output_type": "stream",
     "text": [
      "*** Introductory Examples for the NLTK Book ***\n",
      "Loading text1, ..., text9 and sent1, ..., sent9\n",
      "Type the name of the text or sentence to view it.\n",
      "Type: 'texts()' or 'sents()' to list the materials.\n",
      "text1: Moby Dick by Herman Melville 1851\n",
      "text2: Sense and Sensibility by Jane Austen 1811\n",
      "text3: The Book of Genesis\n",
      "text4: Inaugural Address Corpus\n",
      "text5: Chat Corpus\n",
      "text6: Monty Python and the Holy Grail\n",
      "text7: Wall Street Journal\n",
      "text8: Personals Corpus\n",
      "text9: The Man Who Was Thursday by G . K . Chesterton 1908\n"
     ]
    },
    {
     "data": {
      "text/plain": [
       "<Text: Monty Python and the Holy Grail>"
      ]
     },
     "execution_count": 1,
     "metadata": {},
     "output_type": "execute_result"
    }
   ],
   "source": [
    "# run this code block if on your local machine\n",
    "import nltk\n",
    "from nltk.book import *\n",
    "text6\n"
   ]
  },
  {
   "cell_type": "code",
   "execution_count": 2,
   "metadata": {},
   "outputs": [
    {
     "name": "stdout",
     "output_type": "stream",
     "text": [
      "BLACK KNIGHT; clop clop; HEAD KNIGHT; mumble mumble; Holy Grail;\n",
      "squeak squeak; FRENCH GUARD; saw saw; Sir Robin; Run away; CARTOON\n",
      "CHARACTER; King Arthur; Iesu domine; Pie Iesu; DEAD PERSON; Round\n",
      "Table; clap clap; OLD MAN; dramatic chord; dona eis\n"
     ]
    }
   ],
   "source": [
    "# get collocations\n",
    "text6.collocations()"
   ]
  },
  {
   "cell_type": "markdown",
   "metadata": {},
   "source": [
    "The above code called a collocations() method on an nlkt Text object. We don't have to convert our text to an nltk Text object to use collocations, as shown below. You can use various metrics as shown on the [nlkt how-to page](http://www.nltk.org/howto/collocations.html)"
   ]
  },
  {
   "cell_type": "code",
   "execution_count": 3,
   "metadata": {},
   "outputs": [
    {
     "data": {
      "text/plain": [
       "{('ALL', 'HEADS'): True,\n",
       " ('Anybody', 'armed'): True,\n",
       " ('Attila', 'raised'): True,\n",
       " ('Badon', 'Hill'): True,\n",
       " ('Bon', 'magne'): True,\n",
       " ('Chapter', 'Two'): True,\n",
       " ('Clark', 'Gable'): True,\n",
       " ('DEAD', 'PERSON'): True,\n",
       " ('Divine', 'Providence'): True,\n",
       " ('Eternal', 'Peril'): True,\n",
       " ('Fetchez', 'la'): True,\n",
       " ('Great', 'scott'): True,\n",
       " ('Hand', 'Grenade'): True,\n",
       " ('Iesu', 'domine'): True,\n",
       " ('Most', 'kind'): True,\n",
       " ('Olfin', 'Bedwere'): True,\n",
       " ('PRINCESS', 'LUCKY'): True,\n",
       " ('Pie', 'Iesu'): True,\n",
       " ('Recently', 'Said'): True,\n",
       " ('Round', 'Table'): True,\n",
       " ('Tall', 'Tower'): True,\n",
       " ('Thou', 'hast'): True,\n",
       " ('Thy', 'mer'): True,\n",
       " ('Til', 'Recently'): True,\n",
       " ('Too', 'late'): True,\n",
       " ('Uther', 'Pendragon'): True,\n",
       " ('absolutely', 'necessary'): True,\n",
       " ('advancing', 'behaviour'): True,\n",
       " ('aptly', 'named'): True,\n",
       " ('aquatic', 'ceremony'): True,\n",
       " ('autonomous', 'collective'): True,\n",
       " ('basic', 'medical'): True,\n",
       " ('became', 'convinced'): True,\n",
       " ('binding', 'sense'): True,\n",
       " ('bowels', 'unplugged'): True,\n",
       " ('brained', 'wipers'): True,\n",
       " ('breakfast', 'cereals'): True,\n",
       " ('bringing', 'class'): True,\n",
       " ('distributing', 'swords'): True,\n",
       " ('dorsal', 'guiding'): True,\n",
       " ('dramatic', 'chord'): True,\n",
       " ('eccentric', 'performance'): True,\n",
       " ('elbows', 'broken'): True,\n",
       " ('electric', 'donkey'): True,\n",
       " ('faced', 'bugger'): True,\n",
       " ('farcical', 'aquatic'): True,\n",
       " ('fellows', 'outwit'): True,\n",
       " ('flesh', 'wound'): True,\n",
       " ('fly', 'south'): True,\n",
       " ('footwork', 'impeccable'): True,\n",
       " ('frontal', 'assault'): True,\n",
       " ('fruit', 'bats'): True,\n",
       " ('guiding', 'feathers'): True,\n",
       " ('hang', 'around'): True,\n",
       " ('hast', 'vouchsafed'): True,\n",
       " ('having', 'consulted'): True,\n",
       " ('headed', 'animal'): True,\n",
       " ('house', 'martin'): True,\n",
       " ('identical', 'twin'): True,\n",
       " ('imperialist', 'dogma'): True,\n",
       " ('impersonate', 'Clark'): True,\n",
       " ('internal', 'affairs'): True,\n",
       " ('joyful', 'bond'): True,\n",
       " ('kneecaps', 'split'): True,\n",
       " ('la', 'vache'): True,\n",
       " ('largest', 'scales'): True,\n",
       " ('laurels', 'particularly'): True,\n",
       " ('learning', 'amazes'): True,\n",
       " ('legally', 'binding'): True,\n",
       " ('level', 'effect'): True,\n",
       " ('liver', 'removed'): True,\n",
       " ('mangy', 'scots'): True,\n",
       " ('medical', 'training'): True,\n",
       " ('mile', 'wide'): True,\n",
       " ('miserable', 'Psalms'): True,\n",
       " ('moistened', 'bint'): True,\n",
       " ('mystic', 'runes'): True,\n",
       " ('nor', 'either'): True,\n",
       " ('nostrils', 'raped'): True,\n",
       " ('offensive', 'weapon'): True,\n",
       " ('opening', 'request'): True,\n",
       " ('opera', 'mad'): True,\n",
       " ('oral', 'sex'): True,\n",
       " ('ounce', 'bird'): True,\n",
       " ('outdated', 'imperialist'): True,\n",
       " ('outrageous', 'accent'): True,\n",
       " ('perpetuating', 'autocracy'): True,\n",
       " ('personally', 'wet'): True,\n",
       " ('ponds', 'distributing'): True,\n",
       " ('prevent', 'earthquakes'): True,\n",
       " ('private', 'parts'): True,\n",
       " ('purely', 'internal'): True,\n",
       " ('purest', 'shimmering'): True,\n",
       " ('pussy', 'jokes'): True,\n",
       " ('remain', 'gone'): True,\n",
       " ('retold', 'throughout'): True,\n",
       " ('scots', 'git'): True,\n",
       " ('sequin', 'vests'): True,\n",
       " ('setting', 'alight'): True,\n",
       " ('shimmering', 'samite'): True,\n",
       " ('slightly', 'higher'): True,\n",
       " ('social', 'differences'): True,\n",
       " ('speed', 'velocity'): True,\n",
       " ('stew', 'comin'): True,\n",
       " ('stupid', 'bastard'): True,\n",
       " ('successful', 'conclusion'): True,\n",
       " ('syndicalist', 'commune'): True,\n",
       " ('tart', 'threw'): True,\n",
       " ('temperate', 'zone'): True,\n",
       " ('tempered', 'rodent'): True,\n",
       " ('thine', 'enemies'): True,\n",
       " ('totally', 'unarmed'): True,\n",
       " ('trough', 'wiper'): True,\n",
       " ('twin', 'sister'): True,\n",
       " ('utterly', 'disheartened'): True,\n",
       " ('verses', 'Nine'): True,\n",
       " ('violence', 'inherent'): True,\n",
       " ('vital', 'clue'): True,\n",
       " ('warmer', 'climes'): True,\n",
       " ('watery', 'tart'): True,\n",
       " ('wedding', 'guests'): True,\n",
       " ('weekly', 'meeting'): True,\n",
       " ('weight', 'ratios'): True,\n",
       " ('wet', 'himself'): True,\n",
       " ('whoever', 'finds'): True,\n",
       " ('wield', 'supreme'): True,\n",
       " ('wings', 'forty'): True,\n",
       " ('without', 'flint'): True,\n",
       " ('women', 'lying'): True,\n",
       " ('wooden', 'badger'): True,\n",
       " ('working', 'classes'): True,\n",
       " ('year', 'passed'): True,\n",
       " ('yellow', 'bastards'): True,\n",
       " ('OF', 'NI'): True,\n",
       " ('dona', 'eis'): True,\n",
       " ('eis', 'requiem'): True,\n",
       " ('OLD', 'MAN'): True,\n",
       " ('saw', 'saw'): True,\n",
       " ('Black', 'Beast'): True,\n",
       " ('Brother', 'Maynard'): True,\n",
       " ('S', 'WIFE'): True,\n",
       " ('CARTOON', 'CHARACTER'): True,\n",
       " ('(', 'Fetchez'): True,\n",
       " ('THE', 'ENCHANTER'): True,\n",
       " ('executive', 'power'): True,\n",
       " ('favorite', 'color'): True,\n",
       " ('least', 'ours'): True,\n",
       " ('medieval', 'hall'): True,\n",
       " ('stand', 'aside'): True,\n",
       " ('Be', 'quiet'): True,\n",
       " ('Jesus', 'Christ'): True,\n",
       " ('angels', 'sing'): True,\n",
       " ('#', '1'): True,\n",
       " ('.)', 'OTHER'): True,\n",
       " ('Aaauugh', 'eats'): True,\n",
       " ('Alice', ',--'): True,\n",
       " ('Antioch', 'towards'): True,\n",
       " ('Bloody', 'peasant'): True,\n",
       " ('Bloody', 'weather'): True,\n",
       " ('Bravely', 'bold'): True,\n",
       " ('Doctor', 'Piglet'): True,\n",
       " ('Doctor', 'Winston'): True,\n",
       " ('Guy', 'de'): True,\n",
       " ('Ho', 'ho'): True,\n",
       " ('Hoo', 'hoo'): True,\n",
       " ('Other', 'kings'): True,\n",
       " ('Princess', 'Lucky'): True,\n",
       " ('Quite', 'indefatigable'): True,\n",
       " ('Un', 'cadeau'): True,\n",
       " ('Welcome', 'gentle'): True,\n",
       " ('With', 'footwork'): True,\n",
       " ('affairs', ',--'): True,\n",
       " ('against', 'regulations'): True,\n",
       " ('almost', 'certain'): True,\n",
       " ('aloft', 'Excalibur'): True,\n",
       " ('animal', 'food'): True,\n",
       " ('animator', 'suffered'): True,\n",
       " ('arms', 'left'): True,\n",
       " ('automatically', 'treat'): True,\n",
       " ('band', 'whose'): True,\n",
       " ('biggest', 'tracts'): True,\n",
       " ('bloody', 'hell'): True,\n",
       " ('blow', 'thine'): True,\n",
       " ('certain', 'temptation'): True,\n",
       " ('chorus', 'scenes'): True,\n",
       " ('considerable', 'economic'): True,\n",
       " ('danger', 'reared'): True,\n",
       " ('de', 'Loimbard'): True,\n",
       " ('de', 'bois'): True,\n",
       " ('dirty', 'work'): True,\n",
       " ('eat', 'ham'): True,\n",
       " ('economic', 'stress'): True,\n",
       " ('empty', 'halves'): True,\n",
       " ('empty', 'headed'): True,\n",
       " ('est', 'un'): True,\n",
       " ('even', 'kicked'): True,\n",
       " ('exciting', 'underwear'): True,\n",
       " ('explain', 'everything'): True,\n",
       " ('fatal', 'wounding'): True,\n",
       " ('fire', 'arrows'): True}"
      ]
     },
     "execution_count": 3,
     "metadata": {},
     "output_type": "execute_result"
    }
   ],
   "source": [
    "import itertools\n",
    "from nltk.collocations import BigramCollocationFinder\n",
    "from nltk.metrics import BigramAssocMeasures\n",
    " \n",
    "def bigram_word_feats(words, score_fn=BigramAssocMeasures.chi_sq, n=200):\n",
    "    bigram_finder = BigramCollocationFinder.from_words(words)\n",
    "    bigrams = bigram_finder.nbest(score_fn, n)\n",
    "    return dict([(ngram, True) for ngram in itertools.chain(words, bigrams)\n",
    "                if type(ngram) == tuple])\n",
    "\n",
    "bigram_word_feats(text6)"
   ]
  },
  {
   "cell_type": "markdown",
   "metadata": {},
   "source": [
    "Collocation identification can be useful component of larger NLP applications like sentiment analysis, machine translation, natural language generation, and more."
   ]
  },
  {
   "cell_type": "markdown",
   "metadata": {},
   "source": [
    "### Mutual information\n",
    "\n",
    "Let's calculate mutual information for a couple of the collocations that NLTK identified. (Note that NLTK doesn't necessarily use this metric)\n",
    "\n",
    "Recall that mutual information is the log of the probability:\n",
    "\n",
    "P(x,y) / [P(x) * P(y)]"
   ]
  },
  {
   "cell_type": "code",
   "execution_count": 12,
   "metadata": {},
   "outputs": [
    {
     "data": {
      "text/plain": [
       "'SCENE 1 : [ wind ] [ clop clop clop ] KING ARTHUR '"
      ]
     },
     "execution_count": 12,
     "metadata": {},
     "output_type": "execute_result"
    }
   ],
   "source": [
    "text = ' '.join(text6.tokens)\n",
    "text[:50]"
   ]
  },
  {
   "cell_type": "code",
   "execution_count": 13,
   "metadata": {},
   "outputs": [
    {
     "name": "stdout",
     "output_type": "stream",
     "text": [
      "p(Holy Grail) =  0.008771929824561403\n",
      "p(Holy) =  0.0110803324099723\n",
      "p(Grail) =  0.01569713758079409\n",
      "pmi =  5.6563196990804165\n"
     ]
    }
   ],
   "source": [
    "import math\n",
    "vocab = len(set(text6))\n",
    "hg = text.count('Holy Grail')/vocab\n",
    "print(\"p(Holy Grail) = \",hg )\n",
    "h = text.count('Holy')/vocab\n",
    "print(\"p(Holy) = \", h)\n",
    "g = text.count('Grail')/vocab\n",
    "print('p(Grail) = ', g)\n",
    "pmi = math.log2(hg / (h * g))\n",
    "print('pmi = ', pmi)\n"
   ]
  },
  {
   "cell_type": "code",
   "execution_count": 14,
   "metadata": {},
   "outputs": [
    {
     "name": "stdout",
     "output_type": "stream",
     "text": [
      "p(of the) =  0.018928901200369344\n",
      "p(of) =  0.08448753462603878\n",
      "p(the) =  0.13804247460757155\n",
      "pmi =  0.6986680197442634\n"
     ]
    }
   ],
   "source": [
    "hg = text.count('of the')/vocab\n",
    "print(\"p(of the) = \",hg )\n",
    "o = text.count('of')/vocab\n",
    "print(\"p(of) = \", o)\n",
    "t = text.count('the ')/vocab # space so it doesn't capture 'their' etc.\n",
    "print('p(the) = ', t)\n",
    "pmi = math.log2(hg / (o * t))\n",
    "print('pmi = ', pmi)\n"
   ]
  },
  {
   "cell_type": "markdown",
   "metadata": {},
   "source": [
    "We see that 'Holy Grail' has higher mutual information than 'of the' indicating it is more likely to be a collocation. "
   ]
  },
  {
   "cell_type": "code",
   "execution_count": null,
   "metadata": {},
   "outputs": [],
   "source": []
  }
 ],
 "metadata": {
  "kernelspec": {
   "display_name": "Python 3",
   "language": "python",
   "name": "python3"
  },
  "language_info": {
   "codemirror_mode": {
    "name": "ipython",
    "version": 3
   },
   "file_extension": ".py",
   "mimetype": "text/x-python",
   "name": "python",
   "nbconvert_exporter": "python",
   "pygments_lexer": "ipython3",
   "version": "3.9.6"
  }
 },
 "nbformat": 4,
 "nbformat_minor": 4
}
