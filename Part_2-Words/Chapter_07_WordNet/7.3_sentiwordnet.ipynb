{
 "cells": [
  {
   "cell_type": "markdown",
   "metadata": {},
   "source": [
    "# SentiWordNet\n",
    "\n",
    "SentiWordNet is a lexical resource for opinion mining. It is built on top of WordNet and assigns 3 sentiment scores for each synset: positivity, negativity, and objectivity. Read [more about SentiWordNet here](http://sentiwordnet.isti.cnr.it/).\n",
    "\n",
    "All WordNet synsets are scored with negative, positive and objective scores. SentiWordNet scores each synset with a value for each category between 0.0 and 1.0, with the condition that the sum of the three values is always 1.0.\n",
    "\n",
    "SentiWordNet is integrated into NLTK and can be imported as follows, assuming that that corpus is installed on your system."
   ]
  },
  {
   "cell_type": "code",
   "execution_count": 1,
   "metadata": {},
   "outputs": [],
   "source": [
    "from nltk.corpus import sentiwordnet as swn"
   ]
  },
  {
   "cell_type": "markdown",
   "metadata": {},
   "source": [
    "The following examples come from the NLTK howto [link](http://www.nltk.org/howto/).\n",
    "\n",
    "### getting scores for a synset\n",
    "\n",
    "The first example shows how to get positive, negative and objectivity scores for a given synset."
   ]
  },
  {
   "cell_type": "code",
   "execution_count": 3,
   "metadata": {},
   "outputs": [
    {
     "name": "stdout",
     "output_type": "stream",
     "text": [
      "<breakdown.n.03: PosScore=0.0 NegScore=0.25>\n",
      "Positive score =  0.0\n",
      "Negative score =  0.25\n",
      "Objective score =  0.75\n"
     ]
    }
   ],
   "source": [
    "breakdown = swn.senti_synset('breakdown.n.03')\n",
    "print(breakdown)\n",
    "print(\"Positive score = \", breakdown.pos_score())\n",
    "print(\"Negative score = \", breakdown.neg_score())\n",
    "print(\"Objective score = \", breakdown.obj_score())"
   ]
  },
  {
   "cell_type": "markdown",
   "metadata": {},
   "source": [
    "### lookup sentisynsets\n",
    "\n",
    "The next example shows how to look up sentisynsets for a word. Note that this returned all pos senses."
   ]
  },
  {
   "cell_type": "code",
   "execution_count": 4,
   "metadata": {},
   "outputs": [
    {
     "name": "stdout",
     "output_type": "stream",
     "text": [
      "<decelerate.v.01: PosScore=0.0 NegScore=0.0>\n",
      "<slow.v.02: PosScore=0.0 NegScore=0.0>\n",
      "<slow.v.03: PosScore=0.0 NegScore=0.125>\n",
      "<slow.a.01: PosScore=0.0 NegScore=0.0>\n",
      "<slow.a.02: PosScore=0.0 NegScore=0.0>\n",
      "<dense.s.04: PosScore=0.0 NegScore=0.25>\n",
      "<slow.a.04: PosScore=0.0 NegScore=0.0>\n",
      "<boring.s.01: PosScore=0.0 NegScore=0.25>\n",
      "<dull.s.08: PosScore=0.0 NegScore=0.5>\n",
      "<slowly.r.01: PosScore=0.0 NegScore=0.0>\n",
      "<behind.r.03: PosScore=0.0 NegScore=0.0>\n"
     ]
    }
   ],
   "source": [
    "senti_list = list(swn.senti_synsets('slow')) \n",
    "for item in senti_list:\n",
    "    print(item)"
   ]
  },
  {
   "cell_type": "markdown",
   "metadata": {},
   "source": [
    "Next we restrict the returned words to adjectives. POS codes are:\n",
    "\n",
    "n - NOUN \n",
    "v - VERB \n",
    "a - ADJECTIVE \n",
    "s - ADJECTIVE SATELLITE \n",
    "r - ADVERB "
   ]
  },
  {
   "cell_type": "code",
   "execution_count": 5,
   "metadata": {},
   "outputs": [
    {
     "name": "stdout",
     "output_type": "stream",
     "text": [
      "<slow.a.01: PosScore=0.0 NegScore=0.0>\n",
      "<slow.a.02: PosScore=0.0 NegScore=0.0>\n",
      "<dense.s.04: PosScore=0.0 NegScore=0.25>\n",
      "<slow.a.04: PosScore=0.0 NegScore=0.0>\n",
      "<boring.s.01: PosScore=0.0 NegScore=0.25>\n",
      "<dull.s.08: PosScore=0.0 NegScore=0.5>\n"
     ]
    }
   ],
   "source": [
    "slow_a = swn.senti_synsets('slow','a')\n",
    "for item in slow_a:\n",
    "    print(item)"
   ]
  },
  {
   "cell_type": "code",
   "execution_count": 6,
   "metadata": {},
   "outputs": [
    {
     "name": "stdout",
     "output_type": "stream",
     "text": [
      "<purse.v.02: PosScore=0.0 NegScore=0.0>\n",
      "<wrinkle.v.02: PosScore=0.0 NegScore=0.0>\n",
      "<furrow.v.02: PosScore=0.0 NegScore=0.0>\n",
      "<rumple.v.03: PosScore=0.0 NegScore=0.125>\n"
     ]
    }
   ],
   "source": [
    "wrinkle = swn.senti_synsets('wrinkle', 'v')\n",
    "for item in wrinkle:\n",
    "    print(item)\n"
   ]
  },
  {
   "cell_type": "code",
   "execution_count": 7,
   "metadata": {},
   "outputs": [
    {
     "name": "stdout",
     "output_type": "stream",
     "text": [
      "<late.a.01: PosScore=0.0 NegScore=0.0>\n",
      "<belated.s.01: PosScore=0.125 NegScore=0.25>\n",
      "<late.s.03: PosScore=0.0 NegScore=0.0>\n",
      "<late.s.04: PosScore=0.125 NegScore=0.0>\n",
      "<late.a.05: PosScore=0.0 NegScore=0.0>\n",
      "<late.a.06: PosScore=0.0 NegScore=0.0>\n",
      "<former.s.03: PosScore=0.0 NegScore=0.25>\n",
      "<late.r.01: PosScore=0.125 NegScore=0.25>\n",
      "<deep.r.02: PosScore=0.0 NegScore=0.0>\n",
      "<late.r.03: PosScore=0.0 NegScore=0.0>\n",
      "<recently.r.01: PosScore=0.0 NegScore=0.0>\n"
     ]
    }
   ],
   "source": [
    "late = swn.senti_synsets('late')\n",
    "for item in late:\n",
    "    print(item)"
   ]
  },
  {
   "cell_type": "code",
   "execution_count": 8,
   "metadata": {},
   "outputs": [
    {
     "name": "stdout",
     "output_type": "stream",
     "text": [
      "Synset('late.a.01') being or occurring at an advanced period of time or after a usual or expected time\n",
      "Synset('belated.s.01') after the expected or usual time; delayed\n",
      "Synset('late.s.03') of the immediate past or just previous to the present time\n",
      "Synset('late.s.04') having died recently\n",
      "Synset('late.a.05') of a later stage in the development of a language or literature; used especially of dead languages\n",
      "Synset('late.a.06') at or toward an end or late period or stage of development\n",
      "Synset('former.s.03') (used especially of persons) of the immediate past\n",
      "Synset('late.r.01') later than usual or than expected\n",
      "Synset('deep.r.02') to an advanced time\n",
      "Synset('late.r.03') at an advanced age or stage\n",
      "Synset('recently.r.01') in the recent past\n"
     ]
    }
   ],
   "source": [
    "from nltk.corpus import wordnet as wn\n",
    "for ss in wn.synsets('late'):\n",
    "    print(ss, ss.definition())"
   ]
  },
  {
   "cell_type": "markdown",
   "metadata": {},
   "source": [
    "In most sentiment analysis systems, information from SentiWordNet will be used as features in a machine learning approach, but it is often used without machine learning as well.\n",
    "\n",
    "### extracting polarity from tokens\n",
    "\n",
    "The following example is a naive approach that uses the first synset. "
   ]
  },
  {
   "cell_type": "code",
   "execution_count": 9,
   "metadata": {},
   "outputs": [
    {
     "name": "stdout",
     "output_type": "stream",
     "text": [
      "negative:  0.75\n",
      "positive:  0.0\n",
      "objective:  0.25\n"
     ]
    }
   ],
   "source": [
    "p = list(swn.senti_synsets('pain'))[0]\n",
    "print(\"negative: \", p.neg_score())\n",
    "print(\"positive: \", p.pos_score())\n",
    "print(\"objective: \", p.obj_score())"
   ]
  },
  {
   "cell_type": "code",
   "execution_count": 10,
   "metadata": {},
   "outputs": [
    {
     "name": "stdout",
     "output_type": "stream",
     "text": [
      "neg\tpos counts\n",
      "1.0 \t 0.0\n"
     ]
    }
   ],
   "source": [
    "sent = 'that was the worst movie ever'\n",
    "neg = 0\n",
    "pos = 0\n",
    "tokens = sent.split()\n",
    "for token in tokens:\n",
    "    syn_list = list(swn.senti_synsets(token))\n",
    "    if syn_list:\n",
    "        syn = syn_list[0]\n",
    "        neg += syn.neg_score()\n",
    "        pos += syn.pos_score()\n",
    "    \n",
    "print(\"neg\\tpos counts\")\n",
    "print(neg, '\\t', pos)"
   ]
  },
  {
   "cell_type": "code",
   "execution_count": null,
   "metadata": {},
   "outputs": [],
   "source": []
  },
  {
   "cell_type": "code",
   "execution_count": null,
   "metadata": {},
   "outputs": [],
   "source": []
  }
 ],
 "metadata": {
  "kernelspec": {
   "display_name": "Python 3",
   "language": "python",
   "name": "python3"
  },
  "language_info": {
   "codemirror_mode": {
    "name": "ipython",
    "version": 3
   },
   "file_extension": ".py",
   "mimetype": "text/x-python",
   "name": "python",
   "nbconvert_exporter": "python",
   "pygments_lexer": "ipython3",
   "version": "3.8.2"
  }
 },
 "nbformat": 4,
 "nbformat_minor": 4
}
