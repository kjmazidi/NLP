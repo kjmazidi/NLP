{
  "cells": [
    {
      "cell_type": "markdown",
      "source": [
        "### Checking Types in Python Programs\n",
        "#### This notebook uses Python 3.8 and mypy\n",
        "\n",
        "In an earlier notebook, we did some type checking by explicitly checking types, as shown below:"
      ],
      "metadata": {
        "nteract": {
          "transient": {
            "deleting": false
          }
        }
      }
    },
    {
      "cell_type": "code",
      "source": [
        "# explicitly check type of 'names'\n",
        "def find_first(names):\n",
        "    if not type(names) == list:\n",
        "        return 'Error: \"names\" is not a list'\n",
        "    if not names:\n",
        "        return 'Error: \"names\" is an empty list'\n",
        "    first = names[0]\n",
        "    for name in names[1:]:\n",
        "        if name < first:\n",
        "            first = name\n",
        "    return first\n",
        "\n",
        "names = ['Jane', 'Zelda', 'Bud']\n",
        "print('first name is ', find_first(names))"
      ],
      "outputs": [
        {
          "output_type": "stream",
          "name": "stdout",
          "text": [
            "first name is  Bud\n"
          ]
        }
      ],
      "execution_count": 1,
      "metadata": {
        "collapsed": true,
        "jupyter": {
          "source_hidden": false,
          "outputs_hidden": false
        },
        "nteract": {
          "transient": {
            "deleting": false
          }
        },
        "execution": {
          "shell.execute_reply": "2020-12-07T02:07:17.986Z",
          "iopub.status.busy": "2020-12-07T02:07:17.999Z",
          "iopub.execute_input": "2020-12-07T02:07:18.001Z",
          "iopub.status.idle": "2020-12-07T02:07:18.007Z"
        }
      }
    },
    {
      "cell_type": "markdown",
      "source": [
        "We can augment Python 3 features with annotations. This annotation doesn't do anything within Python, but when combined with mypy, type checking is possible. \n",
        "\n",
        "The type of function parameters can be specified with: **identifier \\[: expression]**\n",
        "\n",
        "```\n",
        "def find_first(names: list):\n",
        "```\n",
        "\n",
        "\n",
        "The annotation ': list' lets the reader of this line know that names needs to be a list, and will specify the type for the mypy checker. \n",
        "\n",
        "Another thing we can do is to annotate what the function should return with the arrow -> syntax:\n",
        "\n",
        "```\n",
        "def find_first(names: list) -> str:\n",
        "```\n",
        "\n",
        "So this makes it clear that a list is input into the function, and a string is output. \n"
      ],
      "metadata": {
        "nteract": {
          "transient": {
            "deleting": false
          }
        }
      }
    },
    {
      "cell_type": "code",
      "source": [
        "# let the syntax help us with types\n",
        "def find_first(names: list) -> str:\n",
        "    #if not type(names) == list:\n",
        "    #    return 'Error: \"names\" is not a list'\n",
        "    if not names:\n",
        "        return 'Error: \"names\" is an empty list'\n",
        "    first = names[0]\n",
        "    for name in names[1:]:\n",
        "        if name < first:\n",
        "            first = name\n",
        "    return first\n",
        "\n",
        "names = ['Jane', 'Zelda', 'Bud']\n",
        "print('first name is ', find_first(names))"
      ],
      "outputs": [
        {
          "output_type": "stream",
          "name": "stdout",
          "text": [
            "first name is  Bud\n"
          ]
        }
      ],
      "execution_count": 6,
      "metadata": {
        "collapsed": true,
        "jupyter": {
          "source_hidden": false,
          "outputs_hidden": false
        },
        "nteract": {
          "transient": {
            "deleting": false
          }
        },
        "execution": {
          "iopub.status.busy": "2020-12-07T02:20:02.735Z",
          "iopub.execute_input": "2020-12-07T02:20:02.738Z",
          "iopub.status.idle": "2020-12-07T02:20:02.746Z",
          "shell.execute_reply": "2020-12-07T02:20:02.748Z"
        }
      }
    },
    {
      "cell_type": "markdown",
      "source": [
        "Notice that the explicit check that 'names' is a list is commented out and can be removed. "
      ],
      "metadata": {
        "nteract": {
          "transient": {
            "deleting": false
          }
        }
      }
    },
    {
      "cell_type": "markdown",
      "source": [
        "### mypy\n",
        "\n",
        "For Python programs (not so much Notebooks), you can use Mypy for type-checking your code. First, you will need to install mypy with pip/pip3:\n",
        "\n",
        "```\n",
        "pip3 install mypy\n",
        "```\n",
        "\n",
        "Now type the following code into a python program called 'names.py' and run mypy at the console:\n",
        "\n",
        "```\n",
        "$mypy names.py\n",
        "```"
      ],
      "metadata": {
        "nteract": {
          "transient": {
            "deleting": false
          }
        }
      }
    },
    {
      "cell_type": "code",
      "source": [
        "# put this in a file named 'names.py'\n",
        "\n",
        "def find_first(names: list) -> str:\n",
        "    if not names:\n",
        "        return 'Error: \"names\" is an empty list'\n",
        "    first = names[0]\n",
        "    for name in names[1:]:\n",
        "        if name < first:\n",
        "            first = name\n",
        "    return first\n",
        "\n",
        "names = ['Jane', 'Zelda', 'Bud']\n",
        "print('first name is ', find_first(3))  # sending wrong type to function"
      ],
      "outputs": [],
      "execution_count": null,
      "metadata": {
        "collapsed": true,
        "jupyter": {
          "source_hidden": false,
          "outputs_hidden": false
        },
        "nteract": {
          "transient": {
            "deleting": false
          }
        }
      }
    },
    {
      "cell_type": "markdown",
      "source": [
        "If you get no output from mypy, that's great. The above code had an error, and mypy printed this message:\n",
        "\n",
        "```\n",
        "$ mypy names.py\n",
        "names.py:15: error: Argument 1 to \"find_first\" has incompatible type \"int\"; expected \"List[Any]\"\n",
        "Found 1 error in 1 file (checked 1 source file)\n",
        "```"
      ],
      "metadata": {
        "nteract": {
          "transient": {
            "deleting": false
          }
        }
      }
    },
    {
      "cell_type": "markdown",
      "source": [
        "Notice the error above said that the input type should be List\\[Any\\]. If we want to be more specific, we can modify the annotation to be \n",
        "\n",
        "```\n",
        "List[str]\n",
        "```\n",
        "\n",
        "if we also import List. "
      ],
      "metadata": {
        "nteract": {
          "transient": {
            "deleting": false
          }
        }
      }
    },
    {
      "cell_type": "code",
      "source": [
        "from typing import List\n",
        "\n",
        "def find_first(names: List[str]) -> str:\n",
        "    if not names:\n",
        "        return 'Error: \"names\" is an empty list'\n",
        "    first = names[0]\n",
        "    for name in names[1:]:\n",
        "        if name < first:\n",
        "            first = name\n",
        "    return first\n",
        "  \n",
        "find_first([4, 1, 7])"
      ],
      "outputs": [
        {
          "output_type": "execute_result",
          "execution_count": 4,
          "data": {
            "text/plain": "1"
          },
          "metadata": {}
        }
      ],
      "execution_count": 4,
      "metadata": {
        "collapsed": true,
        "jupyter": {
          "source_hidden": false,
          "outputs_hidden": false
        },
        "nteract": {
          "transient": {
            "deleting": false
          }
        },
        "execution": {
          "iopub.status.busy": "2020-12-27T17:40:10.105Z",
          "iopub.execute_input": "2020-12-27T17:40:10.110Z",
          "iopub.status.idle": "2020-12-27T17:40:10.186Z",
          "shell.execute_reply": "2020-12-27T17:40:10.192Z"
        }
      }
    },
    {
      "cell_type": "markdown",
      "source": [
        "Read more about type annotations on the [PEP 3107 page](https://www.python.org/dev/peps/pep-3107/)"
      ],
      "metadata": {
        "nteract": {
          "transient": {
            "deleting": false
          }
        }
      }
    }
  ],
  "metadata": {
    "kernel_info": {
      "name": "python3"
    },
    "language_info": {
      "name": "python",
      "version": "3.7.3",
      "mimetype": "text/x-python",
      "codemirror_mode": {
        "name": "ipython",
        "version": 3
      },
      "pygments_lexer": "ipython3",
      "nbconvert_exporter": "python",
      "file_extension": ".py"
    },
    "kernelspec": {
      "argv": [
        "/Library/Frameworks/Python.framework/Versions/3.7/bin/python3",
        "-m",
        "ipykernel_launcher",
        "-f",
        "{connection_file}"
      ],
      "display_name": "Python 3",
      "language": "python",
      "name": "python3"
    },
    "nteract": {
      "version": "0.27.0"
    }
  },
  "nbformat": 4,
  "nbformat_minor": 0
}