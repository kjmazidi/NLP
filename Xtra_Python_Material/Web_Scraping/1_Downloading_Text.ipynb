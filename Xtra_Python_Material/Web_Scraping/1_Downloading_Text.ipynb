{
 "cells": [
  {
   "cell_type": "markdown",
   "metadata": {},
   "source": [
    "# Downloading Text from the Web \n",
    "\n",
    "This notebook demonstrates features of Python's urllib URL handling modules. The urllib package has serveral modules for working with URLs:\n",
    "\n",
    "* urllib.request for opening and reading URLs\n",
    "* urllib.error for exceptions raised by URL requests\n",
    "* urllib.parse to parse URLs\n",
    "* urllib.robotparser to parse robots.txt files\n",
    "\n",
    "These modules are thoroughly documented [here](https://docs.python.org/3/library/urllib.html) \n",
    "\n",
    "For a higher-level HTTP interface, consider using the [Requests package](https://2.python-requests.org/en/master/)\n",
    "\n",
    "### Downloading text pages\n",
    "\n",
    "The next code segment shows how to use urllib.request to access a book from Project Gutenberg. Starting with a url pointing to the text of a book, the code below:\n",
    "\n",
    "* opens the url with request.urlopen\n",
    "* reads the page with decoding\n",
    "* prints the first part of the text"
   ]
  },
  {
   "cell_type": "code",
   "execution_count": 1,
   "metadata": {},
   "outputs": [
    {
     "name": "stdout",
     "output_type": "stream",
     "text": [
      "len= 1176966\n"
     ]
    },
    {
     "data": {
      "text/plain": [
       "'The Project Gutenberg EBook of Crime and Punishment, by Fyodor Dostoevsky\\r\\n\\r\\nThis eBook is for the use of anyone anywhere at no cost and with\\r\\nalmost no restrictions whatsoever.  You may copy it, give'"
      ]
     },
     "execution_count": 1,
     "metadata": {},
     "output_type": "execute_result"
    }
   ],
   "source": [
    "from urllib import request\n",
    "\n",
    "url = \"http://www.gutenberg.org/files/2554/2554-0.txt\"\n",
    "\n",
    "with request.urlopen(url) as f:\n",
    "    raw = f.read().decode('utf-8-sig')\n",
    "print('len=', len(raw))\n",
    "raw[:200]"
   ]
  },
  {
   "cell_type": "markdown",
   "metadata": {},
   "source": [
    "The output from the previous code cell shows that the downloaded *raw* is a very long string. The \\r\\n for the line feed tell us that this document was created on a Windows machine.\n",
    "\n",
    "The encoding used above was 'utf-8-sig' in order to get rid of a BOM (byte order mark) at the beginning of the file. The utf-8-sig encoding is a utf-8 version created by Microsoft for their Notepad program. If decode('utf-8') is used for the url above, the first three bytes are: \\ufeff. \n"
   ]
  },
  {
   "cell_type": "markdown",
   "metadata": {},
   "source": [
    "### Reading an html page\n",
    "\n",
    "We can use Python's url handlers to read a web page as before. This would require a lot of processing to extract text, so other packages are typically used for html pages."
   ]
  },
  {
   "cell_type": "code",
   "execution_count": 3,
   "metadata": {},
   "outputs": [
    {
     "data": {
      "text/plain": [
       "'<!DOCTYPE html>\\n<html lang=\"en\" class=\"story\"  xmlns:og=\"http://opengraphprotocol.org/schema/\">\\n  <head>\\n    <title data-rh=\"true\">With Snowflakes and Unicorns, Marina Ratner and Maryam Mirzakhani Explored a Universe in Motion - The New York Times</title>\\n    <meta data-rh=\"true\" itemprop=\"inLanguage\" content=\"en-US\"/><meta data-rh=\"true\" property=\"article:published\" content=\"2017-08-07T19:57:40.000Z\"/><meta data-rh=\"true\" property=\"article:modified\" content=\"2017-08-07T19:57:38.000Z\"/><meta data-rh=\"true\" http-equiv=\"Content-Language\" content=\"en\"/><meta data-rh=\"true\" name=\"robots\" content=\"noarchive\"/><meta data-rh=\"true\" name=\"articleid\" content=\"100000005321914\"/><meta data-rh=\"true\" name=\"nyt_uri\" content=\"nyt://article/3b6bc8f3-da51-583e-aac1-0daa23adbd34\"/><meta data-rh=\"true\" name=\"pubp_event_id\" content=\"pubp://event/32d48a620c964f0a88a1801d3299d862\"/><meta data-rh=\"true\" name=\"description\" content=\"The legacies and achievements of two great mathematicians will dazzle and int'"
      ]
     },
     "execution_count": 3,
     "metadata": {},
     "output_type": "execute_result"
    }
   ],
   "source": [
    "url = 'https://nyti.ms/2uAQS89'\n",
    "html = request.urlopen(url).read().decode('utf8')\n",
    "html[:1000]"
   ]
  },
  {
   "cell_type": "markdown",
   "metadata": {},
   "source": [
    "This shows that there is a lot of code in there that we are not interested in. Extracting useful information is easier with packages such as Beautiful Soup, explored in another notebook.\n",
    "\n"
   ]
  },
  {
   "cell_type": "code",
   "execution_count": null,
   "metadata": {},
   "outputs": [],
   "source": []
  }
 ],
 "metadata": {
  "kernelspec": {
   "display_name": "Python 3",
   "language": "python",
   "name": "python3"
  },
  "language_info": {
   "codemirror_mode": {
    "name": "ipython",
    "version": 3
   },
   "file_extension": ".py",
   "mimetype": "text/x-python",
   "name": "python",
   "nbconvert_exporter": "python",
   "pygments_lexer": "ipython3",
   "version": "3.8.2"
  }
 },
 "nbformat": 4,
 "nbformat_minor": 4
}
