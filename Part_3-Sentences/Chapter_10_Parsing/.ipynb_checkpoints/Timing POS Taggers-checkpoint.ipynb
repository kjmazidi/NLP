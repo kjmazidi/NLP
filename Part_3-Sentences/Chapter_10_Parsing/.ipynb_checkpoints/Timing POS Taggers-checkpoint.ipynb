{
 "cells": [
  {
   "cell_type": "markdown",
   "metadata": {},
   "source": [
    "### Timing POS taggers\n",
    "\n",
    "Comparing times to parse the text of *Crime and Punishment*:\n",
    "\n",
    "* NLTK\n",
    "* TextBlob\n",
    "* spaCy"
   ]
  },
  {
   "cell_type": "code",
   "execution_count": 1,
   "metadata": {},
   "outputs": [],
   "source": [
    "# imports\n",
    "\n",
    "import timeit\n",
    "import nltk\n",
    "from textblob import TextBlob\n",
    "import spacy\n",
    "nlp = spacy.load('en_core_web_sm', parser=False, entity=False)"
   ]
  },
  {
   "cell_type": "code",
   "execution_count": 2,
   "metadata": {},
   "outputs": [],
   "source": [
    "# read text\n",
    "\n",
    "f = open('crime.txt', 'r')\n",
    "raw_text = f.read()\n",
    "f.close()\n",
    "\n",
    "raw_text = raw_text[:1000000]"
   ]
  },
  {
   "cell_type": "code",
   "execution_count": 3,
   "metadata": {},
   "outputs": [
    {
     "name": "stdout",
     "output_type": "stream",
     "text": [
      "NLTK time =  7.762525241999999\n"
     ]
    }
   ],
   "source": [
    "# NLTK\n",
    "\n",
    "start_time = timeit.default_timer()\n",
    "\n",
    "tokens = nltk.word_tokenize(raw_text)\n",
    "tags = nltk.pos_tag(tokens)\n",
    "#print(tags[:5])\n",
    "\n",
    "print(\"NLTK time = \", timeit.default_timer() - start_time)\n"
   ]
  },
  {
   "cell_type": "code",
   "execution_count": 4,
   "metadata": {},
   "outputs": [
    {
     "name": "stdout",
     "output_type": "stream",
     "text": [
      "TextBlob time =  0.02342948899999797\n"
     ]
    }
   ],
   "source": [
    "# TextBlob\n",
    "\n",
    "start_time = timeit.default_timer()\n",
    "\n",
    "blob = TextBlob(raw_text)\n",
    "#print(blob.tags[:5])\n",
    "\n",
    "print(\"TextBlob time = \", timeit.default_timer() - start_time)\n"
   ]
  },
  {
   "cell_type": "code",
   "execution_count": 7,
   "metadata": {},
   "outputs": [
    {
     "name": "stdout",
     "output_type": "stream",
     "text": [
      "spaCy time =  24.128748495999986\n"
     ]
    }
   ],
   "source": [
    "# spaCy\n",
    "\n",
    "start_time = timeit.default_timer()\n",
    "\n",
    "doc = nlp(raw_text)\n",
    "#print(blob.tags[:5])\n",
    "\n",
    "print(\"spaCy time = \", timeit.default_timer() - start_time)\n"
   ]
  },
  {
   "cell_type": "markdown",
   "metadata": {},
   "source": [
    "### Comparisons\n",
    "\n",
    "In each of the 3 code chunks above, there is a print statement that prints the tags of the first 5 tokens. When this line is commented out, the taggers achieved the following times (on average):\n",
    "\n",
    "* NLTK 7.8 seconds\n",
    "* TextBlob 0.2 seconds\n",
    "* spaCy 26.7 seconds\n",
    "\n",
    "However, when the print line is not commented out, here are the times:\n",
    "\n",
    "* NLTK 8 seconds\n",
    "* TextBlob 10.9 seconds\n",
    "* spaCy 33.9 seconds\n",
    "\n",
    "The blazingly fast tagging time for TextBlob seems to be offset by the increased time to access the tags from the blob object. That's disappointing. \n",
    "\n",
    "### Limitations of this comparison\n",
    "\n",
    "These comparisons are meant to be a comparison of usage as much as time. And the comparisons above is not comparing apples to apples. These comparisons are really comparing an apple, an apple salad, and a full fruit buffet. \n",
    "\n",
    "* NLTK does what we ask: tokenize, then tag. Ask for an apple and you get one. In contrast, both TextBlob and spaCy are creating objects with many other features. The TextBlob object is the apple salad in the analogy, giving many other annotation features, and spaCy is a full buffet table of annotations.\n",
    "\n",
    "* Two things were done to help spaCy. First, the raw text input size was limited to 1,000,000 since anything over this limit caused memory warnings to be thrown. There are ways around this, as suggested in the warning message. The second assist to spaCy was to add parameters (parser=False, entity=False) to the model to avoid loading some things not needed as suggested in [this post](https://github.com/explosion/spaCy/issues/430). \n",
    "\n",
    "### The take-away\n",
    "\n",
    "The upshot is that if you just need POS tagging, NLTK is probably your best bet. If you want further annotations, use TextBlob. If you want the full buffet, use spaCy.\n"
   ]
  },
  {
   "cell_type": "code",
   "execution_count": null,
   "metadata": {},
   "outputs": [],
   "source": []
  }
 ],
 "metadata": {
  "kernelspec": {
   "display_name": "Python 3",
   "language": "python",
   "name": "python3"
  },
  "language_info": {
   "codemirror_mode": {
    "name": "ipython",
    "version": 3
   },
   "file_extension": ".py",
   "mimetype": "text/x-python",
   "name": "python",
   "nbconvert_exporter": "python",
   "pygments_lexer": "ipython3",
   "version": "3.8.2"
  }
 },
 "nbformat": 4,
 "nbformat_minor": 4
}
