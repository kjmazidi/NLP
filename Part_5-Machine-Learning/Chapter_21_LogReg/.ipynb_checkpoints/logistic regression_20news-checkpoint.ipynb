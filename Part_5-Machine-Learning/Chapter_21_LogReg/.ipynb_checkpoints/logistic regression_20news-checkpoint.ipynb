{
 "cells": [
  {
   "cell_type": "markdown",
   "metadata": {},
   "source": [
    "# Logistic Regression Multi-class Classification\n",
    "\n",
    "\n",
    "This notebook is modified from a tutorial in sklearn.\n"
   ]
  },
  {
   "cell_type": "code",
   "execution_count": 1,
   "metadata": {},
   "outputs": [
    {
     "data": {
      "text/plain": [
       "['alt.atheism', 'comp.graphics', 'sci.med', 'soc.religion.christian']"
      ]
     },
     "execution_count": 1,
     "metadata": {},
     "output_type": "execute_result"
    }
   ],
   "source": [
    "categories = ['alt.atheism', 'soc.religion.christian', 'comp.graphics', 'sci.med']\n",
    "from sklearn.datasets import fetch_20newsgroups\n",
    "twenty_train = fetch_20newsgroups(subset='train', \n",
    "                                  categories=categories, shuffle=True, random_state=42)\n",
    "twenty_train.target_names"
   ]
  },
  {
   "cell_type": "markdown",
   "metadata": {},
   "source": [
    "Since we have a multi-class label, we need to encode labels to integer classes. "
   ]
  },
  {
   "cell_type": "code",
   "execution_count": 2,
   "metadata": {},
   "outputs": [
    {
     "data": {
      "text/plain": [
       "array([1, 1, 3, ..., 2, 2, 2])"
      ]
     },
     "execution_count": 2,
     "metadata": {},
     "output_type": "execute_result"
    }
   ],
   "source": [
    "# notice that are target is multi-class\n",
    "twenty_train.target"
   ]
  },
  {
   "cell_type": "markdown",
   "metadata": {},
   "source": [
    "#### Multinomial Logistic Regression\n",
    "\n",
    "We need to set a few parameters if we want to give sklearn a heads-up that our target has more than 2 classes, so we set these parameters in the LogisticRegression() call:\n",
    "\n",
    "- multi_class='multinomial'\n",
    "- solver = 'lbfgs'\n",
    "\n",
    "For one-versus-all, you should use liblinear solver, the default. For multinomial logistic regression, the solver has to be sag, saga, newton-cg or lbfgs. We chose lbfgs, which is a Newton-inspired optimizer that doesn't use a lot of memory (l is for limited memory). The sag solvers are variants of gradient descent."
   ]
  },
  {
   "cell_type": "code",
   "execution_count": 3,
   "metadata": {},
   "outputs": [
    {
     "name": "stderr",
     "output_type": "stream",
     "text": [
      "/Library/Frameworks/Python.framework/Versions/3.8/lib/python3.8/site-packages/sklearn/utils/deprecation.py:144: FutureWarning: The sklearn.linear_model.logistic module is  deprecated in version 0.22 and will be removed in version 0.24. The corresponding classes / functions should instead be imported from sklearn.linear_model. Anything that cannot be imported from sklearn.linear_model is now part of the private API.\n",
      "  warnings.warn(message, FutureWarning)\n"
     ]
    },
    {
     "data": {
      "text/plain": [
       "Pipeline(memory=None,\n",
       "         steps=[('tfidf',\n",
       "                 TfidfVectorizer(analyzer='word', binary=False,\n",
       "                                 decode_error='strict',\n",
       "                                 dtype=<class 'numpy.float64'>,\n",
       "                                 encoding='utf-8', input='content',\n",
       "                                 lowercase=True, max_df=1.0, max_features=None,\n",
       "                                 min_df=1, ngram_range=(1, 1), norm='l2',\n",
       "                                 preprocessor=None, smooth_idf=True,\n",
       "                                 stop_words=None, strip_accents=None,\n",
       "                                 sublinear_tf=False,\n",
       "                                 token_pattern='(?u)\\\\b\\\\w\\\\w+\\\\b',\n",
       "                                 tokenizer=None, use_idf=True,\n",
       "                                 vocabulary=None)),\n",
       "                ('logreg',\n",
       "                 LogisticRegression(C=1.0, class_weight='balanced', dual=False,\n",
       "                                    fit_intercept=True, intercept_scaling=1,\n",
       "                                    l1_ratio=None, max_iter=100,\n",
       "                                    multi_class='multinomial', n_jobs=None,\n",
       "                                    penalty='l2', random_state=None,\n",
       "                                    solver='lbfgs', tol=0.0001, verbose=0,\n",
       "                                    warm_start=False))],\n",
       "         verbose=False)"
      ]
     },
     "execution_count": 3,
     "metadata": {},
     "output_type": "execute_result"
    }
   ],
   "source": [
    "from sklearn.pipeline import Pipeline\n",
    "from sklearn.feature_extraction.text import TfidfVectorizer\n",
    "from sklearn.linear_model.logistic import LogisticRegression\n",
    "from sklearn.metrics import accuracy_score, precision_score, recall_score, f1_score, log_loss\n",
    "\n",
    "pipe1 = Pipeline([\n",
    "        ('tfidf', TfidfVectorizer()),\n",
    "        ('logreg', LogisticRegression(multi_class='multinomial', solver='lbfgs',class_weight='balanced')),\n",
    "])\n",
    "\n",
    "pipe1.fit(twenty_train.data, twenty_train.target)"
   ]
  },
  {
   "cell_type": "code",
   "execution_count": 4,
   "metadata": {},
   "outputs": [
    {
     "name": "stdout",
     "output_type": "stream",
     "text": [
      "                        precision    recall  f1-score   support\n",
      "\n",
      "           alt.atheism       0.95      0.81      0.87       319\n",
      "         comp.graphics       0.85      0.96      0.90       389\n",
      "               sci.med       0.93      0.88      0.90       396\n",
      "soc.religion.christian       0.90      0.94      0.92       398\n",
      "\n",
      "              accuracy                           0.90      1502\n",
      "             macro avg       0.91      0.90      0.90      1502\n",
      "          weighted avg       0.91      0.90      0.90      1502\n",
      "\n",
      "Confusion matrix:\n",
      " [[258  13  14  34]\n",
      " [  3 374   6   6]\n",
      " [  5  41 347   3]\n",
      " [  6  11   5 376]]\n",
      "\n",
      "Overall accuracy:  0.9021304926764314\n"
     ]
    }
   ],
   "source": [
    "# evaluate on test data\n",
    "twenty_test = fetch_20newsgroups(subset='test', categories=categories, shuffle=True, random_state=42)\n",
    "pred = pipe1.predict(twenty_test.data)\n",
    "\n",
    "from sklearn import metrics\n",
    "print(metrics.classification_report(twenty_test.target, pred,\n",
    "     target_names=twenty_test.target_names))\n",
    "\n",
    "print(\"Confusion matrix:\\n\", metrics.confusion_matrix(twenty_test.target, pred))\n",
    "\n",
    "import numpy as np\n",
    "print(\"\\nOverall accuracy: \", np.mean(pred==twenty_test.target))"
   ]
  },
  {
   "cell_type": "code",
   "execution_count": 5,
   "metadata": {},
   "outputs": [
    {
     "data": {
      "text/plain": [
       "array([[0.14242452, 0.1643475 , 0.5691282 , 0.12409978],\n",
       "       [0.0410866 , 0.03622316, 0.88370887, 0.03898138],\n",
       "       [0.28678063, 0.10662445, 0.39017533, 0.21641959],\n",
       "       [0.91486571, 0.02017099, 0.02211033, 0.04285297],\n",
       "       [0.13633055, 0.06384863, 0.10635021, 0.6934706 ]])"
      ]
     },
     "execution_count": 5,
     "metadata": {},
     "output_type": "execute_result"
    }
   ],
   "source": [
    "probs = pipe1.predict_proba(twenty_test.data)\n",
    "probs[:5]"
   ]
  },
  {
   "cell_type": "code",
   "execution_count": null,
   "metadata": {},
   "outputs": [],
   "source": [
    "\n"
   ]
  }
 ],
 "metadata": {
  "kernelspec": {
   "display_name": "Python 3",
   "language": "python",
   "name": "python3"
  },
  "language_info": {
   "codemirror_mode": {
    "name": "ipython",
    "version": 3
   },
   "file_extension": ".py",
   "mimetype": "text/x-python",
   "name": "python",
   "nbconvert_exporter": "python",
   "pygments_lexer": "ipython3",
   "version": "3.8.2"
  }
 },
 "nbformat": 4,
 "nbformat_minor": 1
}
