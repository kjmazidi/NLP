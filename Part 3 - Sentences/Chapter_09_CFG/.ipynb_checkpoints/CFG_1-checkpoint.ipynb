{
 "cells": [
  {
   "cell_type": "markdown",
   "metadata": {},
   "source": [
    "# CFG: Context-Free Grammar\n",
    "\n",
    "### Defining a CFG and using a CFG for Generation\n",
    "\n",
    "A simple set of rules. A couple of choices were made so that the generator produces grammatical and sensible sentences:\n",
    "\n",
    "* noun terminals start with a consonant, so determiner 'a' is always grammatical\n",
    "* verb terminals make sense with the nouns "
   ]
  },
  {
   "cell_type": "code",
   "execution_count": 1,
   "metadata": {},
   "outputs": [],
   "source": [
    "import random"
   ]
  },
  {
   "cell_type": "code",
   "execution_count": 2,
   "metadata": {},
   "outputs": [],
   "source": [
    "rules = {'S' : [['NP', 'VP']],\n",
    "         'NP': [['DT', 'NN'], ['DT', 'JJ', 'NN']],\n",
    "         'VP': [['VB'], ['VB', 'PP']],\n",
    "         'PP': [['P', 'DT', 'NN']],\n",
    "         'JJ' : ['happy', 'sad', 'silly'],\n",
    "         'DT': ['a', 'the'],\n",
    "         'NN': ['cat', 'dog', 'clown'],\n",
    "         'VB': ['plays', 'runs'],\n",
    "         'P' : ['with', 'near', 'beside']\n",
    "        }"
   ]
  },
  {
   "cell_type": "code",
   "execution_count": 3,
   "metadata": {},
   "outputs": [],
   "source": [
    "# expand function - iterative version\n",
    "def expand_it(rules):\n",
    "    expansion = ['S'] # start symbol\n",
    "    expanding = True\n",
    "    while expanding:\n",
    "        new_expansion = []\n",
    "        expanding = False\n",
    "        \n",
    "        for token in expansion:\n",
    "            #print(token)\n",
    "            if token in rules:\n",
    "                r = random.randint(0, len(rules[token])-1)\n",
    "                replacement = rules[token][r]\n",
    "                if isinstance(replacement, str):\n",
    "                    new_expansion.append(replacement)\n",
    "                else:\n",
    "                    new_expansion += replacement\n",
    "                expanding = True\n",
    "            else: # a terminal\n",
    "                new_expansion.append(token)\n",
    "\n",
    "        expansion = new_expansion\n",
    "    \n",
    "    return expansion"
   ]
  },
  {
   "cell_type": "code",
   "execution_count": 4,
   "metadata": {},
   "outputs": [
    {
     "name": "stdout",
     "output_type": "stream",
     "text": [
      "['the', 'sad', 'cat', 'runs', 'near', 'the', 'cat']\n",
      "['a', 'cat', 'runs', 'near', 'the', 'cat']\n",
      "['the', 'dog', 'runs']\n",
      "['a', 'clown', 'runs']\n",
      "['the', 'clown', 'plays']\n"
     ]
    }
   ],
   "source": [
    "# generate 5 sentences\n",
    "for i in range(5):\n",
    "    expansion = expand_it(rules)\n",
    "    print(expansion)"
   ]
  },
  {
   "cell_type": "code",
   "execution_count": 5,
   "metadata": {},
   "outputs": [],
   "source": [
    "# expand function - recursive version\n",
    "def expand(expanded, expand_me, rules):\n",
    "    if isinstance(expand_me, list):\n",
    "        for token in expand_me:\n",
    "            r = random.randint(0, len(rules[token])-1)\n",
    "            replacement = rules[token][r]\n",
    "            expand(expanded, replacement, rules)\n",
    "    else:  # append the terminal\n",
    "        expanded.append(expand_me)\n",
    "    \n",
    "    return expanded"
   ]
  },
  {
   "cell_type": "code",
   "execution_count": 10,
   "metadata": {},
   "outputs": [
    {
     "name": "stdout",
     "output_type": "stream",
     "text": [
      "['the', 'dog', 'is', 'happy']\n",
      "['the', 'happy', 'clown', 'is', 'silly']\n",
      "['a', 'cat', 'plays', 'with', 'the', 'dog']\n",
      "['a', 'clown', 'runs']\n",
      "['a', 'silly', 'dog', 'runs']\n"
     ]
    }
   ],
   "source": [
    "# generate 5 sentences\n",
    "for i in range(5):\n",
    "    new_S = expand([], ['S'], rules)\n",
    "    print(new_S)"
   ]
  },
  {
   "cell_type": "markdown",
   "metadata": {},
   "source": [
    "Add rules"
   ]
  },
  {
   "cell_type": "code",
   "execution_count": 7,
   "metadata": {},
   "outputs": [],
   "source": [
    "rules['VP'].append(['CP', 'JJ'])\n",
    "rules['CP'] = ['is']"
   ]
  },
  {
   "cell_type": "code",
   "execution_count": 16,
   "metadata": {},
   "outputs": [
    {
     "name": "stdout",
     "output_type": "stream",
     "text": [
      "['the', 'clown', 'plays', 'beside', 'a', 'dog']\n",
      "['the', 'happy', 'cat', 'runs']\n",
      "['a', 'clown', 'is', 'silly']\n",
      "['the', 'silly', 'dog', 'runs']\n",
      "['a', 'happy', 'dog', 'runs']\n"
     ]
    }
   ],
   "source": [
    "# generate 5 sentences\n",
    "for i in range(5):\n",
    "    new_S = expand([], ['S'], rules)\n",
    "    print(new_S)"
   ]
  },
  {
   "cell_type": "code",
   "execution_count": null,
   "metadata": {},
   "outputs": [],
   "source": []
  }
 ],
 "metadata": {
  "kernelspec": {
   "display_name": "Python 3",
   "language": "python",
   "name": "python3"
  },
  "language_info": {
   "codemirror_mode": {
    "name": "ipython",
    "version": 3
   },
   "file_extension": ".py",
   "mimetype": "text/x-python",
   "name": "python",
   "nbconvert_exporter": "python",
   "pygments_lexer": "ipython3",
   "version": "3.7.3"
  }
 },
 "nbformat": 4,
 "nbformat_minor": 2
}
