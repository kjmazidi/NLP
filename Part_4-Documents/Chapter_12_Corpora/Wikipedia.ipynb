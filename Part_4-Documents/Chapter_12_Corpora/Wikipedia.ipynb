{
 "cells": [
  {
   "cell_type": "markdown",
   "metadata": {},
   "source": [
    "### Downloading Data with the Wikipedia Library\n",
    "\n",
    "This notebook demonstrates how to download data from Wikipedia with the wikipedia library. Install with pip/pip3:\n",
    "\n",
    "``` \n",
    "pip install wikipedia\n",
    "```\n",
    "\n",
    "The wikipedia library is a wrapper of the [MediaWikiAPI](https://www.mediawiki.org/wiki/API:Main_page) and is designed to facilitate download of data like article summaries, links, etc. If you are doing heavy downloading, it is suggested to use one of the heavy-duty API wrappers available here: https://en.wikipedia.org/wiki/Help:Creating_a_bot#Python\n",
    "\n",
    "Read the docs for this package here: https://wikipedia.readthedocs.io/en/latest/"
   ]
  },
  {
   "cell_type": "code",
   "execution_count": 1,
   "metadata": {},
   "outputs": [],
   "source": [
    "import wikipedia"
   ]
  },
  {
   "cell_type": "code",
   "execution_count": 3,
   "metadata": {},
   "outputs": [
    {
     "name": "stdout",
     "output_type": "stream",
     "text": [
      "Texas (, also locally ; Spanish: Texas or Tejas, pronounced [ˈtexas] (listen)) is a state in the South Central Region of the United States. It is the second largest U.S. state by both area (after Alaska) and population (after California). Texas shares borders with the states of Louisiana to the east, Arkansas to the northeast, Oklahoma to the north, New Mexico to the west, and the Mexican states of Chihuahua, Coahuila, Nuevo León, and Tamaulipas to the southwest, and has a coastline with the Gulf of Mexico to the southeast.\n",
      "Houston is the most populous city in Texas and the fourth largest in the U.S., while San Antonio is the second-most populous in the state and seventh largest in the U.S. Dallas–Fort Worth and Greater Houston are the fourth and fifth largest metropolitan statistical areas in the country, respectively. Other major cities include Austin, the second-most populous state capital in the U.S., and El Paso. Texas is nicknamed the \"Lone Star State\" for its former status as an independent republic, and as a reminder of the state's struggle for independence from Mexico. The \"Lone Star\" can be found on the Texas state flag and on the Texas state seal. The origin of Texas's name is from the word táyshaʼ, which means \"friends\" in the Caddo language.Due to its size and geologic features such as the Balcones Fault, Texas contains diverse landscapes common to both the U.S. Southern and the Southwestern regions. Although Texas is popularly associated with the U.S. southwestern deserts, less than ten percent of Texas's land area is desert. Most of the population centers are in areas of former prairies, grasslands, forests, and the coastline. Traveling from east to west, one can observe terrain that ranges from coastal swamps and piney woods, to rolling plains and rugged hills, and finally the desert and mountains of the Big Bend.\n",
      "The term \"six flags over Texas\" refers to several nations that have ruled over the territory. Spain was the first European country to claim and control the area of Texas. France held a short-lived colony. Mexico controlled the territory until 1836 when Texas won its independence, becoming an independent republic. In 1845, Texas joined the union as the 28th state. The state's annexation set off a chain of events that led to the Mexican–American War in 1846. A slave state before the American Civil War, Texas declared its secession from the U.S. in early 1861, and officially joined the Confederate States of America on March 2 of the same year. After the Civil War and the restoration of its representation in the federal government, Texas entered a long period of economic stagnation.\n",
      "Historically four major industries shaped the Texas economy prior to World War II: cattle and bison, cotton, timber, and oil. Before and after the U.S. Civil War the cattle industry, which Texas came to dominate, was a major economic driver for the state, thus creating the traditional image of the Texas cowboy. In the later 19th century cotton and lumber grew to be major industries as the cattle industry became less lucrative. It was ultimately, though, the discovery of major petroleum deposits (Spindletop in particular) that initiated an economic boom which became the driving force behind the economy for much of the 20th century. With strong investments in universities, Texas developed a diversified economy and high tech industry in the mid-20th century. As of 2015, it is second on the list of the most Fortune 500 companies with 54. With a growing base of industry, the state leads in many industries, including tourism, agriculture, petrochemicals, energy, computers and electronics, aerospace, and biomedical sciences. Texas has led the U.S. in state export revenue since 2002 and has the second-highest gross state product. If Texas were a sovereign state, it would have the 10th largest economy in the world.\n"
     ]
    }
   ],
   "source": [
    "print(wikipedia.summary('Texas'))"
   ]
  },
  {
   "cell_type": "code",
   "execution_count": 4,
   "metadata": {},
   "outputs": [
    {
     "data": {
      "text/plain": [
       "['Austin, Texas',\n",
       " 'Coco Austin',\n",
       " 'Austin Butler',\n",
       " 'Austin Powers',\n",
       " 'Stone Cold Steve Austin',\n",
       " 'J. L. Austin',\n",
       " 'Brian Austin Green',\n",
       " 'University of Texas at Austin',\n",
       " 'Austin Abrams',\n",
       " 'Jake T. Austin']"
      ]
     },
     "execution_count": 4,
     "metadata": {},
     "output_type": "execute_result"
    }
   ],
   "source": [
    "wikipedia.search('Austin')"
   ]
  },
  {
   "cell_type": "code",
   "execution_count": 11,
   "metadata": {},
   "outputs": [],
   "source": [
    "austin = wikipedia.page('Austin, Texas')"
   ]
  },
  {
   "cell_type": "code",
   "execution_count": 12,
   "metadata": {},
   "outputs": [
    {
     "data": {
      "text/plain": [
       "'Austin, Texas'"
      ]
     },
     "execution_count": 12,
     "metadata": {},
     "output_type": "execute_result"
    }
   ],
   "source": [
    "austin.title"
   ]
  },
  {
   "cell_type": "code",
   "execution_count": 13,
   "metadata": {},
   "outputs": [
    {
     "data": {
      "text/plain": [
       "'https://en.wikipedia.org/wiki/Austin,_Texas'"
      ]
     },
     "execution_count": 13,
     "metadata": {},
     "output_type": "execute_result"
    }
   ],
   "source": [
    "austin.url"
   ]
  },
  {
   "cell_type": "code",
   "execution_count": 15,
   "metadata": {},
   "outputs": [
    {
     "data": {
      "text/plain": [
       "'Austin (US: , UK: ) is the capital city of the U.S. state of Texas, as well as the seat and largest '"
      ]
     },
     "execution_count": 15,
     "metadata": {},
     "output_type": "execute_result"
    }
   ],
   "source": [
    "austin_text = austin.content\n",
    "austin_text[:100]"
   ]
  },
  {
   "cell_type": "code",
   "execution_count": 17,
   "metadata": {},
   "outputs": [
    {
     "data": {
      "text/plain": [
       "['1836 Republic of Texas presidential election']"
      ]
     },
     "execution_count": 17,
     "metadata": {},
     "output_type": "execute_result"
    }
   ],
   "source": [
    "austin_links = austin.links\n",
    "austin_links[:1]"
   ]
  },
  {
   "cell_type": "code",
   "execution_count": 22,
   "metadata": {},
   "outputs": [],
   "source": [
    "# see list of languages here: https://meta.wikimedia.org/wiki/List_of_Wikipedias\n",
    "wikipedia.set_lang('es')"
   ]
  },
  {
   "cell_type": "code",
   "execution_count": 23,
   "metadata": {},
   "outputs": [
    {
     "data": {
      "text/plain": [
       "'Austin (pronunciado [ˈɔstən]) es la capital del estado estadounidense de Texas y del condado de Travis.'"
      ]
     },
     "execution_count": 23,
     "metadata": {},
     "output_type": "execute_result"
    }
   ],
   "source": [
    "wikipedia.summary('Austin, Texas', sentences=1)"
   ]
  },
  {
   "cell_type": "code",
   "execution_count": null,
   "metadata": {},
   "outputs": [],
   "source": []
  }
 ],
 "metadata": {
  "kernelspec": {
   "display_name": "Python 3",
   "language": "python",
   "name": "python3"
  },
  "language_info": {
   "codemirror_mode": {
    "name": "ipython",
    "version": 3
   },
   "file_extension": ".py",
   "mimetype": "text/x-python",
   "name": "python",
   "nbconvert_exporter": "python",
   "pygments_lexer": "ipython3",
   "version": "3.8.2"
  }
 },
 "nbformat": 4,
 "nbformat_minor": 4
}
