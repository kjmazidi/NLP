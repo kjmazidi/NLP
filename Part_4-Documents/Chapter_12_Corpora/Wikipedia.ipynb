{
 "cells": [
  {
   "cell_type": "markdown",
   "metadata": {},
   "source": [
    "[![Open in Colab](https://colab.research.google.com/assets/colab-badge.svg)](https://colab.research.google.com/github/kjmazidi/NLP/blob/master/Part_4-Documents/Chapter_12_Corpora/Wikipedia.ipynb)"
   ]
  },
  {
   "cell_type": "markdown",
   "metadata": {},
   "source": [
    "###### Code accompanies *Natural Language Processing* by KJG Mazidi, all rights reserved."
   ]
  },
  {
   "cell_type": "markdown",
   "metadata": {},
   "source": [
    "### Downloading Data with the Wikipedia Library\n",
    "\n",
    "This notebook demonstrates how to download data from Wikipedia with the wikipedia library. Install with pip/pip3:\n",
    "\n",
    "``` \n",
    "pip install wikipedia\n",
    "```\n",
    "\n",
    "The wikipedia library is a wrapper of the [MediaWikiAPI](https://www.mediawiki.org/wiki/API:Main_page) and is designed to facilitate download of data like article summaries, links, etc. If you are doing heavy downloading, it is suggested to use one of the heavy-duty API wrappers available here: https://en.wikipedia.org/wiki/Help:Creating_a_bot#Python\n",
    "\n",
    "Read the docs for this package here: https://wikipedia.readthedocs.io/en/latest/"
   ]
  },
  {
   "cell_type": "code",
   "execution_count": 24,
   "metadata": {},
   "outputs": [
    {
     "name": "stdout",
     "output_type": "stream",
     "text": [
      "Defaulting to user installation because normal site-packages is not writeable\n",
      "Requirement already satisfied: wikipedia in /Users/janicemazidi/Library/Python/3.9/lib/python/site-packages (1.4.0)\n",
      "Requirement already satisfied: beautifulsoup4 in /Users/janicemazidi/Library/Python/3.9/lib/python/site-packages (from wikipedia) (4.12.3)\n",
      "Requirement already satisfied: requests<3.0.0,>=2.0.0 in /Users/janicemazidi/Library/Python/3.9/lib/python/site-packages (from wikipedia) (2.32.3)\n",
      "Requirement already satisfied: charset-normalizer<4,>=2 in /Users/janicemazidi/Library/Python/3.9/lib/python/site-packages (from requests<3.0.0,>=2.0.0->wikipedia) (3.1.0)\n",
      "Requirement already satisfied: idna<4,>=2.5 in /Users/janicemazidi/Library/Python/3.9/lib/python/site-packages (from requests<3.0.0,>=2.0.0->wikipedia) (3.4)\n",
      "Requirement already satisfied: urllib3<3,>=1.21.1 in /Users/janicemazidi/Library/Python/3.9/lib/python/site-packages (from requests<3.0.0,>=2.0.0->wikipedia) (2.0.3)\n",
      "Requirement already satisfied: certifi>=2017.4.17 in /Users/janicemazidi/Library/Python/3.9/lib/python/site-packages (from requests<3.0.0,>=2.0.0->wikipedia) (2023.5.7)\n",
      "Requirement already satisfied: soupsieve>1.2 in /Users/janicemazidi/Library/Python/3.9/lib/python/site-packages (from beautifulsoup4->wikipedia) (2.5)\n",
      "\n",
      "\u001b[1m[\u001b[0m\u001b[34;49mnotice\u001b[0m\u001b[1;39;49m]\u001b[0m\u001b[39;49m A new release of pip is available: \u001b[0m\u001b[31;49m24.0\u001b[0m\u001b[39;49m -> \u001b[0m\u001b[32;49m24.2\u001b[0m\n",
      "\u001b[1m[\u001b[0m\u001b[34;49mnotice\u001b[0m\u001b[1;39;49m]\u001b[0m\u001b[39;49m To update, run: \u001b[0m\u001b[32;49m/Applications/Xcode.app/Contents/Developer/usr/bin/python3 -m pip install --upgrade pip\u001b[0m\n"
     ]
    }
   ],
   "source": [
    "# run this code block if you are on colab\n",
    "\n",
    "!pip install wikipedia"
   ]
  },
  {
   "cell_type": "code",
   "execution_count": 1,
   "metadata": {},
   "outputs": [
    {
     "name": "stderr",
     "output_type": "stream",
     "text": [
      "/Users/janicemazidi/Library/Python/3.9/lib/python/site-packages/urllib3/__init__.py:34: NotOpenSSLWarning: urllib3 v2.0 only supports OpenSSL 1.1.1+, currently the 'ssl' module is compiled with 'LibreSSL 2.8.3'. See: https://github.com/urllib3/urllib3/issues/3020\n",
      "  warnings.warn(\n"
     ]
    }
   ],
   "source": [
    "import wikipedia"
   ]
  },
  {
   "cell_type": "code",
   "execution_count": 2,
   "metadata": {},
   "outputs": [
    {
     "name": "stdout",
     "output_type": "stream",
     "text": [
      "Austin (  AW-stin) is the capital of the U.S. state of Texas and the seat and most populous city of Travis County, with portions extending into Hays and Williamson counties. Incorporated on December 27, 1839, it is the 28th-largest metropolitan area in the United States, the 11th-most populous city in the United States, the fourth-most populous city in the state after Houston, San Antonio, and Dallas, and the second-most populous state capital city after Phoenix, the capital of Arizona. It has been one of the fastest growing large cities in the United States since 2010. Downtown Austin and Downtown San Antonio are approximately 80 miles (129 km) apart, and both fall along the Interstate 35 corridor. This combined metropolitan region of San Antonio–Austin has approximately 5 million people. Austin is the southernmost state capital in the contiguous United States and is considered a Gamma + level global city as categorized by the Globalization and World Cities Research Network.\n",
      "As of 2021, Austin had an estimated population of 964,177, up from 961,855 at the 2020 census. The city is the cultural and economic center of the Austin–Round Rock metropolitan statistical area, which had an estimated population of 2,473,275 as of July 1, 2023. Located in Central Texas within the greater Texas Hill Country, it is home to numerous lakes, rivers, and waterways, including Lady Bird Lake and Lake Travis on the Colorado River, Barton Springs, McKinney Falls, and Lake Walter E. Long.\n",
      "Residents of Austin are known as Austinites. They include a diverse mix of government employees, college students, musicians, high-tech workers, and blue-collar workers. The city's official slogan promotes Austin as \"The Live Music Capital of the World\", a reference to the city's many musicians and live music venues, as well as the long-running PBS TV concert series Austin City Limits. Austin is the site of South by Southwest (SXSW), an annual conglomeration of parallel film, interactive media, and music festivals. The city also adopted \"Silicon Hills\" as a nickname in the 1990s due to a rapid influx of technology and development companies. In recent years, some Austinites have adopted the unofficial slogan \"Keep Austin Weird\", which refers to the desire to protect small, unique, and local businesses from being overrun by large corporations. Since the late 19th century, Austin has also been known as the \"City of the Violet Crown\", because of the colorful glow of light across the hills just after sunset.\n",
      "Emerging from a strong economic focus on government and education, since the 1990s, Austin has become a center for technology and business. The technology roots in Austin can be traced back to the 1960s, when defense electronics contractor Tracor (now BAE Systems) began operations in the city in 1962. IBM followed in 1967, opening a facility to produce its Selectric typewriters. Texas Instruments was set up in Austin two years later, and Motorola (now NXP Semiconductors) started semiconductor chip manufacturing in 1974. A number of Fortune 500 companies have headquarters or regional offices in Austin, including 3M, Advanced Micro Devices (AMD), Amazon, Apple, Facebook (Meta), Google, IBM, Intel, NXP Semiconductors, Oracle, Tesla, Texas Instruments, and Whole Foods Market. With regard to education, Austin is the home of the University of Texas at Austin, one of the largest universities in the U.S., with over 50,000 students. In 2021, Austin became home to the Austin FC, the first (and currently only) major professional sports team in the city.\n"
     ]
    }
   ],
   "source": [
    "print(wikipedia.summary('Austin, Texas'))"
   ]
  },
  {
   "cell_type": "code",
   "execution_count": 3,
   "metadata": {},
   "outputs": [
    {
     "data": {
      "text/plain": [
       "['Austin',\n",
       " 'Austin, Texas',\n",
       " 'Austin Butler',\n",
       " 'Austin Austin',\n",
       " 'Mary Austin',\n",
       " 'University of Texas at Austin',\n",
       " 'Stone Cold Steve Austin',\n",
       " 'Austin Wells',\n",
       " 'Austin Powers',\n",
       " 'Chris Austin']"
      ]
     },
     "execution_count": 3,
     "metadata": {},
     "output_type": "execute_result"
    }
   ],
   "source": [
    "# for a given search term there are likely many matches\n",
    "\n",
    "wikipedia.search('Austin')"
   ]
  },
  {
   "cell_type": "code",
   "execution_count": 4,
   "metadata": {},
   "outputs": [],
   "source": [
    "# let 'austin' be the wiki object\n",
    "\n",
    "austin = wikipedia.page('Austin, Texas')"
   ]
  },
  {
   "cell_type": "code",
   "execution_count": 5,
   "metadata": {},
   "outputs": [
    {
     "data": {
      "text/plain": [
       "'Austin, Texas'"
      ]
     },
     "execution_count": 5,
     "metadata": {},
     "output_type": "execute_result"
    }
   ],
   "source": [
    "austin.title"
   ]
  },
  {
   "cell_type": "code",
   "execution_count": 6,
   "metadata": {},
   "outputs": [
    {
     "data": {
      "text/plain": [
       "'Austin (  AW-stin) is the capital of the U.S. state of Texas and the seat and most populous city of '"
      ]
     },
     "execution_count": 6,
     "metadata": {},
     "output_type": "execute_result"
    }
   ],
   "source": [
    "austin.content[:100]"
   ]
  },
  {
   "cell_type": "code",
   "execution_count": 7,
   "metadata": {},
   "outputs": [
    {
     "data": {
      "text/plain": [
       "'Austin (  AW-stin) is the capital of the U.S. state of Texas and the seat and most populous city of '"
      ]
     },
     "execution_count": 7,
     "metadata": {},
     "output_type": "execute_result"
    }
   ],
   "source": [
    "# another way to do the same as the above cell\n",
    "\n",
    "austin_text = austin.content\n",
    "austin_text[:100]"
   ]
  },
  {
   "cell_type": "code",
   "execution_count": 8,
   "metadata": {},
   "outputs": [
    {
     "data": {
      "text/plain": [
       "'https://en.wikipedia.org/wiki/Austin,_Texas'"
      ]
     },
     "execution_count": 8,
     "metadata": {},
     "output_type": "execute_result"
    }
   ],
   "source": [
    "austin.url"
   ]
  },
  {
   "cell_type": "code",
   "execution_count": 9,
   "metadata": {},
   "outputs": [
    {
     "data": {
      "text/plain": [
       "['1836 Republic of Texas presidential election',\n",
       " '1838 Republic of Texas presidential election',\n",
       " '1841 Republic of Texas presidential election',\n",
       " '1844 Republic of Texas presidential election',\n",
       " '1850 United States census']"
      ]
     },
     "execution_count": 9,
     "metadata": {},
     "output_type": "execute_result"
    }
   ],
   "source": [
    "austin_links = austin.links\n",
    "austin_links[:5]  # get the first 5 links"
   ]
  },
  {
   "cell_type": "code",
   "execution_count": 10,
   "metadata": {},
   "outputs": [],
   "source": [
    "# see list of languages here: https://meta.wikimedia.org/wiki/List_of_Wikipedias\n",
    "wikipedia.set_lang('es')"
   ]
  },
  {
   "cell_type": "code",
   "execution_count": 11,
   "metadata": {},
   "outputs": [
    {
     "data": {
      "text/plain": [
       "'Austin es la capital del estado estadounidense de Texas y del condado de Travis.'"
      ]
     },
     "execution_count": 11,
     "metadata": {},
     "output_type": "execute_result"
    }
   ],
   "source": [
    "wikipedia.summary('Austin, Texas', sentences=1)"
   ]
  },
  {
   "cell_type": "code",
   "execution_count": null,
   "metadata": {},
   "outputs": [],
   "source": []
  }
 ],
 "metadata": {
  "kernelspec": {
   "display_name": "Python 3",
   "language": "python",
   "name": "python3"
  },
  "language_info": {
   "codemirror_mode": {
    "name": "ipython",
    "version": 3
   },
   "file_extension": ".py",
   "mimetype": "text/x-python",
   "name": "python",
   "nbconvert_exporter": "python",
   "pygments_lexer": "ipython3",
   "version": "3.9.6"
  }
 },
 "nbformat": 4,
 "nbformat_minor": 4
}
