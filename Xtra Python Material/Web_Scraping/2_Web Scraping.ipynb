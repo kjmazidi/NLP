{
 "cells": [
  {
   "cell_type": "markdown",
   "metadata": {},
   "source": [
    "# Web Scraping with Beautiful Soup\n",
    "\n",
    "Webscraping is the task of extracting information from web sites programmatically. There are many Python packages that can be used for web scraping. This notebook looks at Beautiful Soup. Follow this link for the docs and [how to install](https://pypi.org/project/beautifulsoup4/)\n",
    "\n",
    "This notebook shows how to extract text from an online article with Beautiful Soup, then do some cleanup with Python."
   ]
  },
  {
   "cell_type": "code",
   "execution_count": 2,
   "metadata": {},
   "outputs": [],
   "source": [
    "import urllib\n",
    "from urllib import request\n",
    "from bs4 import BeautifulSoup"
   ]
  },
  {
   "cell_type": "code",
   "execution_count": 3,
   "metadata": {},
   "outputs": [],
   "source": [
    "url = 'https://nyti.ms/2uAQS89'\n",
    "html = request.urlopen(url).read().decode('utf8')\n",
    "soup = BeautifulSoup(html)"
   ]
  },
  {
   "cell_type": "code",
   "execution_count": 4,
   "metadata": {},
   "outputs": [],
   "source": [
    "# kill all script and style elements\n",
    "for script in soup([\"script\", \"style\"]):\n",
    "    script.extract()    # rip it out\n"
   ]
  },
  {
   "cell_type": "code",
   "execution_count": 5,
   "metadata": {},
   "outputs": [
    {
     "name": "stdout",
     "output_type": "stream",
     "text": [
      "\n",
      "\n",
      "\n",
      "With Snowflakes and Unicorns, Marina Ratner and Maryam Mirzakhani Explored a Universe in Motion - The New York Times\n",
      "\n",
      "\n",
      "\n",
      "\n",
      "\n",
      "\n",
      "\n",
      "\n",
      "\n",
      "\n",
      "\n",
      "\n",
      "\n",
      "\n",
      "\n",
      "\n",
      "\n",
      "\n",
      "\n",
      "SectionsSEARCHSkip to contentSkip to site indexScienceToday’s\n"
     ]
    }
   ],
   "source": [
    "# extract text\n",
    "text = soup.get_text()\n",
    "print(text[:200])"
   ]
  },
  {
   "cell_type": "markdown",
   "metadata": {},
   "source": [
    "### Clean up\n",
    "\n",
    "The next code block uses regex to get rid of the white space, creating a list of text chunks. The chunks are numbered as they are printed out to see how many chunks are there."
   ]
  },
  {
   "cell_type": "code",
   "execution_count": 10,
   "metadata": {},
   "outputs": [
    {
     "name": "stdout",
     "output_type": "stream",
     "text": [
      "1 With Snowflakes and Unicorns, Marina Ratner and Maryam Mirzakhani Explored a Universe in Motion - The New York Times\n",
      "2 SectionsSEARCHSkip to contentSkip to site indexScienceToday’s PaperScience|With Snowflakes and Unicorns, Marina Ratner and Maryam Mirzakhani Explored a Universe in Motionhttps://nyti.ms/2vdyTIHAdvertisementContinue reading the main storySupported byContinue reading the main storyEssayWith Snowflakes and Unicorns, Marina Ratner and Maryam Mirzakhani Explored a Universe in MotionMarina Ratner in Moscow in 1991.Credit...via Anna RatnerBy Amie WilkinsonAug. 7, 2017The mathematics section of the National Academy of Sciences lists 104 members. Just four are women. As recently as June, that number was six.Marina Ratner and Maryam Mirzakhani could not have been more different, in personality and in background. Dr. Ratner was a Soviet Union-born Jew who ended up at the University of California, Berkeley, by way of Israel. She had a heart attack at 78 at her home in early July.Success came relatively late in her career, in her 50s, when she produced her most famous results, known as Ratner’s Theorems. They turned out to be surprisingly and broadly applicable, with many elegant uses.In the early 1990s, when I was a graduate student at Berkeley, a professor tried to persuade Dr. Ratner to be my thesis adviser. She wouldn’t consider it: She believed that, years earlier, she had failed her first and only doctoral student and didn’t want another.Dr. Mirzakhani was a young superstar from Iran who worked nearby at Stanford University. Just 40 when she died of cancer in July, she was the first woman to receive the prestigious Fields Medal.I first heard about Dr. Mirzakhani when, as a graduate student, she proved a new formula describing the curves on certain abstract surfaces, an insight that turned out to have profound consequences — offering, for example, a new proof of a famous conjecture in physics about quantum gravity.I was inspired by both women and their patient assaults on deeply difficult problems. Their work was closely related and is connected to some of the oldest questions in mathematics.The ancient Greeks were fascinated by the Platonic solid — a three-dimensional shape that can be constructed by gluing together identical flat pieces in a uniform fashion. The pieces must be regular polygons, with all sides the same length and all angles equal. For example, a cube is a Platonic solid made of six squares.Early philosophers wondered how many Platonic solids there were. The definition appears to allow for infinite possibilities, yet, remarkably, there are only five such solids, a fact whose proof is credited to the early Greek mathematician Theaetetus. The paring of the seemingly limitless to a finite number is a case of what mathematicians call rigidity. Something that is rigid cannot be deformed or bent without destroying its essential nature. Like Platonic solids, rigid objects are typically rare, and sometimes theoretical objects can be so rigid they don’t exist — mathematical unicorns.ImageMaryam Mirzakhani in 2014, the year she won the Fields Medal.Credit...Seoul ICM 2014, via Agence France-Presse — Getty ImagesIn common usage, rigidity connotes inflexibility, usually negatively. Diamonds, however, owe their strength to the rigidity of their molecular structure. Controlled rigidity — that is, flexing only along certain directions — allows suspension bridges to survive high winds.Dr. Ratner and Dr. Mirzakhani were experts in this more subtle form of rigidity. They worked to characterize shapes preserved by motions of space.One example is a mathematical model called the Koch snowflake, which displays a repeating pattern of triangles along its edges. The edge of this snowflake will look the same at whatever scale it is viewed.The snowflake is fundamentally unchanged by rescaling; other mathematical objects remain the same under different types of motions. The shape of a ball, for example, is not changed when it is spun.Dr. Ratner and Dr. Mirzakhani studied shapes that are preserved under more sophisticated types of motions, and in higher dimensional spaces.In Dr. Ratner’s case, that motion was of a shearing type, similar to a strong wind high in the atmosphere. Dr. Mirzakhani, with my colleague Alex Eskin, focused on shearing, stretching and compressing.These mathematicians proved that the only possible preserved shapes in this case are, unlike the snowflake, very regular and smooth, like the surface of a ball.The consequences are far-reaching: Dr. Ratner’s results yielded a tool that researchers have turned to a wide variety of uses, like illumining properties in sequences of numbers and describing the essential building blocks in algebraic geometry.The work of Dr. Mirzakhani and Dr. Eskin has similarly been called the “magic wand theorem” for its multitude of uses, including an application to something called the wind-tree model.More than a century ago, physicists attempting to describe the process of diffusion imagined an infinite forest of regularly spaced identical and rectangular trees. The wind blows through this bizarre forest, bouncing off the trees as light reflects off a mirror.Dr. Mirzakhani and Dr. Eskin did not themselves explore the wind-tree model, but other mathematicians used their magic wand theorem to prove that a broad universality exists in these forests: Once the number of sides to each tree is fixed, the wind will explore the forest at the same fundamental rate, regardless of the actual shape of the tree.There are other talented women exploring fundamental questions like these, but why are there not more? In 2015, women accounted for only 14 percent of the tenured positions in Ph.D.-granting math departments in the United States. That is up from 9 percent two decades earlier.Dr. Ratner’s theorems are some of the most important in the past half-century, but she never quite received the recognition she deserved. That is partly because her best work came late in her career, and partly because of how she worked — always alone, without collaborators or graduate students to spread her reputation.Berkeley did not even put out a news release when she died.By contrast, Dr. Mirzakhani’s work, two decades later, was immediately recognized and acclaimed. Word of her death spread quickly — it was front-page news in Iran. Perhaps that is a sign of progress.I first met Dr. Mirzakhani in 2004. She was finishing her Ph.D. at Harvard. I was a professor at Northwestern, pregnant with my second child.Given her reputation, I expected to meet a fearless warrior with a single-minded focus. I was quite disarmed when the conversation turned to being a mathematician and a mother.“How do you do it?” she asked. That such a mind could be preoccupied with such a question points, I think, to the obstacles women still face in climbing to math’s upper echelons.At Harvard, the number of tenured women research mathematicians is currently zero. At my institution, the University of Chicago, until 2011 only one woman had ever held such a position.We are only gradually joining the ranks, in what might be called a “trickle up” fashion.Students often tell me that my presence on the faculty convinces them that women belong in mathematics. Though she would have shrugged it off, I was similarly inspired by Dr. Ratner.I hope I played this role for Dr. Mirzakhani. And for all of her reticence about being famous, Dr. Mirzakhani has inspired an entire generation of younger women.There are a surprising number of social pressures against becoming a mathematician. When you’re in the minority, it takes extra strength and toughness to persist. Dr. Ratner and Dr. Mirzakhani had both.For the inspiration they provide, but above all for the beauty of their mathematics, we celebrate their lives.AdvertisementContinue reading the main storySite IndexSite Information Navigation© 2020 The New York Times CompanyNYTCoContact UsWork with usAdvertiseT Brand StudioYour Ad ChoicesPrivacyTerms of ServiceTerms of SaleSite MapHelpSubscriptions\n"
     ]
    }
   ],
   "source": [
    "import re\n",
    "text_chunks = [chunk for chunk in text.splitlines() if not re.match(r'^\\s*$', chunk)]\n",
    "for i, chunk in enumerate(text_chunks):\n",
    "    print(i+1, chunk)"
   ]
  },
  {
   "cell_type": "markdown",
   "metadata": {},
   "source": [
    "There is still a lot of junk at the top and bottom of the text, and other problems that need further text processing."
   ]
  },
  {
   "cell_type": "markdown",
   "metadata": {},
   "source": [
    "### Extracting paragraph tags\n",
    "\n",
    "Using the soup object created above, the next code extracts <p> tags. These could be further processed to extract text by removing everything within the p tags."
   ]
  },
  {
   "cell_type": "code",
   "execution_count": 11,
   "metadata": {},
   "outputs": [
    {
     "name": "stdout",
     "output_type": "stream",
     "text": [
      "<p>Advertisement</p>\n",
      "<p>Supported by</p>\n",
      "<p class=\"css-c2jxua e6idgb70\">Essay</p>\n",
      "<p class=\"css-1nuro5j e1jsehar1\" itemprop=\"author\" itemscope=\"\" itemtype=\"http://schema.org/Person\">By<!-- --> <span class=\"css-1baulvz last-byline\" itemprop=\"name\">Amie Wilkinson</span></p>\n",
      "<p class=\"css-158dogj evys1bk0\">The mathematics section of the National Academy of Sciences lists 104 members. Just four are women. As recently as June, that number was six.</p>\n",
      "<p class=\"css-158dogj evys1bk0\">Marina Ratner and Maryam Mirzakhani could not have been more different, in personality and in background. Dr. Ratner was a Soviet Union-born Jew who ended up at the University of California, Berkeley, by way of Israel. She had a <a class=\"css-1g7m0tk\" href=\"https://www.nytimes.com/2017/07/25/science/marina-ratner-dead-mathematician.html\" title=\"\">heart attack at 78</a> at her home in early July.</p>\n",
      "<p class=\"css-158dogj evys1bk0\">Success came relatively late in her career, in her 50s, when she produced her most famous results, known as Ratner’s Theorems. They turned out to be surprisingly and broadly applicable, with many elegant uses.</p>\n",
      "<p class=\"css-158dogj evys1bk0\">In the early 1990s, when I was a graduate student at Berkeley, a professor tried to persuade Dr. Ratner to be my thesis adviser. She wouldn’t consider it: She believed that, years earlier, she had failed her first and only doctoral student and didn’t want another.</p>\n",
      "<p class=\"css-158dogj evys1bk0\">Dr. Mirzakhani was a young superstar from Iran who worked nearby at Stanford University. Just 40 when <a class=\"css-1g7m0tk\" href=\"https://www.nytimes.com/2017/07/16/us/maryam-mirzakhani-dead.html\" title=\"\">she died of cancer</a> in July, she was the <a class=\"css-1g7m0tk\" href=\"https://www.nytimes.com/2014/08/13/science/top-math-prize-has-its-first-female-winner.html\" title=\"\">first woman to receive the prestigious Fields Medal</a>.</p>\n",
      "<p class=\"css-158dogj evys1bk0\">I first heard about Dr. Mirzakhani when, as a graduate student, she proved a new formula describing the curves on certain abstract surfaces, an insight that turned out to have profound consequences — offering, for example, a new proof of a famous conjecture in physics about quantum gravity.</p>\n",
      "<p class=\"css-158dogj evys1bk0\">I was inspired by both women and their patient assaults on deeply difficult problems. Their work was closely related and is connected to some of the oldest questions in mathematics.</p>\n",
      "<p class=\"css-158dogj evys1bk0\">The ancient Greeks were fascinated by the Platonic solid — a three-dimensional shape that can be constructed by gluing together identical flat pieces in a uniform fashion. The pieces must be regular polygons, with all sides the same length and all angles equal. For example, a cube is a Platonic solid made of six squares.</p>\n",
      "<p class=\"css-158dogj evys1bk0\">Early philosophers wondered how many Platonic solids there were. The definition appears to allow for infinite possibilities, yet, remarkably, there are only five such solids, a fact whose proof is credited to the early Greek mathematician Theaetetus. The paring of the seemingly limitless to a finite number is a case of what mathematicians call rigidity<em class=\"css-2fg4z9 e1gzwzxm0\">. </em></p>\n",
      "<p class=\"css-158dogj evys1bk0\">Something that is rigid cannot be deformed or bent without destroying its essential nature. Like Platonic solids, rigid objects are typically rare, and sometimes theoretical objects can be so rigid they don’t exist — mathematical unicorns.</p>\n",
      "<p class=\"css-158dogj evys1bk0\">In common usage, rigidity connotes inflexibility, usually negatively. Diamonds, however, owe their strength to the rigidity of their molecular structure. Controlled rigidity — that is, flexing only along certain directions — allows suspension bridges to survive high winds.</p>\n",
      "<p class=\"css-158dogj evys1bk0\">Dr. Ratner and Dr. Mirzakhani were experts in this more subtle form of rigidity. They worked to characterize shapes preserved by motions of space.</p>\n",
      "<p class=\"css-158dogj evys1bk0\">One example is a mathematical model called the Koch snowflake, which displays a repeating pattern of triangles along its edges. The edge of this snowflake will look the same at whatever scale it is viewed.</p>\n",
      "<p class=\"css-158dogj evys1bk0\">The snowflake is fundamentally unchanged by rescaling; other mathematical objects remain the same under different types of motions. The shape of a ball, for example, is not changed when it is spun.</p>\n",
      "<p class=\"css-158dogj evys1bk0\">Dr. Ratner and Dr. Mirzakhani studied shapes that are preserved under more sophisticated types of motions, and in higher dimensional spaces.</p>\n",
      "<p class=\"css-158dogj evys1bk0\">In Dr. Ratner’s case, that motion was of a shearing type, similar to a strong wind high in the atmosphere. Dr. Mirzakhani, with my colleague Alex Eskin, focused on shearing, stretching and compressing.</p>\n",
      "<p class=\"css-158dogj evys1bk0\">These mathematicians proved that the only possible preserved shapes in this case are, unlike the snowflake, very regular and smooth, like the surface of a ball.</p>\n",
      "<p class=\"css-158dogj evys1bk0\">The consequences are far-reaching: Dr. Ratner’s results yielded a tool that researchers have turned to a wide variety of uses, like illumining properties in sequences of numbers and describing the essential building blocks in algebraic geometry.</p>\n",
      "<p class=\"css-158dogj evys1bk0\">The work of Dr. Mirzakhani and Dr. Eskin has similarly been called the “magic wand theorem” for its multitude of uses, including an application to something called the wind-tree model.</p>\n",
      "<p class=\"css-158dogj evys1bk0\">More than a century ago, physicists attempting to describe the process of diffusion imagined an infinite forest of regularly spaced identical and rectangular trees. The wind blows through this bizarre forest, bouncing off the trees as light reflects off a mirror.</p>\n",
      "<p class=\"css-158dogj evys1bk0\">Dr. Mirzakhani and Dr. Eskin did not themselves explore the wind-tree model, but other mathematicians used their magic wand theorem to prove that a broad universality exists in these forests: Once the number of sides to each tree is fixed, the wind will explore the forest at the same fundamental rate, regardless of the actual shape of the tree.</p>\n",
      "<p class=\"css-158dogj evys1bk0\">There are other talented women exploring fundamental questions like these, but why are there not more? In 2015, women accounted for only 14 percent of the tenured positions in Ph.D.-granting math departments in the United States. That is up from 9 percent two decades earlier.</p>\n",
      "<p class=\"css-158dogj evys1bk0\">Dr. Ratner’s theorems are some of the most important in the past half-century, but she never quite received the recognition she deserved. That is partly because her best work came late in her career, and partly because of how she worked — always alone, without collaborators or graduate students to spread her reputation.</p>\n",
      "<p class=\"css-158dogj evys1bk0\">Berkeley did not even put out a news release when she died.</p>\n",
      "<p class=\"css-158dogj evys1bk0\">By contrast, Dr. Mirzakhani’s work, two decades later, was immediately recognized and acclaimed. Word of her death spread quickly — it was front-page news in Iran. Perhaps that is a sign of progress.</p>\n",
      "<p class=\"css-158dogj evys1bk0\">I first met Dr. Mirzakhani in 2004. She was finishing her Ph.D. at Harvard. I was a professor at Northwestern, pregnant with my second child.</p>\n",
      "<p class=\"css-158dogj evys1bk0\">Given her reputation, I expected to meet a fearless warrior with a single-minded focus. I was quite disarmed when the conversation turned to being a mathematician and a mother.</p>\n",
      "<p class=\"css-158dogj evys1bk0\">“How do you do it?” she asked. That such a mind could be preoccupied with such a question points, I think, to the obstacles women still face in climbing to math’s upper echelons.</p>\n",
      "<p class=\"css-158dogj evys1bk0\">At Harvard, the number of tenured women research mathematicians is currently zero. At my institution, the University of Chicago, until 2011 only one woman had ever held such a position.</p>\n",
      "<p class=\"css-158dogj evys1bk0\">We are only gradually joining the ranks, in what might be called a “trickle up” fashion.</p>\n",
      "<p class=\"css-158dogj evys1bk0\">Students often tell me that my presence on the faculty convinces them that women belong in mathematics. Though she would have shrugged it off, I was similarly inspired by Dr. Ratner.</p>\n",
      "<p class=\"css-158dogj evys1bk0\">I hope I played this role for Dr. Mirzakhani. And for all of her reticence about being famous, Dr. Mirzakhani has inspired an entire generation of younger women.</p>\n",
      "<p class=\"css-158dogj evys1bk0\">There are a surprising number of social pressures against becoming a mathematician. When you’re in the minority, it takes extra strength and toughness to persist. Dr. Ratner and Dr. Mirzakhani had both.</p>\n",
      "<p class=\"css-158dogj evys1bk0\">For the inspiration they provide, but above all for the beauty of their mathematics, we celebrate their lives.</p>\n",
      "<p>Advertisement</p>\n"
     ]
    }
   ],
   "source": [
    "for p in soup.select('p'):\n",
    "    print(p)"
   ]
  },
  {
   "cell_type": "markdown",
   "metadata": {},
   "source": [
    "### Extracting links\n",
    "\n",
    "The following code block extracts hyperlinks from the page."
   ]
  },
  {
   "cell_type": "code",
   "execution_count": 12,
   "metadata": {},
   "outputs": [
    {
     "name": "stdout",
     "output_type": "stream",
     "text": [
      "#site-content\n",
      "#site-index\n",
      "https://www.nytimes.com/section/science\n",
      "/\n",
      "https://myaccount.nytimes.com/auth/login?response_type=cookie&client_id=vi\n",
      "https://www.nytimes.com/section/todayspaper\n",
      "/section/science\n",
      "/\n",
      "/\n",
      "https://www.facebook.com/dialog/feed?app_id=9869919170&link=https%3A%2F%2Fwww.nytimes.com%2F2017%2F08%2F07%2Fscience%2Fwomen-mathematicians-maryam-mirzakhani-marina-ratner.html%3Fsmid%3Dfb-share&name=With%20Snowflakes%20and%20Unicorns%2C%20Marina%20Ratner%20and%20Maryam%20Mirzakhani%20Explored%20a%20Universe%20in%20Motion&redirect_uri=https%3A%2F%2Fwww.facebook.com%2F\n"
     ]
    }
   ],
   "source": [
    "counter = 0\n",
    "for link in soup.find_all('a'):\n",
    "    counter += 1\n",
    "    if counter > 10:\n",
    "        break\n",
    "    print(link.get('href'))"
   ]
  },
  {
   "cell_type": "code",
   "execution_count": null,
   "metadata": {},
   "outputs": [],
   "source": []
  }
 ],
 "metadata": {
  "kernelspec": {
   "display_name": "Python 3",
   "language": "python",
   "name": "python3"
  },
  "language_info": {
   "codemirror_mode": {
    "name": "ipython",
    "version": 3
   },
   "file_extension": ".py",
   "mimetype": "text/x-python",
   "name": "python",
   "nbconvert_exporter": "python",
   "pygments_lexer": "ipython3",
   "version": "3.8.2"
  }
 },
 "nbformat": 4,
 "nbformat_minor": 4
}
