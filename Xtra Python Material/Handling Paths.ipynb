{
 "cells": [
  {
   "cell_type": "markdown",
   "metadata": {},
   "source": [
    "### Paths in Python\n",
    "\n",
    "The problem with file paths is that on a Windows system, paths are specified with back slashes:\n",
    "\n",
    "```\n",
    "C:\\Users\\mazidi\\Desktop\\myfile.txt\n",
    "```\n",
    "And on Mac/Unix, paths are specified with forward slashes:\n",
    "\n",
    "```\n",
    "/Users/mazidi/Desktop/myfile.txt\n",
    "```\n",
    "\n",
    "This makes distributing code a nightmare. This notebook shows two solutions: one using **os**, and the other using **pathlib**. Both solutions assume that the user typed in a file name as a system argument. Both solutions will read the same sample text file.\n",
    "\n",
    "This notebook is not meant to be run, just to provide sample code. This is because getting a sysarg in Jupyter would be a pain. See the *path demo* folder for a Python program you can run from console.\n",
    "\n",
    "---\n",
    "\n",
    "The sample program calls two different methods to show the two approaches. Both functions accept a sysarg. The program simply terminates after printing an error message if the user did not provide a sysarg."
   ]
  },
  {
   "cell_type": "code",
   "execution_count": null,
   "metadata": {},
   "outputs": [],
   "source": [
    "# reminder: won't run in a Jupyter notebook\n",
    "\n",
    "if __name__ == '__main__':\n",
    "    if len(sys.argv) < 2:\n",
    "        print('Please enter a filename as a system arg')\n",
    "    else:\n",
    "        fp = sys.argv[1]\n",
    "        method1(fp)\n",
    "        method2(fp)"
   ]
  },
  {
   "cell_type": "markdown",
   "metadata": {},
   "source": [
    "### Solution 1: Using os\n",
    "\n",
    "The os module is very powerful. See [the docs](https://docs.python.org/3/library/os.html)"
   ]
  },
  {
   "cell_type": "code",
   "execution_count": null,
   "metadata": {},
   "outputs": [],
   "source": [
    "import os\n",
    "\n",
    "def method1(filepath):\n",
    "\n",
    "    print(\"\\nUsing method 1\")\n",
    "\n",
    "    with open(os.path.join(os.getcwd(), filepath), 'r') as f:\n",
    "        text_in = f.read()\n",
    "    print(text_in)"
   ]
  },
  {
   "cell_type": "markdown",
   "metadata": {},
   "source": [
    "### Solution 2: Using pathlib\n",
    "\n",
    "Here is a [nice pathlib tutorial](https://realpython.com/python-pathlib/) if you want to take a deeper dive."
   ]
  },
  {
   "cell_type": "code",
   "execution_count": null,
   "metadata": {},
   "outputs": [],
   "source": [
    "import pathlib\n",
    "\n",
    "def method2(filepath):\n",
    "\n",
    "    print(\"\\nUsing method 2\")\n",
    "\n",
    "    with open(pathlib.Path.cwd().joinpath(filepath), 'r') as f:\n",
    "        text_in = f.read()\n",
    "    print(text_in)"
   ]
  },
  {
   "cell_type": "markdown",
   "metadata": {},
   "source": [
    "### Which approach should I use?\n",
    "\n",
    "Both of these approaches are simple to use for this simple use case. In general, the syntax for pathlib will be simpler for most use cases. A further advantage of pathlib is that it has a smaller footprint when you upload it. \n",
    "\n",
    "A third popular approach is the [glob module](https://docs.python.org/3/library/glob.html) "
   ]
  },
  {
   "cell_type": "code",
   "execution_count": null,
   "metadata": {},
   "outputs": [],
   "source": []
  }
 ],
 "metadata": {
  "kernelspec": {
   "display_name": "Python 3",
   "language": "python",
   "name": "python3"
  },
  "language_info": {
   "codemirror_mode": {
    "name": "ipython",
    "version": 3
   },
   "file_extension": ".py",
   "mimetype": "text/x-python",
   "name": "python",
   "nbconvert_exporter": "python",
   "pygments_lexer": "ipython3",
   "version": "3.8.2"
  }
 },
 "nbformat": 4,
 "nbformat_minor": 4
}
