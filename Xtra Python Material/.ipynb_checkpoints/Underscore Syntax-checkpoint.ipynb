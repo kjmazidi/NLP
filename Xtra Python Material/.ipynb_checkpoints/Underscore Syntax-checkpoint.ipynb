{
 "cells": [
  {
   "cell_type": "markdown",
   "metadata": {},
   "source": [
    "# Underscores in Python Syntax\n",
    "\n",
    "Single underscores are often used to separate words in variable and function names. From the PEP8 style guide:\n",
    "\n",
    "> Variable and function names should be lowercase, with words separated by underscores as necessary to improve readability.\n",
    "\n",
    "Single underscores or double underscores (dunders) also have special meaning when they occur at the beginning or end of a name. This notebook identifies 5 common patterns of leading and trailing underscores.\n"
   ]
  },
  {
   "cell_type": "markdown",
   "metadata": {},
   "source": [
    "### Trailing single underscore\n",
    "\n",
    "A single trailing underscore is used to avoid conflict with a Python reserved word. To see a list of Python keywords, try the following code. "
   ]
  },
  {
   "cell_type": "code",
   "execution_count": 1,
   "metadata": {},
   "outputs": [
    {
     "name": "stdout",
     "output_type": "stream",
     "text": [
      "['False', 'None', 'True', 'and', 'as', 'assert', 'async', 'await', 'break', 'class', 'continue', 'def', 'del', 'elif', 'else', 'except', 'finally', 'for', 'from', 'global', 'if', 'import', 'in', 'is', 'lambda', 'nonlocal', 'not', 'or', 'pass', 'raise', 'return', 'try', 'while', 'with', 'yield']\n"
     ]
    }
   ],
   "source": [
    "# what are the reserved words in Python?\n",
    "import keyword\n",
    "print(keyword.kwlist)"
   ]
  },
  {
   "cell_type": "code",
   "execution_count": 2,
   "metadata": {},
   "outputs": [],
   "source": [
    "#pass = True  causes an 'invalid syntax' error because pass is a keyword\n",
    "pass_ = True  # this syntax is legal"
   ]
  },
  {
   "cell_type": "markdown",
   "metadata": {},
   "source": [
    "### Leading single underscore\n",
    "\n",
    "A leading single underscore indicates that a variable is meant to be a private variable. Technically, Python does not enforce private variables, so this is a hint to coders that a variable is meant for internal use. \n",
    "\n",
    "The Example class below defines a private variable \"\\_var\". This private variable is not very private because it could be accessed directly instead of through the printVar() method. However, this syntax indicates to others reading the code that it should not be accessed directly. And imports of code will not import single underscore variables or methods."
   ]
  },
  {
   "cell_type": "code",
   "execution_count": 3,
   "metadata": {},
   "outputs": [],
   "source": [
    "class Example:\n",
    "    def __init__(self):\n",
    "        self._var = 5\n",
    "    def printVar(self):\n",
    "        print(self._var)\n",
    "        "
   ]
  },
  {
   "cell_type": "code",
   "execution_count": 4,
   "metadata": {},
   "outputs": [
    {
     "name": "stdout",
     "output_type": "stream",
     "text": [
      "5\n"
     ]
    },
    {
     "data": {
      "text/plain": [
       "5"
      ]
     },
     "execution_count": 4,
     "metadata": {},
     "output_type": "execute_result"
    }
   ],
   "source": [
    "ex = Example() # create an instance of the class\n",
    "ex.printVar()  # the printVar() method can access _var\n",
    "ex._var        # however, _var can be access directly "
   ]
  },
  {
   "cell_type": "markdown",
   "metadata": {},
   "source": [
    "### Leading double underscore\n",
    "\n",
    "A leading dunder (double underscore) in a class definition will result in mangling the name. For example, in the code block below:\n",
    "\n",
    "```\n",
    "__var\n",
    "is mangled to: \n",
    "_Example__var\n",
    "```\n",
    "\n",
    "The purpose of name mangling is to avoid name clashes. Although private instance variables don't exist in Python, the single and double underscore conventions provide partial support for private names."
   ]
  },
  {
   "cell_type": "code",
   "execution_count": 5,
   "metadata": {},
   "outputs": [],
   "source": [
    "class Example:\n",
    "    def __init__(self):\n",
    "        self.__var = 5\n",
    "    def printVar(self):\n",
    "        print(self.__var)"
   ]
  },
  {
   "cell_type": "code",
   "execution_count": 6,
   "metadata": {},
   "outputs": [
    {
     "name": "stdout",
     "output_type": "stream",
     "text": [
      "5\n"
     ]
    }
   ],
   "source": [
    "ex = Example() # create an instance of the class\n",
    "ex.printVar()  # the printVar() method can access _var\n",
    "#ex.__var        #  __var cannot be access directly "
   ]
  },
  {
   "cell_type": "markdown",
   "metadata": {},
   "source": [
    "### Leading and trailing double underscore\n",
    "\n",
    "This convention is used for special variables or methods such as __init__\n",
    "\n",
    "This can be seen in the __init__ method above and in the code below. When Python reads a source file, it sets the special variable __name__ to \"__main__\". If the code below is in a file, the Python interpreter:\n",
    "\n",
    "1. reads and stores the main() function\n",
    "\n",
    "2. reads and stores the fun() function\n",
    "\n",
    "3. reads the code starting with 'if'\n",
    "\n",
    "If the code is run as a script, in an IDE or from the console, the if statement is true and the code in the if will be executed. \n",
    "\n",
    "Defining your own variables with leading and trailing dunders is not considered good programming practice. Leave those to Python."
   ]
  },
  {
   "cell_type": "code",
   "execution_count": 7,
   "metadata": {},
   "outputs": [
    {
     "name": "stdout",
     "output_type": "stream",
     "text": [
      "In the main function\n",
      "In the fun function\n",
      "Program has ended\n"
     ]
    }
   ],
   "source": [
    "def main():\n",
    "    print('In the main function')\n",
    "          \n",
    "def fun():\n",
    "    print('In the fun function')\n",
    "\n",
    "if __name__ == \"__main__\":\n",
    "    # execute this code only if it is run as a script\n",
    "    main()\n",
    "    fun()\n",
    "    print('Program has ended')"
   ]
  },
  {
   "cell_type": "markdown",
   "metadata": {},
   "source": [
    "### Single underscore\n",
    "\n",
    "A single underscore by itself is used as a *don't care* variable."
   ]
  },
  {
   "cell_type": "code",
   "execution_count": 8,
   "metadata": {},
   "outputs": [
    {
     "name": "stdout",
     "output_type": "stream",
     "text": [
      "Mazidi\n"
     ]
    }
   ],
   "source": [
    "some_tuple = ('Karen', 'Mazidi')\n",
    "_, name = some_tuple   # don't care about first item in tuple\n",
    "\n",
    "print(name)"
   ]
  },
  {
   "cell_type": "code",
   "execution_count": 9,
   "metadata": {},
   "outputs": [
    {
     "name": "stdout",
     "output_type": "stream",
     "text": [
      "hi\n",
      "hi\n",
      "hi\n",
      "hi\n",
      "hi\n"
     ]
    }
   ],
   "source": [
    "# another example where we don't care\n",
    "for _ in range(5):\n",
    "    print('hi')"
   ]
  },
  {
   "cell_type": "code",
   "execution_count": 14,
   "metadata": {},
   "outputs": [
    {
     "data": {
      "text/plain": [
       "5"
      ]
     },
     "execution_count": 14,
     "metadata": {},
     "output_type": "execute_result"
    }
   ],
   "source": [
    "# the interpreter considers _ to be the last thing computed\n",
    "5 + 6\n",
    "_ + 1"
   ]
  },
  {
   "cell_type": "markdown",
   "metadata": {},
   "source": [
    "### If you are freaking out \n",
    "\n",
    "Why doesn't Python support private variables?  See this: https://www.quora.com/Why-doesnt-Python-have-private-member-variables-or-methods"
   ]
  },
  {
   "cell_type": "code",
   "execution_count": null,
   "metadata": {},
   "outputs": [],
   "source": []
  }
 ],
 "metadata": {
  "kernelspec": {
   "display_name": "Python 3",
   "language": "python",
   "name": "python3"
  },
  "language_info": {
   "codemirror_mode": {
    "name": "ipython",
    "version": 3
   },
   "file_extension": ".py",
   "mimetype": "text/x-python",
   "name": "python",
   "nbconvert_exporter": "python",
   "pygments_lexer": "ipython3",
   "version": "3.7.3"
  }
 },
 "nbformat": 4,
 "nbformat_minor": 2
}
