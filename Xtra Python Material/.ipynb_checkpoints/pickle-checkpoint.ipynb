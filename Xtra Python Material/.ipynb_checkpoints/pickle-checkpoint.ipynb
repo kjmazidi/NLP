{
 "cells": [
  {
   "cell_type": "markdown",
   "metadata": {},
   "source": [
    "### Pickle example\n",
    "\n",
    "A Python pickle is an object that his been serialized into a byte stream. The opposite process of unpickling reads a byte stream and converts it back into an object.\n",
    "\n",
    "Pickling makes it easy to save data structures like dictionaries to file, and read them back in. \n",
    "\n",
    "One warning though, is that pickle files can be hacked, so only open pickles you trust. Refer to [the docs](https://docs.python.org/3/library/pickle.html#module-pickle) for security recommendations."
   ]
  },
  {
   "cell_type": "code",
   "execution_count": 1,
   "metadata": {},
   "outputs": [
    {
     "name": "stdout",
     "output_type": "stream",
     "text": [
      "{'a': 1, 'b': 5, 'c': 4}\n"
     ]
    }
   ],
   "source": [
    "# make a dict\n",
    "\n",
    "dict_sample = {'a':1, 'b':5, 'c':4}\n",
    "print(dict_sample)"
   ]
  },
  {
   "cell_type": "code",
   "execution_count": 2,
   "metadata": {},
   "outputs": [],
   "source": [
    "import pickle\n",
    "\n",
    "# save the pickle file\n",
    "pickle.dump(dict_sample, open('dict.p', 'wb'))  # write binary"
   ]
  },
  {
   "cell_type": "code",
   "execution_count": 3,
   "metadata": {},
   "outputs": [
    {
     "name": "stdout",
     "output_type": "stream",
     "text": [
      "{'a': 1, 'b': 5, 'c': 4}\n"
     ]
    }
   ],
   "source": [
    "# read the pickle file\n",
    "\n",
    "dict_in = pickle.load(open('dict.p', 'rb'))  # read binary\n",
    "print(dict_in)"
   ]
  },
  {
   "cell_type": "code",
   "execution_count": null,
   "metadata": {},
   "outputs": [],
   "source": []
  }
 ],
 "metadata": {
  "kernelspec": {
   "display_name": "Python 3",
   "language": "python",
   "name": "python3"
  },
  "language_info": {
   "codemirror_mode": {
    "name": "ipython",
    "version": 3
   },
   "file_extension": ".py",
   "mimetype": "text/x-python",
   "name": "python",
   "nbconvert_exporter": "python",
   "pygments_lexer": "ipython3",
   "version": "3.8.2"
  }
 },
 "nbformat": 4,
 "nbformat_minor": 4
}
