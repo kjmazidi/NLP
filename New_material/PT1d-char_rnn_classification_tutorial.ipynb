{
  "cells": [
    {
      "cell_type": "code",
      "execution_count": null,
      "metadata": {
        "id": "AMf1hcijsxsa"
      },
      "outputs": [],
      "source": [
        "# For tips on running notebooks in Google Colab, see\n",
        "# https://pytorch.org/tutorials/beginner/colab\n",
        "%matplotlib inline"
      ]
    },
    {
      "cell_type": "markdown",
      "metadata": {
        "id": "g5Y9DyIxsxsc"
      },
      "source": [
        "NLP From Scratch: Classifying Names with a Character-Level RNN\n",
        "==============================================================\n",
        "\n",
        "**Author**: [Sean Robertson](https://github.com/spro)\n",
        "\n",
        "We will be building and training a basic character-level Recurrent\n",
        "Neural Network (RNN) to classify words. This tutorial, along with two\n",
        "other Natural Language Processing (NLP) \\\"from scratch\\\" tutorials\n",
        "`/intermediate/char_rnn_generation_tutorial`{.interpreted-text\n",
        "role=\"doc\"} and\n",
        "`/intermediate/seq2seq_translation_tutorial`{.interpreted-text\n",
        "role=\"doc\"}, show how to preprocess data to model NLP. In particular\n",
        "these tutorials do not use many of the convenience functions of\n",
        "[torchtext]{.title-ref}, so you can see how preprocessing to model NLP\n",
        "works at a low level.\n",
        "\n",
        "A character-level RNN reads words as a series of characters -outputting\n",
        "a prediction and \\\"hidden state\\\" at each step, feeding its previous\n",
        "hidden state into each next step. We take the final prediction to be the\n",
        "output, i.e. which class the word belongs to.\n",
        "\n",
        "Specifically, we\\'ll train on a few thousand surnames from 18 languages\n",
        "of origin, and predict which language a name is from based on the\n",
        "spelling:\n",
        "\n",
        "``` {.sourceCode .sh}\n",
        "$ python predict.py Hinton\n",
        "(-0.47) Scottish\n",
        "(-1.52) English\n",
        "(-3.57) Irish\n",
        "\n",
        "$ python predict.py Schmidhuber\n",
        "(-0.19) German\n",
        "(-2.48) Czech\n",
        "(-2.68) Dutch\n",
        "```\n",
        "\n",
        "Recommended Preparation\n",
        "-----------------------\n",
        "\n",
        "Before starting this tutorial it is recommended that you have installed\n",
        "PyTorch, and have a basic understanding of Python programming language\n",
        "and Tensors:\n",
        "\n",
        "-   <https://pytorch.org/> For installation instructions\n",
        "-   `/beginner/deep_learning_60min_blitz`{.interpreted-text role=\"doc\"}\n",
        "    to get started with PyTorch in general and learn the basics of\n",
        "    Tensors\n",
        "-   `/beginner/pytorch_with_examples`{.interpreted-text role=\"doc\"} for\n",
        "    a wide and deep overview\n",
        "-   `/beginner/former_torchies_tutorial`{.interpreted-text role=\"doc\"}\n",
        "    if you are former Lua Torch user\n",
        "\n",
        "It would also be useful to know about RNNs and how they work:\n",
        "\n",
        "-   [The Unreasonable Effectiveness of Recurrent Neural\n",
        "    Networks](https://karpathy.github.io/2015/05/21/rnn-effectiveness/)\n",
        "    shows a bunch of real life examples\n",
        "-   [Understanding LSTM\n",
        "    Networks](https://colah.github.io/posts/2015-08-Understanding-LSTMs/)\n",
        "    is about LSTMs specifically but also informative about RNNs in\n",
        "    general\n",
        "\n",
        "Preparing the Data\n",
        "------------------\n",
        "\n",
        "<div style=\"background-color: #54c7ec; color: #fff; font-weight: 700; padding-left: 10px; padding-top: 5px; padding-bottom: 5px\"><strong>NOTE:</strong></div>\n",
        "<div style=\"background-color: #f3f4f7; padding-left: 10px; padding-top: 10px; padding-bottom: 10px; padding-right: 10px\">\n",
        "<p>Download the data from<a href=\"https://download.pytorch.org/tutorial/data.zip\">here</a>and extract it to the current directory.</p>\n",
        "</div>\n",
        "\n",
        "Included in the `data/names` directory are 18 text files named as\n",
        "`[Language].txt`. Each file contains a bunch of names, one name per\n",
        "line, mostly romanized (but we still need to convert from Unicode to\n",
        "ASCII).\n",
        "\n",
        "We\\'ll end up with a dictionary of lists of names per language,\n",
        "`{language: [names ...]}`. The generic variables \\\"category\\\" and\n",
        "\\\"line\\\" (for language and name in our case) are used for later\n",
        "extensibility.\n"
      ]
    },
    {
      "cell_type": "code",
      "execution_count": 1,
      "metadata": {
        "id": "JWGu4lr4sxsd"
      },
      "outputs": [
        {
          "name": "stdout",
          "output_type": "stream",
          "text": [
            "['data/names/Czech.txt', 'data/names/German.txt', 'data/names/Arabic.txt', 'data/names/Japanese.txt', 'data/names/Chinese.txt', 'data/names/Vietnamese.txt', 'data/names/Russian.txt', 'data/names/French.txt', 'data/names/Irish.txt', 'data/names/English.txt', 'data/names/Spanish.txt', 'data/names/Greek.txt', 'data/names/Italian.txt', 'data/names/Portuguese.txt', 'data/names/Scottish.txt', 'data/names/Dutch.txt', 'data/names/Korean.txt', 'data/names/Polish.txt']\n",
            "Slusarski\n"
          ]
        }
      ],
      "source": [
        "from io import open\n",
        "import glob\n",
        "import os\n",
        "\n",
        "def findFiles(path): return glob.glob(path)\n",
        "\n",
        "print(findFiles('data/names/*.txt'))\n",
        "\n",
        "import unicodedata\n",
        "import string\n",
        "\n",
        "all_letters = string.ascii_letters + \" .,;'\"\n",
        "n_letters = len(all_letters)\n",
        "\n",
        "# Turn a Unicode string to plain ASCII, thanks to https://stackoverflow.com/a/518232/2809427\n",
        "def unicodeToAscii(s):\n",
        "    return ''.join(\n",
        "        c for c in unicodedata.normalize('NFD', s)\n",
        "        if unicodedata.category(c) != 'Mn'\n",
        "        and c in all_letters\n",
        "    )\n",
        "\n",
        "print(unicodeToAscii('Ślusàrski'))\n",
        "\n",
        "# Build the category_lines dictionary, a list of names per language\n",
        "category_lines = {}\n",
        "all_categories = []\n",
        "\n",
        "# Read a file and split into lines\n",
        "def readLines(filename):\n",
        "    lines = open(filename, encoding='utf-8').read().strip().split('\\n')\n",
        "    return [unicodeToAscii(line) for line in lines]\n",
        "\n",
        "for filename in findFiles('data/names/*.txt'):\n",
        "    category = os.path.splitext(os.path.basename(filename))[0]\n",
        "    all_categories.append(category)\n",
        "    lines = readLines(filename)\n",
        "    category_lines[category] = lines\n",
        "\n",
        "n_categories = len(all_categories)"
      ]
    },
    {
      "cell_type": "markdown",
      "metadata": {
        "id": "cU05Yqkysxsd"
      },
      "source": [
        "Now we have `category_lines`, a dictionary mapping each category\n",
        "(language) to a list of lines (names). We also kept track of\n",
        "`all_categories` (just a list of languages) and `n_categories` for later\n",
        "reference.\n"
      ]
    },
    {
      "cell_type": "code",
      "execution_count": 2,
      "metadata": {
        "id": "_suOAPTusxse"
      },
      "outputs": [
        {
          "name": "stdout",
          "output_type": "stream",
          "text": [
            "['Abandonato', 'Abatangelo', 'Abatantuono', 'Abate', 'Abategiovanni']\n"
          ]
        }
      ],
      "source": [
        "print(category_lines['Italian'][:5])"
      ]
    },
    {
      "cell_type": "markdown",
      "metadata": {
        "id": "p3TumBs7sxse"
      },
      "source": [
        "Turning Names into Tensors\n",
        "==========================\n",
        "\n",
        "Now that we have all the names organized, we need to turn them into\n",
        "Tensors to make any use of them.\n",
        "\n",
        "To represent a single letter, we use a \\\"one-hot vector\\\" of size\n",
        "`<1 x n_letters>`. A one-hot vector is filled with 0s except for a 1 at\n",
        "index of the current letter, e.g. `\"b\" = <0 1 0 0 0 ...>`.\n",
        "\n",
        "To make a word we join a bunch of those into a 2D matrix\n",
        "`<line_length x 1 x n_letters>`.\n",
        "\n",
        "That extra 1 dimension is because PyTorch assumes everything is in\n",
        "batches - we\\'re just using a batch size of 1 here.\n"
      ]
    },
    {
      "cell_type": "code",
      "execution_count": 3,
      "metadata": {
        "id": "JGN51TDGsxse"
      },
      "outputs": [
        {
          "name": "stdout",
          "output_type": "stream",
          "text": [
            "tensor([[0., 0., 0., 0., 0., 0., 0., 0., 0., 0., 0., 0., 0., 0., 0., 0., 0., 0.,\n",
            "         0., 0., 0., 0., 0., 0., 0., 0., 0., 0., 0., 0., 0., 0., 0., 0., 0., 1.,\n",
            "         0., 0., 0., 0., 0., 0., 0., 0., 0., 0., 0., 0., 0., 0., 0., 0., 0., 0.,\n",
            "         0., 0., 0.]])\n",
            "torch.Size([5, 1, 57])\n"
          ]
        }
      ],
      "source": [
        "import torch\n",
        "\n",
        "# Find letter index from all_letters, e.g. \"a\" = 0\n",
        "def letterToIndex(letter):\n",
        "    return all_letters.find(letter)\n",
        "\n",
        "# Just for demonstration, turn a letter into a <1 x n_letters> Tensor\n",
        "def letterToTensor(letter):\n",
        "    tensor = torch.zeros(1, n_letters)\n",
        "    tensor[0][letterToIndex(letter)] = 1\n",
        "    return tensor\n",
        "\n",
        "# Turn a line into a <line_length x 1 x n_letters>,\n",
        "# or an array of one-hot letter vectors\n",
        "def lineToTensor(line):\n",
        "    tensor = torch.zeros(len(line), 1, n_letters)\n",
        "    for li, letter in enumerate(line):\n",
        "        tensor[li][0][letterToIndex(letter)] = 1\n",
        "    return tensor\n",
        "\n",
        "print(letterToTensor('J'))\n",
        "\n",
        "print(lineToTensor('Jones').size())"
      ]
    },
    {
      "cell_type": "markdown",
      "metadata": {
        "id": "wt7Y1yUdsxse"
      },
      "source": [
        "Creating the Network\n",
        "====================\n",
        "\n",
        "Before autograd, creating a recurrent neural network in Torch involved\n",
        "cloning the parameters of a layer over several timesteps. The layers\n",
        "held hidden state and gradients which are now entirely handled by the\n",
        "graph itself. This means you can implement a RNN in a very \\\"pure\\\" way,\n",
        "as regular feed-forward layers.\n",
        "\n",
        "This RNN module (mostly copied from [the PyTorch for Torch users\n",
        "tutorial \\<https://pytorch.org/tutorials/beginner/former\\_torchies/\n",
        "nn\\_tutorial.html\\#example-2-recurrent-net\\>]{.title-ref}\\_\\_) is just 2\n",
        "linear layers which operate on an input and hidden state, with a\n",
        "`LogSoftmax` layer after the output.\n"
      ]
    },
    {
      "cell_type": "code",
      "execution_count": 4,
      "metadata": {
        "id": "E41hr0M1sxse"
      },
      "outputs": [],
      "source": [
        "import torch.nn as nn\n",
        "\n",
        "class RNN(nn.Module):\n",
        "    def __init__(self, input_size, hidden_size, output_size):\n",
        "        super(RNN, self).__init__()\n",
        "\n",
        "        self.hidden_size = hidden_size\n",
        "\n",
        "        self.i2h = nn.Linear(input_size + hidden_size, hidden_size)\n",
        "        self.h2o = nn.Linear(hidden_size, output_size)\n",
        "        self.softmax = nn.LogSoftmax(dim=1)\n",
        "\n",
        "    def forward(self, input, hidden):\n",
        "        combined = torch.cat((input, hidden), 1)\n",
        "        hidden = self.i2h(combined)\n",
        "        output = self.h2o(hidden)\n",
        "        output = self.softmax(output)\n",
        "        return output, hidden\n",
        "\n",
        "    def initHidden(self):\n",
        "        return torch.zeros(1, self.hidden_size)\n",
        "\n",
        "n_hidden = 128\n",
        "rnn = RNN(n_letters, n_hidden, n_categories)"
      ]
    },
    {
      "cell_type": "markdown",
      "metadata": {
        "id": "RhF4NBKdsxsf"
      },
      "source": [
        "To run a step of this network we need to pass an input (in our case, the\n",
        "Tensor for the current letter) and a previous hidden state (which we\n",
        "initialize as zeros at first). We\\'ll get back the output (probability\n",
        "of each language) and a next hidden state (which we keep for the next\n",
        "step).\n"
      ]
    },
    {
      "cell_type": "code",
      "execution_count": 5,
      "metadata": {
        "id": "hWnAFozFsxsf"
      },
      "outputs": [],
      "source": [
        "input = letterToTensor('A')\n",
        "hidden = torch.zeros(1, n_hidden)\n",
        "\n",
        "output, next_hidden = rnn(input, hidden)"
      ]
    },
    {
      "cell_type": "markdown",
      "metadata": {
        "id": "ICPG9169sxsf"
      },
      "source": [
        "For the sake of efficiency we don\\'t want to be creating a new Tensor\n",
        "for every step, so we will use `lineToTensor` instead of\n",
        "`letterToTensor` and use slices. This could be further optimized by\n",
        "precomputing batches of Tensors.\n"
      ]
    },
    {
      "cell_type": "code",
      "execution_count": 6,
      "metadata": {
        "id": "8-34yl4Dsxsf"
      },
      "outputs": [
        {
          "name": "stdout",
          "output_type": "stream",
          "text": [
            "tensor([[-2.9209, -2.9406, -2.8819, -2.9381, -2.9340, -2.8498, -2.9422, -2.7474,\n",
            "         -2.9509, -2.9820, -2.8597, -2.9754, -2.8624, -2.9374, -2.8432, -2.8057,\n",
            "         -2.8703, -2.8204]], grad_fn=<LogSoftmaxBackward0>)\n"
          ]
        }
      ],
      "source": [
        "input = lineToTensor('Albert')\n",
        "hidden = torch.zeros(1, n_hidden)\n",
        "\n",
        "output, next_hidden = rnn(input[0], hidden)\n",
        "print(output)"
      ]
    },
    {
      "cell_type": "markdown",
      "metadata": {
        "id": "Z37aUpF6sxsf"
      },
      "source": [
        "As you can see the output is a `<1 x n_categories>` Tensor, where every\n",
        "item is the likelihood of that category (higher is more likely).\n"
      ]
    },
    {
      "cell_type": "markdown",
      "metadata": {
        "id": "OENhohk7sxsf"
      },
      "source": [
        "Training\n",
        "========\n",
        "\n",
        "Preparing for Training\n",
        "----------------------\n",
        "\n",
        "Before going into training we should make a few helper functions. The\n",
        "first is to interpret the output of the network, which we know to be a\n",
        "likelihood of each category. We can use `Tensor.topk` to get the index\n",
        "of the greatest value:\n"
      ]
    },
    {
      "cell_type": "code",
      "execution_count": 7,
      "metadata": {
        "id": "Oh1oo4HFsxsf"
      },
      "outputs": [
        {
          "name": "stdout",
          "output_type": "stream",
          "text": [
            "('French', 7)\n"
          ]
        }
      ],
      "source": [
        "def categoryFromOutput(output):\n",
        "    top_n, top_i = output.topk(1)\n",
        "    category_i = top_i[0].item()\n",
        "    return all_categories[category_i], category_i\n",
        "\n",
        "print(categoryFromOutput(output))"
      ]
    },
    {
      "cell_type": "markdown",
      "metadata": {
        "id": "WDsUryT1sxsf"
      },
      "source": [
        "We will also want a quick way to get a training example (a name and its\n",
        "language):\n"
      ]
    },
    {
      "cell_type": "code",
      "execution_count": 8,
      "metadata": {
        "id": "TDGnq4YRsxsf"
      },
      "outputs": [
        {
          "name": "stdout",
          "output_type": "stream",
          "text": [
            "category = Czech / line = Toman\n",
            "category = Korean / line = Han\n",
            "category = Irish / line = Whelan\n",
            "category = Russian / line = Shahtin\n",
            "category = Italian / line = Albrici\n",
            "category = German / line = Papke\n",
            "category = Korean / line = Ma\n",
            "category = Arabic / line = Baba\n",
            "category = Japanese / line = Teshigahara\n",
            "category = Italian / line = Abate\n"
          ]
        }
      ],
      "source": [
        "import random\n",
        "\n",
        "def randomChoice(l):\n",
        "    return l[random.randint(0, len(l) - 1)]\n",
        "\n",
        "def randomTrainingExample():\n",
        "    category = randomChoice(all_categories)\n",
        "    line = randomChoice(category_lines[category])\n",
        "    category_tensor = torch.tensor([all_categories.index(category)], dtype=torch.long)\n",
        "    line_tensor = lineToTensor(line)\n",
        "    return category, line, category_tensor, line_tensor\n",
        "\n",
        "for i in range(10):\n",
        "    category, line, category_tensor, line_tensor = randomTrainingExample()\n",
        "    print('category =', category, '/ line =', line)"
      ]
    },
    {
      "cell_type": "markdown",
      "metadata": {
        "id": "va-m799gsxsf"
      },
      "source": [
        "Training the Network\n",
        "====================\n",
        "\n",
        "Now all it takes to train this network is show it a bunch of examples,\n",
        "have it make guesses, and tell it if it\\'s wrong.\n",
        "\n",
        "For the loss function `nn.NLLLoss` is appropriate, since the last layer\n",
        "of the RNN is `nn.LogSoftmax`.\n"
      ]
    },
    {
      "cell_type": "code",
      "execution_count": 9,
      "metadata": {
        "id": "IxhCrPTosxsf"
      },
      "outputs": [],
      "source": [
        "criterion = nn.NLLLoss()"
      ]
    },
    {
      "cell_type": "markdown",
      "metadata": {
        "id": "5mShzay4sxsf"
      },
      "source": [
        "Each loop of training will:\n",
        "\n",
        "-   Create input and target tensors\n",
        "-   Create a zeroed initial hidden state\n",
        "-   Read each letter in and\n",
        "    -   Keep hidden state for next letter\n",
        "-   Compare final output to target\n",
        "-   Back-propagate\n",
        "-   Return the output and loss\n"
      ]
    },
    {
      "cell_type": "code",
      "execution_count": 10,
      "metadata": {
        "id": "xzDTkdu8sxsf"
      },
      "outputs": [],
      "source": [
        "learning_rate = 0.005 # If you set this too high, it might explode. If too low, it might not learn\n",
        "\n",
        "def train(category_tensor, line_tensor):\n",
        "    hidden = rnn.initHidden()\n",
        "\n",
        "    rnn.zero_grad()\n",
        "\n",
        "    for i in range(line_tensor.size()[0]):\n",
        "        output, hidden = rnn(line_tensor[i], hidden)\n",
        "\n",
        "    loss = criterion(output, category_tensor)\n",
        "    loss.backward()\n",
        "\n",
        "    # Add parameters' gradients to their values, multiplied by learning rate\n",
        "    for p in rnn.parameters():\n",
        "        p.data.add_(p.grad.data, alpha=-learning_rate)\n",
        "\n",
        "    return output, loss.item()"
      ]
    },
    {
      "cell_type": "markdown",
      "metadata": {
        "id": "dGMedZytsxsg"
      },
      "source": [
        "Now we just have to run that with a bunch of examples. Since the `train`\n",
        "function returns both the output and loss we can print its guesses and\n",
        "also keep track of loss for plotting. Since there are 1000s of examples\n",
        "we print only every `print_every` examples, and take an average of the\n",
        "loss.\n"
      ]
    },
    {
      "cell_type": "code",
      "execution_count": 11,
      "metadata": {
        "id": "FeDwDB23sxsg"
      },
      "outputs": [
        {
          "name": "stdout",
          "output_type": "stream",
          "text": [
            "5000 5% (0m 1s) 2.1112 Ryoo / Korean ✓\n",
            "10000 10% (0m 3s) 3.0713 Whyte / Vietnamese ✗ (Scottish)\n",
            "15000 15% (0m 4s) 1.5121 Merlo / Portuguese ✗ (Spanish)\n",
            "20000 20% (0m 6s) 0.2054 Niijima / Japanese ✓\n",
            "25000 25% (0m 7s) 4.2260 Blanxart / French ✗ (Spanish)\n",
            "30000 30% (0m 9s) 1.1503 Vuong / Vietnamese ✓\n",
            "35000 35% (0m 10s) 1.6787 Macias / Portuguese ✗ (Spanish)\n",
            "40000 40% (0m 12s) 1.1872 Horn / Dutch ✓\n",
            "45000 45% (0m 13s) 2.0973 Schwartz / German ✗ (Czech)\n",
            "50000 50% (0m 15s) 0.0579 Totolos / Greek ✓\n",
            "55000 55% (0m 16s) 0.9687 Ho / Korean ✓\n",
            "60000 60% (0m 18s) 2.3105 Grec / Czech ✗ (Spanish)\n",
            "65000 65% (0m 19s) 0.2656 Antonopoulos / Greek ✓\n",
            "70000 70% (0m 21s) 0.1914 Yamakazi / Japanese ✓\n",
            "75000 75% (0m 22s) 4.0462 Lu / Vietnamese ✗ (Chinese)\n",
            "80000 80% (0m 24s) 0.4640 Mclean / Scottish ✓\n",
            "85000 85% (0m 25s) 0.0271 Karahalios / Greek ✓\n",
            "90000 90% (0m 27s) 0.3339 Poroshin / Russian ✓\n",
            "95000 95% (0m 28s) 0.9515 Samaha / Japanese ✗ (Arabic)\n",
            "100000 100% (0m 30s) 1.2275 Rocha / Spanish ✗ (Portuguese)\n"
          ]
        }
      ],
      "source": [
        "import time\n",
        "import math\n",
        "\n",
        "n_iters = 100000\n",
        "print_every = 5000\n",
        "plot_every = 1000\n",
        "\n",
        "\n",
        "\n",
        "# Keep track of losses for plotting\n",
        "current_loss = 0\n",
        "all_losses = []\n",
        "\n",
        "def timeSince(since):\n",
        "    now = time.time()\n",
        "    s = now - since\n",
        "    m = math.floor(s / 60)\n",
        "    s -= m * 60\n",
        "    return '%dm %ds' % (m, s)\n",
        "\n",
        "start = time.time()\n",
        "\n",
        "for iter in range(1, n_iters + 1):\n",
        "    category, line, category_tensor, line_tensor = randomTrainingExample()\n",
        "    output, loss = train(category_tensor, line_tensor)\n",
        "    current_loss += loss\n",
        "\n",
        "    # Print ``iter`` number, loss, name and guess\n",
        "    if iter % print_every == 0:\n",
        "        guess, guess_i = categoryFromOutput(output)\n",
        "        correct = '✓' if guess == category else '✗ (%s)' % category\n",
        "        print('%d %d%% (%s) %.4f %s / %s %s' % (iter, iter / n_iters * 100, timeSince(start), loss, line, guess, correct))\n",
        "\n",
        "    # Add current loss avg to list of losses\n",
        "    if iter % plot_every == 0:\n",
        "        all_losses.append(current_loss / plot_every)\n",
        "        current_loss = 0"
      ]
    },
    {
      "cell_type": "markdown",
      "metadata": {
        "id": "umiXi_C3sxsg"
      },
      "source": [
        "Plotting the Results\n",
        "====================\n",
        "\n",
        "Plotting the historical loss from `all_losses` shows the network\n",
        "learning:\n"
      ]
    },
    {
      "cell_type": "code",
      "execution_count": 12,
      "metadata": {
        "id": "YNjruOZDsxsg"
      },
      "outputs": [
        {
          "data": {
            "text/plain": [
              "[<matplotlib.lines.Line2D at 0x1592a0ca0>]"
            ]
          },
          "execution_count": 12,
          "metadata": {},
          "output_type": "execute_result"
        },
        {
          "data": {
            "image/png": "[encoded data removed]",
            "text/plain": [
              "<Figure size 640x480 with 1 Axes>"
            ]
          },
          "metadata": {},
          "output_type": "display_data"
        }
      ],
      "source": [
        "import matplotlib.pyplot as plt\n",
        "import matplotlib.ticker as ticker\n",
        "\n",
        "plt.figure()\n",
        "plt.plot(all_losses)"
      ]
    },
    {
      "cell_type": "markdown",
      "metadata": {
        "id": "qCIzftxlsxsg"
      },
      "source": [
        "Evaluating the Results\n",
        "======================\n",
        "\n",
        "To see how well the network performs on different categories, we will\n",
        "create a confusion matrix, indicating for every actual language (rows)\n",
        "which language the network guesses (columns). To calculate the confusion\n",
        "matrix a bunch of samples are run through the network with `evaluate()`,\n",
        "which is the same as `train()` minus the backprop.\n"
      ]
    },
    {
      "cell_type": "code",
      "execution_count": 13,
      "metadata": {
        "id": "pd8-zeQOsxsg"
      },
      "outputs": [
        {
          "name": "stderr",
          "output_type": "stream",
          "text": [
            "/var/folders/19/k1v69_dx5xbf2c4x6_m9v4c40000gn/T/ipykernel_24002/3585656379.py:33: UserWarning: set_ticklabels() should only be used with a fixed number of ticks, i.e. after set_ticks() or using a FixedLocator.\n",
            "  ax.set_xticklabels([''] + all_categories, rotation=90)\n",
            "/var/folders/19/k1v69_dx5xbf2c4x6_m9v4c40000gn/T/ipykernel_24002/3585656379.py:34: UserWarning: set_ticklabels() should only be used with a fixed number of ticks, i.e. after set_ticks() or using a FixedLocator.\n",
            "  ax.set_yticklabels([''] + all_categories)\n"
          ]
        },
        {
          "data": {
            "image/png": "[encoded data removed]",
            "text/plain": [
              "<Figure size 640x480 with 2 Axes>"
            ]
          },
          "metadata": {},
          "output_type": "display_data"
        }
      ],
      "source": [
        "# Keep track of correct guesses in a confusion matrix\n",
        "confusion = torch.zeros(n_categories, n_categories)\n",
        "n_confusion = 10000\n",
        "\n",
        "# Just return an output given a line\n",
        "def evaluate(line_tensor):\n",
        "    hidden = rnn.initHidden()\n",
        "\n",
        "    for i in range(line_tensor.size()[0]):\n",
        "        output, hidden = rnn(line_tensor[i], hidden)\n",
        "\n",
        "    return output\n",
        "\n",
        "# Go through a bunch of examples and record which are correctly guessed\n",
        "for i in range(n_confusion):\n",
        "    category, line, category_tensor, line_tensor = randomTrainingExample()\n",
        "    output = evaluate(line_tensor)\n",
        "    guess, guess_i = categoryFromOutput(output)\n",
        "    category_i = all_categories.index(category)\n",
        "    confusion[category_i][guess_i] += 1\n",
        "\n",
        "# Normalize by dividing every row by its sum\n",
        "for i in range(n_categories):\n",
        "    confusion[i] = confusion[i] / confusion[i].sum()\n",
        "\n",
        "# Set up plot\n",
        "fig = plt.figure()\n",
        "ax = fig.add_subplot(111)\n",
        "cax = ax.matshow(confusion.numpy())\n",
        "fig.colorbar(cax)\n",
        "\n",
        "# Set up axes\n",
        "ax.set_xticklabels([''] + all_categories, rotation=90)\n",
        "ax.set_yticklabels([''] + all_categories)\n",
        "\n",
        "# Force label at every tick\n",
        "ax.xaxis.set_major_locator(ticker.MultipleLocator(1))\n",
        "ax.yaxis.set_major_locator(ticker.MultipleLocator(1))\n",
        "\n",
        "# sphinx_gallery_thumbnail_number = 2\n",
        "plt.show()"
      ]
    },
    {
      "cell_type": "markdown",
      "metadata": {
        "id": "KZ0XdR_wsxsg"
      },
      "source": [
        "You can pick out bright spots off the main axis that show which\n",
        "languages it guesses incorrectly, e.g. Chinese for Korean, and Spanish\n",
        "for Italian. It seems to do very well with Greek, and very poorly with\n",
        "English (perhaps because of overlap with other languages).\n"
      ]
    },
    {
      "cell_type": "markdown",
      "metadata": {
        "id": "KoqwpnFWsxsg"
      },
      "source": [
        "Running on User Input\n",
        "=====================\n"
      ]
    },
    {
      "cell_type": "code",
      "execution_count": 14,
      "metadata": {
        "id": "crsRQ_Hxsxsg"
      },
      "outputs": [
        {
          "name": "stdout",
          "output_type": "stream",
          "text": [
            "\n",
            "> Dovesky\n",
            "(-0.55) Russian\n",
            "(-1.28) Czech\n",
            "(-2.89) Polish\n",
            "\n",
            "> Jackson\n",
            "(-1.33) French\n",
            "(-1.47) English\n",
            "(-1.79) Dutch\n",
            "\n",
            "> Satoshi\n",
            "(-0.60) Arabic\n",
            "(-2.23) Italian\n",
            "(-2.23) Portuguese\n"
          ]
        }
      ],
      "source": [
        "def predict(input_line, n_predictions=3):\n",
        "    print('\\n> %s' % input_line)\n",
        "    with torch.no_grad():\n",
        "        output = evaluate(lineToTensor(input_line))\n",
        "\n",
        "        # Get top N categories\n",
        "        topv, topi = output.topk(n_predictions, 1, True)\n",
        "        predictions = []\n",
        "\n",
        "        for i in range(n_predictions):\n",
        "            value = topv[0][i].item()\n",
        "            category_index = topi[0][i].item()\n",
        "            print('(%.2f) %s' % (value, all_categories[category_index]))\n",
        "            predictions.append([value, all_categories[category_index]])\n",
        "\n",
        "predict('Dovesky')\n",
        "predict('Jackson')\n",
        "predict('Satoshi')"
      ]
    },
    {
      "cell_type": "markdown",
      "metadata": {
        "id": "y6QmJSW7sxsg"
      },
      "source": [
        "The final versions of the scripts [in the Practical PyTorch\n",
        "repo](https://github.com/spro/practical-pytorch/tree/master/char-rnn-classification)\n",
        "split the above code into a few files:\n",
        "\n",
        "-   `data.py` (loads files)\n",
        "-   `model.py` (defines the RNN)\n",
        "-   `train.py` (runs training)\n",
        "-   `predict.py` (runs `predict()` with command line arguments)\n",
        "-   `server.py` (serve prediction as a JSON API with `bottle.py`)\n",
        "\n",
        "Run `train.py` to train and save the network.\n",
        "\n",
        "Run `predict.py` with a name to view predictions:\n",
        "\n",
        "``` {.sourceCode .sh}\n",
        "$ python predict.py Hazaki\n",
        "(-0.42) Japanese\n",
        "(-1.39) Polish\n",
        "(-3.51) Czech\n",
        "```\n",
        "\n",
        "Run `server.py` and visit <http://localhost:5533/Yourname> to get JSON\n",
        "output of predictions.\n"
      ]
    },
    {
      "cell_type": "markdown",
      "metadata": {
        "id": "vJ6SkK7Jsxsg"
      },
      "source": [
        "Exercises\n",
        "=========\n",
        "\n",
        "-   Try with a different dataset of line -\\> category, for example:\n",
        "    -   Any word -\\> language\n",
        "    -   First name -\\> gender\n",
        "    -   Character name -\\> writer\n",
        "    -   Page title -\\> blog or subreddit\n",
        "-   Get better results with a bigger and/or better shaped network\n",
        "    -   Add more linear layers\n",
        "    -   Try the `nn.LSTM` and `nn.GRU` layers\n",
        "    -   Combine multiple of these RNNs as a higher level network\n"
      ]
    }
  ],
  "metadata": {
    "colab": {
      "provenance": []
    },
    "kernelspec": {
      "display_name": "Python 3",
      "language": "python",
      "name": "python3"
    },
    "language_info": {
      "codemirror_mode": {
        "name": "ipython",
        "version": 3
      },
      "file_extension": ".py",
      "mimetype": "text/x-python",
      "name": "python",
      "nbconvert_exporter": "python",
      "pygments_lexer": "ipython3",
      "version": "3.9.6"
    }
  },
  "nbformat": 4,
  "nbformat_minor": 0
}
