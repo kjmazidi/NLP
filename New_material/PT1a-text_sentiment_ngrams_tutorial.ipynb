{
  "cells": [
    {
      "cell_type": "code",
      "execution_count": 1,
      "metadata": {
        "id": "LV9QFdXsnZ75"
      },
      "outputs": [],
      "source": [
        "# For tips on running notebooks in Google Colab, see\n",
        "# https://pytorch.org/tutorials/beginner/colab\n",
        "%matplotlib inline"
      ]
    },
    {
      "cell_type": "markdown",
      "metadata": {
        "id": "BL358_KQnZ76"
      },
      "source": [
        "Text classification with the torchtext library\n",
        "==============================================\n",
        "\n",
        "In this tutorial, we will show how to use the torchtext library to build\n",
        "the dataset for the text classification analysis. Users will have the\n",
        "flexibility to\n",
        "\n",
        "> -   Access to the raw data as an iterator\n",
        "> -   Build data processing pipeline to convert the raw text strings\n",
        ">     into `torch.Tensor` that can be used to train the model\n",
        "> -   Shuffle and iterate the data with\n",
        ">     [torch.utils.data.DataLoader](https://pytorch.org/docs/stable/data.html?highlight=dataloader#torch.utils.data.DataLoader)\n",
        "\n",
        "Prerequisites\n",
        "-------------\n",
        "\n",
        "A recent 2.x version of the `portalocker` package needs to be installed\n",
        "prior to running the tutorial. For example, in the Colab environment,\n",
        "this can be done by adding the following line at the top of the script:\n",
        "\n",
        "``` {.sourceCode .bash}\n",
        "!pip install -U portalocker>=2.0.0`\n",
        "```\n"
      ]
    },
    {
      "cell_type": "code",
      "execution_count": 2,
      "metadata": {
        "id": "LTiNtMwLne7T"
      },
      "outputs": [
        {
          "name": "stdout",
          "output_type": "stream",
          "text": [
            "zsh:1: 2.0.0 not found\n",
            "Note: you may need to restart the kernel to use updated packages.\n"
          ]
        }
      ],
      "source": [
        "pip install -U portalocker>=2.0.0"
      ]
    },
    {
      "cell_type": "markdown",
      "metadata": {
        "id": "SPzBnJG1nZ77"
      },
      "source": [
        "Access to the raw dataset iterators\n",
        "===================================\n",
        "\n",
        "The torchtext library provides a few raw dataset iterators, which yield\n",
        "the raw text strings. For example, the `AG_NEWS` dataset iterators yield\n",
        "the raw data as a tuple of label and text.\n",
        "\n",
        "To access torchtext datasets, please install torchdata following\n",
        "instructions at <https://github.com/pytorch/data>.\n"
      ]
    },
    {
      "cell_type": "code",
      "execution_count": 3,
      "metadata": {
        "id": "4jjy_cRXnZ77"
      },
      "outputs": [
        {
          "name": "stderr",
          "output_type": "stream",
          "text": [
            "/Users/janicemazidi/Library/Python/3.9/lib/python/site-packages/urllib3/__init__.py:34: NotOpenSSLWarning: urllib3 v2.0 only supports OpenSSL 1.1.1+, currently the 'ssl' module is compiled with 'LibreSSL 2.8.3'. See: https://github.com/urllib3/urllib3/issues/3020\n",
            "  warnings.warn(\n"
          ]
        }
      ],
      "source": [
        "import torch\n",
        "from torchtext.datasets import AG_NEWS\n",
        "\n",
        "train_iter = iter(AG_NEWS(split=\"train\"))"
      ]
    },
    {
      "cell_type": "markdown",
      "metadata": {
        "id": "GDRiofHZnZ77"
      },
      "source": [
        "``` {.sourceCode .sh}\n",
        "next(train_iter)\n",
        ">>> (3, \"Fears for T N pension after talks Unions representing workers at Turner\n",
        "Newall say they are 'disappointed' after talks with stricken parent firm Federal\n",
        "Mogul.\")\n",
        "\n",
        "next(train_iter)\n",
        ">>> (4, \"The Race is On: Second Private Team Sets Launch Date for Human\n",
        "Spaceflight (SPACE.com) SPACE.com - TORONTO, Canada -- A second\\\\team of\n",
        "rocketeers competing for the  #36;10 million Ansari X Prize, a contest\n",
        "for\\\\privately funded suborbital space flight, has officially announced\n",
        "the first\\\\launch date for its manned rocket.\")\n",
        "\n",
        "next(train_iter)\n",
        ">>> (4, 'Ky. Company Wins Grant to Study Peptides (AP) AP - A company founded\n",
        "by a chemistry researcher at the University of Louisville won a grant to develop\n",
        "a method of producing better peptides, which are short chains of amino acids, the\n",
        "building blocks of proteins.')\n",
        "```\n"
      ]
    },
    {
      "cell_type": "markdown",
      "metadata": {
        "id": "R3iTdrv1nZ77"
      },
      "source": [
        "Prepare data processing pipelines\n",
        "=================================\n",
        "\n",
        "We have revisited the very basic components of the torchtext library,\n",
        "including vocab, word vectors, tokenizer. Those are the basic data\n",
        "processing building blocks for raw text string.\n",
        "\n",
        "Here is an example for typical NLP data processing with tokenizer and\n",
        "vocabulary. The first step is to build a vocabulary with the raw\n",
        "training dataset. Here we use built in factory function\n",
        "[build\\_vocab\\_from\\_iterator]{.title-ref} which accepts iterator that\n",
        "yield list or iterator of tokens. Users can also pass any special\n",
        "symbols to be added to the vocabulary.\n"
      ]
    },
    {
      "cell_type": "code",
      "execution_count": 4,
      "metadata": {
        "id": "-BH9aH7cnZ77"
      },
      "outputs": [],
      "source": [
        "from torchtext.data.utils import get_tokenizer\n",
        "from torchtext.vocab import build_vocab_from_iterator\n",
        "\n",
        "tokenizer = get_tokenizer(\"basic_english\")\n",
        "train_iter = AG_NEWS(split=\"train\")\n",
        "\n",
        "\n",
        "def yield_tokens(data_iter):\n",
        "    for _, text in data_iter:\n",
        "        yield tokenizer(text)\n",
        "\n",
        "\n",
        "vocab = build_vocab_from_iterator(yield_tokens(train_iter), specials=[\"<unk>\"])\n",
        "vocab.set_default_index(vocab[\"<unk>\"])"
      ]
    },
    {
      "cell_type": "markdown",
      "metadata": {
        "id": "uDNSuT4qnZ77"
      },
      "source": [
        "The vocabulary block converts a list of tokens into integers.\n",
        "\n",
        "``` {.sourceCode .sh}\n",
        "vocab(['here', 'is', 'an', 'example'])\n",
        ">>> [475, 21, 30, 5297]\n",
        "```\n",
        "\n",
        "Prepare the text processing pipeline with the tokenizer and vocabulary.\n",
        "The text and label pipelines will be used to process the raw data\n",
        "strings from the dataset iterators.\n"
      ]
    },
    {
      "cell_type": "code",
      "execution_count": 5,
      "metadata": {
        "id": "Pn8vCJnTnZ78"
      },
      "outputs": [],
      "source": [
        "text_pipeline = lambda x: vocab(tokenizer(x))\n",
        "label_pipeline = lambda x: int(x) - 1"
      ]
    },
    {
      "cell_type": "markdown",
      "metadata": {
        "id": "VxcDVH3QnZ78"
      },
      "source": [
        "The text pipeline converts a text string into a list of integers based\n",
        "on the lookup table defined in the vocabulary. The label pipeline\n",
        "converts the label into integers. For example,\n",
        "\n",
        "``` {.sourceCode .sh}\n",
        "text_pipeline('here is the an example')\n",
        ">>> [475, 21, 2, 30, 5297]\n",
        "label_pipeline('10')\n",
        ">>> 9\n",
        "```\n"
      ]
    },
    {
      "cell_type": "markdown",
      "metadata": {
        "id": "WPI9SUsBnZ78"
      },
      "source": [
        "Generate data batch and iterator\n",
        "================================\n",
        "\n",
        "[torch.utils.data.DataLoader](https://pytorch.org/docs/stable/data.html?highlight=dataloader#torch.utils.data.DataLoader)\n",
        "is recommended for PyTorch users (a tutorial is\n",
        "[here](https://pytorch.org/tutorials/beginner/data_loading_tutorial.html)).\n",
        "It works with a map-style dataset that implements the `getitem()` and\n",
        "`len()` protocols, and represents a map from indices/keys to data\n",
        "samples. It also works with an iterable dataset with the shuffle\n",
        "argument of `False`.\n",
        "\n",
        "Before sending to the model, `collate_fn` function works on a batch of\n",
        "samples generated from `DataLoader`. The input to `collate_fn` is a\n",
        "batch of data with the batch size in `DataLoader`, and `collate_fn`\n",
        "processes them according to the data processing pipelines declared\n",
        "previously. Pay attention here and make sure that `collate_fn` is\n",
        "declared as a top level def. This ensures that the function is available\n",
        "in each worker.\n",
        "\n",
        "In this example, the text entries in the original data batch input are\n",
        "packed into a list and concatenated as a single tensor for the input of\n",
        "`nn.EmbeddingBag`. The offset is a tensor of delimiters to represent the\n",
        "beginning index of the individual sequence in the text tensor. Label is\n",
        "a tensor saving the labels of individual text entries.\n"
      ]
    },
    {
      "cell_type": "code",
      "execution_count": 6,
      "metadata": {
        "id": "Muk5iKjmnZ78"
      },
      "outputs": [],
      "source": [
        "from torch.utils.data import DataLoader\n",
        "\n",
        "device = torch.device(\"cuda\" if torch.cuda.is_available() else \"cpu\")\n",
        "\n",
        "\n",
        "def collate_batch(batch):\n",
        "    label_list, text_list, offsets = [], [], [0]\n",
        "    for _label, _text in batch:\n",
        "        label_list.append(label_pipeline(_label))\n",
        "        processed_text = torch.tensor(text_pipeline(_text), dtype=torch.int64)\n",
        "        text_list.append(processed_text)\n",
        "        offsets.append(processed_text.size(0))\n",
        "    label_list = torch.tensor(label_list, dtype=torch.int64)\n",
        "    offsets = torch.tensor(offsets[:-1]).cumsum(dim=0)\n",
        "    text_list = torch.cat(text_list)\n",
        "    return label_list.to(device), text_list.to(device), offsets.to(device)\n",
        "\n",
        "\n",
        "train_iter = AG_NEWS(split=\"train\")\n",
        "dataloader = DataLoader(\n",
        "    train_iter, batch_size=8, shuffle=False, collate_fn=collate_batch\n",
        ")"
      ]
    },
    {
      "cell_type": "markdown",
      "metadata": {
        "id": "7FfqRae-nZ78"
      },
      "source": [
        "Define the model\n",
        "================\n",
        "\n",
        "The model is composed of the\n",
        "[nn.EmbeddingBag](https://pytorch.org/docs/stable/nn.html?highlight=embeddingbag#torch.nn.EmbeddingBag)\n",
        "layer plus a linear layer for the classification purpose.\n",
        "`nn.EmbeddingBag` with the default mode of \\\"mean\\\" computes the mean\n",
        "value of a \"bag\" of embeddings. Although the text entries here have\n",
        "different lengths, `nn.EmbeddingBag` module requires no padding here\n",
        "since the text lengths are saved in offsets.\n",
        "\n",
        "Additionally, since `nn.EmbeddingBag` accumulates the average across the\n",
        "embeddings on the fly, `nn.EmbeddingBag` can enhance the performance and\n",
        "memory efficiency to process a sequence of tensors.\n",
        "\n",
        "![image](https://pytorch.org/tutorials/_static/img/text_sentiment_ngrams_model.png)\n"
      ]
    },
    {
      "cell_type": "code",
      "execution_count": 7,
      "metadata": {
        "id": "0iwcHgL_nZ78"
      },
      "outputs": [],
      "source": [
        "from torch import nn\n",
        "\n",
        "\n",
        "class TextClassificationModel(nn.Module):\n",
        "    def __init__(self, vocab_size, embed_dim, num_class):\n",
        "        super(TextClassificationModel, self).__init__()\n",
        "        self.embedding = nn.EmbeddingBag(vocab_size, embed_dim, sparse=False)\n",
        "        self.fc = nn.Linear(embed_dim, num_class)\n",
        "        self.init_weights()\n",
        "\n",
        "    def init_weights(self):\n",
        "        initrange = 0.5\n",
        "        self.embedding.weight.data.uniform_(-initrange, initrange)\n",
        "        self.fc.weight.data.uniform_(-initrange, initrange)\n",
        "        self.fc.bias.data.zero_()\n",
        "\n",
        "    def forward(self, text, offsets):\n",
        "        embedded = self.embedding(text, offsets)\n",
        "        return self.fc(embedded)"
      ]
    },
    {
      "cell_type": "markdown",
      "metadata": {
        "id": "XiyjXGmznZ78"
      },
      "source": [
        "Initiate an instance\n",
        "====================\n",
        "\n",
        "The `AG_NEWS` dataset has four labels and therefore the number of\n",
        "classes is four.\n",
        "\n",
        "``` {.sourceCode .sh}\n",
        "1 : World\n",
        "2 : Sports\n",
        "3 : Business\n",
        "4 : Sci/Tec\n",
        "```\n",
        "\n",
        "We build a model with the embedding dimension of 64. The vocab size is\n",
        "equal to the length of the vocabulary instance. The number of classes is\n",
        "equal to the number of labels,\n"
      ]
    },
    {
      "cell_type": "code",
      "execution_count": 8,
      "metadata": {
        "id": "6w86f-YonZ78"
      },
      "outputs": [],
      "source": [
        "train_iter = AG_NEWS(split=\"train\")\n",
        "num_class = len(set([label for (label, text) in train_iter]))\n",
        "vocab_size = len(vocab)\n",
        "emsize = 64\n",
        "model = TextClassificationModel(vocab_size, emsize, num_class).to(device)"
      ]
    },
    {
      "cell_type": "markdown",
      "metadata": {
        "id": "azeR7LETnZ78"
      },
      "source": [
        "Define functions to train the model and evaluate results.\n",
        "=========================================================\n"
      ]
    },
    {
      "cell_type": "code",
      "execution_count": 9,
      "metadata": {
        "id": "iCNHNV3AnZ78"
      },
      "outputs": [],
      "source": [
        "import time\n",
        "\n",
        "\n",
        "def train(dataloader):\n",
        "    model.train()\n",
        "    total_acc, total_count = 0, 0\n",
        "    log_interval = 500\n",
        "    start_time = time.time()\n",
        "\n",
        "    for idx, (label, text, offsets) in enumerate(dataloader):\n",
        "        optimizer.zero_grad()\n",
        "        predicted_label = model(text, offsets)\n",
        "        loss = criterion(predicted_label, label)\n",
        "        loss.backward()\n",
        "        torch.nn.utils.clip_grad_norm_(model.parameters(), 0.1)\n",
        "        optimizer.step()\n",
        "        total_acc += (predicted_label.argmax(1) == label).sum().item()\n",
        "        total_count += label.size(0)\n",
        "        if idx % log_interval == 0 and idx > 0:\n",
        "            elapsed = time.time() - start_time\n",
        "            print(\n",
        "                \"| epoch {:3d} | {:5d}/{:5d} batches \"\n",
        "                \"| accuracy {:8.3f}\".format(\n",
        "                    epoch, idx, len(dataloader), total_acc / total_count\n",
        "                )\n",
        "            )\n",
        "            total_acc, total_count = 0, 0\n",
        "            start_time = time.time()\n",
        "\n",
        "\n",
        "def evaluate(dataloader):\n",
        "    model.eval()\n",
        "    total_acc, total_count = 0, 0\n",
        "\n",
        "    with torch.no_grad():\n",
        "        for idx, (label, text, offsets) in enumerate(dataloader):\n",
        "            predicted_label = model(text, offsets)\n",
        "            loss = criterion(predicted_label, label)\n",
        "            total_acc += (predicted_label.argmax(1) == label).sum().item()\n",
        "            total_count += label.size(0)\n",
        "    return total_acc / total_count"
      ]
    },
    {
      "cell_type": "markdown",
      "metadata": {
        "id": "l_0Mo6oWnZ78"
      },
      "source": [
        "Split the dataset and run the model\n",
        "===================================\n",
        "\n",
        "Since the original `AG_NEWS` has no valid dataset, we split the training\n",
        "dataset into train/valid sets with a split ratio of 0.95 (train) and\n",
        "0.05 (valid). Here we use\n",
        "[torch.utils.data.dataset.random\\_split](https://pytorch.org/docs/stable/data.html?highlight=random_split#torch.utils.data.random_split)\n",
        "function in PyTorch core library.\n",
        "\n",
        "[CrossEntropyLoss](https://pytorch.org/docs/stable/nn.html?highlight=crossentropyloss#torch.nn.CrossEntropyLoss)\n",
        "criterion combines `nn.LogSoftmax()` and `nn.NLLLoss()` in a single\n",
        "class. It is useful when training a classification problem with C\n",
        "classes.\n",
        "[SGD](https://pytorch.org/docs/stable/_modules/torch/optim/sgd.html)\n",
        "implements stochastic gradient descent method as the optimizer. The\n",
        "initial learning rate is set to 5.0.\n",
        "[StepLR](https://pytorch.org/docs/master/_modules/torch/optim/lr_scheduler.html#StepLR)\n",
        "is used here to adjust the learning rate through epochs.\n"
      ]
    },
    {
      "cell_type": "code",
      "execution_count": 10,
      "metadata": {
        "colab": {
          "base_uri": "https://localhost:8080/"
        },
        "id": "DrbA2weInZ79",
        "outputId": "226703f9-f45f-41a9-bd43-e2d96c739ce4"
      },
      "outputs": [
        {
          "name": "stderr",
          "output_type": "stream",
          "text": [
            "/Users/janicemazidi/Library/Python/3.9/lib/python/site-packages/tqdm/auto.py:21: TqdmWarning: IProgress not found. Please update jupyter and ipywidgets. See https://ipywidgets.readthedocs.io/en/stable/user_install.html\n",
            "  from .autonotebook import tqdm as notebook_tqdm\n"
          ]
        },
        {
          "name": "stdout",
          "output_type": "stream",
          "text": [
            "| epoch   1 |   500/ 1782 batches | accuracy    0.689\n",
            "| epoch   1 |  1000/ 1782 batches | accuracy    0.856\n",
            "| epoch   1 |  1500/ 1782 batches | accuracy    0.880\n",
            "-----------------------------------------------------------\n",
            "| end of epoch   1 | time:  8.02s | valid accuracy    0.855 \n",
            "-----------------------------------------------------------\n",
            "| epoch   2 |   500/ 1782 batches | accuracy    0.899\n",
            "| epoch   2 |  1000/ 1782 batches | accuracy    0.900\n",
            "| epoch   2 |  1500/ 1782 batches | accuracy    0.902\n",
            "-----------------------------------------------------------\n",
            "| end of epoch   2 | time:  7.85s | valid accuracy    0.893 \n",
            "-----------------------------------------------------------\n",
            "| epoch   3 |   500/ 1782 batches | accuracy    0.916\n",
            "| epoch   3 |  1000/ 1782 batches | accuracy    0.914\n",
            "| epoch   3 |  1500/ 1782 batches | accuracy    0.912\n",
            "-----------------------------------------------------------\n",
            "| end of epoch   3 | time:  7.74s | valid accuracy    0.897 \n",
            "-----------------------------------------------------------\n",
            "| epoch   4 |   500/ 1782 batches | accuracy    0.925\n",
            "| epoch   4 |  1000/ 1782 batches | accuracy    0.922\n",
            "| epoch   4 |  1500/ 1782 batches | accuracy    0.925\n",
            "-----------------------------------------------------------\n",
            "| end of epoch   4 | time:  7.78s | valid accuracy    0.903 \n",
            "-----------------------------------------------------------\n",
            "| epoch   5 |   500/ 1782 batches | accuracy    0.931\n",
            "| epoch   5 |  1000/ 1782 batches | accuracy    0.930\n",
            "| epoch   5 |  1500/ 1782 batches | accuracy    0.928\n",
            "-----------------------------------------------------------\n",
            "| end of epoch   5 | time:  7.69s | valid accuracy    0.899 \n",
            "-----------------------------------------------------------\n",
            "| epoch   6 |   500/ 1782 batches | accuracy    0.942\n",
            "| epoch   6 |  1000/ 1782 batches | accuracy    0.942\n",
            "| epoch   6 |  1500/ 1782 batches | accuracy    0.942\n",
            "-----------------------------------------------------------\n",
            "| end of epoch   6 | time:  7.81s | valid accuracy    0.910 \n",
            "-----------------------------------------------------------\n",
            "| epoch   7 |   500/ 1782 batches | accuracy    0.945\n",
            "| epoch   7 |  1000/ 1782 batches | accuracy    0.944\n",
            "| epoch   7 |  1500/ 1782 batches | accuracy    0.945\n",
            "-----------------------------------------------------------\n",
            "| end of epoch   7 | time:  7.71s | valid accuracy    0.910 \n",
            "-----------------------------------------------------------\n",
            "| epoch   8 |   500/ 1782 batches | accuracy    0.944\n",
            "| epoch   8 |  1000/ 1782 batches | accuracy    0.946\n",
            "| epoch   8 |  1500/ 1782 batches | accuracy    0.945\n",
            "-----------------------------------------------------------\n",
            "| end of epoch   8 | time:  7.74s | valid accuracy    0.910 \n",
            "-----------------------------------------------------------\n",
            "| epoch   9 |   500/ 1782 batches | accuracy    0.945\n",
            "| epoch   9 |  1000/ 1782 batches | accuracy    0.948\n",
            "| epoch   9 |  1500/ 1782 batches | accuracy    0.946\n",
            "-----------------------------------------------------------\n",
            "| end of epoch   9 | time:  7.75s | valid accuracy    0.909 \n",
            "-----------------------------------------------------------\n",
            "| epoch  10 |   500/ 1782 batches | accuracy    0.947\n",
            "| epoch  10 |  1000/ 1782 batches | accuracy    0.944\n",
            "| epoch  10 |  1500/ 1782 batches | accuracy    0.948\n",
            "-----------------------------------------------------------\n",
            "| end of epoch  10 | time:  7.69s | valid accuracy    0.910 \n",
            "-----------------------------------------------------------\n"
          ]
        }
      ],
      "source": [
        "from torch.utils.data.dataset import random_split\n",
        "from torchtext.data.functional import to_map_style_dataset\n",
        "\n",
        "# Hyperparameters\n",
        "EPOCHS = 10  # epoch\n",
        "LR = 5  # learning rate\n",
        "BATCH_SIZE = 64  # batch size for training\n",
        "\n",
        "criterion = torch.nn.CrossEntropyLoss()\n",
        "optimizer = torch.optim.SGD(model.parameters(), lr=LR)\n",
        "scheduler = torch.optim.lr_scheduler.StepLR(optimizer, 1.0, gamma=0.1)\n",
        "total_accu = None\n",
        "train_iter, test_iter = AG_NEWS()\n",
        "train_dataset = to_map_style_dataset(train_iter)\n",
        "test_dataset = to_map_style_dataset(test_iter)\n",
        "num_train = int(len(train_dataset) * 0.95)\n",
        "split_train_, split_valid_ = random_split(\n",
        "    train_dataset, [num_train, len(train_dataset) - num_train]\n",
        ")\n",
        "\n",
        "train_dataloader = DataLoader(\n",
        "    split_train_, batch_size=BATCH_SIZE, shuffle=True, collate_fn=collate_batch\n",
        ")\n",
        "valid_dataloader = DataLoader(\n",
        "    split_valid_, batch_size=BATCH_SIZE, shuffle=True, collate_fn=collate_batch\n",
        ")\n",
        "test_dataloader = DataLoader(\n",
        "    test_dataset, batch_size=BATCH_SIZE, shuffle=True, collate_fn=collate_batch\n",
        ")\n",
        "\n",
        "for epoch in range(1, EPOCHS + 1):\n",
        "    epoch_start_time = time.time()\n",
        "    train(train_dataloader)\n",
        "    accu_val = evaluate(valid_dataloader)\n",
        "    if total_accu is not None and total_accu > accu_val:\n",
        "        scheduler.step()\n",
        "    else:\n",
        "        total_accu = accu_val\n",
        "    print(\"-\" * 59)\n",
        "    print(\n",
        "        \"| end of epoch {:3d} | time: {:5.2f}s | \"\n",
        "        \"valid accuracy {:8.3f} \".format(\n",
        "            epoch, time.time() - epoch_start_time, accu_val\n",
        "        )\n",
        "    )\n",
        "    print(\"-\" * 59)"
      ]
    },
    {
      "cell_type": "markdown",
      "metadata": {
        "id": "QeaKA-OYnZ79"
      },
      "source": [
        "Evaluate the model with test dataset\n",
        "====================================\n"
      ]
    },
    {
      "cell_type": "markdown",
      "metadata": {
        "id": "t4C95tFxnZ79"
      },
      "source": [
        "Checking the results of the test dataset...\n"
      ]
    },
    {
      "cell_type": "code",
      "execution_count": 11,
      "metadata": {
        "colab": {
          "base_uri": "https://localhost:8080/"
        },
        "id": "f-c_tC2cnZ79",
        "outputId": "5afd0f08-e8f8-4259-d479-6bf52f55260b"
      },
      "outputs": [
        {
          "name": "stdout",
          "output_type": "stream",
          "text": [
            "Checking the results of test dataset.\n",
            "test accuracy    0.909\n"
          ]
        }
      ],
      "source": [
        "print(\"Checking the results of test dataset.\")\n",
        "accu_test = evaluate(test_dataloader)\n",
        "print(\"test accuracy {:8.3f}\".format(accu_test))"
      ]
    },
    {
      "cell_type": "markdown",
      "metadata": {
        "id": "bXKcNMW3nZ79"
      },
      "source": [
        "Test on a random news\n",
        "=====================\n",
        "\n",
        "Use the best model so far and test a golf news.\n"
      ]
    },
    {
      "cell_type": "code",
      "execution_count": 12,
      "metadata": {
        "colab": {
          "base_uri": "https://localhost:8080/"
        },
        "id": "K3UUr1qDnZ79",
        "outputId": "196fb226-d104-494f-a2bd-4b0001c849c3"
      },
      "outputs": [
        {
          "name": "stdout",
          "output_type": "stream",
          "text": [
            "This is a Sports news\n"
          ]
        }
      ],
      "source": [
        "ag_news_label = {1: \"World\", 2: \"Sports\", 3: \"Business\", 4: \"Sci/Tec\"}\n",
        "\n",
        "\n",
        "def predict(text, text_pipeline):\n",
        "    with torch.no_grad():\n",
        "        text = torch.tensor(text_pipeline(text))\n",
        "        output = model(text, torch.tensor([0]))\n",
        "        return output.argmax(1).item() + 1\n",
        "\n",
        "\n",
        "ex_text_str = \"MEMPHIS, Tenn. – Four days ago, Jon Rahm was \\\n",
        "    enduring the season’s worst weather conditions on Sunday at The \\\n",
        "    Open on his way to a closing 75 at Royal Portrush, which \\\n",
        "    considering the wind and the rain was a respectable showing. \\\n",
        "    Thursday’s first round at the WGC-FedEx St. Jude Invitational \\\n",
        "    was another story. With temperatures in the mid-80s and hardly any \\\n",
        "    wind, the Spaniard was 13 strokes better in a flawless round. \\\n",
        "    Thanks to his best putting performance on the PGA Tour, Rahm \\\n",
        "    finished with an 8-under 62 for a three-stroke lead, which \\\n",
        "    was even more impressive considering he’d never played the \\\n",
        "    front nine at TPC Southwind.\"\n",
        "\n",
        "model = model.to(\"cpu\")\n",
        "\n",
        "print(\"This is a %s news\" % ag_news_label[predict(ex_text_str, text_pipeline)])"
      ]
    }
  ],
  "metadata": {
    "colab": {
      "provenance": []
    },
    "kernelspec": {
      "display_name": "Python 3",
      "language": "python",
      "name": "python3"
    },
    "language_info": {
      "codemirror_mode": {
        "name": "ipython",
        "version": 3
      },
      "file_extension": ".py",
      "mimetype": "text/x-python",
      "name": "python",
      "nbconvert_exporter": "python",
      "pygments_lexer": "ipython3",
      "version": "3.9.6"
    }
  },
  "nbformat": 4,
  "nbformat_minor": 0
}
