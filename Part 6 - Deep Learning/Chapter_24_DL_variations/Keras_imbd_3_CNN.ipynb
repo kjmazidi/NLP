{
 "cells": [
  {
   "cell_type": "markdown",
   "metadata": {},
   "source": [
    "### Movie Reviews\n",
    "\n",
    "This notebook code is modified from Francois Challot's book *Deep Learning with Python*, published by Manning, and available [on Amazon](https://www.amazon.com/Deep-Learning-Python-Francois-Chollet/dp/1617294438/ref=sr_1_fkmr0_1?keywords=deep+learning+python+challot&qid=1573571371&sr=8-1-fkmr0). \n"
   ]
  },
  {
   "cell_type": "code",
   "execution_count": 1,
   "metadata": {},
   "outputs": [
    {
     "name": "stderr",
     "output_type": "stream",
     "text": [
      "Using TensorFlow backend.\n"
     ]
    }
   ],
   "source": [
    "import keras\n",
    "from keras. preprocessing import sequence\n",
    "from keras.datasets import imdb\n",
    "\n",
    "max_features = 10000\n",
    "maxlen = 500\n",
    "batch_size = 32\n",
    "\n",
    "# load the data\n",
    "(train_data, train_labels), (test_data, test_labels) = imdb.load_data(num_words=max_features)\n",
    "\n",
    "# pad the data to maxlen\n",
    "train_data = sequence.pad_sequences(train_data, maxlen=maxlen)\n",
    "test_data = sequence.pad_sequences(test_data, maxlen=maxlen)"
   ]
  },
  {
   "cell_type": "code",
   "execution_count": 3,
   "metadata": {},
   "outputs": [
    {
     "name": "stderr",
     "output_type": "stream",
     "text": [
      "WARNING: Logging before flag parsing goes to stderr.\n",
      "W1115 12:33:13.927834 4590431680 deprecation_wrapper.py:119] From /Library/Frameworks/Python.framework/Versions/3.7/lib/python3.7/site-packages/keras/backend/tensorflow_backend.py:4070: The name tf.nn.max_pool is deprecated. Please use tf.nn.max_pool2d instead.\n",
      "\n"
     ]
    }
   ],
   "source": [
    "# build a Sequential model 1D convnet\n",
    "from keras import models\n",
    "from keras import layers\n",
    "from keras.layers import Flatten, Dense, Embedding, Conv1D\n",
    "\n",
    "\n",
    "model = models.Sequential()\n",
    "model.add(layers.Embedding(max_features, 128, input_length=maxlen)) \n",
    "model.add(layers.Conv1D(32, 7, activation='relu')) \n",
    "model.add(layers.MaxPooling1D(5)) \n",
    "model.add(layers.Conv1D(32, 7, activation='relu')) \n",
    "model.add(layers.GlobalMaxPooling1D())\n",
    "model.add(layers.Dense(1))"
   ]
  },
  {
   "cell_type": "code",
   "execution_count": 5,
   "metadata": {},
   "outputs": [],
   "source": [
    "# compile\n",
    "from keras.optimizers import RMSprop\n",
    "\n",
    "model.compile(optimizer=RMSprop(lr=1e-4),  # set learning rate\n",
    "              loss='binary_crossentropy',\n",
    "              metrics=['accuracy'])"
   ]
  },
  {
   "cell_type": "code",
   "execution_count": 6,
   "metadata": {},
   "outputs": [
    {
     "name": "stderr",
     "output_type": "stream",
     "text": [
      "W1115 12:34:55.985825 4590431680 deprecation.py:323] From /Library/Frameworks/Python.framework/Versions/3.7/lib/python3.7/site-packages/tensorflow/python/ops/math_grad.py:1250: add_dispatch_support.<locals>.wrapper (from tensorflow.python.ops.array_ops) is deprecated and will be removed in a future version.\n",
      "Instructions for updating:\n",
      "Use tf.where in 2.0, which has the same broadcast rule as np.where\n",
      "W1115 12:34:56.231783 4590431680 deprecation_wrapper.py:119] From /Library/Frameworks/Python.framework/Versions/3.7/lib/python3.7/site-packages/keras/backend/tensorflow_backend.py:422: The name tf.global_variables is deprecated. Please use tf.compat.v1.global_variables instead.\n",
      "\n"
     ]
    },
    {
     "name": "stdout",
     "output_type": "stream",
     "text": [
      "Train on 20000 samples, validate on 5000 samples\n",
      "Epoch 1/10\n",
      "20000/20000 [==============================] - 20s 1ms/step - loss: 0.7419 - accuracy: 0.5190 - val_loss: 0.6901 - val_accuracy: 0.5100\n",
      "Epoch 2/10\n",
      "20000/20000 [==============================] - 19s 962us/step - loss: 0.6713 - accuracy: 0.6399 - val_loss: 0.6728 - val_accuracy: 0.6192\n",
      "Epoch 3/10\n",
      "20000/20000 [==============================] - 19s 938us/step - loss: 0.6407 - accuracy: 0.7215 - val_loss: 0.6439 - val_accuracy: 0.6794\n",
      "Epoch 4/10\n",
      "20000/20000 [==============================] - 19s 930us/step - loss: 0.5845 - accuracy: 0.7778 - val_loss: 0.5673 - val_accuracy: 0.7580\n",
      "Epoch 5/10\n",
      "20000/20000 [==============================] - 19s 929us/step - loss: 0.4761 - accuracy: 0.8257 - val_loss: 0.4585 - val_accuracy: 0.8248\n",
      "Epoch 6/10\n",
      "20000/20000 [==============================] - 19s 930us/step - loss: 0.3790 - accuracy: 0.8554 - val_loss: 0.4188 - val_accuracy: 0.8348\n",
      "Epoch 7/10\n",
      "20000/20000 [==============================] - 19s 945us/step - loss: 0.3313 - accuracy: 0.8694 - val_loss: 0.4217 - val_accuracy: 0.8358\n",
      "Epoch 8/10\n",
      "20000/20000 [==============================] - 21s 1ms/step - loss: 0.2927 - accuracy: 0.8673 - val_loss: 0.4116 - val_accuracy: 0.8256\n",
      "Epoch 9/10\n",
      "20000/20000 [==============================] - 19s 975us/step - loss: 0.2641 - accuracy: 0.8475 - val_loss: 0.4299 - val_accuracy: 0.8016\n",
      "Epoch 10/10\n",
      "20000/20000 [==============================] - 18s 902us/step - loss: 0.2358 - accuracy: 0.8252 - val_loss: 0.4805 - val_accuracy: 0.7718\n"
     ]
    }
   ],
   "source": [
    "# train\n",
    "\n",
    "history = model.fit(train_data,\n",
    "                    train_labels,\n",
    "                    epochs=10,\n",
    "                    batch_size=128,\n",
    "                    validation_split=0.2)"
   ]
  },
  {
   "cell_type": "code",
   "execution_count": 8,
   "metadata": {},
   "outputs": [
    {
     "name": "stdout",
     "output_type": "stream",
     "text": [
      "              precision    recall  f1-score   support\n",
      "\n",
      "           0       0.83      0.90      0.86     12500\n",
      "           1       0.89      0.82      0.85     12500\n",
      "\n",
      "    accuracy                           0.86     25000\n",
      "   macro avg       0.86      0.86      0.86     25000\n",
      "weighted avg       0.86      0.86      0.86     25000\n",
      "\n"
     ]
    }
   ],
   "source": [
    "from sklearn.metrics import classification_report\n",
    "\n",
    "pred = model.predict(test_data)\n",
    "pred = [1.0 if p>= 0.5 else 0.0 for p in pred]\n",
    "print(classification_report(test_labels, pred))"
   ]
  },
  {
   "cell_type": "markdown",
   "metadata": {
    "collapsed": true
   },
   "source": []
  }
 ],
 "metadata": {
  "kernelspec": {
   "display_name": "Python 3",
   "language": "python",
   "name": "python3"
  },
  "language_info": {
   "codemirror_mode": {
    "name": "ipython",
    "version": 3
   },
   "file_extension": ".py",
   "mimetype": "text/x-python",
   "name": "python",
   "nbconvert_exporter": "python",
   "pygments_lexer": "ipython3",
   "version": "3.7.3"
  }
 },
 "nbformat": 4,
 "nbformat_minor": 2
}
