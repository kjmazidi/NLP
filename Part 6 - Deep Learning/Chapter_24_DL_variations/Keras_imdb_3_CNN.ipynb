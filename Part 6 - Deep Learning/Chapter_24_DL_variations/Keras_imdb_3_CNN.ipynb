{
  "cells": [
    {
      "cell_type": "markdown",
      "source": [
        "### Movie Reviews\n",
        "\n",
        "This notebook code is modified from Francois Challot's book *Deep Learning with Python*, published by Manning, and available [on Amazon](https://www.amazon.com/Deep-Learning-Python-Francois-Chollet/dp/1617294438/ref=sr_1_fkmr0_1?keywords=deep+learning+python+challot&qid=1573571371&sr=8-1-fkmr0). \n"
      ],
      "metadata": {}
    },
    {
      "cell_type": "code",
      "source": [
        "import tensorflow as tf\n",
        "from tensorflow.keras import datasets, layers, models, preprocessing"
      ],
      "outputs": [],
      "execution_count": 1,
      "metadata": {
        "execution": {
          "iopub.status.busy": "2020-11-02T16:23:53.569Z",
          "iopub.execute_input": "2020-11-02T16:23:53.577Z",
          "iopub.status.idle": "2020-11-02T16:23:59.281Z",
          "shell.execute_reply": "2020-11-02T16:23:59.375Z"
        }
      }
    },
    {
      "cell_type": "code",
      "source": [
        "max_features = 10000\n",
        "maxlen = 500\n",
        "batch_size = 32\n",
        "\n",
        "# load the data\n",
        "(train_data, train_labels), (test_data, test_labels) = datasets.imdb.load_data(num_words=max_features)\n",
        "\n",
        "# pad the data to maxlen\n",
        "train_data = preprocessing.sequence.pad_sequences(train_data, maxlen=maxlen)\n",
        "test_data = preprocessing.sequence.pad_sequences(test_data, maxlen=maxlen)"
      ],
      "outputs": [],
      "execution_count": 3,
      "metadata": {
        "execution": {
          "iopub.status.busy": "2020-11-02T16:24:14.193Z",
          "iopub.execute_input": "2020-11-02T16:24:14.201Z",
          "iopub.status.idle": "2020-11-02T16:24:18.959Z",
          "shell.execute_reply": "2020-11-02T16:24:18.951Z"
        }
      }
    },
    {
      "cell_type": "code",
      "source": [
        "train_data.shape"
      ],
      "outputs": [
        {
          "output_type": "execute_result",
          "execution_count": 17,
          "data": {
            "text/plain": "(25000, 500)"
          },
          "metadata": {}
        }
      ],
      "execution_count": 17,
      "metadata": {}
    },
    {
      "cell_type": "code",
      "source": [
        "# build a Sequemntial model 1D convnet\n",
        "\n",
        "model = models.Sequential()\n",
        "model.add(layers.Embedding(max_features, 128, input_length=maxlen)) \n",
        "model.add(layers.Conv1D(32, 7, activation='relu')) \n",
        "model.add(layers.MaxPooling1D(5)) mod\n",
        "model.add(layers.Conv1D(32, 7, activation='relu')) \n",
        "model.add(layers.GlobalMaxPooling1D())\n",
        "model.add(layers.Dense(1))"
      ],
      "outputs": [],
      "execution_count": 13,
      "metadata": {}
    },
    {
      "cell_type": "code",
      "source": [
        "model.summary()"
      ],
      "outputs": [
        {
          "output_type": "stream",
          "name": "stdout",
          "text": [
            "Model: \"sequential_1\"\n",
            "_________________________________________________________________\n",
            "Layer (type)                 Output Shape              Param #   \n",
            "=================================================================\n",
            "embedding_1 (Embedding)      (None, 500, 128)          1280000   \n",
            "_________________________________________________________________\n",
            "conv1d_2 (Conv1D)            (None, 494, 32)           28704     \n",
            "_________________________________________________________________\n",
            "max_pooling1d_1 (MaxPooling1 (None, 98, 32)            0         \n",
            "_________________________________________________________________\n",
            "conv1d_3 (Conv1D)            (None, 92, 32)            7200      \n",
            "_________________________________________________________________\n",
            "global_max_pooling1d_1 (Glob (None, 32)                0         \n",
            "_________________________________________________________________\n",
            "dense_1 (Dense)              (None, 1)                 33        \n",
            "=================================================================\n",
            "Total params: 1,315,937\n",
            "Trainable params: 1,315,937\n",
            "Non-trainable params: 0\n",
            "_________________________________________________________________\n"
          ]
        }
      ],
      "execution_count": 16,
      "metadata": {}
    },
    {
      "cell_type": "code",
      "source": [
        "# compile\n",
        "\n",
        "model.compile(optimizer=tf.keras.optimizers.RMSprop(lr=1e-4),  # set learning rate\n",
        "              loss='binary_crossentropy',\n",
        "              metrics=['accuracy'])"
      ],
      "outputs": [],
      "execution_count": 8,
      "metadata": {}
    },
    {
      "cell_type": "code",
      "source": [
        "# train\n",
        "\n",
        "history = model.fit(train_data,\n",
        "                    train_labels,\n",
        "                    epochs=10,\n",
        "                    batch_size=128,\n",
        "                    validation_split=0.2)"
      ],
      "outputs": [
        {
          "output_type": "stream",
          "name": "stdout",
          "text": [
            "Epoch 1/10\n",
            "157/157 [==============================] - 21s 132ms/step - loss: 0.9261 - accuracy: 0.5047 - val_loss: 0.6922 - val_accuracy: 0.5228\n",
            "Epoch 2/10\n",
            "157/157 [==============================] - 21s 136ms/step - loss: 0.6771 - accuracy: 0.6121 - val_loss: 0.6746 - val_accuracy: 0.6234\n",
            "Epoch 3/10\n",
            "157/157 [==============================] - 21s 133ms/step - loss: 0.6427 - accuracy: 0.7324 - val_loss: 0.6385 - val_accuracy: 0.7044\n",
            "Epoch 4/10\n",
            "157/157 [==============================] - 21s 133ms/step - loss: 0.5771 - accuracy: 0.7932 - val_loss: 0.5502 - val_accuracy: 0.7702\n",
            "Epoch 5/10\n",
            "157/157 [==============================] - 21s 133ms/step - loss: 0.4583 - accuracy: 0.8317 - val_loss: 0.4377 - val_accuracy: 0.8178\n",
            "Epoch 6/10\n",
            "157/157 [==============================] - 21s 134ms/step - loss: 0.3703 - accuracy: 0.8631 - val_loss: 0.4033 - val_accuracy: 0.8400\n",
            "Epoch 7/10\n",
            "157/157 [==============================] - 21s 137ms/step - loss: 0.3261 - accuracy: 0.8841 - val_loss: 0.4084 - val_accuracy: 0.8532\n",
            "Epoch 8/10\n",
            "157/157 [==============================] - 22s 139ms/step - loss: 0.2896 - accuracy: 0.8987 - val_loss: 0.4121 - val_accuracy: 0.8598\n",
            "Epoch 9/10\n",
            "157/157 [==============================] - 21s 137ms/step - loss: 0.2581 - accuracy: 0.9117 - val_loss: 0.4158 - val_accuracy: 0.8616\n",
            "Epoch 10/10\n",
            "157/157 [==============================] - 21s 137ms/step - loss: 0.2365 - accuracy: 0.9203 - val_loss: 0.4286 - val_accuracy: 0.8662\n"
          ]
        }
      ],
      "execution_count": 9,
      "metadata": {}
    },
    {
      "cell_type": "code",
      "source": [
        "from sklearn.metrics import classification_report\n",
        "\n",
        "pred = model.predict(test_data)\n",
        "pred = [1.0 if p>= 0.5 else 0.0 for p in pred]\n",
        "print(classification_report(test_labels, pred))"
      ],
      "outputs": [
        {
          "output_type": "stream",
          "name": "stdout",
          "text": [
            "              precision    recall  f1-score   support\n",
            "\n",
            "           0       0.87      0.86      0.86     12500\n",
            "           1       0.86      0.87      0.86     12500\n",
            "\n",
            "    accuracy                           0.86     25000\n",
            "   macro avg       0.86      0.86      0.86     25000\n",
            "weighted avg       0.86      0.86      0.86     25000\n",
            "\n"
          ]
        }
      ],
      "execution_count": 10,
      "metadata": {}
    },
    {
      "cell_type": "markdown",
      "source": [
        "Pretty good results."
      ],
      "metadata": {}
    },
    {
      "cell_type": "code",
      "source": [],
      "outputs": [],
      "execution_count": null,
      "metadata": {}
    }
  ],
  "metadata": {
    "kernelspec": {
      "display_name": "Python 3",
      "language": "python",
      "name": "python3"
    },
    "language_info": {
      "name": "python",
      "version": "3.7.3",
      "mimetype": "text/x-python",
      "codemirror_mode": {
        "name": "ipython",
        "version": 3
      },
      "pygments_lexer": "ipython3",
      "nbconvert_exporter": "python",
      "file_extension": ".py"
    },
    "nteract": {
      "version": "0.26.0"
    }
  },
  "nbformat": 4,
  "nbformat_minor": 4
}