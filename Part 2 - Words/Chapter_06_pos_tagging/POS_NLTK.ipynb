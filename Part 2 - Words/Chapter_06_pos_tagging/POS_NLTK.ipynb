{
 "cells": [
  {
   "cell_type": "markdown",
   "metadata": {},
   "source": [
    "# POS tagging in NLTK\n",
    "\n",
    "NLTK has a pos tagger that takes as input a list of tokens and outputs a list of tuples in the form (token, pos).\n"
   ]
  },
  {
   "cell_type": "code",
   "execution_count": 3,
   "metadata": {},
   "outputs": [
    {
     "name": "stdout",
     "output_type": "stream",
     "text": [
      "[('The', 'DT'), ('quick', 'JJ'), ('brown', 'NN'), ('fox', 'NN'), ('jumped', 'VBD'), ('over', 'IN'), ('the', 'DT'), ('lazy', 'JJ'), ('dog', 'NN'), ('.', '.')]\n"
     ]
    }
   ],
   "source": [
    "import nltk\n",
    "sentence = 'The quick brown fox jumped over the lazy dog.'  # add comma quick, brown to see brown=JJ\n",
    "tokens = nltk.word_tokenize(sentence)\n",
    "tags = nltk.pos_tag(tokens)\n",
    "print(tags)"
   ]
  },
  {
   "cell_type": "markdown",
   "metadata": {},
   "source": [
    "Many nouns and verbs have the same form. It can be difficult for pos taggers to distinguish them. The pos tagger missed the main verb of the sentence (5th token)."
   ]
  },
  {
   "cell_type": "code",
   "execution_count": 4,
   "metadata": {},
   "outputs": [
    {
     "name": "stdout",
     "output_type": "stream",
     "text": [
      "[('My', 'PRP$'), ('sense', 'NN'), ('of', 'IN'), ('danger', 'NN'), ('senses', 'NNS'), ('that', 'IN'), ('he', 'PRP'), ('has', 'VBZ'), ('lost', 'VBN'), ('his', 'PRP$'), ('senses', 'NNS'), ('.', '.')]\n"
     ]
    }
   ],
   "source": [
    "sentence = 'My sense of danger senses that he has lost his senses.'\n",
    "tags = nltk.pos_tag(nltk.word_tokenize(sentence))\n",
    "print(tags)"
   ]
  },
  {
   "cell_type": "code",
   "execution_count": 6,
   "metadata": {},
   "outputs": [
    {
     "name": "stdout",
     "output_type": "stream",
     "text": [
      "[('My', 'PRP$'), ('spidey', 'NN'), ('sense', 'NN'), ('senses', 'VBZ'), ('danger', 'NN'), ('.', '.')]\n"
     ]
    }
   ],
   "source": [
    "sentence = 'My spidey sense senses danger.'\n",
    "tags = nltk.pos_tag(nltk.word_tokenize(sentence))\n",
    "print(tags)"
   ]
  },
  {
   "cell_type": "markdown",
   "metadata": {},
   "source": [
    "Try out some ambiguous words."
   ]
  },
  {
   "cell_type": "code",
   "execution_count": 10,
   "metadata": {},
   "outputs": [
    {
     "name": "stdout",
     "output_type": "stream",
     "text": [
      "[('They', 'PRP'), ('wind', 'VBP'), ('back', 'RB'), ('the', 'DT'), ('clock', 'NN'), ('while', 'IN'), ('we', 'PRP'), ('chase', 'VBP'), ('the', 'DT'), ('wind', 'NN'), ('.', '.')]\n"
     ]
    }
   ],
   "source": [
    "text = 'They wind back the clock while we chase the wind.'\n",
    "print(nltk.pos_tag(nltk.word_tokenize(text)))"
   ]
  },
  {
   "cell_type": "markdown",
   "metadata": {},
   "source": [
    "# Practice:\n",
    "\n",
    "* use the following text\n",
    "* perform POS tagging\n",
    "* make a dictionary POS -> count\n",
    "* print the dictionary from highest to lowest count"
   ]
  },
  {
   "cell_type": "code",
   "execution_count": 7,
   "metadata": {},
   "outputs": [
    {
     "data": {
      "text/plain": [
       "'On an exceptionally hot evening early in July a young man came out of the garret in which he lodged in S. Place and walked slowly, as though in hesitation, towards K. bridge. He had successfully avoided meeting his landlady on the staircase. His garret was under the roof of a high, five-storied house and was more like a cupboard than a room. The landlady who provided him with garret, dinners, and attendance, lived on the floor below, and every time he went out he was obliged to pass her kitchen, the door of which invariably stood open. And each time he passed, the young man had a sick, frightened feeling, which made him scowl and feel ashamed. He was hopelessly in debt to his landlady, and was afraid of meeting her.'"
      ]
     },
     "execution_count": 7,
     "metadata": {},
     "output_type": "execute_result"
    }
   ],
   "source": [
    "text = \"\"\"On an exceptionally hot evening early in July a young man came out of the garret in which he lodged in \\\n",
    "S. Place and walked slowly, as though in hesitation, towards K. bridge. \\\n",
    "He had successfully avoided meeting his landlady on the staircase. His \\\n",
    "garret was under the roof of a high, five-storied house and was more \\\n",
    "like a cupboard than a room. The landlady who provided him with garret, \\\n",
    "dinners, and attendance, lived on the floor below, and every time \\\n",
    "he went out he was obliged to pass her kitchen, the door of which \\\n",
    "invariably stood open. And each time he passed, the young man had a \\\n",
    "sick, frightened feeling, which made him scowl and feel ashamed. He was \\\n",
    "hopelessly in debt to his landlady, and was afraid of meeting her.\"\"\"\n",
    "\n",
    "text"
   ]
  },
  {
   "cell_type": "code",
   "execution_count": 8,
   "metadata": {},
   "outputs": [
    {
     "data": {
      "text/plain": [
       "[('On', 'IN'),\n",
       " ('an', 'DT'),\n",
       " ('exceptionally', 'RB'),\n",
       " ('hot', 'JJ'),\n",
       " ('evening', 'VBG'),\n",
       " ('early', 'JJ'),\n",
       " ('in', 'IN'),\n",
       " ('July', 'NNP'),\n",
       " ('a', 'DT'),\n",
       " ('young', 'JJ'),\n",
       " ('man', 'NN'),\n",
       " ('came', 'VBD'),\n",
       " ('out', 'IN'),\n",
       " ('of', 'IN'),\n",
       " ('the', 'DT'),\n",
       " ('garret', 'NN'),\n",
       " ('in', 'IN'),\n",
       " ('which', 'WDT'),\n",
       " ('he', 'PRP'),\n",
       " ('lodged', 'VBD'),\n",
       " ('in', 'IN'),\n",
       " ('S.', 'NNP'),\n",
       " ('Place', 'NNP'),\n",
       " ('and', 'CC'),\n",
       " ('walked', 'VBD'),\n",
       " ('slowly', 'RB'),\n",
       " (',', ','),\n",
       " ('as', 'IN'),\n",
       " ('though', 'IN'),\n",
       " ('in', 'IN'),\n",
       " ('hesitation', 'NN'),\n",
       " (',', ','),\n",
       " ('towards', 'NNS'),\n",
       " ('K.', 'NNP'),\n",
       " ('bridge', 'NN'),\n",
       " ('.', '.'),\n",
       " ('He', 'PRP'),\n",
       " ('had', 'VBD'),\n",
       " ('successfully', 'RB'),\n",
       " ('avoided', 'VBN'),\n",
       " ('meeting', 'VBG'),\n",
       " ('his', 'PRP$'),\n",
       " ('landlady', 'NN'),\n",
       " ('on', 'IN'),\n",
       " ('the', 'DT'),\n",
       " ('staircase', 'NN'),\n",
       " ('.', '.'),\n",
       " ('His', 'PRP$'),\n",
       " ('garret', 'NN'),\n",
       " ('was', 'VBD'),\n",
       " ('under', 'IN'),\n",
       " ('the', 'DT'),\n",
       " ('roof', 'NN'),\n",
       " ('of', 'IN'),\n",
       " ('a', 'DT'),\n",
       " ('high', 'JJ'),\n",
       " (',', ','),\n",
       " ('five-storied', 'JJ'),\n",
       " ('house', 'NN'),\n",
       " ('and', 'CC'),\n",
       " ('was', 'VBD'),\n",
       " ('more', 'RBR'),\n",
       " ('like', 'IN'),\n",
       " ('a', 'DT'),\n",
       " ('cupboard', 'NN'),\n",
       " ('than', 'IN'),\n",
       " ('a', 'DT'),\n",
       " ('room', 'NN'),\n",
       " ('.', '.'),\n",
       " ('The', 'DT'),\n",
       " ('landlady', 'NN'),\n",
       " ('who', 'WP'),\n",
       " ('provided', 'VBD'),\n",
       " ('him', 'PRP'),\n",
       " ('with', 'IN'),\n",
       " ('garret', 'NN'),\n",
       " (',', ','),\n",
       " ('dinners', 'NNS'),\n",
       " (',', ','),\n",
       " ('and', 'CC'),\n",
       " ('attendance', 'NN'),\n",
       " (',', ','),\n",
       " ('lived', 'VBD'),\n",
       " ('on', 'IN'),\n",
       " ('the', 'DT'),\n",
       " ('floor', 'NN'),\n",
       " ('below', 'IN'),\n",
       " (',', ','),\n",
       " ('and', 'CC'),\n",
       " ('every', 'DT'),\n",
       " ('time', 'NN'),\n",
       " ('he', 'PRP'),\n",
       " ('went', 'VBD'),\n",
       " ('out', 'IN'),\n",
       " ('he', 'PRP'),\n",
       " ('was', 'VBD'),\n",
       " ('obliged', 'VBN'),\n",
       " ('to', 'TO'),\n",
       " ('pass', 'VB'),\n",
       " ('her', 'PRP$'),\n",
       " ('kitchen', 'NN'),\n",
       " (',', ','),\n",
       " ('the', 'DT'),\n",
       " ('door', 'NN'),\n",
       " ('of', 'IN'),\n",
       " ('which', 'WDT'),\n",
       " ('invariably', 'RB'),\n",
       " ('stood', 'VBD'),\n",
       " ('open', 'JJ'),\n",
       " ('.', '.'),\n",
       " ('And', 'CC'),\n",
       " ('each', 'DT'),\n",
       " ('time', 'NN'),\n",
       " ('he', 'PRP'),\n",
       " ('passed', 'VBD'),\n",
       " (',', ','),\n",
       " ('the', 'DT'),\n",
       " ('young', 'JJ'),\n",
       " ('man', 'NN'),\n",
       " ('had', 'VBD'),\n",
       " ('a', 'DT'),\n",
       " ('sick', 'JJ'),\n",
       " (',', ','),\n",
       " ('frightened', 'VBD'),\n",
       " ('feeling', 'NN'),\n",
       " (',', ','),\n",
       " ('which', 'WDT'),\n",
       " ('made', 'VBD'),\n",
       " ('him', 'PRP'),\n",
       " ('scowl', 'NN'),\n",
       " ('and', 'CC'),\n",
       " ('feel', 'NN'),\n",
       " ('ashamed', 'RB'),\n",
       " ('.', '.'),\n",
       " ('He', 'PRP'),\n",
       " ('was', 'VBD'),\n",
       " ('hopelessly', 'RB'),\n",
       " ('in', 'IN'),\n",
       " ('debt', 'NN'),\n",
       " ('to', 'TO'),\n",
       " ('his', 'PRP$'),\n",
       " ('landlady', 'NN'),\n",
       " (',', ','),\n",
       " ('and', 'CC'),\n",
       " ('was', 'VBD'),\n",
       " ('afraid', 'VBN'),\n",
       " ('of', 'IN'),\n",
       " ('meeting', 'VBG'),\n",
       " ('her', 'PRP$'),\n",
       " ('.', '.')]"
      ]
     },
     "execution_count": 8,
     "metadata": {},
     "output_type": "execute_result"
    }
   ],
   "source": [
    "tokens = nltk.word_tokenize(text)\n",
    "tags = nltk.pos_tag(tokens)\n",
    "tags"
   ]
  },
  {
   "cell_type": "code",
   "execution_count": 9,
   "metadata": {},
   "outputs": [
    {
     "name": "stdout",
     "output_type": "stream",
     "text": [
      "NN : 25\n",
      "IN : 21\n",
      "VBD : 17\n",
      "DT : 15\n",
      ", : 12\n",
      "JJ : 8\n",
      "PRP : 8\n",
      "CC : 7\n",
      "RB : 6\n",
      ". : 6\n",
      "PRP$ : 5\n",
      "NNP : 4\n",
      "VBG : 3\n",
      "WDT : 3\n",
      "VBN : 3\n",
      "NNS : 2\n",
      "TO : 2\n",
      "RBR : 1\n",
      "WP : 1\n",
      "VB : 1\n"
     ]
    }
   ],
   "source": [
    "pos_dict = {}\n",
    "for token, pos in tags:\n",
    "    if pos not in pos_dict:\n",
    "        pos_dict[pos] = 1\n",
    "    else:\n",
    "        pos_dict[pos] += 1\n",
    "        \n",
    "for pos in sorted(pos_dict, key=pos_dict.get, reverse=True):\n",
    "    print(pos, ':', pos_dict[pos])"
   ]
  },
  {
   "cell_type": "code",
   "execution_count": null,
   "metadata": {
    "collapsed": true,
    "jupyter": {
     "outputs_hidden": true
    }
   },
   "outputs": [],
   "source": []
  }
 ],
 "metadata": {
  "kernelspec": {
   "display_name": "Python 3",
   "language": "python",
   "name": "python3"
  },
  "language_info": {
   "codemirror_mode": {
    "name": "ipython",
    "version": 3
   },
   "file_extension": ".py",
   "mimetype": "text/x-python",
   "name": "python",
   "nbconvert_exporter": "python",
   "pygments_lexer": "ipython3",
   "version": "3.8.2"
  }
 },
 "nbformat": 4,
 "nbformat_minor": 4
}
