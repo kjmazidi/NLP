{
 "cells": [
  {
   "cell_type": "markdown",
   "metadata": {},
   "source": [
    "### Movie Reviews\n",
    "\n",
    "This notebook code is taken from Francois Challot's book *Deep Learning with Python*, published by Manning, and available [on Amazon](https://www.amazon.com/Deep-Learning-Python-Francois-Chollet/dp/1617294438/ref=sr_1_fkmr0_1?keywords=deep+learning+python+challot&qid=1573571371&sr=8-1-fkmr0). You can see the orignal notebook [on the book's GitHub](https://github.com/fchollet/deep-learning-with-python-notebooks/blob/master/3.5-classifying-movie-reviews.ipynb)\n",
    "\n",
    "This notebook uses the IMDB movie data set that is built-in with Keras. The first time you load the data, it will be automatically downloaded to your machine for future use.\n"
   ]
  },
  {
   "cell_type": "code",
   "execution_count": 1,
   "metadata": {},
   "outputs": [
    {
     "name": "stderr",
     "output_type": "stream",
     "text": [
      "Using TensorFlow backend.\n"
     ]
    }
   ],
   "source": [
    "import keras\n",
    "\n",
    "from keras.datasets import imdb\n",
    "\n",
    "(train_data, train_labels), (test_data, test_labels) = imdb.load_data(num_words=10000)"
   ]
  },
  {
   "cell_type": "code",
   "execution_count": 2,
   "metadata": {},
   "outputs": [
    {
     "data": {
      "text/plain": [
       "'2.3.1'"
      ]
     },
     "execution_count": 2,
     "metadata": {},
     "output_type": "execute_result"
    }
   ],
   "source": [
    "# Note: if you get a pickle error in the above code, update keras to at least 2.3 solves the issue\n",
    "\n",
    "keras.__version__"
   ]
  },
  {
   "cell_type": "code",
   "execution_count": 3,
   "metadata": {},
   "outputs": [
    {
     "name": "stdout",
     "output_type": "stream",
     "text": [
      "Size of training and test data: (25000,) (25000,)\n"
     ]
    }
   ],
   "source": [
    "print('Size of training and test data:', train_labels.shape, test_labels.shape)"
   ]
  },
  {
   "cell_type": "code",
   "execution_count": 4,
   "metadata": {},
   "outputs": [],
   "source": [
    "# prepare data\n",
    "\n",
    "import numpy as np\n",
    "\n",
    "def vectorize_sequences(sequences, dimension=10000):\n",
    "    # Create an all-zero matrix of shape (len(sequences), dimension)\n",
    "    results = np.zeros((len(sequences), dimension))\n",
    "    for i, sequence in enumerate(sequences):\n",
    "        results[i, sequence] = 1.  # set specific indices of results[i] to 1s\n",
    "    return results\n",
    "\n",
    "# Our vectorized training data\n",
    "x_train = vectorize_sequences(train_data)\n",
    "# Our vectorized test data\n",
    "x_test = vectorize_sequences(test_data)"
   ]
  },
  {
   "cell_type": "code",
   "execution_count": 5,
   "metadata": {},
   "outputs": [],
   "source": [
    "# Our vectorized labels\n",
    "y_train = np.asarray(train_labels).astype('float32')\n",
    "y_test = np.asarray(test_labels).astype('float32')"
   ]
  },
  {
   "cell_type": "code",
   "execution_count": 6,
   "metadata": {},
   "outputs": [],
   "source": [
    "# build the model\n",
    "from keras import models\n",
    "from keras import layers\n",
    "\n",
    "model = models.Sequential()\n",
    "model.add(layers.Dense(16, activation='relu', input_shape=(10000,)))\n",
    "model.add(layers.Dense(16, activation='relu'))\n",
    "model.add(layers.Dense(1, activation='sigmoid'))"
   ]
  },
  {
   "cell_type": "code",
   "execution_count": 7,
   "metadata": {},
   "outputs": [
    {
     "name": "stderr",
     "output_type": "stream",
     "text": [
      "WARNING: Logging before flag parsing goes to stderr.\n",
      "W1115 09:19:50.580519 4696903104 deprecation.py:323] From /Library/Frameworks/Python.framework/Versions/3.7/lib/python3.7/site-packages/tensorflow/python/ops/nn_impl.py:180: add_dispatch_support.<locals>.wrapper (from tensorflow.python.ops.array_ops) is deprecated and will be removed in a future version.\n",
      "Instructions for updating:\n",
      "Use tf.where in 2.0, which has the same broadcast rule as np.where\n"
     ]
    }
   ],
   "source": [
    "# compile\n",
    "model.compile(optimizer='rmsprop',\n",
    "              loss='binary_crossentropy',\n",
    "              metrics=['accuracy'])"
   ]
  },
  {
   "cell_type": "code",
   "execution_count": 8,
   "metadata": {},
   "outputs": [],
   "source": [
    "# create a validation set\n",
    "x_val = x_train[:10000]\n",
    "partial_x_train = x_train[10000:]\n",
    "\n",
    "y_val = y_train[:10000]\n",
    "partial_y_train = y_train[10000:]"
   ]
  },
  {
   "cell_type": "code",
   "execution_count": 9,
   "metadata": {},
   "outputs": [
    {
     "name": "stderr",
     "output_type": "stream",
     "text": [
      "W1115 09:19:57.558433 4696903104 deprecation_wrapper.py:119] From /Library/Frameworks/Python.framework/Versions/3.7/lib/python3.7/site-packages/keras/backend/tensorflow_backend.py:422: The name tf.global_variables is deprecated. Please use tf.compat.v1.global_variables instead.\n",
      "\n"
     ]
    },
    {
     "name": "stdout",
     "output_type": "stream",
     "text": [
      "Train on 15000 samples, validate on 10000 samples\n",
      "Epoch 1/20\n",
      "15000/15000 [==============================] - 2s 162us/step - loss: 0.5213 - accuracy: 0.7842 - val_loss: 0.3903 - val_accuracy: 0.8721\n",
      "Epoch 2/20\n",
      "15000/15000 [==============================] - 1s 94us/step - loss: 0.3093 - accuracy: 0.9045 - val_loss: 0.3238 - val_accuracy: 0.8704\n",
      "Epoch 3/20\n",
      "15000/15000 [==============================] - 1s 79us/step - loss: 0.2297 - accuracy: 0.9239 - val_loss: 0.2832 - val_accuracy: 0.8900\n",
      "Epoch 4/20\n",
      "15000/15000 [==============================] - 1s 68us/step - loss: 0.1824 - accuracy: 0.9411 - val_loss: 0.2766 - val_accuracy: 0.8893\n",
      "Epoch 5/20\n",
      "15000/15000 [==============================] - 1s 66us/step - loss: 0.1493 - accuracy: 0.9534 - val_loss: 0.2785 - val_accuracy: 0.8875\n",
      "Epoch 6/20\n",
      "15000/15000 [==============================] - 1s 66us/step - loss: 0.1259 - accuracy: 0.9615 - val_loss: 0.2879 - val_accuracy: 0.8856\n",
      "Epoch 7/20\n",
      "15000/15000 [==============================] - 1s 65us/step - loss: 0.1017 - accuracy: 0.9697 - val_loss: 0.3115 - val_accuracy: 0.8827\n",
      "Epoch 8/20\n",
      "15000/15000 [==============================] - 1s 66us/step - loss: 0.0877 - accuracy: 0.9746 - val_loss: 0.3243 - val_accuracy: 0.8824\n",
      "Epoch 9/20\n",
      "15000/15000 [==============================] - 1s 66us/step - loss: 0.0726 - accuracy: 0.9798 - val_loss: 0.3691 - val_accuracy: 0.8722\n",
      "Epoch 10/20\n",
      "15000/15000 [==============================] - 1s 66us/step - loss: 0.0594 - accuracy: 0.9848 - val_loss: 0.3856 - val_accuracy: 0.8782\n",
      "Epoch 11/20\n",
      "15000/15000 [==============================] - 1s 68us/step - loss: 0.0497 - accuracy: 0.9877 - val_loss: 0.4007 - val_accuracy: 0.8735\n",
      "Epoch 12/20\n",
      "15000/15000 [==============================] - 1s 71us/step - loss: 0.0417 - accuracy: 0.9898 - val_loss: 0.4476 - val_accuracy: 0.8668\n",
      "Epoch 13/20\n",
      "15000/15000 [==============================] - 1s 65us/step - loss: 0.0332 - accuracy: 0.9928 - val_loss: 0.4529 - val_accuracy: 0.8723\n",
      "Epoch 14/20\n",
      "15000/15000 [==============================] - 1s 65us/step - loss: 0.0285 - accuracy: 0.9939 - val_loss: 0.4868 - val_accuracy: 0.8744\n",
      "Epoch 15/20\n",
      "15000/15000 [==============================] - 1s 66us/step - loss: 0.0202 - accuracy: 0.9969 - val_loss: 0.5166 - val_accuracy: 0.8708\n",
      "Epoch 16/20\n",
      "15000/15000 [==============================] - 1s 66us/step - loss: 0.0174 - accuracy: 0.9971 - val_loss: 0.5511 - val_accuracy: 0.8697\n",
      "Epoch 17/20\n",
      "15000/15000 [==============================] - 1s 66us/step - loss: 0.0130 - accuracy: 0.9987 - val_loss: 0.5891 - val_accuracy: 0.8684\n",
      "Epoch 18/20\n",
      "15000/15000 [==============================] - 1s 67us/step - loss: 0.0132 - accuracy: 0.9982 - val_loss: 0.6240 - val_accuracy: 0.8650\n",
      "Epoch 19/20\n",
      "15000/15000 [==============================] - 1s 65us/step - loss: 0.0076 - accuracy: 0.9995 - val_loss: 0.6561 - val_accuracy: 0.8667\n",
      "Epoch 20/20\n",
      "15000/15000 [==============================] - 1s 65us/step - loss: 0.0067 - accuracy: 0.9994 - val_loss: 0.7020 - val_accuracy: 0.8634\n"
     ]
    }
   ],
   "source": [
    "# train\n",
    "\n",
    "history = model.fit(partial_x_train,\n",
    "                    partial_y_train,\n",
    "                    epochs=20,\n",
    "                    batch_size=512,\n",
    "                    validation_data=(x_val, y_val))"
   ]
  },
  {
   "cell_type": "code",
   "execution_count": 10,
   "metadata": {},
   "outputs": [
    {
     "name": "stdout",
     "output_type": "stream",
     "text": [
      "              precision    recall  f1-score   support\n",
      "\n",
      "         0.0       0.84      0.87      0.85     12500\n",
      "         1.0       0.86      0.83      0.85     12500\n",
      "\n",
      "    accuracy                           0.85     25000\n",
      "   macro avg       0.85      0.85      0.85     25000\n",
      "weighted avg       0.85      0.85      0.85     25000\n",
      "\n"
     ]
    }
   ],
   "source": [
    "from sklearn.metrics import classification_report\n",
    "\n",
    "pred = model.predict(x_test)\n",
    "pred = [1.0 if p>= 0.5 else 0.0 for p in pred]\n",
    "print(classification_report(y_test, pred))"
   ]
  },
  {
   "cell_type": "code",
   "execution_count": 12,
   "metadata": {},
   "outputs": [
    {
     "data": {
      "image/png": "[encoded data removed]",
      "text/plain": [
       "<Figure size 432x288 with 1 Axes>"
      ]
     },
     "metadata": {
      "needs_background": "light"
     },
     "output_type": "display_data"
    }
   ],
   "source": [
    "# plot the training and validation loss\n",
    "import matplotlib.pyplot as plt\n",
    "\n",
    "loss = history.history['loss']\n",
    "val_loss = history.history['val_loss']\n",
    "epochs = range(1, len(loss)+1)\n",
    "\n",
    "plt.plot(epochs, loss, 'bo', label='Training loss')\n",
    "plt.plot(epochs, val_loss, 'b', label='Validation loss')\n",
    "plt.title('Training and validation loss')\n",
    "plt.xlabel('Epochs')\n",
    "plt.ylabel('Loss')\n",
    "plt.legend()\n",
    "\n",
    "plt.show()"
   ]
  },
  {
   "cell_type": "markdown",
   "metadata": {},
   "source": [
    "The plot above shows that although the training loss decreased with every epoch, the validation set loss started increasing after about 4 epochs. This shows that the model was overtrained."
   ]
  },
  {
   "cell_type": "code",
   "execution_count": 15,
   "metadata": {},
   "outputs": [
    {
     "data": {
      "image/png": "[encoded data removed]",
      "text/plain": [
       "<Figure size 432x288 with 1 Axes>"
      ]
     },
     "metadata": {
      "needs_background": "light"
     },
     "output_type": "display_data"
    }
   ],
   "source": [
    "# plot the training and validation accuracy\n",
    "\n",
    "plt.clf()   # clear\n",
    "\n",
    "acc = history.history['accuracy']\n",
    "val_acc = history.history['val_accuracy']\n",
    "\n",
    "plt.plot(epochs, acc, 'bo', label='Training acc')\n",
    "plt.plot(epochs, val_acc, 'b', label='Validation acc')\n",
    "plt.title('Training and validation accuracy')\n",
    "plt.xlabel('Epochs')\n",
    "plt.ylabel('Accuracy')\n",
    "plt.legend()\n",
    "\n",
    "plt.show()"
   ]
  },
  {
   "cell_type": "markdown",
   "metadata": {},
   "source": [
    "Similarly, the accuracy plot above shows that training accuracy continued to improve over many epochs but validation accuracy decreased after about 4 epochs.\n",
    "\n",
    "Next, the model is build again with only 4 epochs this time to avoid overfitting.\n"
   ]
  },
  {
   "cell_type": "code",
   "execution_count": 16,
   "metadata": {},
   "outputs": [
    {
     "name": "stdout",
     "output_type": "stream",
     "text": [
      "Epoch 1/4\n",
      "25000/25000 [==============================] - 3s 108us/step - loss: 0.4464 - accuracy: 0.8247\n",
      "Epoch 2/4\n",
      "25000/25000 [==============================] - 1s 47us/step - loss: 0.2572 - accuracy: 0.9088\n",
      "Epoch 3/4\n",
      "25000/25000 [==============================] - 1s 44us/step - loss: 0.1992 - accuracy: 0.9291\n",
      "Epoch 4/4\n",
      "25000/25000 [==============================] - 1s 49us/step - loss: 0.1666 - accuracy: 0.9404\n",
      "25000/25000 [==============================] - 2s 87us/step\n"
     ]
    }
   ],
   "source": [
    "# too many epochs can lead to overfitting\n",
    "model = models.Sequential()\n",
    "model.add(layers.Dense(16, activation='relu', input_shape=(10000,)))\n",
    "model.add(layers.Dense(16, activation='relu'))\n",
    "model.add(layers.Dense(1, activation='sigmoid'))\n",
    "\n",
    "model.compile(optimizer='rmsprop',\n",
    "              loss='binary_crossentropy',\n",
    "              metrics=['accuracy'])\n",
    "\n",
    "model.fit(x_train, y_train, epochs=4, batch_size=512)\n",
    "results = model.evaluate(x_test, y_test)"
   ]
  },
  {
   "cell_type": "code",
   "execution_count": 17,
   "metadata": {},
   "outputs": [
    {
     "data": {
      "text/plain": [
       "[0.31700658718585967, 0.8759999871253967]"
      ]
     },
     "execution_count": 17,
     "metadata": {},
     "output_type": "execute_result"
    }
   ],
   "source": [
    "# model.evaluate() results give the loss and metrics (accuracy in this example)\n",
    "results"
   ]
  },
  {
   "cell_type": "code",
   "execution_count": 18,
   "metadata": {},
   "outputs": [
    {
     "name": "stdout",
     "output_type": "stream",
     "text": [
      "              precision    recall  f1-score   support\n",
      "\n",
      "         0.0       0.92      0.82      0.87     12500\n",
      "         1.0       0.84      0.93      0.88     12500\n",
      "\n",
      "    accuracy                           0.88     25000\n",
      "   macro avg       0.88      0.88      0.88     25000\n",
      "weighted avg       0.88      0.88      0.88     25000\n",
      "\n"
     ]
    }
   ],
   "source": [
    "pred = model.predict(x_test)\n",
    "pred = [1.0 if p>= 0.5 else 0.0 for p in pred]\n",
    "print(classification_report(y_test, pred))"
   ]
  },
  {
   "cell_type": "code",
   "execution_count": 19,
   "metadata": {},
   "outputs": [
    {
     "data": {
      "text/plain": [
       "0.5"
      ]
     },
     "execution_count": 19,
     "metadata": {},
     "output_type": "execute_result"
    }
   ],
   "source": [
    "pos = sum(y_test[y_test>0]) / len(y_test)\n",
    "pos"
   ]
  },
  {
   "cell_type": "markdown",
   "metadata": {},
   "source": [
    "The test set is evenly balanced between positive and negative reviews. "
   ]
  }
 ],
 "metadata": {
  "kernelspec": {
   "display_name": "Python 3",
   "language": "python",
   "name": "python3"
  },
  "language_info": {
   "codemirror_mode": {
    "name": "ipython",
    "version": 3
   },
   "file_extension": ".py",
   "mimetype": "text/x-python",
   "name": "python",
   "nbconvert_exporter": "python",
   "pygments_lexer": "ipython3",
   "version": "3.8.2"
  }
 },
 "nbformat": 4,
 "nbformat_minor": 4
}
