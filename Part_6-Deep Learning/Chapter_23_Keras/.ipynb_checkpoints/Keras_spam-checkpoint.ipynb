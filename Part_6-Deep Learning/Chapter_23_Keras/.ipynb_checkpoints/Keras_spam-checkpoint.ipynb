{
 "cells": [
  {
   "cell_type": "markdown",
   "metadata": {},
   "source": [
    "# Keras Example\n",
    "\n",
    "Using an SMS Spam data set (slightly modified) from the [UCI Machine Learning Repository](https://archive.ics.uci.edu/ml/datasets/sms+spam+collection). The data set is a collection of 5574 SMS messages that have been labeled as ham or spam. The file is a tab-delimited file with the first column the label and the second the message content. I edited the data set to remove some unwanted columns and add headings. \n",
    "\n"
   ]
  },
  {
   "cell_type": "code",
   "execution_count": 1,
   "metadata": {},
   "outputs": [],
   "source": [
    "# some necessary packages\n",
    "import tensorflow as tf\n",
    "from tensorflow.keras.preprocessing.text import Tokenizer\n",
    "from tensorflow.keras import layers, models\n",
    "\n",
    "from sklearn.preprocessing import LabelEncoder\n",
    "import pickle\n",
    "import numpy as np\n",
    "import pandas as pd\n",
    "\n",
    "# set seed for reproducibility\n",
    "np.random.seed(1234)"
   ]
  },
  {
   "cell_type": "code",
   "execution_count": 3,
   "metadata": {},
   "outputs": [
    {
     "name": "stdout",
     "output_type": "stream",
     "text": [
      "rows and columns: (4837, 2)\n",
      "   spam                                               text\n",
      "0     0  Go until jurong point, crazy.. Available only ...\n",
      "1     0                      Ok lar... Joking wif u oni...\n",
      "2     1  Free entry in 2 a wkly comp to win FA Cup fina...\n",
      "3     0  U dun say so early hor... U c already then say...\n",
      "4     0  Nah I don't think he goes to usf, he lives aro...\n"
     ]
    }
   ],
   "source": [
    "df = pd.read_csv('../data/sms-spam.csv', header=0, usecols=[1,2], encoding='latin-1')\n",
    "print('rows and columns:', df.shape)\n",
    "print(df.head())"
   ]
  },
  {
   "cell_type": "code",
   "execution_count": 4,
   "metadata": {},
   "outputs": [
    {
     "name": "stdout",
     "output_type": "stream",
     "text": [
      "train data size:  (3856, 2)\n",
      "test data size:  (981, 2)\n"
     ]
    }
   ],
   "source": [
    "# split df into train and test\n",
    "i = np.random.rand(len(df)) < 0.8\n",
    "train = df[i]\n",
    "test = df[~i]\n",
    "print(\"train data size: \", train.shape)\n",
    "print(\"test data size: \", test.shape)"
   ]
  },
  {
   "cell_type": "code",
   "execution_count": 5,
   "metadata": {},
   "outputs": [
    {
     "name": "stdout",
     "output_type": "stream",
     "text": [
      "train shapes: (3856, 25000) (3856,)\n",
      "test shapes: (981, 25000) (981,)\n",
      "test first five labels: [0 1 1 1 0]\n"
     ]
    }
   ],
   "source": [
    "# set up X and Y\n",
    "num_labels = 2\n",
    "vocab_size = 25000\n",
    "batch_size = 100\n",
    "\n",
    "# fit the tokenizer on the training data\n",
    "tokenizer = Tokenizer(num_words=vocab_size)\n",
    "tokenizer.fit_on_texts(train.text)\n",
    "\n",
    "x_train = tokenizer.texts_to_matrix(train.text, mode='tfidf')\n",
    "x_test = tokenizer.texts_to_matrix(test.text, mode='tfidf')\n",
    "\n",
    "encoder = LabelEncoder()\n",
    "encoder.fit(train.spam)\n",
    "y_train = encoder.transform(train.spam)\n",
    "y_test = encoder.transform(test.spam)\n",
    "\n",
    "# check shape\n",
    "print(\"train shapes:\", x_train.shape, y_train.shape)\n",
    "print(\"test shapes:\", x_test.shape, y_test.shape)\n",
    "print(\"test first five labels:\", y_test[:5])\n"
   ]
  },
  {
   "cell_type": "code",
   "execution_count": 6,
   "metadata": {},
   "outputs": [
    {
     "name": "stdout",
     "output_type": "stream",
     "text": [
      "Epoch 1/30\n",
      "35/35 [==============================] - 0s 13ms/step - loss: 0.5386 - accuracy: 0.8611 - val_loss: 0.3866 - val_accuracy: 0.8990\n",
      "Epoch 2/30\n",
      "35/35 [==============================] - 0s 7ms/step - loss: 0.2799 - accuracy: 0.9282 - val_loss: 0.2072 - val_accuracy: 0.9585\n",
      "Epoch 3/30\n",
      "35/35 [==============================] - 0s 7ms/step - loss: 0.1279 - accuracy: 0.9816 - val_loss: 0.1189 - val_accuracy: 0.9819\n",
      "Epoch 4/30\n",
      "35/35 [==============================] - 0s 7ms/step - loss: 0.0603 - accuracy: 0.9945 - val_loss: 0.0886 - val_accuracy: 0.9845\n",
      "Epoch 5/30\n",
      "35/35 [==============================] - 0s 7ms/step - loss: 0.0341 - accuracy: 0.9980 - val_loss: 0.0783 - val_accuracy: 0.9870\n",
      "Epoch 6/30\n",
      "35/35 [==============================] - 0s 7ms/step - loss: 0.0218 - accuracy: 0.9988 - val_loss: 0.0748 - val_accuracy: 0.9870\n",
      "Epoch 7/30\n",
      "35/35 [==============================] - 0s 7ms/step - loss: 0.0152 - accuracy: 0.9997 - val_loss: 0.0734 - val_accuracy: 0.9870\n",
      "Epoch 8/30\n",
      "35/35 [==============================] - 0s 7ms/step - loss: 0.0113 - accuracy: 0.9997 - val_loss: 0.0739 - val_accuracy: 0.9870\n",
      "Epoch 9/30\n",
      "35/35 [==============================] - 0s 7ms/step - loss: 0.0087 - accuracy: 0.9997 - val_loss: 0.0738 - val_accuracy: 0.9870\n",
      "Epoch 10/30\n",
      "35/35 [==============================] - 0s 7ms/step - loss: 0.0070 - accuracy: 0.9997 - val_loss: 0.0733 - val_accuracy: 0.9870\n",
      "Epoch 11/30\n",
      "35/35 [==============================] - 0s 7ms/step - loss: 0.0057 - accuracy: 0.9997 - val_loss: 0.0742 - val_accuracy: 0.9870\n",
      "Epoch 12/30\n",
      "35/35 [==============================] - 0s 7ms/step - loss: 0.0047 - accuracy: 1.0000 - val_loss: 0.0753 - val_accuracy: 0.9870\n",
      "Epoch 13/30\n",
      "35/35 [==============================] - 0s 7ms/step - loss: 0.0039 - accuracy: 1.0000 - val_loss: 0.0763 - val_accuracy: 0.9870\n",
      "Epoch 14/30\n",
      "35/35 [==============================] - 0s 7ms/step - loss: 0.0034 - accuracy: 1.0000 - val_loss: 0.0766 - val_accuracy: 0.9870\n",
      "Epoch 15/30\n",
      "35/35 [==============================] - 0s 7ms/step - loss: 0.0029 - accuracy: 1.0000 - val_loss: 0.0780 - val_accuracy: 0.9870\n",
      "Epoch 16/30\n",
      "35/35 [==============================] - 0s 7ms/step - loss: 0.0026 - accuracy: 1.0000 - val_loss: 0.0792 - val_accuracy: 0.9870\n",
      "Epoch 17/30\n",
      "35/35 [==============================] - 0s 7ms/step - loss: 0.0023 - accuracy: 1.0000 - val_loss: 0.0801 - val_accuracy: 0.9870\n",
      "Epoch 18/30\n",
      "35/35 [==============================] - 0s 7ms/step - loss: 0.0020 - accuracy: 1.0000 - val_loss: 0.0807 - val_accuracy: 0.9870\n",
      "Epoch 19/30\n",
      "35/35 [==============================] - 0s 7ms/step - loss: 0.0018 - accuracy: 1.0000 - val_loss: 0.0816 - val_accuracy: 0.9870\n",
      "Epoch 20/30\n",
      "35/35 [==============================] - 0s 7ms/step - loss: 0.0016 - accuracy: 1.0000 - val_loss: 0.0823 - val_accuracy: 0.9870\n",
      "Epoch 21/30\n",
      "35/35 [==============================] - 0s 7ms/step - loss: 0.0015 - accuracy: 1.0000 - val_loss: 0.0833 - val_accuracy: 0.9870\n",
      "Epoch 22/30\n",
      "35/35 [==============================] - 0s 7ms/step - loss: 0.0013 - accuracy: 1.0000 - val_loss: 0.0841 - val_accuracy: 0.9870\n",
      "Epoch 23/30\n",
      "35/35 [==============================] - 0s 7ms/step - loss: 0.0012 - accuracy: 1.0000 - val_loss: 0.0847 - val_accuracy: 0.9870\n",
      "Epoch 24/30\n",
      "35/35 [==============================] - 0s 7ms/step - loss: 0.0011 - accuracy: 1.0000 - val_loss: 0.0856 - val_accuracy: 0.9870\n",
      "Epoch 25/30\n",
      "35/35 [==============================] - 0s 7ms/step - loss: 0.0010 - accuracy: 1.0000 - val_loss: 0.0862 - val_accuracy: 0.9870\n",
      "Epoch 26/30\n",
      "35/35 [==============================] - 0s 7ms/step - loss: 9.6473e-04 - accuracy: 1.0000 - val_loss: 0.0869 - val_accuracy: 0.9870\n",
      "Epoch 27/30\n",
      "35/35 [==============================] - 0s 7ms/step - loss: 8.9636e-04 - accuracy: 1.0000 - val_loss: 0.0878 - val_accuracy: 0.9870\n",
      "Epoch 28/30\n",
      "35/35 [==============================] - 0s 7ms/step - loss: 8.3137e-04 - accuracy: 1.0000 - val_loss: 0.0882 - val_accuracy: 0.9870\n",
      "Epoch 29/30\n",
      "35/35 [==============================] - 0s 7ms/step - loss: 7.7579e-04 - accuracy: 1.0000 - val_loss: 0.0887 - val_accuracy: 0.9870\n",
      "Epoch 30/30\n",
      "35/35 [==============================] - 0s 7ms/step - loss: 7.2490e-04 - accuracy: 1.0000 - val_loss: 0.0895 - val_accuracy: 0.9870\n"
     ]
    }
   ],
   "source": [
    "# fit model\n",
    "model = models.Sequential()\n",
    "model.add(layers.Dense(32, input_dim=vocab_size, kernel_initializer='normal', activation='relu'))\n",
    "model.add(layers.Dense(1, kernel_initializer='normal', activation='sigmoid'))\n",
    " \n",
    "model.compile(loss='binary_crossentropy',\n",
    "              optimizer='adam',\n",
    "              metrics=['accuracy'])\n",
    " \n",
    "history = model.fit(x_train, y_train,\n",
    "                    batch_size=batch_size,\n",
    "                    epochs=30,\n",
    "                    verbose=1,\n",
    "                    validation_split=0.1)"
   ]
  },
  {
   "cell_type": "code",
   "execution_count": 7,
   "metadata": {},
   "outputs": [
    {
     "name": "stdout",
     "output_type": "stream",
     "text": [
      "10/10 [==============================] - 0s 2ms/step - loss: 0.1465 - accuracy: 0.9837\n",
      "Accuracy:  0.983690083026886\n"
     ]
    }
   ],
   "source": [
    "# evaluate\n",
    "score = model.evaluate(x_test, y_test, batch_size=batch_size, verbose=1)\n",
    "print('Accuracy: ', score[1])"
   ]
  },
  {
   "cell_type": "code",
   "execution_count": 8,
   "metadata": {},
   "outputs": [
    {
     "name": "stdout",
     "output_type": "stream",
     "text": [
      "[0.146459698677063, 0.983690083026886]\n"
     ]
    }
   ],
   "source": [
    "print(score)"
   ]
  },
  {
   "cell_type": "code",
   "execution_count": 17,
   "metadata": {},
   "outputs": [],
   "source": [
    "# get predictions so we can calculate more metrics\n",
    "pred = model.predict(x_test)\n",
    "pred_labels = [1 if p>0.5 else 0 for p in pred]"
   ]
  },
  {
   "cell_type": "code",
   "execution_count": 20,
   "metadata": {},
   "outputs": [
    {
     "data": {
      "text/plain": [
       "array([[7.4512063e-06],\n",
       "       [9.9994099e-01],\n",
       "       [9.9891639e-01],\n",
       "       [9.6532476e-01],\n",
       "       [7.1888767e-06],\n",
       "       [7.0253164e-11],\n",
       "       [4.5390836e-05],\n",
       "       [7.1254373e-04],\n",
       "       [5.8768528e-14],\n",
       "       [8.8277920e-06]], dtype=float32)"
      ]
     },
     "execution_count": 20,
     "metadata": {},
     "output_type": "execute_result"
    }
   ],
   "source": [
    "pred[:10]"
   ]
  },
  {
   "cell_type": "code",
   "execution_count": 18,
   "metadata": {},
   "outputs": [
    {
     "data": {
      "text/plain": [
       "[0, 1, 1, 1, 0, 0, 0, 0, 0, 0]"
      ]
     },
     "execution_count": 18,
     "metadata": {},
     "output_type": "execute_result"
    }
   ],
   "source": [
    "pred_labels[:10]"
   ]
  },
  {
   "cell_type": "code",
   "execution_count": 19,
   "metadata": {},
   "outputs": [
    {
     "name": "stdout",
     "output_type": "stream",
     "text": [
      "accuracy score:  0.9836901121304791\n",
      "precision score:  0.9915966386554622\n",
      "recall score:  0.8872180451127819\n",
      "f1 score:  0.9365079365079365\n"
     ]
    }
   ],
   "source": [
    "from sklearn.metrics import accuracy_score, precision_score, recall_score, f1_score\n",
    "print('accuracy score: ', accuracy_score(y_test, pred_labels))\n",
    "print('precision score: ', precision_score(y_test, pred_labels))\n",
    "print('recall score: ', recall_score(y_test, pred_labels))\n",
    "print('f1 score: ', f1_score(y_test, pred_labels))"
   ]
  },
  {
   "cell_type": "markdown",
   "metadata": {},
   "source": [
    "This was by far the most accurate. Much more work could be done modifying the network topology. "
   ]
  }
 ],
 "metadata": {
  "kernelspec": {
   "display_name": "Python 3",
   "language": "python",
   "name": "python3"
  },
  "language_info": {
   "codemirror_mode": {
    "name": "ipython",
    "version": 3
   },
   "file_extension": ".py",
   "mimetype": "text/x-python",
   "name": "python",
   "nbconvert_exporter": "python",
   "pygments_lexer": "ipython3",
   "version": "3.8.2"
  }
 },
 "nbformat": 4,
 "nbformat_minor": 4
}
