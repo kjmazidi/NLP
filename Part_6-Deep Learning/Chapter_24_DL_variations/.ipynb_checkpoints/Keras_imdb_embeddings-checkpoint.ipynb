{
 "cells": [
  {
   "cell_type": "markdown",
   "metadata": {},
   "source": [
    "### Embeddings\n",
    "\n",
    "This notebook code is taken from Francois Challot's book *Deep Learning with Python*, published by Manning, and available [on Amazon](https://www.amazon.com/Deep-Learning-Python-Francois-Chollet/dp/1617294438/ref=sr_1_fkmr0_1?keywords=deep+learning+python+challot&qid=1573571371&sr=8-1-fkmr0). \n",
    "\n",
    "This notebook uses the IMDB movie data set that is built-in with Keras to demonstrate adding an Embedding layer in a model. The code follows a similar path to the RNN and CNN imbd notebooks, but with the extra embedding.\n"
   ]
  },
  {
   "cell_type": "code",
   "execution_count": 1,
   "metadata": {},
   "outputs": [],
   "source": [
    "import tensorflow as tf\n",
    "from tensorflow.keras import datasets, layers, models, preprocessing"
   ]
  },
  {
   "cell_type": "code",
   "execution_count": 2,
   "metadata": {},
   "outputs": [],
   "source": [
    "max_features = 10000\n",
    "\n",
    "(train_data, train_labels), (test_data, test_labels) = datasets.imdb.load_data(num_words=max_features)"
   ]
  },
  {
   "cell_type": "markdown",
   "metadata": {},
   "source": [
    "The data has been loaded as in the previous Keras idmb notebook. The previous notebook used vectorized one-hot representations of the presence/absence of words in an example. This notebook will show a simple approach to representing the first 20 words of each review in an embedding layer. "
   ]
  },
  {
   "cell_type": "code",
   "execution_count": 3,
   "metadata": {},
   "outputs": [],
   "source": [
    "maxlen = 20\n",
    "\n",
    "train_data = preprocessing.sequence.pad_sequences(train_data, maxlen=maxlen)\n",
    "test_data = preprocessing.sequence.pad_sequences(test_data, maxlen=maxlen)"
   ]
  },
  {
   "cell_type": "code",
   "execution_count": 5,
   "metadata": {},
   "outputs": [
    {
     "name": "stdout",
     "output_type": "stream",
     "text": [
      "Model: \"sequential\"\n",
      "_________________________________________________________________\n",
      "Layer (type)                 Output Shape              Param #   \n",
      "=================================================================\n",
      "embedding (Embedding)        (None, 20, 8)             80000     \n",
      "_________________________________________________________________\n",
      "flatten (Flatten)            (None, 160)               0         \n",
      "_________________________________________________________________\n",
      "dense (Dense)                (None, 1)                 161       \n",
      "=================================================================\n",
      "Total params: 80,161\n",
      "Trainable params: 80,161\n",
      "Non-trainable params: 0\n",
      "_________________________________________________________________\n",
      "Epoch 1/10\n",
      "625/625 [==============================] - 0s 722us/step - loss: 0.6673 - acc: 0.6276 - val_loss: 0.6155 - val_acc: 0.7062\n",
      "Epoch 2/10\n",
      "625/625 [==============================] - 0s 574us/step - loss: 0.5417 - acc: 0.7503 - val_loss: 0.5244 - val_acc: 0.7338\n",
      "Epoch 3/10\n",
      "625/625 [==============================] - 0s 562us/step - loss: 0.4608 - acc: 0.7886 - val_loss: 0.4987 - val_acc: 0.7472\n",
      "Epoch 4/10\n",
      "625/625 [==============================] - 0s 551us/step - loss: 0.4208 - acc: 0.8102 - val_loss: 0.4915 - val_acc: 0.7570\n",
      "Epoch 5/10\n",
      "625/625 [==============================] - 0s 564us/step - loss: 0.3936 - acc: 0.8227 - val_loss: 0.4924 - val_acc: 0.7602\n",
      "Epoch 6/10\n",
      "625/625 [==============================] - 0s 549us/step - loss: 0.3715 - acc: 0.8363 - val_loss: 0.4987 - val_acc: 0.7544\n",
      "Epoch 7/10\n",
      "625/625 [==============================] - 0s 588us/step - loss: 0.3518 - acc: 0.8468 - val_loss: 0.5038 - val_acc: 0.7574\n",
      "Epoch 8/10\n",
      "625/625 [==============================] - 0s 581us/step - loss: 0.3341 - acc: 0.8572 - val_loss: 0.5100 - val_acc: 0.7570\n",
      "Epoch 9/10\n",
      "625/625 [==============================] - 0s 551us/step - loss: 0.3174 - acc: 0.8652 - val_loss: 0.5183 - val_acc: 0.7502\n",
      "Epoch 10/10\n",
      "625/625 [==============================] - 0s 551us/step - loss: 0.3013 - acc: 0.8741 - val_loss: 0.5263 - val_acc: 0.7502\n"
     ]
    }
   ],
   "source": [
    "# set up the Embedding layer in a Sequential model\n",
    "\n",
    "model = models.Sequential()\n",
    "model.add(layers.Embedding(max_features, 8, input_length=maxlen))\n",
    "model.add(layers.Flatten())\n",
    "model.add(layers.Dense(1, activation='sigmoid'))\n",
    "\n",
    "model.compile(optimizer='rmsprop', loss='binary_crossentropy', metrics=['acc'])\n",
    "model.summary()\n",
    "\n",
    "history = model.fit(train_data, train_labels, epochs=10, batch_size=32, validation_split=0.2)\n",
    "\n"
   ]
  },
  {
   "cell_type": "markdown",
   "metadata": {},
   "source": [
    "The validation accuracy reached 75% in this approach. This approach is still a bag of words approach in that each word is considered in isolation. More powerful approaches can capture relationships between words. This can be done with a 1D convolutional layer or recurrent layers. Both of these approaches are demonstrated in other notebooks.\n",
    "\n",
    "### Embeddings\n",
    "\n",
    "The one-hot vectors are sparse binary high-dimensional vectors. A lower-dimensional approach is to learn word embeddings from the data. Word embeddings learn vector representations based on word co-occurrence. Words that tend to occur together probably are related in some way, so their vectors should be similar. \n",
    "\n",
    "\n",
    "Word embeddings can be learned at the same time as training occurs. This was attempted in the example above, with limited results because our data was small and the model not complex enough. \n",
    "\n",
    "Another way to use embeddings is to use pretrained embeddings from other sources. Ideally, the best approach would be to either train embeddings or use pretrained embeddings in the domain of the problem. Fortunately, the pretrained embeddings tend to be general enough for many appplications. Popular pretrained embeddings include Word2vec and GloVe. "
   ]
  },
  {
   "cell_type": "code",
   "execution_count": null,
   "metadata": {},
   "outputs": [],
   "source": []
  }
 ],
 "metadata": {
  "kernelspec": {
   "display_name": "Python 3",
   "language": "python",
   "name": "python3"
  },
  "language_info": {
   "codemirror_mode": {
    "name": "ipython",
    "version": 3
   },
   "file_extension": ".py",
   "mimetype": "text/x-python",
   "name": "python",
   "nbconvert_exporter": "python",
   "pygments_lexer": "ipython3",
   "version": "3.8.2"
  }
 },
 "nbformat": 4,
 "nbformat_minor": 4
}
