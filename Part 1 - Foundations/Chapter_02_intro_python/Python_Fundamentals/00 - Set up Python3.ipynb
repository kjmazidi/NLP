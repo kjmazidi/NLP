{
 "cells": [
  {
   "cell_type": "markdown",
   "metadata": {},
   "source": [
    "## What is a Jupyter notebook?\n",
    "\n",
    "According to [the official site](http://jupyter.org/), Project Jupyter is an open source project that allows you to share code in an interactive platform. JupyterLab is the next evolution from earlier Jupyter notebooks. Jupyter now supports many programming languages besides Python 2 and Python 3. See a list [here](https://github.com/jupyter/jupyter/wiki/Jupyter-kernels).\n",
    "\n",
    "### installing\n",
    "\n",
    "To install Jupyterlab, read the [documentation here](http://jupyterlab.readthedocs.io). The Jupyter docs recommend installing Anaconda; however, if you already have Python installed, just install jupyter with pip/pip3 commands. \n",
    "\n",
    "### running\n",
    "\n",
    "At terminal, in the folder of your choice, type **jupyter lab** and the server will start, and then open your default web browser to the local host URL. When you want to exit, save and close any notebooks you have open, close the browser tab, and hit ctrl-c a couple of times in the terminal window to shut down. \n",
    "\n",
    "When you first run you will see the folder contents. You can click on a notebook to open it or also do other things like rename or delete it. To create a new notebook, use the *File->New* menu.\n",
    "\n",
    "### things to notice\n",
    "\n",
    "* the cells can be of different types: **markdown** for text cells and **code** for code\n",
    "* the toolbar lets you do the usual things like cut, copy, paste, as well as the up/down arrows to move cells, and the play/stop icons to run code or stop it\n",
    "* there is also a menu at the top with self-explanatory labels\n",
    "\n",
    "## markdown\n",
    "\n",
    "The next cell shows the markdown that created the formatting for this paragraph. Markdown is a nice system because you can format while typing without taking your hands off the keyboard. A heading-2 was created by two hash tags at the beginning of the line. Bold text was created by surrounding text with two asterisks. Surrounding text by one asterisk creates *italics*. To learn more about Markdown, click **Help** above, then **Markdown**.\n",
    "\n",
    "\n",
    "\n"
   ]
  },
  {
   "cell_type": "raw",
   "metadata": {},
   "source": [
    "## markdown\n",
    "\n",
    "The next cell shows the markdown that created the formatting for this paragraph. Markdown is a nice system because you can format while typing without taking your hands off the keyboard. A heading-2 was created by two hash tags at the beginning of the line. Bold text was created by surrounding text with two asterisks. Surrounding text by one asterisk creates *italics*. To learn more about Markdown, click **Help** above, then **Markdown**.\n"
   ]
  },
  {
   "cell_type": "markdown",
   "metadata": {},
   "source": [
    "Let's write some simple Python code in the next cell. \n",
    "\n",
    "If you are viewing the notebook instead of the html version, you can hit shift-enter to run the cell."
   ]
  },
  {
   "cell_type": "code",
   "execution_count": 2,
   "metadata": {},
   "outputs": [
    {
     "name": "stdin",
     "output_type": "stream",
     "text": [
      "Hi, tell me your name:  Karen\n"
     ]
    },
    {
     "name": "stdout",
     "output_type": "stream",
     "text": [
      "Hello  Karen\n"
     ]
    }
   ],
   "source": [
    "name = input(\"Hi, tell me your name: \")\n",
    "print(\"Hello \", name)"
   ]
  },
  {
   "cell_type": "markdown",
   "metadata": {},
   "source": [
    "You can add more cells using the + icon above.\n",
    "\n",
    "Jupyter allows you to intersperse your code with explanation which is a great way to share it with others.\n",
    "\n",
    "Jupyter will remember variables from cell to cell, as shown next.\n"
   ]
  },
  {
   "cell_type": "code",
   "execution_count": 3,
   "metadata": {},
   "outputs": [
    {
     "name": "stdout",
     "output_type": "stream",
     "text": [
      "Goodbye  Karen\n"
     ]
    }
   ],
   "source": [
    "print(\"Goodbye \", name)"
   ]
  },
  {
   "cell_type": "code",
   "execution_count": null,
   "metadata": {},
   "outputs": [],
   "source": []
  }
 ],
 "metadata": {
  "kernelspec": {
   "display_name": "Python 3",
   "language": "python",
   "name": "python3"
  },
  "language_info": {
   "codemirror_mode": {
    "name": "ipython",
    "version": 3
   },
   "file_extension": ".py",
   "mimetype": "text/x-python",
   "name": "python",
   "nbconvert_exporter": "python",
   "pygments_lexer": "ipython3",
   "version": "3.8.2"
  }
 },
 "nbformat": 4,
 "nbformat_minor": 4
}
