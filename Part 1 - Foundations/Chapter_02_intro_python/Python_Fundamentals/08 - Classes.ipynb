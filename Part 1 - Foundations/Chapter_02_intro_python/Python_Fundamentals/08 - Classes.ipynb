{
 "cells": [
  {
   "cell_type": "markdown",
   "metadata": {},
   "source": [
    "# Choose a paradigm\n",
    "\n",
    "Python works well with procedural, object oriented, or functional programming paradigms. In this notebook we take a look at Python classes. This is a very brief overview. \n",
    "\n",
    "## Python classes\n",
    "\n",
    "A Python class is simply a logical grouping of data and functions (aka methods).  As in other languages, a class is a blueprint for creating objects. \n",
    "\n",
    "The following code defines a class called Sentence which holds the sentence number, text, tokens, and parts of speech. Each class definition should include an __init__ method whose first argument will always be 'self' and the remaining arguments (if any) are items the class needs to define itself. The 'self' you see in the code below is just a reference to the particular instance of the class currently being processed.\n",
    "\n",
    "The following code also shows a simple display method to demonstrate further use of a class method.\n",
    "\n"
   ]
  },
  {
   "cell_type": "code",
   "execution_count": 1,
   "metadata": {},
   "outputs": [],
   "source": [
    "class Sentence:\n",
    "    def __init__(self, sentence_number, text):\n",
    "        self.sentence_number = sentence_number\n",
    "        self.text = text\n",
    "        self.tokens = self.text.split()\n",
    "        \n",
    "    def display(self):\n",
    "        print('\\nSentence number: ', self.sentence_number)\n",
    "        print('Text: ', self.text)"
   ]
  },
  {
   "cell_type": "markdown",
   "metadata": {},
   "source": [
    "Now that we have defined a class, we can use it in our code. the following code iterates over the raw text in 'input_text'. For each text it creates a sentence object and stores the reference to that object in a list.\n",
    "\n",
    "Later we iterate over the sentence objects in that list just to show how that's done."
   ]
  },
  {
   "cell_type": "code",
   "execution_count": 2,
   "metadata": {},
   "outputs": [
    {
     "name": "stdout",
     "output_type": "stream",
     "text": [
      "\n",
      "Sentence number:  1\n",
      "Text:  Yesterday I went to the movies.\n",
      "\n",
      "Sentence number:  2\n",
      "Text:  Today I am going for a hike.\n"
     ]
    }
   ],
   "source": [
    "input_text = ['Yesterday I went to the movies.', 'Today I am going for a hike.']\n",
    "sentences = []   # a list of sentences\n",
    "sentence_number = 1\n",
    "for text in input_text:\n",
    "    s = Sentence(sentence_number, text)\n",
    "    sentences.append(s)\n",
    "    sentence_number += 1\n",
    "    \n",
    "for s in sentences:\n",
    "    s.display()\n",
    "\n"
   ]
  },
  {
   "cell_type": "markdown",
   "metadata": {},
   "source": [
    "## dunder-ful code\n",
    "\n",
    "We talked about dunders (double underscores) when looking at the starter code for a Python program, but dunders as well a single underscores pop up in other places. \n",
    "\n",
    "We see dunders in the _ _init_ _ method above. The init is a predefined method, sometimes called a *magic method*. These methods let you emulate behaviors in built-in types. For example, many built-in data types have a len() method. The class above does not but we could implement one:\n",
    "\n",
    "```\n",
    "    def __len__(self):\n",
    "        return 42\n",
    "```\n",
    "\n",
    "In addition, Python has some conventions for using underscores:\n",
    "\n",
    "* single leading underscore, ex: _mine; this is used to signal to other programmers working on the program that the variable is intended to be private. Other programmers can choose to honor that, or not. \n",
    "* leading double underscore, ex: _ _mine; this is used for name mangling. The _ _mine will be replaced with _classname_ _mine and so avoid collisions with other _ _mine variables in other classes. "
   ]
  },
  {
   "cell_type": "markdown",
   "metadata": {},
   "source": [
    "### Practice\n",
    "\n",
    "Create a circle class:\n",
    "* the init method accepts parameter 'radius' which should be stored in the object\n",
    "* the init method also sets variable 'area' to 0\n",
    "* create a display method to display the radius and area\n",
    "* create a calc_area method to calculate and store the area\n",
    "\n"
   ]
  },
  {
   "cell_type": "code",
   "execution_count": null,
   "metadata": {},
   "outputs": [],
   "source": []
  }
 ],
 "metadata": {
  "kernelspec": {
   "display_name": "Python 3",
   "language": "python",
   "name": "python3"
  },
  "language_info": {
   "codemirror_mode": {
    "name": "ipython",
    "version": 3
   },
   "file_extension": ".py",
   "mimetype": "text/x-python",
   "name": "python",
   "nbconvert_exporter": "python",
   "pygments_lexer": "ipython3",
   "version": "3.8.2"
  }
 },
 "nbformat": 4,
 "nbformat_minor": 4
}
