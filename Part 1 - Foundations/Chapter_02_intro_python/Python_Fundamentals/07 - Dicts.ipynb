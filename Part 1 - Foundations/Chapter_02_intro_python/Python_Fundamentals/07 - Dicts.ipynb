{
 "cells": [
  {
   "cell_type": "markdown",
   "metadata": {},
   "source": [
    "# Dicts\n",
    "\n",
    "Python dictionaries are key/value hash tables. The following example shows how to manually create a dict, then perform simple dict operations."
   ]
  },
  {
   "cell_type": "code",
   "execution_count": 1,
   "metadata": {},
   "outputs": [
    {
     "name": "stdout",
     "output_type": "stream",
     "text": [
      "pear\n",
      "peach\n",
      "There is no fruit c\n",
      "fruit c =  None\n",
      "{'a': 'apple', 'b': 'banana'}\n"
     ]
    }
   ],
   "source": [
    "fruits = {}   # create an empty dict\n",
    "fruits['a'] = 'apple'\n",
    "fruits['b'] = 'banana'\n",
    "fruits['p'] = 'pear'\n",
    "\n",
    "print(fruits['p'])\n",
    "fruits['p'] = 'peach'  # change 'p' value\n",
    "print(fruits['p'])\n",
    "\n",
    "if 'c' in fruits:      # check for 'c' to avoid key error\n",
    "    print(fruits['c'])\n",
    "else:\n",
    "    print(\"There is no fruit c\")\n",
    "    \n",
    "# use .get() to avoid key error\n",
    "print(\"fruit c = \", fruits.get('c'))\n",
    "\n",
    "del fruits['p']  # delete an entry\n",
    "print(fruits)    # print the dict"
   ]
  },
  {
   "cell_type": "markdown",
   "metadata": {},
   "source": [
    "### create a vocabulary\n",
    "\n",
    "The following example shows how to create a vocabulary dictionary with counts from text."
   ]
  },
  {
   "cell_type": "code",
   "execution_count": 2,
   "metadata": {},
   "outputs": [
    {
     "name": "stdout",
     "output_type": "stream",
     "text": [
      "{'quick': 1, 'be': 2, 'nimble': 1, 'jack': 2}\n"
     ]
    }
   ],
   "source": [
    "text = 'jack be nimble jack be quick'\n",
    "tokens = text.split()\n",
    "vocab = {}\n",
    "for token in tokens:\n",
    "    if token in vocab:\n",
    "        vocab[token] += 1\n",
    "    else:\n",
    "        vocab[token] = 1\n",
    "print(vocab)"
   ]
  },
  {
   "cell_type": "markdown",
   "metadata": {},
   "source": [
    "### dicts and loops\n",
    "\n",
    "A for loop iterates over a dictionary's keys by default. Items are in arbitrary order but can be sorted(). Note that the sorted() function has an optional parameter reverse=True if you want the dict sorted in reverse order.\n",
    "\n",
    "There are several examples below of accessing keys, values, or both."
   ]
  },
  {
   "cell_type": "code",
   "execution_count": 3,
   "metadata": {},
   "outputs": [
    {
     "name": "stdout",
     "output_type": "stream",
     "text": [
      "unsorted dict:\n",
      "quick 1\n",
      "be 2\n",
      "nimble 1\n",
      "jack 2\n",
      "\n",
      "sorted dict:\n",
      "be 2\n",
      "jack 2\n",
      "nimble 1\n",
      "quick 1\n",
      "\n",
      "keys and values\n",
      "dict_keys(['quick', 'be', 'nimble', 'jack'])\n",
      "dict_values([1, 2, 1, 2])\n"
     ]
    }
   ],
   "source": [
    "# iterate over keys\n",
    "print(\"unsorted dict:\")\n",
    "for key in vocab:\n",
    "    print(key, vocab[key])\n",
    "    \n",
    "# iterate over keys, values\n",
    "print(\"\\nsorted dict:\")\n",
    "for k, v in sorted(vocab.items()):\n",
    "    print(k, v)\n",
    "    \n",
    "# print keys, print values\n",
    "print(\"\\nkeys and values\")\n",
    "print(vocab.keys())\n",
    "print(vocab.values())\n",
    "\n"
   ]
  },
  {
   "cell_type": "markdown",
   "metadata": {},
   "source": [
    "### key, value data types\n",
    "\n",
    "The type for keys must be immutable. This means it could be a tuple but not a list, for example.\n",
    "\n",
    "The value can be any kind of type. Next we show lists as values."
   ]
  },
  {
   "cell_type": "code",
   "execution_count": 4,
   "metadata": {},
   "outputs": [
    {
     "name": "stdout",
     "output_type": "stream",
     "text": [
      "{'a': ['abby'], 'b': ['ben', 'bessy'], 'c': ['cathy', 'clay', 'chance']}\n"
     ]
    }
   ],
   "source": [
    "friend_list = ['abby', 'ben', 'bessy', 'cathy', 'clay', 'chance']\n",
    "friends = {}\n",
    "for friend in friend_list:\n",
    "    if friend[0] in friends:\n",
    "        friends[friend[0]].append(friend)\n",
    "    else:\n",
    "        friends[friend[0]] = [friend]\n",
    "        \n",
    "print(friends)"
   ]
  },
  {
   "cell_type": "markdown",
   "metadata": {},
   "source": [
    "### Practice\n",
    "\n",
    "Assume that a dictionary was created as shown in the last code block below.\n",
    "Write a function to replace the value of each dictionary element with the sum of the elements. \n",
    "\n"
   ]
  },
  {
   "cell_type": "code",
   "execution_count": 1,
   "metadata": {},
   "outputs": [
    {
     "data": {
      "text/plain": [
       "{'A': [0, 3, 0, 5, 1], 'B': [4, 9, 2, 5, 2], 'C': [2, 9, 1, 5, 2]}"
      ]
     },
     "execution_count": 1,
     "metadata": {},
     "output_type": "execute_result"
    }
   ],
   "source": [
    "from random import randrange\n",
    "\n",
    "start_dict = {k:[randrange(10) for _ in range(5)] for k in ['A', 'B', 'C']}\n",
    "\n",
    "start_dict"
   ]
  },
  {
   "cell_type": "code",
   "execution_count": 1,
   "metadata": {},
   "outputs": [],
   "source": [
    "# your code here\n",
    "\n"
   ]
  },
  {
   "cell_type": "code",
   "execution_count": 2,
   "metadata": {},
   "outputs": [],
   "source": [
    "# now do the same thing with a dictionary comprehension\n",
    "\n"
   ]
  },
  {
   "cell_type": "markdown",
   "metadata": {},
   "source": [
    "### Sorting a dictionary by value\n",
    "\n",
    "An example above showed how to sort a dictionary by key. Here's how to sort by value."
   ]
  },
  {
   "cell_type": "code",
   "execution_count": 6,
   "metadata": {},
   "outputs": [
    {
     "name": "stdout",
     "output_type": "stream",
     "text": [
      "Dictionary sorted by value:\n",
      "A : 9\n",
      "C : 19\n",
      "B : 22\n"
     ]
    }
   ],
   "source": [
    "print('Dictionary sorted by value:')\n",
    "for k, v in sorted(sum_dict.items(), key=lambda x: x[1]):\n",
    "    print(k, ':', v)\n"
   ]
  },
  {
   "cell_type": "code",
   "execution_count": null,
   "metadata": {},
   "outputs": [],
   "source": []
  }
 ],
 "metadata": {
  "kernelspec": {
   "display_name": "Python 3",
   "language": "python",
   "name": "python3"
  },
  "language_info": {
   "codemirror_mode": {
    "name": "ipython",
    "version": 3
   },
   "file_extension": ".py",
   "mimetype": "text/x-python",
   "name": "python",
   "nbconvert_exporter": "python",
   "pygments_lexer": "ipython3",
   "version": "3.8.2"
  }
 },
 "nbformat": 4,
 "nbformat_minor": 4
}
