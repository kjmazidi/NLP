{
 "cells": [
  {
   "cell_type": "markdown",
   "metadata": {},
   "source": [
    "## Lists\n",
    "\n",
    "Like strings, Python lists are sequence types. A list is an ordered collection of objects. The elements of a list can by any type of object, including other lists.\n",
    "\n",
    "Lists use square brackets [] and are mutable (unlike strings). We can modify a list in place.\n",
    "\n",
    "By the way, make sure you don't overwrite 'list' - even though it is a reserved word, Python will let you do this:  \n",
    "\n",
    "```\n",
    "list = [1,2,3] # just don't\n",
    "```\n",
    "\n",
    "and then method list() is gone (at least during your program execution).\n",
    "\n",
    "### Creating lists \n",
    "\n",
    "Lists can be created by organizing objects in square brackets, or by using the list() constructor. You can also print a list."
   ]
  },
  {
   "cell_type": "code",
   "execution_count": 45,
   "metadata": {},
   "outputs": [
    {
     "name": "stdout",
     "output_type": "stream",
     "text": [
      "listb: [4, 5, 6]\n"
     ]
    }
   ],
   "source": [
    "lista = [1, 2, 3]     # create a list with a literal\n",
    "listb = list(range(4,7))  # create a list with list()\n",
    "print('listb:', listb)"
   ]
  },
  {
   "cell_type": "markdown",
   "metadata": {},
   "source": [
    "### List operators \n",
    "\n",
    "The += operator can be used to add a new element to the end of a list, while the + operator can join two lists."
   ]
  },
  {
   "cell_type": "code",
   "execution_count": 53,
   "metadata": {},
   "outputs": [
    {
     "name": "stdout",
     "output_type": "stream",
     "text": [
      "listab length =  6\n",
      "listab length =  9\n"
     ]
    }
   ],
   "source": [
    "listab = lista + listb\n",
    "print('listab length = ', len(listab))\n",
    "listab += [7]   # add one element\n",
    "listab += [8, 9] # add many elements\n",
    "print('listab length = ', len(listab))"
   ]
  },
  {
   "cell_type": "code",
   "execution_count": 54,
   "metadata": {},
   "outputs": [
    {
     "ename": "TypeError",
     "evalue": "can only concatenate list (not \"int\") to list",
     "output_type": "error",
     "traceback": [
      "\u001b[0;31m---------------------------------------------------------------------------\u001b[0m",
      "\u001b[0;31mTypeError\u001b[0m                                 Traceback (most recent call last)",
      "\u001b[0;32m<ipython-input-54-d5403a47512f>\u001b[0m in \u001b[0;36m<module>\u001b[0;34m\u001b[0m\n\u001b[0;32m----> 1\u001b[0;31m \u001b[0mlistx\u001b[0m \u001b[0;34m=\u001b[0m \u001b[0mlistab\u001b[0m \u001b[0;34m+\u001b[0m \u001b[0;36m5\u001b[0m  \u001b[0;31m# can't do this\u001b[0m\u001b[0;34m\u001b[0m\u001b[0;34m\u001b[0m\u001b[0m\n\u001b[0m",
      "\u001b[0;31mTypeError\u001b[0m: can only concatenate list (not \"int\") to list"
     ]
    }
   ],
   "source": [
    "listx = listab + 5  # can't do this"
   ]
  },
  {
   "cell_type": "markdown",
   "metadata": {},
   "source": [
    "The **for-in** and **in** constructs work well with lists. The **in** construct returns boolean True or False. The **for in** loop is typically favored over counting-for loops or while loops.\n",
    "\n",
    "The **for-in** below iterates through each element in the list. "
   ]
  },
  {
   "cell_type": "code",
   "execution_count": 48,
   "metadata": {
    "scrolled": true
   },
   "outputs": [
    {
     "name": "stdout",
     "output_type": "stream",
     "text": [
      "Hello Jim\n",
      "Hello Hamed\n",
      "Hello Charlotte\n"
     ]
    }
   ],
   "source": [
    "friends = ['Jim', 'Hamed', 'Charlotte']\n",
    "\n",
    "for friend in friends:\n",
    "    print('Hello', friend)"
   ]
  },
  {
   "cell_type": "markdown",
   "metadata": {},
   "source": [
    "By the way, these **for-in** and **in** constructs also work on strings as we discussed in the last notebook, and they work on other container objects as we will show in the next notebook."
   ]
  },
  {
   "cell_type": "code",
   "execution_count": 50,
   "metadata": {},
   "outputs": [
    {
     "name": "stdout",
     "output_type": "stream",
     "text": [
      "e  is in word friend\n",
      "i  is in word friend\n"
     ]
    }
   ],
   "source": [
    "# use for-in with any iterable object\n",
    "for letter in 'aeiou':\n",
    "    if letter in 'friend':\n",
    "        print(letter, ' is in word friend')"
   ]
  },
  {
   "cell_type": "markdown",
   "metadata": {},
   "source": [
    "## List methods\n",
    "\n",
    "There are many built-in container methods that work on lists. \n",
    "\n",
    "### index()\n",
    "\n",
    "The index() method to find the list index."
   ]
  },
  {
   "cell_type": "code",
   "execution_count": 12,
   "metadata": {},
   "outputs": [
    {
     "name": "stdout",
     "output_type": "stream",
     "text": [
      "Charlotte  is my friend.\n"
     ]
    }
   ],
   "source": [
    "if 'Charlotte' in friends:\n",
    "    print(friends[friends.index('Charlotte')], ' is my friend.')"
   ]
  },
  {
   "cell_type": "markdown",
   "metadata": {},
   "source": [
    "### len()\n",
    "\n",
    "The len() function works on lists just as it did for strings."
   ]
  },
  {
   "cell_type": "code",
   "execution_count": 20,
   "metadata": {},
   "outputs": [
    {
     "data": {
      "text/plain": [
       "3"
      ]
     },
     "execution_count": 20,
     "metadata": {},
     "output_type": "execute_result"
    }
   ],
   "source": [
    "len(friends)"
   ]
  },
  {
   "cell_type": "markdown",
   "metadata": {},
   "source": [
    "### sort(), sorted() and reverse()\n",
    "\n",
    "The sort() method sorts a list in place, returning None, whereas the sorted() method returns a new sorted list. The reverse() method reverses the list in place, returning None."
   ]
  },
  {
   "cell_type": "code",
   "execution_count": 21,
   "metadata": {},
   "outputs": [
    {
     "name": "stdout",
     "output_type": "stream",
     "text": [
      "Charlotte\n",
      "Hamed\n",
      "Jim\n",
      "after sorted(): Jim Hamed Charlotte\n",
      "after sort(): Charlotte Hamed Jim\n",
      "after reverse(): Jim Hamed Charlotte\n"
     ]
    }
   ],
   "source": [
    "for friend in sorted(friends):\n",
    "    print(friend)\n",
    "print('after sorted():',' '.join(friends))\n",
    "friends.sort()\n",
    "print('after sort():', ' '.join(friends))\n",
    "friends.reverse()\n",
    "print('after reverse():', ' '.join(friends))"
   ]
  },
  {
   "cell_type": "markdown",
   "metadata": {},
   "source": [
    "### insert(), append(), remove(), and pop()\n",
    "\n",
    "We can modify a list by inserting elements at a given place in the list, appending elements to the end of the list, removing elements, or popping elements off the list from either the front or the end of the list."
   ]
  },
  {
   "cell_type": "code",
   "execution_count": 17,
   "metadata": {},
   "outputs": [
    {
     "name": "stdout",
     "output_type": "stream",
     "text": [
      "point 1: apple banana orange\n",
      "point 2: peach apple banana orange\n",
      "point 3: peach apple banana orange pear\n",
      "point 4: peach banana orange pear\n",
      "point 5: peach banana orange after popping pear\n",
      "point 6: banana orange after popping peach\n"
     ]
    }
   ],
   "source": [
    "fruits = ['apple', 'banana', 'orange']\n",
    "print('point 1:', ' '.join(fruits))\n",
    "\n",
    "fruits.insert(0, 'peach')        # insert at position 0\n",
    "print('point 2:', ' '.join(fruits))\n",
    "\n",
    "fruits.append('pear')\n",
    "print('point 3:', ' '.join(fruits))\n",
    "\n",
    "if 'apple' in fruits:\n",
    "    fruits.remove('apple')    # throws error if not in list\n",
    "print('point 4:', ' '.join(fruits))\n",
    "\n",
    "fr = fruits.pop()\n",
    "print('point 5:', ' '.join(fruits), 'after popping', fr)\n",
    "\n",
    "fr = fruits.pop(0)\n",
    "print('point 6:', ' '.join(fruits), 'after popping', fr)"
   ]
  },
  {
   "cell_type": "markdown",
   "metadata": {},
   "source": [
    "### Efficiency in lists and timeit()\n",
    "\n",
    "Lists are very efficient constructs in Python but we should keep in mind how to best use lists efficiently.\n",
    "\n",
    "The timeit module is helpful for quantifying efficiency comparisons. The timeit module will return time in seconds.\n",
    "\n",
    "First we make a long list and pop off the top of the list.\n",
    "Then we make the list again and pop off the bottom of the list.\n",
    "\n",
    "Noticing that popping off the end of the list is *much* more efficient compared to popping off the front of the list. Popping off or inserting into the front of the list is an O(n) operation and should be avoided. This is because the list has to be resized and the elements reshifted. \n",
    "\n",
    "Lists have very fast random access and accessing at the end is O(n). See the [list time complexity page](https://wiki.python.org/moin/TimeComplexity) for costs of list operations."
   ]
  },
  {
   "cell_type": "code",
   "execution_count": 18,
   "metadata": {},
   "outputs": [
    {
     "name": "stdout",
     "output_type": "stream",
     "text": [
      "time =  0.918456026000058\n",
      "time2 =  0.007165963000261399\n"
     ]
    }
   ],
   "source": [
    "import timeit\n",
    "\n",
    "long_list = list(range(1,100000))  # about 100K elements\n",
    "start_time = timeit.default_timer()\n",
    "while long_list:\n",
    "    long_list.pop(0)\n",
    "print(\"time = \", timeit.default_timer() - start_time)\n",
    "\n",
    "long_list = list(range(1,100000))\n",
    "start_time = timeit.default_timer()\n",
    "while long_list:\n",
    "    long_list.pop()\n",
    "print(\"time2 = \", timeit.default_timer() - start_time)"
   ]
  },
  {
   "cell_type": "markdown",
   "metadata": {},
   "source": [
    "### slices\n",
    "\n",
    "List slices work just like string slices.\n"
   ]
  },
  {
   "cell_type": "code",
   "execution_count": 28,
   "metadata": {},
   "outputs": [
    {
     "name": "stdout",
     "output_type": "stream",
     "text": [
      "[1, 2, 3, 4, 5]\n",
      "[96, 97, 98, 99, 100]\n",
      "[3, 4, 5]\n"
     ]
    }
   ],
   "source": [
    "list1 = list(range(1,101))\n",
    "print(list1[:5])   # first elements\n",
    "print(list1[95:])  # last elements\n",
    "print(list1[2:5])  # middle elements"
   ]
  },
  {
   "cell_type": "markdown",
   "metadata": {},
   "source": [
    "### using slice notation to copy or clear a list\n",
    "\n",
    "* list[:] creates a copy of the list\n",
    "* del a[:] clears a list\n"
   ]
  },
  {
   "cell_type": "code",
   "execution_count": 29,
   "metadata": {},
   "outputs": [
    {
     "name": "stdout",
     "output_type": "stream",
     "text": [
      "100\n",
      "length of list 1 is still =  100\n",
      "length of list 2 is: 0\n"
     ]
    }
   ],
   "source": [
    "list2 = list1[:]   # same as list2 = list1.copy()\n",
    "print(len(list2))\n",
    "\n",
    "del list2[:]\n",
    "print('length of list 1 is still = ', len(list1))\n",
    "print('length of list 2 is:', len(list2))"
   ]
  },
  {
   "cell_type": "markdown",
   "metadata": {},
   "source": [
    "### list comprehensions\n",
    "\n",
    "List comprehensions provide a concise way to perform operations on lists. A list comprehension consists of brackets containing an expression followed by a for, and optionally followed by ifs.\n",
    "\n",
    "The following code shows two ways to square each integer in the range 1 to 5.\n"
   ]
  },
  {
   "cell_type": "code",
   "execution_count": 1,
   "metadata": {},
   "outputs": [
    {
     "name": "stdout",
     "output_type": "stream",
     "text": [
      "25\n",
      "25\n"
     ]
    }
   ],
   "source": [
    "# method 1: use a for loop\n",
    "squares = []\n",
    "for i in range(1,6):   # 1, 2, 3, 4, 5\n",
    "    squares.append(i**2)\n",
    "print(squares[-1])\n",
    "    \n",
    "# method 2: use list comprehension\n",
    "squares = [i**2 for i in range(1,6)]\n",
    "print(squares[-1])"
   ]
  },
  {
   "cell_type": "markdown",
   "metadata": {},
   "source": [
    "The following list comprehension creates a list of lists."
   ]
  },
  {
   "cell_type": "code",
   "execution_count": 11,
   "metadata": {},
   "outputs": [
    {
     "data": {
      "text/plain": [
       "[[1, 1], [2, 4], [3, 9]]"
      ]
     },
     "execution_count": 11,
     "metadata": {},
     "output_type": "execute_result"
    }
   ],
   "source": [
    "int_sq = [[x, x**2] for x in [1, 2, 3] ]\n",
    "int_sq"
   ]
  },
  {
   "cell_type": "markdown",
   "metadata": {},
   "source": [
    "Having more than one **for** works just like nested for loops."
   ]
  },
  {
   "cell_type": "code",
   "execution_count": 12,
   "metadata": {},
   "outputs": [
    {
     "data": {
      "text/plain": [
       "[[1, 'a'], [1, 'b'], [1, 'c'], [2, 'a'], [2, 'b'], [2, 'c']]"
      ]
     },
     "execution_count": 12,
     "metadata": {},
     "output_type": "execute_result"
    }
   ],
   "source": [
    "listxy = [[x, y] for x in [1, 2] for y in ['a', 'b', 'c']]\n",
    "listxy"
   ]
  },
  {
   "cell_type": "markdown",
   "metadata": {},
   "source": [
    "The following shows an example using the **if** clause. "
   ]
  },
  {
   "cell_type": "code",
   "execution_count": 13,
   "metadata": {},
   "outputs": [
    {
     "data": {
      "text/plain": [
       "[[1, 1], [2, 4], [3, 9], [4, 16], [5, 25], [6, 36], [7, 49], [8, 64], [9, 81]]"
      ]
     },
     "execution_count": 13,
     "metadata": {},
     "output_type": "execute_result"
    }
   ],
   "source": [
    "list_small_squares = [[x, x**2] for x in list(range(1,12)) if x**2 < 100]\n",
    "list_small_squares"
   ]
  },
  {
   "cell_type": "markdown",
   "metadata": {},
   "source": [
    "### Practice\n",
    "\n",
    "* Make a list from the individual words in a sentence using the string.split() function\n",
    "* Print the tokens in order\n",
    "* Print the tokens in reverse order by iterating backwards\n",
    "* Use a list comprehension to create a new list based on words that begin with 's'"
   ]
  },
  {
   "cell_type": "code",
   "execution_count": 30,
   "metadata": {},
   "outputs": [
    {
     "name": "stdout",
     "output_type": "stream",
     "text": [
      "Tokens in order:\n",
      "This\n",
      "is\n",
      "a\n",
      "sample\n",
      "sentence\n",
      "\n",
      "Tokens in reverse order:\n",
      "sentence\n",
      "sample\n",
      "a\n",
      "is\n",
      "This\n",
      "\n",
      "Tokens that start with s:\n",
      "['sample', 'sentence']\n"
     ]
    }
   ],
   "source": [
    "text = 'This is a sample sentence'\n",
    "\n",
    "print(\"Tokens in order:\")\n",
    "tokens = text.split()\n",
    "for token in tokens:\n",
    "    print(token)\n",
    "\n",
    "print(\"\\nTokens in reverse order:\")\n",
    "i = len(tokens) - 1\n",
    "while i >= 0:\n",
    "    print(tokens[i])\n",
    "    i -= 1\n",
    "    \n",
    "print(\"\\nTokens that start with s:\")\n",
    "s_tokens = [token for token in tokens if token.startswith('s')]\n",
    "print(s_tokens)"
   ]
  },
  {
   "cell_type": "markdown",
   "metadata": {},
   "source": [
    "### deepcopy() a list\n",
    "\n",
    "When we copy a list of lists some strange results may occur."
   ]
  },
  {
   "cell_type": "code",
   "execution_count": 31,
   "metadata": {},
   "outputs": [
    {
     "data": {
      "text/plain": [
       "[1, 2, [9, 4], 5]"
      ]
     },
     "execution_count": 31,
     "metadata": {},
     "output_type": "execute_result"
    }
   ],
   "source": [
    "# example 1\n",
    "list1 = [1, 2, [3, 4], 5]\n",
    "list2 = list1\n",
    "list2[2][0] = 9\n",
    "list1  # the sublist in list 1 was changed when list 2 was changed\n"
   ]
  },
  {
   "cell_type": "markdown",
   "metadata": {},
   "source": [
    "How can we explain the behavior in the code above? The answer is in the way Python manages memory. The list within the list is actually a pointer to a list. So when list1 is copied to list2, the pointer is copied. \n",
    "\n",
    "To make a completely independent copy, the deepcopy function must be used."
   ]
  },
  {
   "cell_type": "code",
   "execution_count": 33,
   "metadata": {},
   "outputs": [
    {
     "data": {
      "text/plain": [
       "[1, 2, [3, 4], 5]"
      ]
     },
     "execution_count": 33,
     "metadata": {},
     "output_type": "execute_result"
    }
   ],
   "source": [
    "# example 2\n",
    "from copy import deepcopy\n",
    "list1 = [1, 2, [3, 4], 5]\n",
    "list2 = deepcopy(list1)\n",
    "list2[2][0] = 9\n",
    "list1 # list1 remains unchanged\n"
   ]
  },
  {
   "cell_type": "markdown",
   "metadata": {},
   "source": [
    "### Practice\n",
    "\n",
    "Write a Python program in the IDE of your choice. The program operates on two lists. Write 3 functions, all with the same purpose: to return a list of the same length as list1 with 0 if the element does not appear in list2 and 1 if it does. \n",
    "\n",
    "* a loop within a loop comparison \n",
    "* a one-loop function using the 'in' operator\n",
    "* a list comprehension function\n",
    "\n",
    "Start with two small lists until you get the logic right. Then test it with larger lists of random numbers. The code block below shows how to generate random small integers."
   ]
  },
  {
   "cell_type": "code",
   "execution_count": 2,
   "metadata": {},
   "outputs": [],
   "source": [
    "from random import randrange\n",
    "\n",
    "len1 = 50\n",
    "len2 = 75\n",
    "\n",
    "list1 = [randrange(100) for _ in range(len1)]\n",
    "list2 = [randrange(100) for _ in range(len2)]"
   ]
  },
  {
   "cell_type": "code",
   "execution_count": 3,
   "metadata": {},
   "outputs": [
    {
     "name": "stdout",
     "output_type": "stream",
     "text": [
      "max and min of list 2: 98 1\n"
     ]
    }
   ],
   "source": [
    "# check the range of generated numbers\n",
    "print('max and min of list 2:', max(list2), min(list2))"
   ]
  },
  {
   "cell_type": "markdown",
   "metadata": {},
   "source": [
    "Compare the timing of the functions on your data. "
   ]
  },
  {
   "cell_type": "code",
   "execution_count": null,
   "metadata": {},
   "outputs": [],
   "source": []
  }
 ],
 "metadata": {
  "kernelspec": {
   "display_name": "Python 3",
   "language": "python",
   "name": "python3"
  },
  "language_info": {
   "codemirror_mode": {
    "name": "ipython",
    "version": 3
   },
   "file_extension": ".py",
   "mimetype": "text/x-python",
   "name": "python",
   "nbconvert_exporter": "python",
   "pygments_lexer": "ipython3",
   "version": "3.8.2"
  }
 },
 "nbformat": 4,
 "nbformat_minor": 4
}
