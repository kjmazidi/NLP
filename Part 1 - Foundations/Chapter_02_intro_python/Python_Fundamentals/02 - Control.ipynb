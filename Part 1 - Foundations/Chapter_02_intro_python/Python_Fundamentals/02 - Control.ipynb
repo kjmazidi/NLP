{
 "cells": [
  {
   "cell_type": "markdown",
   "metadata": {},
   "source": [
    "## Python control structures\n",
    "\n",
    "You can find a copy of this notebook on GitHib repo: [github.com/kjmazidi/Python_for_AI](https://github.com/kjmazidi/Python_for_AI)\n",
    "\n",
    "* if \n",
    "* if else\n",
    "* if elif else\n",
    "* while\n",
    "* for and its variations\n",
    "* functions\n",
    "\n",
    "There is no switch statement in Python. \n",
    "\n",
    "### if\n",
    "\n",
    "The if has optional elif and else clauses as shown below. \n",
    "\n",
    "Notice:\n",
    "* indents are used to identify code blocks\n",
    "* parenthesis not needed around condition\n",
    "* : after the condition\n",
    "\n",
    "The Python relational and Boolean operators:\n",
    "  * == and !=\n",
    "  * <  <=  > >=\n",
    "  * and, or, not\n",
    "  \n",
    "For compound conditionals, Python uses short-circuit evaluation for efficiency. For example:  \n",
    "\n",
    "```1 < 5 or 6 < 7   ```\n",
    "\n",
    "Python will only evaluate 1 < 5, this allows us to write more efficient code\n"
   ]
  },
  {
   "cell_type": "code",
   "execution_count": 31,
   "metadata": {},
   "outputs": [
    {
     "name": "stdout",
     "output_type": "stream",
     "text": [
      "passed\n",
      "good job!\n"
     ]
    }
   ],
   "source": [
    "grade = 66\n",
    "if grade >= 60:\n",
    "    print(\"passed\")\n",
    "    print(\"good job!\")"
   ]
  },
  {
   "cell_type": "code",
   "execution_count": 32,
   "metadata": {},
   "outputs": [
    {
     "name": "stdout",
     "output_type": "stream",
     "text": [
      "failed\n"
     ]
    }
   ],
   "source": [
    "grade = 56\n",
    "if grade >= 60:\n",
    "    print('passed')\n",
    "else:\n",
    "    print('failed')"
   ]
  },
  {
   "cell_type": "code",
   "execution_count": 33,
   "metadata": {},
   "outputs": [
    {
     "name": "stdout",
     "output_type": "stream",
     "text": [
      "passed\n"
     ]
    }
   ],
   "source": [
    "grade = 66\n",
    "if grade >= 90:\n",
    "    print('excellent')\n",
    "elif grade >= 60:\n",
    "    print('passed')\n",
    "else:\n",
    "    print('failed')"
   ]
  },
  {
   "cell_type": "markdown",
   "metadata": {},
   "source": [
    "### True and False\n",
    "\n",
    "Python has built in constants **True** and **False**. In Python, False is:\n",
    "\n",
    "* 0 for any numeric type (0.0 ...)\n",
    "* any empty object: '' [] {} etc.\n",
    "* None - a built-in constant\n",
    "\n",
    "Everything else is True.\n",
    "\n",
    "In the first example below, we could check: **if flag == True**, but this is not considered the Pythonic way to do things. \n",
    "\n",
    "Similarly in the second example, we don't check: ** if string1 == ''**"
   ]
  },
  {
   "cell_type": "code",
   "execution_count": 4,
   "metadata": {},
   "outputs": [
    {
     "name": "stdout",
     "output_type": "stream",
     "text": [
      "flag is true\n",
      "abc\n"
     ]
    }
   ],
   "source": [
    "flag = True\n",
    "if flag:\n",
    "    print('flag is true')\n",
    "\n",
    "string1 = 'abc'\n",
    "if string1:\n",
    "    print(string1)"
   ]
  },
  {
   "cell_type": "markdown",
   "metadata": {},
   "source": [
    "### Practice \n",
    "\n",
    "write an if-elif-else statement to print:\n",
    "* 'cold' if temp < 60\n",
    "* 'good' if temp < 90\n",
    "* 'hot' if temp >= 90"
   ]
  },
  {
   "cell_type": "code",
   "execution_count": 5,
   "metadata": {},
   "outputs": [],
   "source": [
    "# your code here\n",
    "\n",
    "temp = 70\n",
    "if temp < 60:\n",
    "    print('cold')\n",
    "elif temp < 90:\n",
    "    print('good')\n",
    "else:\n",
    "    print('hot')\n",
    "    \n",
    "if temp >= 90:\n",
    "    print('hot')\n",
    "elif temp >= 60\n",
    "    print('good')\n",
    "else:\n",
    "    print('cold')"
   ]
  },
  {
   "cell_type": "markdown",
   "metadata": {},
   "source": [
    "### while\n",
    "\n",
    "while condition:\n",
    "    statement(s)\n",
    "    \n",
    "* don't forget the :\n",
    "* no parenthesis needed around condition\n",
    "* indents indicate code block"
   ]
  },
  {
   "cell_type": "code",
   "execution_count": 10,
   "metadata": {},
   "outputs": [
    {
     "name": "stdout",
     "output_type": "stream",
     "text": [
      "3\n",
      "2\n",
      "1\n"
     ]
    }
   ],
   "source": [
    "i = 3\n",
    "while i > 0:\n",
    "    print(i)\n",
    "    i -= 1"
   ]
  },
  {
   "cell_type": "markdown",
   "metadata": {},
   "source": [
    "### Practice\n",
    "\n",
    "Write a while loop to echo user input until they enter an empty string."
   ]
  },
  {
   "cell_type": "code",
   "execution_count": 1,
   "metadata": {},
   "outputs": [],
   "source": [
    "# your code here\n"
   ]
  },
  {
   "cell_type": "markdown",
   "metadata": {},
   "source": [
    "### for\n",
    "\n",
    "The **for** statement is often used with lists which we haven't covered yet, so for now let's just say that a list is a group of items enclosed in square brackets. The items in a list do not have to be of the same type.\n",
    "\n",
    "The following code iterates over each element in the list. Notice again the use of indents, the :, and the lack of () in this form."
   ]
  },
  {
   "cell_type": "code",
   "execution_count": 19,
   "metadata": {},
   "outputs": [
    {
     "name": "stdout",
     "output_type": "stream",
     "text": [
      "a\n",
      "2.3\n",
      "hello\n"
     ]
    }
   ],
   "source": [
    "for _ in ['a', 2.3, 'hello']:\n",
    "    print(_)"
   ]
  },
  {
   "cell_type": "code",
   "execution_count": 20,
   "metadata": {},
   "outputs": [
    {
     "data": {
      "text/plain": [
       "2.3"
      ]
     },
     "execution_count": 20,
     "metadata": {},
     "output_type": "execute_result"
    }
   ],
   "source": [
    "mylist = ['a', 2.3, 'hello']\n",
    "mylist[1]"
   ]
  },
  {
   "cell_type": "markdown",
   "metadata": {},
   "source": [
    "### range()\n",
    "\n",
    "Count-controlled **for** loops are often implemented with the range() function, which has the form:\n",
    "\n",
    "range(start, stop, step)\n",
    "\n",
    "step=1 by default\n",
    "\n",
    "As seen below, the range returns numbers 1, 2, 3, 4 - it stops *before* stop.\n"
   ]
  },
  {
   "cell_type": "code",
   "execution_count": 21,
   "metadata": {},
   "outputs": [
    {
     "name": "stdout",
     "output_type": "stream",
     "text": [
      "1\n",
      "2\n",
      "3\n",
      "4\n"
     ]
    }
   ],
   "source": [
    "for i in range(1,5):\n",
    "    print(i)"
   ]
  },
  {
   "cell_type": "markdown",
   "metadata": {},
   "source": [
    "### Practice\n",
    "\n",
    "As we will soon see, you can index the characters in a string.\n",
    "\n",
    "string1 = 'hell0'\n",
    "string1[0]   # is 'h'\n",
    "\n",
    "Write a for loop to print the first character only of a list.\n",
    "Example:  list1 = ['Python','Java','C++']\n",
    "should print 'P', 'J' and 'C'"
   ]
  },
  {
   "cell_type": "code",
   "execution_count": 22,
   "metadata": {},
   "outputs": [
    {
     "name": "stdout",
     "output_type": "stream",
     "text": [
      "P\n",
      "J\n",
      "C\n"
     ]
    }
   ],
   "source": [
    "list1 = ['Python', 'Java', 'C++']\n",
    "\n",
    "for lang in list1:\n",
    "    print(lang[0])"
   ]
  },
  {
   "cell_type": "markdown",
   "metadata": {},
   "source": [
    "### enumerate\n",
    "\n",
    "In a **for** loop, sometimes you want indices and sometimes you want items and sometimes you want both. You can get both with enumerate()\n"
   ]
  },
  {
   "cell_type": "code",
   "execution_count": 24,
   "metadata": {},
   "outputs": [
    {
     "name": "stdout",
     "output_type": "stream",
     "text": [
      "0 apple\n",
      "1 banana\n",
      "2 orange\n"
     ]
    }
   ],
   "source": [
    "mylist = ['apple', 'banana', 'orange']\n",
    "for i, item in enumerate(mylist):\n",
    "    print(i, item)"
   ]
  },
  {
   "cell_type": "markdown",
   "metadata": {},
   "source": [
    "### functions\n",
    "\n",
    "Python functions are defined as follows:\n",
    "\n",
    "def f_name(parameters):\n",
    "    statement(s)\n",
    "    return expression(s) or just \n",
    "    return\n",
    "    \n",
    "\n",
    "    \n",
    "Python functions are called by name:\n",
    "\n",
    "f_name(parameters)\n",
    "\n"
   ]
  },
  {
   "cell_type": "code",
   "execution_count": 25,
   "metadata": {},
   "outputs": [
    {
     "name": "stdout",
     "output_type": "stream",
     "text": [
      "compute results: 7\n"
     ]
    }
   ],
   "source": [
    "def compute():\n",
    "    return 3+4\n",
    "\n",
    "print('compute results:', compute())"
   ]
  },
  {
   "cell_type": "markdown",
   "metadata": {},
   "source": [
    "### Function Example\n",
    "\n",
    "In the example below:\n",
    "* we defined a function; the definition doesn't have to come first but should either be in the same file or imported from another file\n",
    "* good style indicates that the function name begins with a verb\n",
    "* the body of the function is indented consistently\n",
    "* this function has a return\n",
    "* the 'names' in the function is not the same as the 'names' in the calling code because of variable scope rules\n",
    "\n"
   ]
  },
  {
   "cell_type": "code",
   "execution_count": 26,
   "metadata": {},
   "outputs": [
    {
     "name": "stdout",
     "output_type": "stream",
     "text": [
      "first name is  Bud\n"
     ]
    }
   ],
   "source": [
    "def find_first(names):\n",
    "    first = names[0]\n",
    "    for name in names[1:]:\n",
    "        if name < first:\n",
    "            first = name\n",
    "    return first\n",
    "\n",
    "names = ['Jane', 'Zelda', 'Bud']\n",
    "print('first name is ', find_first(names))\n"
   ]
  },
  {
   "cell_type": "markdown",
   "metadata": {},
   "source": [
    "There are several scary things in the function above:\n",
    "\n",
    "* the function expects *names* to be a list but we didn't check the type\n",
    "* we assume that *names* has at least one element\n",
    "* we didn't document the function - more about that below\n",
    "\n",
    "So Python gives you a lot of power and flexibility. Enough rope to tie yourself in knots. Beware. \n",
    "\n",
    "Keep in mind the simple code examples presentend in these notebooks are designed to illustrate a point not demonstrate the best coding practices. [The Hitchhikers Guide to Python]() is a good read for learning to write *Pythonic* code."
   ]
  },
  {
   "cell_type": "markdown",
   "metadata": {},
   "source": [
    "Let's rewrite the above code with some better habits."
   ]
  },
  {
   "cell_type": "code",
   "execution_count": 13,
   "metadata": {},
   "outputs": [
    {
     "name": "stdout",
     "output_type": "stream",
     "text": [
      "first name is  Bud\n"
     ]
    }
   ],
   "source": [
    "def find_first(names):\n",
    "    if not type(names) == list:\n",
    "        return 'Error: \"names\" is not a list'\n",
    "    if not names:\n",
    "        return 'Error: \"names\" is an empty list'\n",
    "    first = names[0]\n",
    "    for name in names[1:]:\n",
    "        if name < first:\n",
    "            first = name\n",
    "    return first\n",
    "\n",
    "names = ['Jane', 'Zelda', 'Bud']\n",
    "print('first name is ', find_first(names))"
   ]
  },
  {
   "cell_type": "markdown",
   "metadata": {},
   "source": [
    "### docstrings\n",
    "\n",
    "It is good practice to start a function with a docstring that gives input/output information for the function and a very brief description. Styles vary but here is a common way to do this is shown below. This might be overkill for a simple function, but it outlines the best practice."
   ]
  },
  {
   "cell_type": "code",
   "execution_count": 14,
   "metadata": {},
   "outputs": [],
   "source": [
    "def find_first(names):\n",
    "    \"\"\"\n",
    "    Finds the alphabetically first item in a list.\n",
    "    \n",
    "    Args:\n",
    "        names:  a list of items to be compared\n",
    "        \n",
    "    Returns:\n",
    "        the first item, alphabetically\n",
    "        or an error message\n",
    "        \n",
    "    Example:\n",
    "        >>>find_first(['george','anne'])\n",
    "        >>>'anne'\n",
    "    \"\"\"\n",
    "    \n",
    "    if not type(names) == list:\n",
    "        return 'Error: \"names\" is not a list'\n",
    "    if not names:\n",
    "        return 'Error: \"names\" is an empty list'\n",
    "    first = names[0]\n",
    "    for name in names[1:]:\n",
    "        if name < first:\n",
    "            first = name\n",
    "    return first\n"
   ]
  },
  {
   "cell_type": "markdown",
   "metadata": {},
   "source": [
    "There are some nice tools you can experiment with for documentation including Sphinx, which converts reStructuredText markup language into several output formats.\n",
    "\n",
    "Additionally, the doctest module can read docstrings that look like command-line code \">>>\" and run them, providing some testing capability. \n",
    "See https://docs.python.org/3/library/doctest.html for more info\n"
   ]
  },
  {
   "cell_type": "markdown",
   "metadata": {},
   "source": [
    "### Practice\n",
    "\n",
    "Write a function to return the average of a list of numbers.\n",
    "Run it to see what happens."
   ]
  },
  {
   "cell_type": "code",
   "execution_count": 2,
   "metadata": {},
   "outputs": [],
   "source": [
    "# your code here\n"
   ]
  },
  {
   "cell_type": "markdown",
   "metadata": {},
   "source": [
    "### More practice\n",
    "\n",
    "Write a function to check if k evenly divides n. Return a boolean. Print a message in the calling code. The % operator works as in other languages."
   ]
  },
  {
   "cell_type": "code",
   "execution_count": 3,
   "metadata": {},
   "outputs": [],
   "source": [
    "# your code here\n"
   ]
  },
  {
   "cell_type": "markdown",
   "metadata": {},
   "source": [
    "Remember that 0 is False and anything else is True. So if (num % divisor) is zero that means it is evenly divisible, so we return True, otherwise we return False. "
   ]
  },
  {
   "cell_type": "markdown",
   "metadata": {},
   "source": [
    "### Python programs and modules\n",
    "\n",
    "A python program, or script,  is a text file that ends in .py\n",
    "\n",
    "You can run it at the console like this:\n",
    "\n",
    "$python3 myfile.py\n",
    "\n",
    "Of course, the command line is highly system-dependent. \n",
    "\n",
    "So technically, all you need is a simple text editor, but using an IDE like PyCharm will make coding easier.\n",
    "\n",
    "In *nix systems it is customary to start the script with a shebang if you plan to run it at terminal."
   ]
  },
  {
   "cell_type": "raw",
   "metadata": {},
   "source": [
    "#!/usr/bin/env python\n",
    "# $python3 hello.py karen\n",
    "\n",
    "import sys\n",
    "\n",
    "def greet_user(user_name):\n",
    "    print(\"Hello \" + user_name)\n",
    "    \n",
    "if __name__ == '__main__':\n",
    "    greet_user(sys.argv[1])"
   ]
  },
  {
   "cell_type": "markdown",
   "metadata": {},
   "source": [
    "The above shows the skeleton on a Python script in *nix but many features are common across platforms:\n",
    "\n",
    "* a main() function called at the bottom of the script\n",
    "* command line argument 1, example: $python3 hello.py anArg"
   ]
  },
  {
   "cell_type": "markdown",
   "metadata": {},
   "source": [
    "### Modules\n",
    "\n",
    "Python programs are organized into modules. A module can consist of a single program file or it can have many files each containing different functions. Functions from one module can be imported into other modules. \n",
    "\n",
    "Each module has a global variable called __main__ \n",
    "\n",
    "By the way two underscores, 'dunders', are common in Python and we will circle back to the role of dunders when we look at creating classes. \n",
    "\n",
    "The last two lines above are used to jump start the program, which in that case just calls one function, the greet user function.\n",
    "\n",
    "The code sample below shows that the first print would only be executed if the file was run as a stand-alone program."
   ]
  },
  {
   "cell_type": "raw",
   "metadata": {},
   "source": [
    "if __name__ == '__main__':\n",
    "    print('running the file as a stand alone program')\n",
    "else:\n",
    "    print('this code is being imported')"
   ]
  },
  {
   "cell_type": "markdown",
   "metadata": {},
   "source": [
    "## Identifier names\n",
    "\n",
    "Python identifer names begin with an upper or lower case letter, followed by letters, digits, and underscores.\n",
    "\n",
    "Most style guides suggest the following:\n",
    "\n",
    "* underscore_case is preferred over camelCase for variables\n",
    "* function names should start with a verb and a lower case letter, like: calculate_average\n",
    "* class names should be nouns and start with a capital letter, like Employee\n",
    "\n",
    "These are the most common standards. Don't get too attached to them however because when you are writing code with others you need a consistent style with the existing code."
   ]
  },
  {
   "cell_type": "code",
   "execution_count": null,
   "metadata": {},
   "outputs": [],
   "source": []
  }
 ],
 "metadata": {
  "kernelspec": {
   "display_name": "Python 3",
   "language": "python",
   "name": "python3"
  },
  "language_info": {
   "codemirror_mode": {
    "name": "ipython",
    "version": 3
   },
   "file_extension": ".py",
   "mimetype": "text/x-python",
   "name": "python",
   "nbconvert_exporter": "python",
   "pygments_lexer": "ipython3",
   "version": "3.8.2"
  }
 },
 "nbformat": 4,
 "nbformat_minor": 4
}
