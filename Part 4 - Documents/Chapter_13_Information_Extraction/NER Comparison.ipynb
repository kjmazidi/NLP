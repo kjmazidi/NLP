{
 "cells": [
  {
   "cell_type": "markdown",
   "metadata": {},
   "source": [
    "# Comparison of NER systems"
   ]
  },
  {
   "cell_type": "code",
   "execution_count": 1,
   "metadata": {},
   "outputs": [],
   "source": [
    "text = \"\"\"The Hawaiian Islands became the fiftieth US state in 1959.\n",
    "          Since the passage of the Social Security Indexing Act of 1972, the level of Social Security benefits increases each year along with the Consumer Price Index. \n",
    "          The leading case, perhaps the most studied case, in all the common law is Hadley v. Baxendale, decided in England in 1854. \n",
    "          Lyndon Baines Johnson (August 27, 1908 – January 22, 1973), often referred to as LBJ, was an American politician who served as the 36th president of the United States from 1963 to 1969.\n",
    "    \"\"\" \n",
    "        "
   ]
  },
  {
   "cell_type": "markdown",
   "metadata": {},
   "source": [
    "# Stanford NLP\n",
    "\n",
    "An online demo of Stanford NER is available [at this link](http://nlp.stanford.edu:8080/ner/)"
   ]
  },
  {
   "cell_type": "code",
   "execution_count": 16,
   "metadata": {},
   "outputs": [],
   "source": [
    "from stanfordnlp.server import CoreNLPClient\n",
    "\n",
    "import os\n",
    "os.environ['CORENLP_HOME'] = r'/Users/mazidi/stanford-corenlp-full-2018-10-05'"
   ]
  },
  {
   "cell_type": "code",
   "execution_count": 17,
   "metadata": {},
   "outputs": [
    {
     "name": "stdout",
     "output_type": "stream",
     "text": [
      "Starting server with command: java -Xmx16G -cp /Users/mazidi/stanford-corenlp-full-2018-10-05/* edu.stanford.nlp.pipeline.StanfordCoreNLPServer -port 9000 -timeout 60000 -threads 5 -maxCharLength 100000 -quiet True -serverProperties corenlp_server-e2f00d45e81a4cd4.props -preload tokenize,ssplit,pos,lemma,ner\n",
      "\n",
      "Tokens \t POS \t NER\n",
      "\n",
      "Sentence 1\n",
      "Hawaiian \t JJ \t LOCATION\n",
      "Islands \t NNPS \t LOCATION\n",
      "fiftieth \t NN \t ORDINAL\n",
      "US \t NNP \t COUNTRY\n",
      "1959 \t CD \t DATE\n",
      "\n",
      "Sentence 2\n",
      "Social \t NNP \t MISC\n",
      "Security \t NNP \t MISC\n",
      "Indexing \t NN \t MISC\n",
      "Act \t NN \t MISC\n",
      "1972 \t CD \t DATE\n",
      "each \t DT \t SET\n",
      "year \t NN \t SET\n",
      "Consumer \t NNP \t MISC\n",
      "Price \t NNP \t MISC\n",
      "Index \t NNP \t MISC\n",
      "\n",
      "Sentence 3\n",
      "Hadley \t NNP \t PERSON\n",
      "Baxendale \t NNP \t PERSON\n",
      "England \t NNP \t COUNTRY\n",
      "1854 \t CD \t DATE\n",
      "\n",
      "Sentence 4\n",
      "Lyndon \t NNP \t PERSON\n",
      "Baines \t NNP \t PERSON\n",
      "Johnson \t NNP \t PERSON\n",
      "August \t NNP \t DATE\n",
      "27 \t CD \t DATE\n",
      ", \t , \t DATE\n",
      "1908 \t CD \t DATE\n",
      "January \t NNP \t DATE\n",
      "22 \t CD \t DATE\n",
      ", \t , \t DATE\n",
      "1973 \t CD \t DATE\n",
      "LBJ \t NNP \t ORGANIZATION\n",
      "American \t JJ \t NATIONALITY\n",
      "politician \t NN \t TITLE\n",
      "36th \t JJ \t ORDINAL\n",
      "president \t NN \t TITLE\n",
      "United \t NNP \t COUNTRY\n",
      "States \t NNPS \t COUNTRY\n",
      "1963 \t CD \t DATE\n",
      "to \t TO \t DATE\n",
      "1969 \t CD \t DATE\n"
     ]
    }
   ],
   "source": [
    "# set up the client\n",
    "with CoreNLPClient(annotators=['tokenize','ssplit','pos','lemma','ner'], timeout=60000, memory='16G') as client:\n",
    "    # submit the request to the server\n",
    "    ann = client.annotate(text)\n",
    "    \n",
    "    print('\\nTokens \\t POS \\t NER')\n",
    "    sentence_count = 1\n",
    "    for sentence in ann.sentence:\n",
    "        print('\\nSentence', sentence_count)\n",
    "        for token in sentence.token:\n",
    "            if token.ner != 'O':\n",
    "                print (token.word, '\\t', token.pos, '\\t', token.ner)\n",
    "            \n",
    "        sentence_count += 1"
   ]
  },
  {
   "cell_type": "markdown",
   "metadata": {},
   "source": [
    "# SpaCy"
   ]
  },
  {
   "cell_type": "code",
   "execution_count": 3,
   "metadata": {},
   "outputs": [],
   "source": [
    "import spacy\n",
    "\n",
    "nlp = spacy.load('en_core_web_md')"
   ]
  },
  {
   "cell_type": "code",
   "execution_count": 4,
   "metadata": {},
   "outputs": [
    {
     "name": "stdout",
     "output_type": "stream",
     "text": [
      "Hawaiian NORP\n",
      "fiftieth ORDINAL\n",
      "US GPE\n",
      "1959 DATE\n",
      "the Social Security Indexing Act ORG\n",
      "1972 DATE\n",
      "Social Security ORG\n",
      "each year DATE\n",
      "Hadley v. Baxendale ORG\n",
      "England GPE\n",
      "1854 DATE\n",
      "Lyndon Baines Johnson PERSON\n",
      "August 27, 1908 – January 22, 1973 DATE\n",
      "LBJ PERSON\n",
      "American NORP\n",
      "36th ORDINAL\n",
      "the United States GPE\n",
      "1963 to 1969 DATE\n"
     ]
    }
   ],
   "source": [
    "doc = nlp(text)\n",
    "\n",
    "for ent in doc.ents:\n",
    "    print(ent.text, ent.label_)"
   ]
  },
  {
   "cell_type": "markdown",
   "metadata": {},
   "source": [
    "# AllenNLP"
   ]
  },
  {
   "cell_type": "code",
   "execution_count": 8,
   "metadata": {},
   "outputs": [],
   "source": [
    "from allennlp.predictors.predictor import Predictor\n",
    "import allennlp_models.tagging\n",
    "predictor = Predictor.from_path(\"https://storage.googleapis.com/allennlp-public-models/ner-model-2020.02.10.tar.gz\")\n",
    "results = predictor.predict(sentence=text)"
   ]
  },
  {
   "cell_type": "code",
   "execution_count": 9,
   "metadata": {},
   "outputs": [
    {
     "data": {
      "text/plain": [
       "dict_keys(['logits', 'mask', 'tags', 'words'])"
      ]
     },
     "execution_count": 9,
     "metadata": {},
     "output_type": "execute_result"
    }
   ],
   "source": [
    "results.keys()"
   ]
  },
  {
   "cell_type": "code",
   "execution_count": 17,
   "metadata": {},
   "outputs": [
    {
     "name": "stdout",
     "output_type": "stream",
     "text": [
      "The \t O\n",
      "Hawaiian \t B-LOC\n",
      "Islands \t L-LOC\n",
      "became \t O\n",
      "the \t O\n",
      "fiftieth \t O\n",
      "US \t U-LOC\n",
      "state \t O\n",
      "in \t O\n",
      "1959 \t O\n",
      ". \t O\n",
      "Since \t O\n",
      "the \t O\n",
      "passage \t O\n",
      "of \t O\n",
      "the \t O\n",
      "Social \t B-MISC\n",
      "Security \t I-MISC\n",
      "Indexing \t I-MISC\n",
      "Act \t L-MISC\n",
      "of \t O\n",
      "1972 \t O\n",
      ", \t O\n",
      "the \t O\n",
      "level \t O\n",
      "of \t O\n",
      "Social \t B-MISC\n",
      "Security \t L-MISC\n",
      "benefits \t O\n",
      "increases \t O\n",
      "each \t O\n",
      "year \t O\n",
      "along \t O\n",
      "with \t O\n",
      "the \t O\n",
      "Consumer \t B-MISC\n",
      "Price \t I-MISC\n",
      "Index \t L-MISC\n",
      ". \t O\n",
      "The \t O\n",
      "leading \t O\n",
      "case \t O\n",
      ", \t O\n",
      "perhaps \t O\n",
      "the \t O\n",
      "most \t O\n",
      "studied \t O\n",
      "case \t O\n",
      ", \t O\n",
      "in \t O\n",
      "all \t O\n",
      "the \t O\n",
      "common \t O\n",
      "law \t O\n",
      "is \t O\n",
      "Hadley \t U-PER\n",
      "v. \t O\n",
      "Baxendale \t U-MISC\n",
      ", \t O\n",
      "decided \t O\n",
      "in \t O\n",
      "England \t U-LOC\n",
      "in \t O\n",
      "1854 \t O\n",
      ". \t O\n",
      "Lyndon \t B-PER\n",
      "Baines \t I-PER\n",
      "Johnson \t L-PER\n",
      "( \t O\n",
      "August \t O\n",
      "27 \t O\n",
      ", \t O\n",
      "1908 \t O\n",
      "– \t O\n",
      "January \t O\n",
      "22 \t O\n",
      ", \t O\n",
      "1973 \t O\n",
      ") \t O\n",
      ", \t O\n",
      "often \t O\n",
      "referred \t O\n",
      "to \t O\n",
      "as \t O\n",
      "LBJ \t U-PER\n",
      ", \t O\n",
      "was \t O\n",
      "an \t O\n",
      "American \t U-MISC\n",
      "politician \t O\n",
      "who \t O\n",
      "served \t O\n",
      "as \t O\n",
      "the \t O\n",
      "36th \t O\n",
      "president \t O\n",
      "of \t O\n",
      "the \t O\n",
      "United \t B-LOC\n",
      "States \t L-LOC\n",
      "from \t O\n",
      "1963 \t O\n",
      "to \t O\n",
      "1969 \t O\n",
      ". \t O\n"
     ]
    }
   ],
   "source": [
    "for i in range(len(results['words'])):\n",
    "             print(results['words'][i], '\\t', results['tags'][i])"
   ]
  },
  {
   "cell_type": "code",
   "execution_count": null,
   "metadata": {},
   "outputs": [],
   "source": []
  }
 ],
 "metadata": {
  "kernelspec": {
   "display_name": "Python 3",
   "language": "python",
   "name": "python3"
  },
  "language_info": {
   "codemirror_mode": {
    "name": "ipython",
    "version": 3
   },
   "file_extension": ".py",
   "mimetype": "text/x-python",
   "name": "python",
   "nbconvert_exporter": "python",
   "pygments_lexer": "ipython3",
   "version": "3.8.2"
  }
 },
 "nbformat": 4,
 "nbformat_minor": 4
}
