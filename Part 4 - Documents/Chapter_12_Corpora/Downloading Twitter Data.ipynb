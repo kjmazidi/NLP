{
 "cells": [
  {
   "cell_type": "markdown",
   "metadata": {},
   "source": [
    "# Downloading Twitter Data\n",
    "\n",
    "Twitter provides a packages for downloading tweets that can be installed with pip or pip3:\n",
    "\n",
    "```\n",
    "pip install tweepy\n",
    "```\n",
    "\n",
    "Before getting started with the code below, you need a Twitter account, and then you need to get a Twitter Developer Account. Sign up [here](https://developer.twitter.com/en/apply-for-access.html)\n",
    "\n",
    "A personal account with standard access is a good starting point. You can always upgrade later.\n",
    "\n",
    "After you have developer access, you will be taken to a documentation page to help you get started. To get the authentication keys you need to create an app. You will need to have a web page set up for the app. The guidelines walk you through it. \n",
    "\n",
    "Once the app is set up you can get keys and put them in the code as outlined below.\n"
   ]
  },
  {
   "cell_type": "code",
   "execution_count": 1,
   "metadata": {},
   "outputs": [],
   "source": [
    "consumer_key = 'your info here'\n",
    "consumer_secret = 'your info here'\n",
    "access_token = 'your info here'\n",
    "access_token_secret = 'your info here'"
   ]
  },
  {
   "cell_type": "code",
   "execution_count": 3,
   "metadata": {},
   "outputs": [],
   "source": [
    "# make sure to install tweepy first\n",
    "import tweepy as tw\n",
    "\n",
    "auth = tw.OAuthHandler(consumer_key, consumer_secret)\n",
    "auth.set_access_token(access_token, access_token_secret)\n",
    "api = tw.API(auth, wait_on_rate_limit=True)"
   ]
  },
  {
   "cell_type": "code",
   "execution_count": 4,
   "metadata": {},
   "outputs": [],
   "source": [
    "# try a search\n",
    "search_words = '#nlp+#ml -filter:retweets'\n",
    "date_since = \"2019-07-01\""
   ]
  },
  {
   "cell_type": "code",
   "execution_count": 5,
   "metadata": {},
   "outputs": [
    {
     "data": {
      "text/plain": [
       "<tweepy.cursor.ItemIterator at 0x111085160>"
      ]
     },
     "execution_count": 5,
     "metadata": {},
     "output_type": "execute_result"
    }
   ],
   "source": [
    "# Collect 5 tweets about nlp\n",
    "tweets = tw.Cursor(api.search,\n",
    "              q=search_words,\n",
    "              lang=\"en\",\n",
    "              since=date_since).items(5)\n",
    "tweets"
   ]
  },
  {
   "cell_type": "markdown",
   "metadata": {},
   "source": [
    "## Stored information\n",
    "\n",
    "A lot of information is available in each tweet besides the text. Type tweet-dot-tab to see a list\n",
    "\n",
    "These include:\n",
    "tweet.user.location"
   ]
  },
  {
   "cell_type": "code",
   "execution_count": 6,
   "metadata": {},
   "outputs": [],
   "source": [
    "# save data in a list\n",
    "user_location_text = [[tweet.user.screen_name, tweet.user.location, tweet.text]\n",
    "                      for tweet in tweets]"
   ]
  },
  {
   "cell_type": "code",
   "execution_count": 7,
   "metadata": {},
   "outputs": [
    {
     "data": {
      "text/html": [
       "<div>\n",
       "<style scoped>\n",
       "    .dataframe tbody tr th:only-of-type {\n",
       "        vertical-align: middle;\n",
       "    }\n",
       "\n",
       "    .dataframe tbody tr th {\n",
       "        vertical-align: top;\n",
       "    }\n",
       "\n",
       "    .dataframe thead th {\n",
       "        text-align: right;\n",
       "    }\n",
       "</style>\n",
       "<table border=\"1\" class=\"dataframe\">\n",
       "  <thead>\n",
       "    <tr style=\"text-align: right;\">\n",
       "      <th></th>\n",
       "      <th>user</th>\n",
       "      <th>location</th>\n",
       "      <th>tweet</th>\n",
       "    </tr>\n",
       "  </thead>\n",
       "  <tbody>\n",
       "    <tr>\n",
       "      <th>0</th>\n",
       "      <td>Deep_In_Depth</td>\n",
       "      <td>Digne-les-Bains, France</td>\n",
       "      <td>Moore's Law Is Dying. This Brain-Inspired Anal...</td>\n",
       "    </tr>\n",
       "    <tr>\n",
       "      <th>1</th>\n",
       "      <td>Colin_Hung</td>\n",
       "      <td>Toronto</td>\n",
       "      <td>Underpinning effective #AI #NLP #ML and #SDOH ...</td>\n",
       "    </tr>\n",
       "    <tr>\n",
       "      <th>2</th>\n",
       "      <td>BreanaPatelnyc</td>\n",
       "      <td>🗽 🇺🇸www.breanapatel.com</td>\n",
       "      <td>Difficulties in explaining machine learning (M...</td>\n",
       "    </tr>\n",
       "    <tr>\n",
       "      <th>3</th>\n",
       "      <td>Deep_In_Depth</td>\n",
       "      <td>Digne-les-Bains, France</td>\n",
       "      <td>AI Can Read A Cardiac MRI In 4 Seconds: Do We ...</td>\n",
       "    </tr>\n",
       "    <tr>\n",
       "      <th>4</th>\n",
       "      <td>CasonCherry</td>\n",
       "      <td>New Hampshire, USA</td>\n",
       "      <td>The ⁦@lexfridman⁩ podcast with ⁦@GaryMarcus⁩ g...</td>\n",
       "    </tr>\n",
       "  </tbody>\n",
       "</table>\n",
       "</div>"
      ],
      "text/plain": [
       "             user                 location  \\\n",
       "0   Deep_In_Depth  Digne-les-Bains, France   \n",
       "1      Colin_Hung                  Toronto   \n",
       "2  BreanaPatelnyc  🗽 🇺🇸www.breanapatel.com   \n",
       "3   Deep_In_Depth  Digne-les-Bains, France   \n",
       "4     CasonCherry       New Hampshire, USA   \n",
       "\n",
       "                                               tweet  \n",
       "0  Moore's Law Is Dying. This Brain-Inspired Anal...  \n",
       "1  Underpinning effective #AI #NLP #ML and #SDOH ...  \n",
       "2  Difficulties in explaining machine learning (M...  \n",
       "3  AI Can Read A Cardiac MRI In 4 Seconds: Do We ...  \n",
       "4  The ⁦@lexfridman⁩ podcast with ⁦@GaryMarcus⁩ g...  "
      ]
     },
     "execution_count": 7,
     "metadata": {},
     "output_type": "execute_result"
    }
   ],
   "source": [
    "# store it in a pandas data frame\n",
    "import pandas as pd\n",
    "\n",
    "df = pd.DataFrame(data=user_location_text,\n",
    "                 columns=['user', 'location', 'tweet'])\n",
    "df.head()"
   ]
  },
  {
   "cell_type": "code",
   "execution_count": null,
   "metadata": {},
   "outputs": [],
   "source": []
  }
 ],
 "metadata": {
  "kernelspec": {
   "display_name": "Python 3",
   "language": "python",
   "name": "python3"
  },
  "language_info": {
   "codemirror_mode": {
    "name": "ipython",
    "version": 3
   },
   "file_extension": ".py",
   "mimetype": "text/x-python",
   "name": "python",
   "nbconvert_exporter": "python",
   "pygments_lexer": "ipython3",
   "version": "3.8.2"
  }
 },
 "nbformat": 4,
 "nbformat_minor": 4
}
