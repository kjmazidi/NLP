{
 "cells": [
  {
   "cell_type": "markdown",
   "metadata": {},
   "source": [
    "## Strings \n",
    "\n",
    "The built-in **str** class has many built-in functions for text processing. \n",
    "\n",
    "Strings can be enclosed in single or double quotes, and string literals inside triple quotes can span multiple lines.\n",
    "\n",
    "Python doesn't support a char class, so a single character is a string of length 1. \n",
    "\n",
    "You can access the individual characters in a string with [n], where n ranges from 0 to the length of the string minus 1.\n"
   ]
  },
  {
   "cell_type": "code",
   "execution_count": 35,
   "metadata": {},
   "outputs": [
    {
     "name": "stdout",
     "output_type": "stream",
     "text": [
      "0 h\n",
      "1 e\n",
      "2 l\n",
      "3 l\n",
      "4 o\n"
     ]
    }
   ],
   "source": [
    "string1 = 'hello'\n",
    "for i, char in enumerate(string1):\n",
    "    print(i, char)"
   ]
  },
  {
   "cell_type": "markdown",
   "metadata": {},
   "source": [
    "Python also supports negative indices. That is [-1] is the last element, [-2] is the next to last, and so on."
   ]
  },
  {
   "cell_type": "code",
   "execution_count": 36,
   "metadata": {},
   "outputs": [
    {
     "name": "stdout",
     "output_type": "stream",
     "text": [
      "o\n",
      "l\n"
     ]
    }
   ],
   "source": [
    "print(string1[-1])\n",
    "print(string1[-2])"
   ]
  },
  {
   "cell_type": "markdown",
   "metadata": {},
   "source": [
    "### slicing\n",
    "\n",
    "string3[m:n] is a *slice* of string3 from string3[m] to string3[n-1]"
   ]
  },
  {
   "cell_type": "code",
   "execution_count": 9,
   "metadata": {},
   "outputs": [
    {
     "data": {
      "text/plain": [
       "'rose'"
      ]
     },
     "execution_count": 9,
     "metadata": {},
     "output_type": "execute_result"
    }
   ],
   "source": [
    "string3 = 'the yellow rose of Texas'\n",
    "string3[11:15]"
   ]
  },
  {
   "cell_type": "markdown",
   "metadata": {},
   "source": [
    "You can omit the first or last index of a slice."
   ]
  },
  {
   "cell_type": "code",
   "execution_count": 12,
   "metadata": {},
   "outputs": [
    {
     "name": "stdout",
     "output_type": "stream",
     "text": [
      "the  \t Texas\n"
     ]
    }
   ],
   "source": [
    "print(string3[:4], '\\t', string3[19:])"
   ]
  },
  {
   "cell_type": "markdown",
   "metadata": {},
   "source": [
    "a[:n] + a[n:] gives you the whole string"
   ]
  },
  {
   "cell_type": "code",
   "execution_count": 13,
   "metadata": {},
   "outputs": [
    {
     "data": {
      "text/plain": [
       "'the yellow rose of Texas'"
      ]
     },
     "execution_count": 13,
     "metadata": {},
     "output_type": "execute_result"
    }
   ],
   "source": [
    "string3[:9] + string3[9:]"
   ]
  },
  {
   "cell_type": "markdown",
   "metadata": {},
   "source": [
    "If you omit both indices you get a copy"
   ]
  },
  {
   "cell_type": "code",
   "execution_count": 14,
   "metadata": {},
   "outputs": [
    {
     "name": "stdout",
     "output_type": "stream",
     "text": [
      "the yellow rose of Texas\n",
      "0x108800c60 0x108800c60\n"
     ]
    }
   ],
   "source": [
    "string3_cp = string3[:]\n",
    "print(string3_cp)\n",
    "\n",
    "# is it a new copy or just pointing to the other string?\n",
    "print(hex(id(string3)), hex(id(string3_cp)))"
   ]
  },
  {
   "cell_type": "markdown",
   "metadata": {},
   "source": [
    "Initially, they are pointing to the same location.\n",
    "\n",
    "However, if you change one, Python will create a new location.\n"
   ]
  },
  {
   "cell_type": "code",
   "execution_count": 15,
   "metadata": {},
   "outputs": [
    {
     "name": "stdout",
     "output_type": "stream",
     "text": [
      "0x106759f30 0x108800c60\n"
     ]
    }
   ],
   "source": [
    "string3 = 'changed'\n",
    "print(hex(id(string3)), hex(id(string3_cp)))"
   ]
  },
  {
   "cell_type": "markdown",
   "metadata": {},
   "source": [
    "### concatenate\n",
    "\n",
    "* use the + operator\n",
    "* make sure they are of the same type"
   ]
  },
  {
   "cell_type": "code",
   "execution_count": 16,
   "metadata": {},
   "outputs": [
    {
     "data": {
      "text/plain": [
       "'my favorite number is 3'"
      ]
     },
     "execution_count": 16,
     "metadata": {},
     "output_type": "execute_result"
    }
   ],
   "source": [
    "string2 = 'my favorite number is ' + str(3)\n",
    "string2"
   ]
  },
  {
   "cell_type": "markdown",
   "metadata": {},
   "source": [
    "### other string operators\n",
    "\n",
    "* \\* repetition\n",
    "* in\n",
    "* % format"
   ]
  },
  {
   "cell_type": "code",
   "execution_count": 17,
   "metadata": {},
   "outputs": [
    {
     "name": "stdout",
     "output_type": "stream",
     "text": [
      "ab\n",
      "aaa\n",
      "True\n",
      "Format an int: 5, a float: 5.60, a string: hi\n"
     ]
    }
   ],
   "source": [
    "print('a' + 'b')\n",
    "print('a' * 3)\n",
    "print('a' in string3)\n",
    "print(\"Format an int: %d, a float: %2.2f, a string: %s\" % (5, 5.6, 'hi'))"
   ]
  },
  {
   "cell_type": "markdown",
   "metadata": {},
   "source": [
    "### string methods\n",
    "\n",
    "There are dozens of built-in string functions. You can read the documentation:\n",
    "\n",
    "https://docs.python.org/3/library/stdtypes.html#string-methods\n",
    "\n",
    "Here are some that are commonly used:\n",
    "\n",
    "* upper() and lower() to change case\n",
    "* isalpha(), isdigit(), isspace()\n",
    "* startswith() and endswith()\n",
    "* strip() to remove whitespace from start and end\n",
    "* split() to split into a list of strings\n",
    "* join() to join a list of strings into one string\n",
    "* find() - return index or -1\n",
    "* count() - count unique occurrences\n"
   ]
  },
  {
   "cell_type": "markdown",
   "metadata": {},
   "source": [
    "### upper(), lower()\n",
    "\n",
    "These functions return a new string."
   ]
  },
  {
   "cell_type": "code",
   "execution_count": 18,
   "metadata": {},
   "outputs": [
    {
     "name": "stdout",
     "output_type": "stream",
     "text": [
      "pied piper PIED PIPER\n"
     ]
    }
   ],
   "source": [
    "string_pp = 'Pied Piper'\n",
    "print(string_pp.lower(), string_pp.upper())"
   ]
  },
  {
   "cell_type": "markdown",
   "metadata": {},
   "source": [
    "### isalpha(), isdigit(), isspace()\n",
    "\n",
    "These functions return a Boolean value."
   ]
  },
  {
   "cell_type": "code",
   "execution_count": 19,
   "metadata": {},
   "outputs": [
    {
     "name": "stdout",
     "output_type": "stream",
     "text": [
      "True\n",
      "True\n",
      "True\n"
     ]
    }
   ],
   "source": [
    "string4 = 'number = 3'\n",
    "print(string4[0].isalpha())\n",
    "print(string4[-1].isdigit())\n",
    "print(string4[6].isspace())"
   ]
  },
  {
   "cell_type": "markdown",
   "metadata": {},
   "source": [
    "### startswith() and endswith()\n",
    "\n",
    "These functions return a Boolean value."
   ]
  },
  {
   "cell_type": "code",
   "execution_count": 20,
   "metadata": {},
   "outputs": [
    {
     "name": "stdout",
     "output_type": "stream",
     "text": [
      "True\n",
      "True\n"
     ]
    }
   ],
   "source": [
    "string_hello = 'hello world'\n",
    "print(string_hello.startswith('hello'))\n",
    "print(string_hello.endswith('world'))"
   ]
  },
  {
   "cell_type": "markdown",
   "metadata": {},
   "source": [
    "### strip()\n",
    "\n",
    "Returns a string with the whitespace removed from both ends."
   ]
  },
  {
   "cell_type": "code",
   "execution_count": 21,
   "metadata": {},
   "outputs": [
    {
     "data": {
      "text/plain": [
       "5"
      ]
     },
     "execution_count": 21,
     "metadata": {},
     "output_type": "execute_result"
    }
   ],
   "source": [
    "spacey = \" hello \"\n",
    "not_spacey = spacey.strip()\n",
    "len(not_spacey)"
   ]
  },
  {
   "cell_type": "markdown",
   "metadata": {},
   "source": [
    "### split()\n",
    "\n",
    "inputs a string, returns a list\n",
    "\n",
    "By default it splits on whitespace but you can specify delimiters in the optional argument. "
   ]
  },
  {
   "cell_type": "code",
   "execution_count": 22,
   "metadata": {},
   "outputs": [
    {
     "name": "stdout",
     "output_type": "stream",
     "text": [
      "this\n",
      "is\n",
      "a\n",
      "lot\n",
      "of\n",
      "text\n",
      "in\n",
      "a\n",
      "string\n"
     ]
    }
   ],
   "source": [
    "long_string = 'this is a lot of text in a string'\n",
    "tokens = long_string.split()\n",
    "for token in tokens:\n",
    "    print(token)"
   ]
  },
  {
   "cell_type": "markdown",
   "metadata": {},
   "source": [
    "### join()\n",
    "\n",
    "inputs a list, returns a string"
   ]
  },
  {
   "cell_type": "code",
   "execution_count": 23,
   "metadata": {},
   "outputs": [
    {
     "name": "stdout",
     "output_type": "stream",
     "text": [
      "thisisalotoftextinastring\n",
      "this is a lot of text in a string\n",
      "this*is*a*lot*of*text*in*a*string\n"
     ]
    }
   ],
   "source": [
    "print(''.join(tokens))\n",
    "print(' '.join(tokens))\n",
    "print('*'.join(tokens))"
   ]
  },
  {
   "cell_type": "markdown",
   "metadata": {},
   "source": [
    "### find()\n",
    "\n",
    "returns the index of the found item or -1"
   ]
  },
  {
   "cell_type": "code",
   "execution_count": 25,
   "metadata": {},
   "outputs": [
    {
     "data": {
      "text/plain": [
       "'Texas'"
      ]
     },
     "execution_count": 25,
     "metadata": {},
     "output_type": "execute_result"
    }
   ],
   "source": [
    "string_utd = 'the yellow rose of Texas'\n",
    "i = string_utd.find('Texas')\n",
    "string_utd[i:]"
   ]
  },
  {
   "cell_type": "markdown",
   "metadata": {},
   "source": [
    "### count()\n",
    "\n",
    "returns an integer"
   ]
  },
  {
   "cell_type": "code",
   "execution_count": 26,
   "metadata": {},
   "outputs": [
    {
     "data": {
      "text/plain": [
       "1"
      ]
     },
     "execution_count": 26,
     "metadata": {},
     "output_type": "execute_result"
    }
   ],
   "source": [
    "count_a = string_utd.count('a')\n",
    "count_a"
   ]
  },
  {
   "cell_type": "markdown",
   "metadata": {},
   "source": [
    "### Practice: write functions and test the following\n",
    "\n",
    "1. given a string, return the first and last characters joined into a new string; if the string is less than 2 characters, return the string\n",
    "2. given a string, return the number of vowels \n",
    "3. given a string, return a string containing all found vowels in order\n",
    "4. given a string, return a string containing 'aeiou' if all vowels found, 'ai' if only vowels a and i were found, etc."
   ]
  },
  {
   "cell_type": "code",
   "execution_count": 1,
   "metadata": {},
   "outputs": [],
   "source": [
    "# practice 1\n",
    "\n"
   ]
  },
  {
   "cell_type": "code",
   "execution_count": 2,
   "metadata": {},
   "outputs": [],
   "source": [
    "# practice 2\n",
    " "
   ]
  },
  {
   "cell_type": "code",
   "execution_count": 3,
   "metadata": {},
   "outputs": [],
   "source": [
    "# practice 3\n"
   ]
  },
  {
   "cell_type": "code",
   "execution_count": 4,
   "metadata": {},
   "outputs": [],
   "source": [
    "# practice 4\n"
   ]
  },
  {
   "cell_type": "markdown",
   "metadata": {},
   "source": []
  }
 ],
 "metadata": {
  "kernelspec": {
   "display_name": "Python 3",
   "language": "python",
   "name": "python3"
  },
  "language_info": {
   "codemirror_mode": {
    "name": "ipython",
    "version": 3
   },
   "file_extension": ".py",
   "mimetype": "text/x-python",
   "name": "python",
   "nbconvert_exporter": "python",
   "pygments_lexer": "ipython3",
   "version": "3.8.2"
  }
 },
 "nbformat": 4,
 "nbformat_minor": 4
}
