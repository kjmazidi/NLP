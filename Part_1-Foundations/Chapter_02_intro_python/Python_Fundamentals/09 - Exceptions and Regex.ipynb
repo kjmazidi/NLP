{
 "cells": [
  {
   "cell_type": "markdown",
   "metadata": {},
   "source": [
    "# Exceptions\n",
    "\n",
    "Exceptions are errors that occur during runtime. Python will print out the type of Exception and other information as shown below:"
   ]
  },
  {
   "cell_type": "code",
   "execution_count": 1,
   "metadata": {},
   "outputs": [
    {
     "ename": "ZeroDivisionError",
     "evalue": "division by zero",
     "output_type": "error",
     "traceback": [
      "\u001b[1;31m---------------------------------------------------------------------------\u001b[0m",
      "\u001b[1;31mZeroDivisionError\u001b[0m                         Traceback (most recent call last)",
      "\u001b[1;32m<ipython-input-1-1fca4d039d5d>\u001b[0m in \u001b[0;36m<module>\u001b[1;34m\u001b[0m\n\u001b[0;32m      1\u001b[0m \u001b[0mx\u001b[0m \u001b[1;33m=\u001b[0m \u001b[1;36m5\u001b[0m\u001b[1;33m\u001b[0m\u001b[1;33m\u001b[0m\u001b[0m\n\u001b[0;32m      2\u001b[0m \u001b[0my\u001b[0m \u001b[1;33m=\u001b[0m \u001b[1;36m0\u001b[0m\u001b[1;33m\u001b[0m\u001b[1;33m\u001b[0m\u001b[0m\n\u001b[1;32m----> 3\u001b[1;33m \u001b[0mz\u001b[0m \u001b[1;33m=\u001b[0m \u001b[0mx\u001b[0m \u001b[1;33m/\u001b[0m \u001b[0my\u001b[0m\u001b[1;33m\u001b[0m\u001b[1;33m\u001b[0m\u001b[0m\n\u001b[0m",
      "\u001b[1;31mZeroDivisionError\u001b[0m: division by zero"
     ]
    }
   ],
   "source": [
    "x = 5\n",
    "y = 0\n",
    "z = x / y"
   ]
  },
  {
   "cell_type": "markdown",
   "metadata": {},
   "source": [
    "We can write defensive code to catch exceptions with try/except blocks as shown below."
   ]
  },
  {
   "cell_type": "code",
   "execution_count": 2,
   "metadata": {},
   "outputs": [
    {
     "name": "stdout",
     "output_type": "stream",
     "text": [
      "Error: Attempting to divide by zero\n"
     ]
    }
   ],
   "source": [
    "try:\n",
    "    z = x / y\n",
    "except ZeroDivisionError:\n",
    "    print(\"Error: Attempting to divide by zero\")\n",
    "except:\n",
    "    print(\"Unexpected error\")"
   ]
  },
  {
   "cell_type": "markdown",
   "metadata": {},
   "source": [
    "The try/except blocks can also include else and finally clauses. See [the docs](https://docs.python.org/3/tutorial/errors.html) for a lengthy explanation.\n",
    "\n",
    "Professional quality code would of course include such exception handling but when you are quickly developing an idea that you know will go through many cycles of rewrites then minimizing these try/except blocks makes the code easier to read and update. "
   ]
  },
  {
   "cell_type": "markdown",
   "metadata": {},
   "source": [
    "# Regular expressions\n",
    "\n",
    "Regular expressions are strings that encode a pattern. You can then match this pattern to other strings to find, extract, or modify other strings.\n",
    "\n",
    "Python has a regular expression module, **re**, that you need to import before using regular expressions. Regex is another lengthy topic that you can research in [the docs](https://docs.python.org/3/howto/regex.html). Regular expressions are commonly used in text\n",
    "processing tasks. \n",
    "\n",
    "The first example demonstrates the re.sub method which has the form:\n",
    "re.sub(pattern, replace, string, max=0)"
   ]
  },
  {
   "cell_type": "code",
   "execution_count": 3,
   "metadata": {},
   "outputs": [
    {
     "name": "stdout",
     "output_type": "stream",
     "text": [
      "5554441234\n"
     ]
    }
   ],
   "source": [
    "import re\n",
    "\n",
    "text = '555-444-1234'\n",
    "numbers = re.sub(r'\\D', '', text)  # get rid of non-digit chars\n",
    "print(numbers)"
   ]
  },
  {
   "cell_type": "markdown",
   "metadata": {},
   "source": [
    "### re.match() and re.search()\n",
    "\n",
    "The **re.match()** method matches a pattern with a string. The pattern is the first argument and the string is the second argument, and returns a match object or None. \n",
    "\n",
    "The following trivial example shows the difference between re.match which looks at the beginning of the string, and re.search which looks anywhere in the string.\n",
    "\n",
    "There are some helpful methods/attributes for the match object.\n",
    "* group() reutrns the string matched by the RE or None\n",
    "* start() and end() return the starting and ending position of the match\n",
    "* span() returns a tuple (start, end)"
   ]
  },
  {
   "cell_type": "code",
   "execution_count": 4,
   "metadata": {},
   "outputs": [
    {
     "name": "stdout",
     "output_type": "stream",
     "text": [
      "didn't find a dog\n",
      "dog\n"
     ]
    }
   ],
   "source": [
    "text = 'My dog is cuter than your dog.'\n",
    "m = re.match(r'dog', text)\n",
    "if m:\n",
    "    print(m.group())\n",
    "else:\n",
    "    print(\"didn't find a dog\")\n",
    "    \n",
    "m = re.search(r'dog', text)\n",
    "if m:\n",
    "    print(m.group())\n",
    "else:\n",
    "    print(\"didn't find a dog\")"
   ]
  },
  {
   "cell_type": "markdown",
   "metadata": {},
   "source": [
    "Regex are very powerful but take quite a bit of practice to get used to. Here are a couple of resources that should prove helpful if you need to write a regex:\n",
    "\n",
    "[Regex cheat sheet](https://pycon2016.regex.training/cheat-sheet)\n",
    "\n",
    "[Regex checker](http://www.pythex.org)"
   ]
  },
  {
   "cell_type": "markdown",
   "metadata": {},
   "source": [
    "## Regular Expressions: a deeper dive\n",
    "\n",
    "Chapter 2 of the J&M book discusses regular expressions. Regex work similarly in most languages, we'll look at the examples from the J&M book in a Python environment.\n",
    "\n",
    "### woodchuck\n",
    "\n",
    "What if you want to search for:\n",
    "* woodchuck\n",
    "* woodchucks\n",
    "* Woodchuck\n",
    "* Woodchucks\n",
    "\n",
    "We could write a messy Python if:\n",
    "\n",
    "if 'woodchuck' in mystring or 'woodchucks' in mystring or .....\n",
    "\n",
    "However, a better way to match all these variations, logically a disjunction, is to use regex. \n",
    "\n",
    "### using [ ]\n",
    "\n",
    "Characters inside [ ] form logical disjuntions if they are listed sequentially as well as ranges:\n",
    "\n",
    "* **[wW]oodchuck** will match *Woodchuck* or *woodchuck*\n",
    "* **[0123456789]** will match a digit\n",
    "* **[A-Z]** will match an upper case letter\n",
    "* **[a-z]** will match a lower case letter\n",
    "* **[0-9]** a single digit"
   ]
  },
  {
   "cell_type": "code",
   "execution_count": 5,
   "metadata": {},
   "outputs": [
    {
     "name": "stdout",
     "output_type": "stream",
     "text": [
      "Woodchuck\n",
      "m has type:  <class '_sre.SRE_Match'>\n"
     ]
    }
   ],
   "source": [
    "text1 = 'How many chucks could Mr. Woodchuck chuck if woodchucks could chuck wood?'\n",
    "m = re.search('[Ww]oodchuck', text1)\n",
    "if m:\n",
    "    print(m.group())\n",
    "else:\n",
    "    print(\"no woodchucks here\")\n",
    "print('m has type: ', type(m))\n"
   ]
  },
  {
   "cell_type": "markdown",
   "metadata": {},
   "source": [
    "### search vs. findall\n",
    "\n",
    "OK, we found a woodchuck but what if we wanted all the woodchucks? \n",
    "\n",
    "Notice above that **re.search** returned a match object or None if there is no match. A match object has the method **.group()** to return subgroups of the match. We'll see other examples of that later. \n",
    "\n",
    "The **re.findall** will find all matches. Notice that below, the type of *m* is a list.\n",
    "\n"
   ]
  },
  {
   "cell_type": "code",
   "execution_count": 6,
   "metadata": {},
   "outputs": [
    {
     "name": "stdout",
     "output_type": "stream",
     "text": [
      "['Woodchuck', 'woodchuck']\n",
      "m has type:  <class 'list'>\n"
     ]
    }
   ],
   "source": [
    "m = re.findall('([Ww]oodchuck)', text1)\n",
    "if m:\n",
    "    print(m)\n",
    "else:\n",
    "    print(\"no woodchucks here\")\n",
    "print('m has type: ', type(m))"
   ]
  },
  {
   "cell_type": "markdown",
   "metadata": {},
   "source": [
    "Some more examples:"
   ]
  },
  {
   "cell_type": "code",
   "execution_count": 7,
   "metadata": {},
   "outputs": [
    {
     "data": {
      "text/plain": [
       "['T', 'U', 'T', 'D']"
      ]
     },
     "execution_count": 7,
     "metadata": {},
     "output_type": "execute_result"
    }
   ],
   "source": [
    "m = re.findall('[A-Z]', 'The University of Texas at Dallas')\n",
    "m"
   ]
  },
  {
   "cell_type": "code",
   "execution_count": 8,
   "metadata": {},
   "outputs": [
    {
     "data": {
      "text/plain": [
       "['5', '3', '0', '6', '4', '5', '1', '1', '2', '1', '0']"
      ]
     },
     "execution_count": 8,
     "metadata": {},
     "output_type": "execute_result"
    }
   ],
   "source": [
    "m = re.findall('[0-9]', 'Class is from 5:30 to 6:45 in Room SOM 11.210.')\n",
    "m"
   ]
  },
  {
   "cell_type": "code",
   "execution_count": 9,
   "metadata": {},
   "outputs": [
    {
     "data": {
      "text/plain": [
       "['5', '3', '0', '6', '4', '5', '1', '1', '2', '1', '0']"
      ]
     },
     "execution_count": 9,
     "metadata": {},
     "output_type": "execute_result"
    }
   ],
   "source": [
    "# \\d means any digit, so we get the same results as above\n",
    "m = re.findall('\\d', 'Class is from 5:30 to 6:45 in Room SOM 11.210.')\n",
    "m"
   ]
  },
  {
   "cell_type": "code",
   "execution_count": 10,
   "metadata": {},
   "outputs": [
    {
     "data": {
      "text/plain": [
       "['C',\n",
       " '5',\n",
       " '3',\n",
       " '0',\n",
       " '6',\n",
       " '4',\n",
       " '5',\n",
       " 'R',\n",
       " 'S',\n",
       " 'O',\n",
       " 'M',\n",
       " '1',\n",
       " '1',\n",
       " '2',\n",
       " '1',\n",
       " '0']"
      ]
     },
     "execution_count": 10,
     "metadata": {},
     "output_type": "execute_result"
    }
   ],
   "source": [
    "# you can have more than one item within the brackets\n",
    "m = re.findall('[A-Z0-9]', 'Class is from 5:30 to 6:45 in Room SOM 11.210.')\n",
    "m"
   ]
  },
  {
   "cell_type": "markdown",
   "metadata": {},
   "source": [
    "### negation in disjunction\n",
    "\n",
    "We can express \"nor\" with the caret at the beginning of the []."
   ]
  },
  {
   "cell_type": "code",
   "execution_count": 11,
   "metadata": {},
   "outputs": [
    {
     "data": {
      "text/plain": [
       "[' ', 'l', 'o', 'v', 'e', ' ', '.']"
      ]
     },
     "execution_count": 11,
     "metadata": {},
     "output_type": "execute_result"
    }
   ],
   "source": [
    "m = re.findall('[^A-Z]', \"I love UTD.\")\n",
    "m"
   ]
  },
  {
   "cell_type": "code",
   "execution_count": 12,
   "metadata": {},
   "outputs": [
    {
     "data": {
      "text/plain": [
       "[' ', '=', ' ', '.']"
      ]
     },
     "execution_count": 12,
     "metadata": {},
     "output_type": "execute_result"
    }
   ],
   "source": [
    "m = re.findall('[^a-z^]', \"caret = ^.\") # not a-z and not ^\n",
    "m"
   ]
  },
  {
   "cell_type": "markdown",
   "metadata": {},
   "source": [
    "### some special characters\n",
    "\n",
    "See the full list on the pythex.org site, but here are a few common ones:\n",
    "\n",
    "* \\escape \n",
    "* . matches any character\n",
    "* ^ matches beginning of string\n",
    "* $ matches end of string\n",
    "* () group"
   ]
  },
  {
   "cell_type": "code",
   "execution_count": 13,
   "metadata": {},
   "outputs": [
    {
     "data": {
      "text/plain": [
       "['\\n']"
      ]
     },
     "execution_count": 13,
     "metadata": {},
     "output_type": "execute_result"
    }
   ],
   "source": [
    "m = re.findall('[\\\\n]', \"line \\n break\")\n",
    "m"
   ]
  },
  {
   "cell_type": "code",
   "execution_count": 14,
   "metadata": {},
   "outputs": [
    {
     "data": {
      "text/plain": [
       "['blah1']"
      ]
     },
     "execution_count": 14,
     "metadata": {},
     "output_type": "execute_result"
    }
   ],
   "source": [
    "# capture blah at beginning of string followed by a single char\n",
    "m = re.findall('(^blah.)', \"blah1 blah2 blah3\")  \n",
    "m"
   ]
  },
  {
   "cell_type": "code",
   "execution_count": 15,
   "metadata": {},
   "outputs": [
    {
     "data": {
      "text/plain": [
       "['blah3']"
      ]
     },
     "execution_count": 15,
     "metadata": {},
     "output_type": "execute_result"
    }
   ],
   "source": [
    "m = re.findall('(blah.$)', \"blah1 blah2 blah3\")\n",
    "m"
   ]
  },
  {
   "cell_type": "markdown",
   "metadata": {},
   "source": [
    "### quantifiers\n",
    "\n",
    "* * 0 or more (append ? for non-greedy)\n",
    "* + 1 or more (append ? for non-greedy)\n",
    "* ? 0 or 1 (append ? for non-greedy)"
   ]
  },
  {
   "cell_type": "code",
   "execution_count": 16,
   "metadata": {},
   "outputs": [
    {
     "data": {
      "text/plain": [
       "['color', 'colour']"
      ]
     },
     "execution_count": 16,
     "metadata": {},
     "output_type": "execute_result"
    }
   ],
   "source": [
    "m = re.findall('colou?r', \"In the US we spell it color but the British spell it colour.\")  \n",
    "m"
   ]
  },
  {
   "cell_type": "code",
   "execution_count": 17,
   "metadata": {},
   "outputs": [
    {
     "data": {
      "text/plain": [
       "['Wow! Super!! Tremendous!!!', '']"
      ]
     },
     "execution_count": 17,
     "metadata": {},
     "output_type": "execute_result"
    }
   ],
   "source": [
    "m = re.findall('(.*!*)', 'Wow! Super!! Tremendous!!!')\n",
    "m"
   ]
  },
  {
   "cell_type": "code",
   "execution_count": 18,
   "metadata": {},
   "outputs": [
    {
     "data": {
      "text/plain": [
       "['Wow!', ' Super!!', ' Tremendous!!!']"
      ]
     },
     "execution_count": 18,
     "metadata": {},
     "output_type": "execute_result"
    }
   ],
   "source": [
    "m = re.findall('(.+?!+)', 'Wow! Super!! Tremendous!!!')\n",
    "m"
   ]
  }
 ],
 "metadata": {
  "kernelspec": {
   "display_name": "Python 3",
   "language": "python",
   "name": "python3"
  },
  "language_info": {
   "codemirror_mode": {
    "name": "ipython",
    "version": 3
   },
   "file_extension": ".py",
   "mimetype": "text/x-python",
   "name": "python",
   "nbconvert_exporter": "python",
   "pygments_lexer": "ipython3",
   "version": "3.8.2"
  }
 },
 "nbformat": 4,
 "nbformat_minor": 4
}
