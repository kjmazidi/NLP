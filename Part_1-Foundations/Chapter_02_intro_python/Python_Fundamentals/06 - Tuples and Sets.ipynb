{
 "cells": [
  {
   "cell_type": "markdown",
   "metadata": {},
   "source": [
    "## Tuples\n",
    "\n",
    "Python strings, lists and tuples are sequence types. Lists and tuples are both ordered collection of objects. The elements of a list or a tuple can by any type of object, including other lists or tuples.\n",
    "\n",
    "Lists use square brackets [] and are mutable.\n",
    "Tuples use parenthesis () and are immutable. \n",
    "\n",
    "If tuples are like lists, then why do we need them?\n",
    "\n",
    "There are situations when we need an immutable sequence of objects. For example, a tuple can be a key for a dict, but lists cannot because they are mutable.\n",
    "\n",
    "### Create a tuple\n",
    "\n",
    "A tuple can simply be created by assigning a list of comma-separated objects on the right-hand-side of the assignment operator.\n"
   ]
  },
  {
   "cell_type": "code",
   "execution_count": 3,
   "metadata": {},
   "outputs": [
    {
     "data": {
      "text/plain": [
       "('a', 3, 5.6)"
      ]
     },
     "execution_count": 3,
     "metadata": {},
     "output_type": "execute_result"
    }
   ],
   "source": [
    "t = 'a', 3, 5.6   # create a tuple\n",
    "t\n"
   ]
  },
  {
   "cell_type": "markdown",
   "metadata": {},
   "source": [
    "Tuple elements can be accessed by the same indexing notation that works on strings and lists: []"
   ]
  },
  {
   "cell_type": "code",
   "execution_count": 4,
   "metadata": {},
   "outputs": [
    {
     "data": {
      "text/plain": [
       "'a'"
      ]
     },
     "execution_count": 4,
     "metadata": {},
     "output_type": "execute_result"
    }
   ],
   "source": [
    "t[0]"
   ]
  },
  {
   "cell_type": "markdown",
   "metadata": {},
   "source": [
    "### tuple unpacking\n",
    "\n",
    "When a tuple is on the right hand side of an assignment statement, it's individuals elements are placed in order in the variables on the left hand side.\n",
    "\n",
    "The second print statement below shows another use of tuple unpacking."
   ]
  },
  {
   "cell_type": "code",
   "execution_count": 5,
   "metadata": {},
   "outputs": [
    {
     "name": "stdout",
     "output_type": "stream",
     "text": [
      "3 a 5.6\n"
     ]
    }
   ],
   "source": [
    "# unpack the tuple into 3 variables\n",
    "\n",
    "astring, adigit, afloat = t\n",
    "print(f'{adigit} {astring} {afloat}')\n"
   ]
  },
  {
   "cell_type": "markdown",
   "metadata": {},
   "source": [
    "### tuple methods\n",
    "\n",
    "Here are some commonly used tuple methods."
   ]
  },
  {
   "cell_type": "code",
   "execution_count": 7,
   "metadata": {},
   "outputs": [
    {
     "name": "stdout",
     "output_type": "stream",
     "text": [
      "length =  3\n",
      "count 1 =  0\n",
      "count 3 =  1\n"
     ]
    }
   ],
   "source": [
    "print('length = ', len(t))\n",
    "print('count 1 = ', t.count('1'))\n",
    "print('count 3 = ', t.count(3))\n",
    "if 'pasta' in t:\n",
    "    print('index = ', t.index('pasta'))"
   ]
  },
  {
   "cell_type": "markdown",
   "metadata": {},
   "source": [
    "### convert to/from list/tuple\n",
    "\n",
    "The list() and tuple() functions can be used for conversion."
   ]
  },
  {
   "cell_type": "code",
   "execution_count": 6,
   "metadata": {},
   "outputs": [
    {
     "name": "stdout",
     "output_type": "stream",
     "text": [
      "type of l is <class 'list'>\n",
      "type of t is <class 'tuple'>\n"
     ]
    }
   ],
   "source": [
    "l = list(t)\n",
    "print('type of l is', type(l))\n",
    "t = tuple(t)\n",
    "print('type of t is', type(t))"
   ]
  },
  {
   "cell_type": "markdown",
   "metadata": {},
   "source": [
    "### Sets\n",
    "\n",
    "Whereas lists, tuples, and strings are sequential data types, sets are unordered collections of objects. Further, no duplicates are allowed in sets. \n",
    "\n",
    "We can create a set with comma-separated objects enlosed in {}, as shown below. We can use the **in** operation to test for membership."
   ]
  },
  {
   "cell_type": "code",
   "execution_count": 2,
   "metadata": {},
   "outputs": [
    {
     "data": {
      "text/plain": [
       "True"
      ]
     },
     "execution_count": 2,
     "metadata": {},
     "output_type": "execute_result"
    }
   ],
   "source": [
    "fruits = {'apple', 'banana', 'orange'}\n",
    "\n",
    "'apple' in fruits"
   ]
  },
  {
   "cell_type": "markdown",
   "metadata": {},
   "source": [
    "### set()\n",
    "\n",
    "The set function can create a set from other objects such as a string a shown below by including only unique elements. "
   ]
  },
  {
   "cell_type": "code",
   "execution_count": 8,
   "metadata": {},
   "outputs": [
    {
     "data": {
      "text/plain": [
       "{'a', 'e', 'h', 'l', 'n', 'p', 't'}"
      ]
     },
     "execution_count": 8,
     "metadata": {},
     "output_type": "execute_result"
    }
   ],
   "source": [
    "letter_set = set('elephant')\n",
    "letter_set"
   ]
  },
  {
   "cell_type": "markdown",
   "metadata": {},
   "source": [
    "### set comprehensions\n",
    "\n",
    "There is a set comprehension available that is comparable to the list comprehensions."
   ]
  },
  {
   "cell_type": "code",
   "execution_count": 9,
   "metadata": {},
   "outputs": [
    {
     "data": {
      "text/plain": [
       "{'a', 'e', 'h', 'l', 'n', 'p', 't'}"
      ]
     },
     "execution_count": 9,
     "metadata": {},
     "output_type": "execute_result"
    }
   ],
   "source": [
    "letters = {x for x in 'elephant'}\n",
    "letters\n"
   ]
  },
  {
   "cell_type": "markdown",
   "metadata": {},
   "source": [
    "### operations on sets\n",
    "\n",
    "Because sets are immutable we cannot change individual elements as follows:\n",
    "\n",
    "fruits[0] = 'pear'   # not allowed\n",
    "\n",
    "However there are methods to update, add, and remove elements but we will not cover those here. \n",
    "\n",
    "Note that you can iterate through a set just like we did for lists."
   ]
  },
  {
   "cell_type": "code",
   "execution_count": 10,
   "metadata": {},
   "outputs": [
    {
     "name": "stdout",
     "output_type": "stream",
     "text": [
      "orange\n",
      "apple\n",
      "banana\n"
     ]
    }
   ],
   "source": [
    "for fruit in fruits:\n",
    "    print(fruit)"
   ]
  },
  {
   "cell_type": "markdown",
   "metadata": {},
   "source": [
    "Python also supports mathematical set operations like union, intersection, difference, and so forth. Again, the point here is to make you aware of the set data structure and methods which you can explore on your own if you find a need. "
   ]
  }
 ],
 "metadata": {
  "kernelspec": {
   "display_name": "Python 3",
   "language": "python",
   "name": "python3"
  },
  "language_info": {
   "codemirror_mode": {
    "name": "ipython",
    "version": 3
   },
   "file_extension": ".py",
   "mimetype": "text/x-python",
   "name": "python",
   "nbconvert_exporter": "python",
   "pygments_lexer": "ipython3",
   "version": "3.8.2"
  }
 },
 "nbformat": 4,
 "nbformat_minor": 4
}
