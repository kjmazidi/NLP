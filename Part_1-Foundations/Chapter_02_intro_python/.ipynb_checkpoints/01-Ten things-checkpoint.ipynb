{
 "cells": [
  {
   "cell_type": "markdown",
   "metadata": {},
   "source": [
    "### Ten things \n",
    "\n",
    "Here are ten or more things to keep in mind about Python. \n",
    "\n",
    "This is one of my favorite Python references: [The Hitchhiker's Guide to Python](https://docs.python-guide.org/)"
   ]
  },
  {
   "cell_type": "code",
   "execution_count": 4,
   "metadata": {},
   "outputs": [
    {
     "ename": "SyntaxError",
     "evalue": "Missing parentheses in call to 'print'. Did you mean print(\"Hi\"  # Python 2)? (<ipython-input-4-ce0d461cc9c5>, line 3)",
     "output_type": "error",
     "traceback": [
      "\u001b[0;36m  File \u001b[0;32m\"<ipython-input-4-ce0d461cc9c5>\"\u001b[0;36m, line \u001b[0;32m3\u001b[0m\n\u001b[0;31m    print \"Hi\"  # Python 2\u001b[0m\n\u001b[0m          ^\u001b[0m\n\u001b[0;31mSyntaxError\u001b[0m\u001b[0;31m:\u001b[0m Missing parentheses in call to 'print'. Did you mean print(\"Hi\"  # Python 2)?\n"
     ]
    }
   ],
   "source": [
    "# Python broke backward compatibility from Python 2 to Python 3\n",
    "\n",
    "print \"Hi\"  # Python 2\n",
    "print(\"Hi\") # Python 3"
   ]
  },
  {
   "cell_type": "code",
   "execution_count": 3,
   "metadata": {},
   "outputs": [
    {
     "ename": "NameError",
     "evalue": "name 'X' is not defined",
     "output_type": "error",
     "traceback": [
      "\u001b[0;31m---------------------------------------------------------------------------\u001b[0m",
      "\u001b[0;31mNameError\u001b[0m                                 Traceback (most recent call last)",
      "\u001b[0;32m<ipython-input-3-b7546bed3818>\u001b[0m in \u001b[0;36m<module>\u001b[0;34m\u001b[0m\n\u001b[1;32m      2\u001b[0m \u001b[0;34m\u001b[0m\u001b[0m\n\u001b[1;32m      3\u001b[0m \u001b[0mx\u001b[0m \u001b[0;34m=\u001b[0m \u001b[0;36m5\u001b[0m\u001b[0;34m\u001b[0m\u001b[0;34m\u001b[0m\u001b[0m\n\u001b[0;32m----> 4\u001b[0;31m \u001b[0mprint\u001b[0m\u001b[0;34m(\u001b[0m\u001b[0mX\u001b[0m\u001b[0;34m)\u001b[0m\u001b[0;34m\u001b[0m\u001b[0;34m\u001b[0m\u001b[0m\n\u001b[0m",
      "\u001b[0;31mNameError\u001b[0m: name 'X' is not defined"
     ]
    }
   ],
   "source": [
    "# Python is case sensitive\n",
    "\n",
    "x = 5\n",
    "print(X)"
   ]
  },
  {
   "cell_type": "code",
   "execution_count": 5,
   "metadata": {},
   "outputs": [
    {
     "name": "stdout",
     "output_type": "stream",
     "text": [
      "5\n",
      "a\n"
     ]
    }
   ],
   "source": [
    "# Python is dynamically typed\n",
    "\n",
    "x = 5\n",
    "print(x)\n",
    "\n",
    "x = 'a' # x is now a string\n",
    "print(x)"
   ]
  },
  {
   "cell_type": "code",
   "execution_count": 7,
   "metadata": {},
   "outputs": [
    {
     "name": "stdout",
     "output_type": "stream",
     "text": [
      "fail\n",
      "good job\n"
     ]
    }
   ],
   "source": [
    "# Python uses indents to signify code blocks, not { }\n",
    "\n",
    "grade = 50\n",
    "if grade < 60:\n",
    "    print('fail')\n",
    "else:\n",
    "    print('pass')\n",
    "print('good job')"
   ]
  },
  {
   "cell_type": "code",
   "execution_count": 9,
   "metadata": {},
   "outputs": [
    {
     "name": "stdout",
     "output_type": "stream",
     "text": [
      "ok\n",
      "or not\n"
     ]
    }
   ],
   "source": [
    "# the end of the line is the end of a statement, no ; needed\n",
    "\n",
    "print('ok');print('or not')  # not an error, but not Pythonic"
   ]
  },
  {
   "cell_type": "code",
   "execution_count": 12,
   "metadata": {},
   "outputs": [],
   "source": [
    "# use limited punctuation\n",
    "\n",
    "grade = 60\n",
    "if (grade > 60):   # ugh!\n",
    "    print('passed')\n",
    "    \n",
    "# better:\n",
    "if grade > 60:   # ahh!\n",
    "    print('passed')"
   ]
  },
  {
   "cell_type": "code",
   "execution_count": 18,
   "metadata": {},
   "outputs": [
    {
     "data": {
      "text/plain": [
       "{'a': 5, 'b': 3}"
      ]
     },
     "execution_count": 18,
     "metadata": {},
     "output_type": "execute_result"
    }
   ],
   "source": [
    "# write clear code, skip the magic\n",
    "\n",
    "# ugh!\n",
    "def obfuscate(*args):\n",
    "    a, b = args\n",
    "    return dict(**locals())\n",
    "\n",
    "x = 5\n",
    "y = 3\n",
    "obfuscate(x, y)\n",
    "\n",
    "# ahh!\n",
    "def make_dict(a, b):\n",
    "    return {'a': a, 'b': b}\n",
    "\n",
    "make_dict(x, y)"
   ]
  },
  {
   "cell_type": "code",
   "execution_count": 25,
   "metadata": {},
   "outputs": [
    {
     "name": "stdout",
     "output_type": "stream",
     "text": [
      "a before: [1, 2, 3]\n",
      "a after: [1, 2, 3] new_a: [3, 4, 5]\n"
     ]
    }
   ],
   "source": [
    "# Python passes by object reference\n",
    "#   neither pass by value nor pass by reference, huh?\n",
    "\n",
    "def increment_by_2(in_list):\n",
    "    in_list = [_+2 for _ in in_list]\n",
    "    return in_list\n",
    "\n",
    "a = [1, 2, 3]\n",
    "print('a before:', a)\n",
    "\n",
    "new_a = increment_by_2(a)\n",
    "print('a after:', a, 'new_a:', new_a)"
   ]
  },
  {
   "cell_type": "markdown",
   "metadata": {},
   "source": [
    "That requires some explanation. The function call increment_by_2(a) will receive the reference of 'a' *but* make its own entirely new variable."
   ]
  },
  {
   "cell_type": "code",
   "execution_count": 26,
   "metadata": {},
   "outputs": [
    {
     "name": "stdout",
     "output_type": "stream",
     "text": [
      "True\n",
      "True\n"
     ]
    }
   ],
   "source": [
    "# be Pythonic, write code as simply and clearly as possible\n",
    "\n",
    "flag = True\n",
    "if flag == True:  # ugh!\n",
    "    print(flag)\n",
    "    \n",
    "if flag:          # better\n",
    "    print(flag)"
   ]
  },
  {
   "cell_type": "code",
   "execution_count": 35,
   "metadata": {},
   "outputs": [
    {
     "name": "stdout",
     "output_type": "stream",
     "text": [
      "list1= [1, 2, 3]\n",
      "list2= [1, 2, 3]\n",
      "True\n",
      "False\n"
     ]
    }
   ],
   "source": [
    "# 'is' is not ==\n",
    "\n",
    "list1 = [1, 2, 3]\n",
    "list2 = list([1, 2, 3])\n",
    "\n",
    "print('list1=', list1)\n",
    "print('list2=', list2)\n",
    "\n",
    "print(list1 == list2)\n",
    "print(list1 is list2)"
   ]
  },
  {
   "cell_type": "markdown",
   "metadata": {},
   "source": [
    "ok, that needs some explanation. The == operator checks values. Since they both contain \\[1, 2, 3\\], they are equal in this sense. However, they are in two different locations in memory and therefore list1 is not the same object as list2"
   ]
  },
  {
   "cell_type": "markdown",
   "metadata": {},
   "source": [
    "#### One more "
   ]
  },
  {
   "cell_type": "code",
   "execution_count": 7,
   "metadata": {},
   "outputs": [
    {
     "name": "stdout",
     "output_type": "stream",
     "text": [
      "4\n",
      "3\n",
      "6\n",
      "12\n",
      "6.0\n"
     ]
    }
   ],
   "source": [
    "# Python does not have ++ or -- operators\n",
    "\n",
    "i = 3\n",
    "\n",
    "i += 1\n",
    "print(i)\n",
    "\n",
    "i -= 1\n",
    "print(i)\n",
    "\n",
    "i *= 2\n",
    "print(i)\n",
    "\n",
    "i *= 2\n",
    "print(i)\n",
    "\n",
    "i /= 2 \n",
    "print(i)"
   ]
  },
  {
   "cell_type": "code",
   "execution_count": null,
   "metadata": {},
   "outputs": [],
   "source": []
  }
 ],
 "metadata": {
  "kernelspec": {
   "display_name": "Python 3",
   "language": "python",
   "name": "python3"
  },
  "language_info": {
   "codemirror_mode": {
    "name": "ipython",
    "version": 3
   },
   "file_extension": ".py",
   "mimetype": "text/x-python",
   "name": "python",
   "nbconvert_exporter": "python",
   "pygments_lexer": "ipython3",
   "version": "3.8.2"
  }
 },
 "nbformat": 4,
 "nbformat_minor": 4
}
