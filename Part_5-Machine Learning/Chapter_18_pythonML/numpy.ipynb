{
 "cells": [
  {
   "cell_type": "markdown",
   "metadata": {},
   "source": [
    "# numpy\n",
    "\n",
    "NumPy is a Python library for multi-dimensional arrays and matrices and associated mathematical functions. We will use NumPy a little bit so we'll cover the basics here. A fuller tutorial [can be found here](https://docs.scipy.org/doc/numpy-1.15.1/user/quickstart.html).\n",
    "\n",
    "First we import numpy. This is commonly done as follows so that we can refer to the numpy functions with np later."
   ]
  },
  {
   "cell_type": "code",
   "execution_count": 1,
   "metadata": {},
   "outputs": [],
   "source": [
    "import numpy as np"
   ]
  },
  {
   "cell_type": "markdown",
   "metadata": {},
   "source": [
    "### arrays\n",
    "\n",
    "NumPy arrays are similar to lists in Python but every element has to be of the same type. This data type is designed to allow for very fast computations. The following creates a NumPy array out of a Python list and makes each element a float. \n",
    "\n",
    "The function **array** takes two arguments: the list to be converted and the type. Array elements can be indexed and sliced the same as Python lists. \n",
    "\n"
   ]
  },
  {
   "cell_type": "code",
   "execution_count": 2,
   "metadata": {},
   "outputs": [
    {
     "name": "stdout",
     "output_type": "stream",
     "text": [
      "[1. 2. 3. 4. 5.]\n",
      "3.0\n"
     ]
    }
   ],
   "source": [
    "a = np.array([1,2,3,4,5], float)\n",
    "print(a)\n",
    "print(a[2])\n"
   ]
  },
  {
   "cell_type": "markdown",
   "metadata": {},
   "source": [
    "### array terminology\n",
    "\n",
    "NumPy arrays can be multidimensional. The dimensions are called *axes* and the number of axes is the *rank*. Notice that we have brackets within brackets to specify the rows of the 2D array. "
   ]
  },
  {
   "cell_type": "code",
   "execution_count": 3,
   "metadata": {},
   "outputs": [
    {
     "name": "stdout",
     "output_type": "stream",
     "text": [
      "[[1 2 3]\n",
      " [4 5 6]]\n"
     ]
    },
    {
     "data": {
      "text/plain": [
       "5"
      ]
     },
     "execution_count": 3,
     "metadata": {},
     "output_type": "execute_result"
    }
   ],
   "source": [
    "b = np.array([[1,2,3], [4,5,6]], int)\n",
    "print(b)\n",
    "b[1,1]"
   ]
  },
  {
   "cell_type": "markdown",
   "metadata": {},
   "source": [
    "### shape\n",
    "\n",
    "We can also reshape arrays with *reshape*. And we can get the dimensions with the *shape* attribute. However, *len* returns the length of the first axis."
   ]
  },
  {
   "cell_type": "code",
   "execution_count": 4,
   "metadata": {},
   "outputs": [
    {
     "name": "stdout",
     "output_type": "stream",
     "text": [
      "c originally:  [0. 1. 2. 3. 4. 5. 6. 7. 8. 9.]\n",
      "c with the new shape: \n",
      " [[0. 1.]\n",
      " [2. 3.]\n",
      " [4. 5.]\n",
      " [6. 7.]\n",
      " [8. 9.]]\n",
      "The new shape is:  (5, 2)\n",
      "Length =  5\n"
     ]
    }
   ],
   "source": [
    "c = np.array(range(10), float)\n",
    "print(\"c originally: \", c)\n",
    "c = c.reshape(5, 2)\n",
    "print(\"c with the new shape: \\n\", c)\n",
    "print(\"The new shape is: \", c.shape)\n",
    "print(\"Length = \", len(c))"
   ]
  },
  {
   "cell_type": "markdown",
   "metadata": {
    "collapsed": true
   },
   "source": [
    "### initializing an array\n",
    "\n",
    "We can fill an array with a value as shown below for initialization or re-initialization with **fill** or create a new zero array with **zeros**.\n"
   ]
  },
  {
   "cell_type": "code",
   "execution_count": 5,
   "metadata": {},
   "outputs": [
    {
     "name": "stdout",
     "output_type": "stream",
     "text": [
      "c is now all 0s:\n",
      " [[0. 0.]\n",
      " [0. 0.]\n",
      " [0. 0.]\n",
      " [0. 0.]\n",
      " [0. 0.]]\n"
     ]
    },
    {
     "data": {
      "text/plain": [
       "array([[0., 0., 0.],\n",
       "       [0., 0., 0.]])"
      ]
     },
     "execution_count": 5,
     "metadata": {},
     "output_type": "execute_result"
    }
   ],
   "source": [
    "c.fill(0)\n",
    "print(\"c is now all 0s:\\n\", c)\n",
    "\n",
    "d = np.zeros( (2,3))\n",
    "d"
   ]
  },
  {
   "cell_type": "markdown",
   "metadata": {
    "collapsed": true
   },
   "source": [
    "Yet another way to create an array is with **arange**. There are many other functions to create, rearrange and modify arrays but we are just covering the basics here."
   ]
  },
  {
   "cell_type": "code",
   "execution_count": 6,
   "metadata": {},
   "outputs": [
    {
     "data": {
      "text/plain": [
       "array([0, 1, 2, 3, 4, 5, 6, 7])"
      ]
     },
     "execution_count": 6,
     "metadata": {},
     "output_type": "execute_result"
    }
   ],
   "source": [
    "e = np.arange(8, dtype=int)\n",
    "e"
   ]
  },
  {
   "cell_type": "markdown",
   "metadata": {},
   "source": [
    "### Math functions\n",
    "\n",
    "Operations like + and - operate on an element-by-element basis as you would expect. An error will be thrown in the sizes do not match the operation.\n",
    "\n",
    "There are also mathematical functions like sqrt, log, sin and so forth that are also applied element by element.\n",
    "\n",
    "These two constants are also provided: **np.pi** and **np.e**\n",
    "\n",
    "Other functions such as sum, prod, mean, var std operate on the array as a whole.\n",
    "\n"
   ]
  },
  {
   "cell_type": "code",
   "execution_count": 7,
   "metadata": {},
   "outputs": [
    {
     "name": "stdout",
     "output_type": "stream",
     "text": [
      "sum= 28\n",
      "average= 3.5\n",
      "min= 0\n"
     ]
    }
   ],
   "source": [
    "print(\"sum=\", np.sum(e))\n",
    "print(\"average=\", np.mean(e))\n",
    "print(\"min=\", np.min(e))"
   ]
  },
  {
   "cell_type": "markdown",
   "metadata": {},
   "source": [
    "You can also specify an axis on which to perform the operation, with different syntax. It will return an array with results. "
   ]
  },
  {
   "cell_type": "code",
   "execution_count": 8,
   "metadata": {},
   "outputs": [
    {
     "name": "stdout",
     "output_type": "stream",
     "text": [
      "[[0. 1.]\n",
      " [2. 3.]\n",
      " [4. 5.]\n",
      " [6. 7.]\n",
      " [8. 9.]]\n"
     ]
    },
    {
     "data": {
      "text/plain": [
       "array([4., 5.])"
      ]
     },
     "execution_count": 8,
     "metadata": {},
     "output_type": "execute_result"
    }
   ],
   "source": [
    "f = np.array(range(10), float).reshape(5,2)\n",
    "print(f)\n",
    "f.mean(axis=0)"
   ]
  },
  {
   "cell_type": "markdown",
   "metadata": {},
   "source": [
    "### boolean selection\n",
    "\n",
    "The following returns an array of indices for elements that mean the boolean criteria. "
   ]
  },
  {
   "cell_type": "code",
   "execution_count": 9,
   "metadata": {},
   "outputs": [
    {
     "data": {
      "text/plain": [
       "array([5, 6, 7])"
      ]
     },
     "execution_count": 9,
     "metadata": {},
     "output_type": "execute_result"
    }
   ],
   "source": [
    "i = (e >= 5)\n",
    "e[i]"
   ]
  },
  {
   "cell_type": "markdown",
   "metadata": {},
   "source": [
    "### sort an array"
   ]
  },
  {
   "cell_type": "code",
   "execution_count": 10,
   "metadata": {},
   "outputs": [
    {
     "data": {
      "text/plain": [
       "[7, 6, 5, 4, 3, 2, 1, 0]"
      ]
     },
     "execution_count": 10,
     "metadata": {},
     "output_type": "execute_result"
    }
   ],
   "source": [
    "sorted(e, reverse=True)"
   ]
  },
  {
   "cell_type": "markdown",
   "metadata": {},
   "source": [
    "### vector and matrix operations\n",
    "\n",
    "The **dot** function computes dot  products for vectors or matrices."
   ]
  },
  {
   "cell_type": "code",
   "execution_count": 11,
   "metadata": {},
   "outputs": [
    {
     "data": {
      "text/plain": [
       "32.0"
      ]
     },
     "execution_count": 11,
     "metadata": {},
     "output_type": "execute_result"
    }
   ],
   "source": [
    "v1 = np.array([1,2,3], float)\n",
    "v2 = np.array([4, 5, 6], float)\n",
    "np.dot(v1, v2)"
   ]
  },
  {
   "cell_type": "code",
   "execution_count": 12,
   "metadata": {},
   "outputs": [
    {
     "data": {
      "text/plain": [
       "array([10., 19.])"
      ]
     },
     "execution_count": 12,
     "metadata": {},
     "output_type": "execute_result"
    }
   ],
   "source": [
    "m1 = np.array([[0, 1], [2, 3]], float)\n",
    "m2 = np.array([4, 5], float)\n",
    "np.dot(m2, m1)"
   ]
  },
  {
   "cell_type": "markdown",
   "metadata": {},
   "source": [
    "There are also matrix operations for inverse, determinant, eigenvalues and eigenvectors and singular value decomposition. "
   ]
  },
  {
   "cell_type": "markdown",
   "metadata": {},
   "source": [
    "### random numbers\n",
    "\n",
    "Randome numbers and arrays of random numbers can be generated. You can specify normal, poisson and other distributions. "
   ]
  },
  {
   "cell_type": "code",
   "execution_count": 13,
   "metadata": {},
   "outputs": [
    {
     "data": {
      "text/plain": [
       "array([[0.37454012, 0.95071431, 0.73199394],\n",
       "       [0.59865848, 0.15601864, 0.15599452]])"
      ]
     },
     "execution_count": 13,
     "metadata": {},
     "output_type": "execute_result"
    }
   ],
   "source": [
    "np.random.seed(42)\n",
    "np.random.rand(2,3)"
   ]
  },
  {
   "cell_type": "code",
   "execution_count": 14,
   "metadata": {},
   "outputs": [
    {
     "data": {
      "text/plain": [
       "array([0, 1, 6, 5, 3, 4, 7, 2])"
      ]
     },
     "execution_count": 14,
     "metadata": {},
     "output_type": "execute_result"
    }
   ],
   "source": [
    "\n",
    "np.random.shuffle(e)\n",
    "e"
   ]
  },
  {
   "cell_type": "code",
   "execution_count": null,
   "metadata": {},
   "outputs": [],
   "source": []
  }
 ],
 "metadata": {
  "kernelspec": {
   "display_name": "Python 3",
   "language": "python",
   "name": "python3"
  },
  "language_info": {
   "codemirror_mode": {
    "name": "ipython",
    "version": 3
   },
   "file_extension": ".py",
   "mimetype": "text/x-python",
   "name": "python",
   "nbconvert_exporter": "python",
   "pygments_lexer": "ipython3",
   "version": "3.7.3"
  }
 },
 "nbformat": 4,
 "nbformat_minor": 1
}
