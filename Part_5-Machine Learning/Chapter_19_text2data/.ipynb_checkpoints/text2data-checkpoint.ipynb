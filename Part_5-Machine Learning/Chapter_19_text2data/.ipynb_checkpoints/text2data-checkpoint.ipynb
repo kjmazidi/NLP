{
 "cells": [
  {
   "cell_type": "markdown",
   "metadata": {},
   "source": [
    "# Converting text to numeric data\n",
    "\n",
    "Machine learning algorithms learn from numeric data. In order for the algorithms to learn from text, the text has to be represented in some numerical form. One way to do this is to represent documents as vectors of frequencies, where each location in the vector represents the count of a specific word in that document. To demonstrate this, a toy corpus is created from text."
   ]
  },
  {
   "cell_type": "code",
   "execution_count": 7,
   "metadata": {},
   "outputs": [],
   "source": [
    "corpus = ['Mary had a little lamb.',\n",
    "         'The lamb followed Mary to school one day.',\n",
    "         'The lamb was white.',\n",
    "         'Mary should not bring a lamb to school.',\n",
    "         'Mary is a little rebel.']"
   ]
  },
  {
   "cell_type": "markdown",
   "metadata": {},
   "source": [
    "### CountVectorizer\n",
    "\n",
    "The sklearn CountVectorizer function:\n",
    "* tokenizes the text\n",
    "* assigns a unique integer id to each word in the corpus\n",
    "* counts the frequencies for each word\n",
    "\n",
    "Documentation for CountVectorizer: https://scikit-learn.org/stable/modules/generated/sklearn.feature_extraction.text.CountVectorizer.html\n",
    "\n",
    "The code below first creates a CountVectorizer instance, then fits the corpus."
   ]
  },
  {
   "cell_type": "code",
   "execution_count": 13,
   "metadata": {},
   "outputs": [
    {
     "data": {
      "text/plain": [
       "CountVectorizer(analyzer='word', binary=False, decode_error='strict',\n",
       "                dtype=<class 'numpy.int64'>, encoding='utf-8', input='content',\n",
       "                lowercase=True, max_df=1.0, max_features=None, min_df=1,\n",
       "                ngram_range=(1, 1), preprocessor=None, stop_words=None,\n",
       "                strip_accents=None, token_pattern='(?u)\\\\b\\\\w\\\\w+\\\\b',\n",
       "                tokenizer=None, vocabulary=None)"
      ]
     },
     "execution_count": 13,
     "metadata": {},
     "output_type": "execute_result"
    }
   ],
   "source": [
    "from sklearn.feature_extraction.text import CountVectorizer\n",
    "vectorizer = CountVectorizer()\n",
    "vectorizer.fit(corpus)"
   ]
  },
  {
   "cell_type": "markdown",
   "metadata": {},
   "source": [
    "The output above shows the default options for CountVectorizer. Full descriptions of each parameter are provided in the documentation.\n",
    "\n",
    "Next, corpus counts and names are extracted from the vectorizer fit."
   ]
  },
  {
   "cell_type": "code",
   "execution_count": 9,
   "metadata": {},
   "outputs": [
    {
     "name": "stdout",
     "output_type": "stream",
     "text": [
      "[[0 0 0 1 0 1 1 1 0 0 0 0 0 0 0 0 0]\n",
      " [0 1 1 0 0 1 0 1 0 1 0 1 0 1 1 0 0]\n",
      " [0 0 0 0 0 1 0 0 0 0 0 0 0 1 0 1 1]\n",
      " [1 0 0 0 0 1 0 1 1 0 0 1 1 0 1 0 0]\n",
      " [0 0 0 0 1 0 1 1 0 0 1 0 0 0 0 0 0]]\n",
      "names: ['bring', 'day', 'followed', 'had', 'is', 'lamb', 'little', 'mary', 'not', 'one', 'rebel', 'school', 'should', 'the', 'to', 'was', 'white']\n"
     ]
    }
   ],
   "source": [
    "corpus_counts = vectorizer.fit_transform(corpus)\n",
    "print(corpus_counts.toarray())\n",
    "print('names:', vectorizer.get_feature_names())"
   ]
  },
  {
   "cell_type": "markdown",
   "metadata": {},
   "source": [
    "In the 2D array above, each row represents one document in the corpus and each column represents a word. Each element represents the count of that word in that document. As you can see, most counts are zero. These types of vectorized representations of a corpus produce a sparse matrix."
   ]
  },
  {
   "cell_type": "code",
   "execution_count": 14,
   "metadata": {},
   "outputs": [
    {
     "name": "stdout",
     "output_type": "stream",
     "text": [
      "{'mary': 7, 'had': 3, 'little': 6, 'lamb': 5, 'the': 13, 'followed': 2, 'to': 14, 'school': 11, 'one': 9, 'day': 1, 'was': 15, 'white': 16, 'should': 12, 'not': 8, 'bring': 0, 'is': 4, 'rebel': 10}\n"
     ]
    }
   ],
   "source": [
    "print(vectorizer.vocabulary_)"
   ]
  },
  {
   "cell_type": "markdown",
   "metadata": {},
   "source": [
    "### TfidfVectorizer\n",
    "\n",
    "The code below shows how to use the TfidfVectorizer which produces tfidf values instead of frequency counts. Documentation for TfidfVectorizer: https://scikit-learn.org/stable/modules/generated/sklearn.feature_extraction.text.TfidfVectorizer.html"
   ]
  },
  {
   "cell_type": "code",
   "execution_count": 15,
   "metadata": {},
   "outputs": [
    {
     "data": {
      "text/plain": [
       "TfidfVectorizer(analyzer='word', binary=False, decode_error='strict',\n",
       "                dtype=<class 'numpy.float64'>, encoding='utf-8',\n",
       "                input='content', lowercase=True, max_df=1.0, max_features=None,\n",
       "                min_df=1, ngram_range=(1, 1), norm='l2', preprocessor=None,\n",
       "                smooth_idf=True, stop_words=None, strip_accents=None,\n",
       "                sublinear_tf=False, token_pattern='(?u)\\\\b\\\\w\\\\w+\\\\b',\n",
       "                tokenizer=None, use_idf=True, vocabulary=None)"
      ]
     },
     "execution_count": 15,
     "metadata": {},
     "output_type": "execute_result"
    }
   ],
   "source": [
    "from sklearn.feature_extraction.text import TfidfVectorizer\n",
    "vectorizer = TfidfVectorizer()\n",
    "vectorizer.fit(corpus)"
   ]
  },
  {
   "cell_type": "code",
   "execution_count": 24,
   "metadata": {},
   "outputs": [
    {
     "name": "stdout",
     "output_type": "stream",
     "text": [
      "terms: {'mary': 7, 'had': 3, 'little': 6, 'lamb': 5, 'the': 13, 'followed': 2, 'to': 14, 'school': 11, 'one': 9, 'day': 1, 'was': 15, 'white': 16, 'should': 12, 'not': 8, 'bring': 0, 'is': 4, 'rebel': 10}\n",
      "\n",
      "idf: [2.09861229 2.09861229 2.09861229 2.09861229 2.09861229 1.18232156\n",
      " 1.69314718 1.18232156 2.09861229 2.09861229 2.09861229 1.69314718\n",
      " 2.09861229 1.69314718 1.69314718 2.09861229 2.09861229]\n"
     ]
    }
   ],
   "source": [
    "# take a look at  the terms and idf\n",
    "print('terms:', vectorizer.vocabulary_)\n",
    "print('\\nidf:', vectorizer.idf_)"
   ]
  },
  {
   "cell_type": "code",
   "execution_count": null,
   "metadata": {},
   "outputs": [],
   "source": [
    "The fit method above learns the vocabulary and the idf from the data. The fit_transform method below learns the vocabulary and idf, and returns a document-term matrix. It is essentially the fit method followed by the transform method, but doing the one method is more efficient than using the two methods. "
   ]
  },
  {
   "cell_type": "code",
   "execution_count": 27,
   "metadata": {},
   "outputs": [
    {
     "name": "stdout",
     "output_type": "stream",
     "text": [
      "  (0, 5)\t0.3726424037188896\n",
      "  (0, 6)\t0.5336436873608266\n",
      "  (0, 3)\t0.6614375955758462\n",
      "  (0, 7)\t0.3726424037188896\n",
      "  (1, 1)\t0.42304772562360027\n",
      "  (1, 9)\t0.42304772562360027\n",
      "  (1, 11)\t0.34131224130803434\n",
      "  (1, 14)\t0.34131224130803434\n",
      "  (1, 2)\t0.42304772562360027\n",
      "  (1, 13)\t0.34131224130803434\n",
      "  (1, 5)\t0.23833770928448939\n",
      "  (1, 7)\t0.23833770928448939\n",
      "  (2, 16)\t0.5804234289808452\n",
      "  (2, 15)\t0.5804234289808452\n",
      "  (2, 13)\t0.46828196785865284\n",
      "  (2, 5)\t0.3270004354105097\n",
      "  (3, 0)\t0.4500747244546631\n",
      "  (3, 8)\t0.4500747244546631\n",
      "  (3, 12)\t0.4500747244546631\n",
      "  (3, 11)\t0.36311745378911303\n",
      "  (3, 14)\t0.36311745378911303\n",
      "  (3, 5)\t0.2535642489869185\n",
      "  (3, 7)\t0.2535642489869185\n",
      "  (4, 10)\t0.5804234289808452\n",
      "  (4, 4)\t0.5804234289808452\n",
      "  (4, 6)\t0.46828196785865284\n",
      "  (4, 7)\t0.3270004354105097\n"
     ]
    }
   ],
   "source": [
    "tfidf = vectorizer.fit_transform(corpus)\n",
    "print(tfidf)"
   ]
  },
  {
   "cell_type": "code",
   "execution_count": 28,
   "metadata": {},
   "outputs": [
    {
     "data": {
      "text/plain": [
       "array([[0.        , 0.        , 0.        , 0.6614376 , 0.        ,\n",
       "        0.3726424 , 0.53364369, 0.3726424 , 0.        , 0.        ,\n",
       "        0.        , 0.        , 0.        , 0.        , 0.        ,\n",
       "        0.        , 0.        ],\n",
       "       [0.        , 0.42304773, 0.42304773, 0.        , 0.        ,\n",
       "        0.23833771, 0.        , 0.23833771, 0.        , 0.42304773,\n",
       "        0.        , 0.34131224, 0.        , 0.34131224, 0.34131224,\n",
       "        0.        , 0.        ],\n",
       "       [0.        , 0.        , 0.        , 0.        , 0.        ,\n",
       "        0.32700044, 0.        , 0.        , 0.        , 0.        ,\n",
       "        0.        , 0.        , 0.        , 0.46828197, 0.        ,\n",
       "        0.58042343, 0.58042343],\n",
       "       [0.45007472, 0.        , 0.        , 0.        , 0.        ,\n",
       "        0.25356425, 0.        , 0.25356425, 0.45007472, 0.        ,\n",
       "        0.        , 0.36311745, 0.45007472, 0.        , 0.36311745,\n",
       "        0.        , 0.        ],\n",
       "       [0.        , 0.        , 0.        , 0.        , 0.58042343,\n",
       "        0.        , 0.46828197, 0.32700044, 0.        , 0.        ,\n",
       "        0.58042343, 0.        , 0.        , 0.        , 0.        ,\n",
       "        0.        , 0.        ]])"
      ]
     },
     "execution_count": 28,
     "metadata": {},
     "output_type": "execute_result"
    }
   ],
   "source": [
    "tfidf.toarray()"
   ]
  },
  {
   "cell_type": "markdown",
   "metadata": {},
   "source": [
    "## Isolating the test data\n",
    "\n",
    "The previous examples showed how to apply the vectorizers to the entire corpus. For supervised machine learning, a better approach is to first divide the data into train/test sets, then fit the vectorizer to the training data only. The test set can be later fit to the vectorizer. In this way, no information from the test set leaks to the training set. The following code demonstrates how to do this on a spam data set. "
   ]
  },
  {
   "cell_type": "code",
   "execution_count": 12,
   "metadata": {},
   "outputs": [],
   "source": [
    "import pandas as pd\n",
    "from sklearn.feature_extraction.text import TfidfVectorizer\n",
    "from sklearn.model_selection import train_test_split\n",
    "\n",
    "# read the data\n",
    "df = pd.read_csv('../data/sms-spam.csv')\n",
    "\n",
    "X = df.text      # features\n",
    "y = df.spam    # targets\n",
    "\n",
    "# train test split\n",
    "X_train, X_test, y_train, y_test = train_test_split(X, y, test_size=0.2, train_size=0.8, random_state=1234)\n",
    "\n",
    "# use defaults\n",
    "vectorizer = TfidfVectorizer()\n",
    "\n",
    "# vectorize\n",
    "X_train = vectorizer.fit_transform(X_train) # fit the training data\n",
    "X_test = vectorizer.transform(X_test) # transform only"
   ]
  },
  {
   "cell_type": "markdown",
   "metadata": {},
   "source": [
    "### Adding more features\n",
    "\n",
    "Add bigrams as features."
   ]
  },
  {
   "cell_type": "code",
   "execution_count": 31,
   "metadata": {},
   "outputs": [],
   "source": [
    "vectorizer = TfidfVectorizer(min_df=2, max_df=0.5, ngram_range=(1, 2))"
   ]
  },
  {
   "cell_type": "code",
   "execution_count": 39,
   "metadata": {},
   "outputs": [
    {
     "name": "stdout",
     "output_type": "stream",
     "text": [
      "[[1.         0.         0.         0.         0.         0.        ]\n",
      " [0.         0.4472136  0.4472136  0.4472136  0.4472136  0.4472136 ]\n",
      " [0.         0.         0.70710678 0.70710678 0.         0.        ]\n",
      " [0.         0.57735027 0.         0.         0.57735027 0.57735027]\n",
      " [1.         0.         0.         0.         0.         0.        ]]\n"
     ]
    }
   ],
   "source": [
    "X_features = vectorizer.fit_transform(corpus)\n",
    "print(X_features.toarray())"
   ]
  },
  {
   "cell_type": "markdown",
   "metadata": {},
   "source": [
    "When to use counts versus tfidf? As the vocabulary size increases, tfidf will give better results."
   ]
  },
  {
   "cell_type": "code",
   "execution_count": null,
   "metadata": {},
   "outputs": [],
   "source": []
  }
 ],
 "metadata": {
  "kernelspec": {
   "display_name": "Python 3",
   "language": "python",
   "name": "python3"
  },
  "language_info": {
   "codemirror_mode": {
    "name": "ipython",
    "version": 3
   },
   "file_extension": ".py",
   "mimetype": "text/x-python",
   "name": "python",
   "nbconvert_exporter": "python",
   "pygments_lexer": "ipython3",
   "version": "3.8.2"
  }
 },
 "nbformat": 4,
 "nbformat_minor": 2
}
