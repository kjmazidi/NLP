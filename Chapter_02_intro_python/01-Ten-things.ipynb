{
 "cells": [
  {
   "cell_type": "markdown",
   "metadata": {},
   "source": [
    "[![Open in Colab](https://colab.research.google.com/assets/colab-badge.svg)](https://colab.research.google.com/github/kjmazidi/NLP/blob/master/Chapter_02_intro_python/01-Ten-things.ipynb)"
   ]
  },
  {
   "cell_type": "markdown",
   "metadata": {},
   "source": [
    "## Chapter 2 Intro to Python\n",
    "### Notebook 1 Quick Python Tips\n",
    "\n",
    "This notebook is designed to be a review for people who haven't used Python in a while. For Python newbies, it is suggested to go through the notebooks in the **Python_Fundamentals** folder in the GitHub. \n",
    "\n",
    "Here are 10 quick things to know/remember about Python:\n",
    "1. Python print versus print()\n",
    "2. Python is case sensitive\n",
    "3. Python is dynamically typed\n",
    "4. Python uses indents to specify code blocks\n",
    "5. You don't need to type a lot of punctuation marks\n",
    "6. Write clear, concise code\n",
    "7. Python passes by object reference\n",
    "8. Write \"Pythonic\" code \n",
    "9. Operator 'is' is not ==\n",
    "10. Python does not have ++ or -- operators\n",
    "\n",
    "If you have some familiarity with Python, these 10 things are meant as reminders. \n",
    "\n",
    "If you are new to Python, these 10 things are meant as \"heads-up\" pointers of things that may surprise you. If you are new, don't worry, Notebooks 02 and 03 guide you through most of what you need to know to get started coding. The folder 'Python_Fundamentals' in this repo goes into more Python detail. \n",
    "\n",
    "###### Code accompanies *Natural Language Processing* by KJG Mazidi, all rights reserved."
   ]
  },
  {
   "cell_type": "markdown",
   "metadata": {},
   "source": [
    "### Ten things \n",
    "\n",
    "You can check your version of python like this in colab:\n",
    "\n",
    "```!python --version```\n",
    "\n",
    "The ! before the command lets Colab know this is a terminal command, not regular code. When I created this notebook, the version was Python 3.10.12 in colab. On my Mac, I used the following command:\n",
    "\n",
    "```!python3 --version```\n",
    "\n"
   ]
  },
  {
   "cell_type": "code",
   "execution_count": 4,
   "metadata": {},
   "outputs": [
    {
     "name": "stdout",
     "output_type": "stream",
     "text": [
      "Python 3.9.6\n"
     ]
    }
   ],
   "source": [
    "!python --version"
   ]
  },
  {
   "cell_type": "code",
   "execution_count": 2,
   "metadata": {},
   "outputs": [
    {
     "ename": "SyntaxError",
     "evalue": "Missing parentheses in call to 'print'. Did you mean print(\"Hi\"  # Python 2)? (743160073.py, line 3)",
     "output_type": "error",
     "traceback": [
      "\u001b[0;36m  Cell \u001b[0;32mIn[2], line 3\u001b[0;36m\u001b[0m\n\u001b[0;31m    print \"Hi\"  # Python 2\u001b[0m\n\u001b[0m          ^\u001b[0m\n\u001b[0;31mSyntaxError\u001b[0m\u001b[0;31m:\u001b[0m Missing parentheses in call to 'print'. Did you mean print(\"Hi\"  # Python 2)?\n"
     ]
    }
   ],
   "source": [
    "# 1. Python print vs print()\n",
    "# Python broke backward compatibility from Python 2 to Python 3\n",
    "\n",
    "print \"Hi\"  # Python 2\n",
    "print(\"Hi\") # Python 3"
   ]
  },
  {
   "cell_type": "code",
   "execution_count": 1,
   "metadata": {},
   "outputs": [
    {
     "ename": "NameError",
     "evalue": "name 'X' is not defined",
     "output_type": "error",
     "traceback": [
      "\u001b[0;31m---------------------------------------------------------------------------\u001b[0m",
      "\u001b[0;31mNameError\u001b[0m                                 Traceback (most recent call last)",
      "Cell \u001b[0;32mIn[1], line 4\u001b[0m\n\u001b[1;32m      1\u001b[0m \u001b[38;5;66;03m# Python is case sensitive\u001b[39;00m\n\u001b[1;32m      3\u001b[0m x \u001b[38;5;241m=\u001b[39m \u001b[38;5;241m5\u001b[39m\n\u001b[0;32m----> 4\u001b[0m \u001b[38;5;28mprint\u001b[39m(\u001b[43mX\u001b[49m)\n",
      "\u001b[0;31mNameError\u001b[0m: name 'X' is not defined"
     ]
    }
   ],
   "source": [
    "# 2. Python is case sensitive\n",
    "\n",
    "x = 5\n",
    "print(X) # there is no 'X' only 'x'"
   ]
  },
  {
   "cell_type": "code",
   "execution_count": 4,
   "metadata": {},
   "outputs": [
    {
     "name": "stdout",
     "output_type": "stream",
     "text": [
      "5\n",
      "a\n"
     ]
    }
   ],
   "source": [
    "# 3. Python is dynamically typed\n",
    "# below we changed the type of thing that x is, and Python didn't complain\n",
    "# In Python, a variable is just a pointer to a location, \n",
    "#       the 'type' of x is the type of the memory location it points to\n",
    "\n",
    "x = 5\n",
    "print(x)\n",
    "\n",
    "x = 'a' # x is now a string\n",
    "print(x)"
   ]
  },
  {
   "cell_type": "code",
   "execution_count": 5,
   "metadata": {},
   "outputs": [
    {
     "name": "stdout",
     "output_type": "stream",
     "text": [
      "fail\n",
      "good job\n"
     ]
    }
   ],
   "source": [
    "# 4. Python uses indents to signify code blocks, not { }\n",
    "\n",
    "grade = 50\n",
    "if grade < 60:\n",
    "    print('fail')\n",
    "else:\n",
    "    print('pass')\n",
    "print('good job')  # this line was meant to be indented, therefore the code did not behave as intended"
   ]
  },
  {
   "cell_type": "code",
   "execution_count": 6,
   "metadata": {},
   "outputs": [
    {
     "name": "stdout",
     "output_type": "stream",
     "text": [
      "ok\n",
      "or not\n"
     ]
    }
   ],
   "source": [
    "# 5. the end of the line is the end of a statement, no ; needed\n",
    "\n",
    "print('ok');print('or not')  # not an error, but not Pythonic"
   ]
  },
  {
   "cell_type": "code",
   "execution_count": 7,
   "metadata": {},
   "outputs": [],
   "source": [
    "# 5 continued: use limited punctuation\n",
    "\n",
    "grade = 60\n",
    "if (grade > 60):   # ugh!\n",
    "    print('passed')\n",
    "    \n",
    "# better:  you do not need ( ) around the condition\n",
    "if grade > 60:   # ahh!\n",
    "    print('passed')"
   ]
  },
  {
   "cell_type": "code",
   "execution_count": 8,
   "metadata": {},
   "outputs": [
    {
     "data": {
      "text/plain": [
       "{'a': 5, 'b': 3}"
      ]
     },
     "execution_count": 8,
     "metadata": {},
     "output_type": "execute_result"
    }
   ],
   "source": [
    "# 6. write clear code, skip the magic\n",
    "\n",
    "# ugh!\n",
    "def obfuscate(*args):\n",
    "    a, b = args\n",
    "    return dict(**locals())\n",
    "\n",
    "x = 5\n",
    "y = 3\n",
    "obfuscate(x, y)\n",
    "\n",
    "# ahh!\n",
    "def make_dict(a, b):\n",
    "    return {'a': a, 'b': b}\n",
    "\n",
    "make_dict(x, y)"
   ]
  },
  {
   "cell_type": "code",
   "execution_count": 2,
   "metadata": {},
   "outputs": [
    {
     "name": "stdout",
     "output_type": "stream",
     "text": [
      "a before: [1, 2, 3]\n",
      "a after: [1, 2, 3] new_a: [3, 4, 5]\n"
     ]
    }
   ],
   "source": [
    "# 7. Python passes by object reference\n",
    "#    Pythonistas say that Python is neither pass by value nor pass by reference, huh?\n",
    "#       This requires some explanation. The function call increment_by_2(a) will receive the reference of 'a' \n",
    "#       *but* make its own entirely new variable, which it returns. \n",
    "\n",
    "def increment_by_2(in_list):\n",
    "    in_list = [_+2 for _ in in_list]\n",
    "    return in_list\n",
    "\n",
    "a = [1, 2, 3]\n",
    "print('a before:', a)\n",
    "\n",
    "new_a = increment_by_2(a)\n",
    "print('a after:', a, 'new_a:', new_a)"
   ]
  },
  {
   "cell_type": "code",
   "execution_count": 3,
   "metadata": {},
   "outputs": [
    {
     "name": "stdout",
     "output_type": "stream",
     "text": [
      "True\n",
      "True\n"
     ]
    }
   ],
   "source": [
    "# 8. Be Pythonic, write code as simply and clearly as possible\n",
    "\n",
    "flag = True\n",
    "\n",
    "if flag == True:  # ugh!\n",
    "    print(flag)\n",
    "    \n",
    "if flag:          # better\n",
    "    print(flag)"
   ]
  },
  {
   "cell_type": "code",
   "execution_count": 4,
   "metadata": {},
   "outputs": [
    {
     "name": "stdout",
     "output_type": "stream",
     "text": [
      "list1= [1, 2, 3]\n",
      "list2= [1, 2, 3]\n",
      "True\n",
      "False\n"
     ]
    }
   ],
   "source": [
    "# 9. 'is' is not ==\n",
    "\n",
    "list1 = [1, 2, 3]\n",
    "list2 = list([1, 2, 3])\n",
    "\n",
    "print('list1=', list1)\n",
    "print('list2=', list2)\n",
    "\n",
    "print(list1 == list2)\n",
    "print(list1 is list2)"
   ]
  },
  {
   "cell_type": "markdown",
   "metadata": {},
   "source": [
    "ok, that needs some explanation. The == operator checks values. Since they both contain \\[1, 2, 3\\], they are equal in this sense. However, they are in two different locations in memory and therefore list1 is not the same object as list2"
   ]
  },
  {
   "cell_type": "markdown",
   "metadata": {},
   "source": [
    "#### One more "
   ]
  },
  {
   "cell_type": "code",
   "execution_count": 12,
   "metadata": {},
   "outputs": [
    {
     "name": "stdout",
     "output_type": "stream",
     "text": [
      "4\n",
      "3\n",
      "6\n",
      "12\n",
      "6.0\n"
     ]
    }
   ],
   "source": [
    "# 10. Python does not have ++ or -- operators\n",
    "\n",
    "i = 3\n",
    "\n",
    "i += 1\n",
    "print(i)\n",
    "\n",
    "i -= 1\n",
    "print(i)\n",
    "\n",
    "i *= 2\n",
    "print(i)\n",
    "\n",
    "i *= 2\n",
    "print(i)\n",
    "\n",
    "i /= 2 \n",
    "print(i)"
   ]
  },
  {
   "cell_type": "markdown",
   "metadata": {},
   "source": [
    "There is so much more to Python, and the language changes from time to time. \n",
    "\n",
    "This is one of my favorite Python references: [The Hitchhiker's Guide to Python](https://docs.python-guide.org/)"
   ]
  },
  {
   "cell_type": "code",
   "execution_count": null,
   "metadata": {},
   "outputs": [],
   "source": []
  }
 ],
 "metadata": {
  "kernelspec": {
   "display_name": "Python 3",
   "language": "python",
   "name": "python3"
  },
  "language_info": {
   "codemirror_mode": {
    "name": "ipython",
    "version": 3
   },
   "file_extension": ".py",
   "mimetype": "text/x-python",
   "name": "python",
   "nbconvert_exporter": "python",
   "pygments_lexer": "ipython3",
   "version": "3.9.6"
  }
 },
 "nbformat": 4,
 "nbformat_minor": 4
}
