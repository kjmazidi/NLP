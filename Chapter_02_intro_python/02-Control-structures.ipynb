{
 "cells": [
  {
   "cell_type": "markdown",
   "metadata": {},
   "source": [
    "[![Open in Colab](https://colab.research.google.com/assets/colab-badge.svg)](https://colab.research.google.com/github/kjmazidi/NLP/blob/master/Chapter_02_intro_python/02-Control-structures.ipynb)"
   ]
  },
  {
   "cell_type": "markdown",
   "metadata": {},
   "source": [
    "## Chapter 2 Intro to Python\n",
    "### Notebook 2 Control structures quick reference\n",
    "\n",
    "This notebook is designed to be a review for people who haven't used Python in a while. For Python newbies, it is suggested to go through the notebooks in the **Python_Fundamentals** folder in the GitHub. \n",
    "\n",
    "The basic control structures in Python are:\n",
    "* if\n",
    "* if elif else\n",
    "* while\n",
    "* for\n",
    "* functions\n",
    "\n",
    "\n",
    "###### Code accompanies *Natural Language Processing* by KJG Mazidi, all rights reserved."
   ]
  },
  {
   "cell_type": "markdown",
   "metadata": {},
   "source": [
    "#### if and variations\n",
    "\n",
    "In the following examples, notice:\n",
    "* you don't need ( ) around conditions\n",
    "* you do need ':' at the end of the condition\n",
    "* else needs a colon, as does elif\n",
    "* indents have meaning"
   ]
  },
  {
   "cell_type": "code",
   "execution_count": 1,
   "metadata": {},
   "outputs": [
    {
     "name": "stdout",
     "output_type": "stream",
     "text": [
      "pass\n",
      "good\n"
     ]
    }
   ],
   "source": [
    "grade = 85\n",
    "\n",
    "if grade > 90:\n",
    "    print('excellent')\n",
    "    \n",
    "if grade > 60:\n",
    "    print('pass')\n",
    "else:\n",
    "    print('fail')\n",
    "    \n",
    "if grade > 90:\n",
    "    print('excellent')\n",
    "elif grade > 80:\n",
    "    print('good')\n",
    "else:\n",
    "    print('needs improvement')"
   ]
  },
  {
   "cell_type": "markdown",
   "metadata": {},
   "source": [
    "#### Loops\n",
    "\n",
    "In the following examples, observe:\n",
    "* conditions don't need ( )\n",
    "* you need a colon at the end of the while or for line\n",
    "* indents have meaning"
   ]
  },
  {
   "cell_type": "code",
   "execution_count": 3,
   "metadata": {},
   "outputs": [
    {
     "name": "stdout",
     "output_type": "stream",
     "text": [
      "1\n",
      "2\n",
      "3\n",
      "4\n"
     ]
    }
   ],
   "source": [
    "list1 = list(range(1, 5))\n",
    "\n",
    "i = 0\n",
    "while i < len(list1):\n",
    "    print(list1[i])\n",
    "    i += 1"
   ]
  },
  {
   "cell_type": "code",
   "execution_count": 5,
   "metadata": {},
   "outputs": [
    {
     "name": "stdout",
     "output_type": "stream",
     "text": [
      "1\n",
      "2\n",
      "3\n",
      "4\n"
     ]
    }
   ],
   "source": [
    "for i in range (len(list1)):\n",
    "    print(list1[i])"
   ]
  },
  {
   "cell_type": "code",
   "execution_count": 6,
   "metadata": {},
   "outputs": [
    {
     "name": "stdout",
     "output_type": "stream",
     "text": [
      "h\n",
      "e\n",
      "l\n",
      "l\n",
      "o\n"
     ]
    }
   ],
   "source": [
    "for letter in list('hello'):\n",
    "    print(letter)"
   ]
  },
  {
   "cell_type": "markdown",
   "metadata": {},
   "source": [
    "#### Functions\n",
    "\n",
    "Key points about functions:\n",
    "* function definitions begin with the key word **def**\n",
    "* a function name is typically a verb, lower case, underscores\n",
    "* a colon is needed at the end of the def line\n",
    "* indents have meaning\n",
    "* call a function by its name\n",
    "\n",
    "The code below is just to show how to write a function. Never write a function that could be replaced by a single line of code. There is overhead to calling and returning from a function. "
   ]
  },
  {
   "cell_type": "code",
   "execution_count": 10,
   "metadata": {},
   "outputs": [
    {
     "data": {
      "text/plain": [
       "[4, 8, 12, 16]"
      ]
     },
     "execution_count": 10,
     "metadata": {},
     "output_type": "execute_result"
    }
   ],
   "source": [
    "def mult_nums(alist, anum):\n",
    "    return [x*anum for x in alist]\n",
    "\n",
    "mult_nums(list1, 4)"
   ]
  },
  {
   "cell_type": "markdown",
   "metadata": {},
   "source": [
    "It is a good habit to document your functions as shown below with a triple-quote string, called a **docstring** that should specify:\n",
    "* expected parameters\n",
    "* expected return values if any\n",
    "* sample function call\n",
    "* the first line should begin with a verb and describe what the function does\n",
    "\n",
    "This may be overkill for such a simple function, the purpose is just to show how to use a docstring. "
   ]
  },
  {
   "cell_type": "code",
   "execution_count": 8,
   "metadata": {},
   "outputs": [
    {
     "data": {
      "text/plain": [
       "[4, 8, 12, 16]"
      ]
     },
     "execution_count": 8,
     "metadata": {},
     "output_type": "execute_result"
    }
   ],
   "source": [
    "def mult_nums(alist, anum):\n",
    "    '''Multiplies numbers in alist by anum.\n",
    "\n",
    "    Args:\n",
    "      alist: a list of numbers\n",
    "      anum: a number\n",
    "\n",
    "    Returns:\n",
    "      The resulting list multiplied by anum. \n",
    "\n",
    "    Example usage:\n",
    "        mult_nums([1, 2, 3], 2)\n",
    "        returns:\n",
    "        [2, 4, 6]\n",
    "\n",
    "    '''\n",
    "    return [x*anum for x in alist]\n",
    "\n",
    "mult_nums(list1, 4)"
   ]
  }
 ],
 "metadata": {
  "kernelspec": {
   "display_name": "Python 3",
   "language": "python",
   "name": "python3"
  },
  "language_info": {
   "codemirror_mode": {
    "name": "ipython",
    "version": 3
   },
   "file_extension": ".py",
   "mimetype": "text/x-python",
   "name": "python",
   "nbconvert_exporter": "python",
   "pygments_lexer": "ipython3",
   "version": "3.9.6"
  }
 },
 "nbformat": 4,
 "nbformat_minor": 4
}
