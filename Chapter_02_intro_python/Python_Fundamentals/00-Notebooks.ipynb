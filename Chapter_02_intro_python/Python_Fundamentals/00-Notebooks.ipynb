{
 "cells": [
  {
   "attachments": {},
   "cell_type": "markdown",
   "metadata": {},
   "source": [
    "[![Open in Colab](https://colab.research.google.com/assets/colab-badge.svg)](https://colab.research.google.com/github/kjmazidi/NLP/blob/main/Chapter_02_intro_python/Python_Fundamentals/00-Notebooks.ipynb)"
   ]
  },
  {
   "attachments": {},
   "cell_type": "markdown",
   "metadata": {},
   "source": [
    "## What is a notebook?\n",
    "\n",
    "Notebooks are executable files in which sections of code are interspersed with commentary. Notebooks are great ways to share your work with others or showcase your work on your GitHub. Python notebooks end in **.pynb**\n",
    "\n",
    "\n",
    "Notebooks first gained widespread use with Jupyter. According to [the official site](http://jupyter.org/), Project Jupyter is an open source project that allows you to share code in an interactive platform. JupyterLab is the next evolution from earlier Jupyter notebooks. Jupyter now supports many programming languages besides Python 2 and Python 3. See a list [here](https://github.com/jupyter/jupyter/wiki/Jupyter-kernels). The Jupyter website contains information if you want to install and run Jupyter on your own machine. \n",
    "\n",
    "### Notebooks in IDEs\n",
    "\n",
    "Most Python IDEs such as Visual Studio Code or PyCharm have the ability to run **.pynb** notebooks as well as **.py** Python scripts. In this way, you can run notebooks without having to install Jupyter directly. \n",
    "\n",
    "### Notebooks in Colab\n",
    "\n",
    "Google provides a free service for running notebooks on their servers. Go to [colab.research.google.com](https://colab.research.google.com) to get started. You will be asked to link your Google drive (free with your Google email) to colab. Your notebooks are stored locally on your Google drive but you can run them on Google's cloud. Colab provides an excellent tutorial for colab. \n",
    "\n",
    "Colab now allows access to Google's Gemini model. See the colab tutorial for more on this. \n",
    "\n",
    "### Things to notice\n",
    "\n",
    "* a notebook is a vertical sequence of cells\n",
    "* the cells can be of different types: **markdown** for text cells and **code** for code\n",
    "* toolbars and menus let you do the usual things like cut, copy, paste, as well as the up/down arrows to \n",
    "* when you click on a cell, you can move it, deleted it, and more, observe the icons that pop up at the top right of a cell when you click on it\n",
    "* the interface varies a bit between Jupyter, IDEs and colab, but all are very intuitive and easy to navigate\n",
    "\n",
    "## Markdown\n",
    "\n",
    "When you click (or double-click) on a text cell you see the markdown that formatted the text. Markdown is a nice system because you can format while typing without taking your hands off the keyboard. Here are the most commonly used markdown formats:\n",
    "\n",
    "* headings are created by starting a line with 1 to 6 hashmarks, 1 being the largest heading\n",
    "* bold text is created by surrounding text with two asterisks\n",
    "* italicized text is craeted by surrounding text by one asterisk \n",
    "* a helpful markdown guide is available here: [https://www.markdownguide.org/cheat-sheet/](https://www.markdownguide.org/cheat-sheet/)\n",
    "\n",
    "\n",
    "\n"
   ]
  },
  {
   "attachments": {},
   "cell_type": "markdown",
   "metadata": {},
   "source": [
    "### Kernels\n",
    "\n",
    "How do these notebooks work? Behind the scenes there is a Python kernel that runs the Python code in the code cells on the servier and renders the output in displayable form for creating a beautiful page in a browser. The text cells written with Markdown also render text, links, images, and even formulas for the browser. "
   ]
  },
  {
   "attachments": {},
   "cell_type": "markdown",
   "metadata": {},
   "source": [
    "Let's write some simple Python code in the next cell. \n",
    "\n",
    "If you are viewing the notebook instead of the html version, you can hit shift-enter to run the cell, or click the run icon."
   ]
  },
  {
   "cell_type": "code",
   "execution_count": 2,
   "metadata": {},
   "outputs": [
    {
     "name": "stdout",
     "output_type": "stream",
     "text": [
      "Hello Mazidi\n"
     ]
    }
   ],
   "source": [
    "name = \"Mazidi\"\n",
    "print(\"Hello\", name)"
   ]
  },
  {
   "attachments": {},
   "cell_type": "markdown",
   "metadata": {},
   "source": [
    "You can add more text or code cells as you develop your code. \n",
    "\n",
    "\n",
    "The server will remember variables from cell to cell, as shown next.\n",
    "\n",
    "One thing that can be a gotcha is that if you are trying to edit a notebook, you can't start in the middle or the server will not have your variables in memory. \n"
   ]
  },
  {
   "cell_type": "code",
   "execution_count": 3,
   "metadata": {},
   "outputs": [
    {
     "name": "stdout",
     "output_type": "stream",
     "text": [
      "Goodbye  Mazidi\n"
     ]
    }
   ],
   "source": [
    "print(\"Goodbye \", name)"
   ]
  }
 ],
 "metadata": {
  "kernelspec": {
   "display_name": "Python 3",
   "language": "python",
   "name": "python3"
  },
  "language_info": {
   "codemirror_mode": {
    "name": "ipython",
    "version": 3
   },
   "file_extension": ".py",
   "mimetype": "text/x-python",
   "name": "python",
   "nbconvert_exporter": "python",
   "pygments_lexer": "ipython3",
   "version": "3.9.6"
  }
 },
 "nbformat": 4,
 "nbformat_minor": 4
}
