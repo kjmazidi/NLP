{
 "cells": [
  {
   "attachments": {},
   "cell_type": "markdown",
   "metadata": {},
   "source": [
    "[![Open in Colab](https://colab.research.google.com/assets/colab-badge.svg)](https://colab.research.google.com/github/kjmazidi/NLP_PT/blob/main/Chapter_02_intro_python/Python_Fundamentals/03-Files.ipynb)"
   ]
  },
  {
   "attachments": {},
   "cell_type": "markdown",
   "metadata": {},
   "source": [
    "### Read a file\n",
    "\n",
    "* open a file for reading, 'r', that is in the same directory\n",
    "* read with the read() function\n",
    "* close the file"
   ]
  },
  {
   "cell_type": "code",
   "execution_count": 1,
   "metadata": {
    "scrolled": true
   },
   "outputs": [
    {
     "name": "stdout",
     "output_type": "stream",
     "text": [
      "You read:\n",
      "  Natural language processing (NLP) is a field of computer science, artificial intelligence and computational linguistics concerned with the interactions between computers and human (natural) languages, and, in particular, concerned with programming computers to fruitfully process large natural language corpora. Challenges in natural language processing frequently involve natural language understanding, natural language generation (frequently from formal, machine-readable logical forms), connecting language and machine perception, managing human-computer dialog systems, or some combination thereof.\n",
      "Source: https://en.wikipedia.org/wiki/Natural_language_processing\n"
     ]
    }
   ],
   "source": [
    "# this code block runs on your computer, not in colab\n",
    "\n",
    "f = open('sample1.txt','r') \n",
    "text = f.read()\n",
    "print('You read:\\n', text)\n",
    "f.close()"
   ]
  },
  {
   "attachments": {},
   "cell_type": "markdown",
   "metadata": {},
   "source": [
    "### Read a line at a time\n",
    "\n",
    "The following code shows a *for* loop to process one line at a time."
   ]
  },
  {
   "cell_type": "code",
   "execution_count": 2,
   "metadata": {},
   "outputs": [
    {
     "name": "stdout",
     "output_type": "stream",
     "text": [
      " Natural language processing (NLP) is a field of computer science, artificial intelligence and computational linguistics concerned with the interactions between computers and human (natural) languages, and, in particular, concerned with programming computers to fruitfully process large natural language corpora. Challenges in natural language processing frequently involve natural language understanding, natural language generation (frequently from formal, machine-readable logical forms), connecting language and machine perception, managing human-computer dialog systems, or some combination thereof.\n",
      "\n",
      "Source: https://en.wikipedia.org/wiki/Natural_language_processing\n"
     ]
    }
   ],
   "source": [
    "# this code block runs on your computer, not in colab\n",
    "\n",
    "f = open('sample1.txt', 'r')\n",
    "for line in f:\n",
    "    print(line)\n",
    "f.close()"
   ]
  },
  {
   "attachments": {},
   "cell_type": "markdown",
   "metadata": {},
   "source": [
    "### Using \"with\"\n",
    "\n",
    "The *with* statement starts a block of code. When we are through with the block of code, Python will close the file automatically."
   ]
  },
  {
   "cell_type": "code",
   "execution_count": 3,
   "metadata": {},
   "outputs": [
    {
     "name": "stdout",
     "output_type": "stream",
     "text": [
      "You read:\n",
      "  Natural language processing (NLP) is a field of computer science, artificial intelligence and computational linguistics concerned with the interactions between computers and human (natural) languages, and, in particular, concerned with programming computers to fruitfully process large natural language corpora. Challenges in natural language processing frequently involve natural language understanding, natural language generation (frequently from formal, machine-readable logical forms), connecting language and machine perception, managing human-computer dialog systems, or some combination thereof.\n",
      "Source: https://en.wikipedia.org/wiki/Natural_language_processing\n"
     ]
    }
   ],
   "source": [
    "# this code block runs on your computer, not in colab\n",
    "\n",
    "with open('sample1.txt', 'r') as f:\n",
    "    text = f.read()\n",
    "print(\"You read:\\n\", text)"
   ]
  },
  {
   "attachments": {},
   "cell_type": "markdown",
   "metadata": {},
   "source": [
    "### Encoding\n",
    "\n",
    "Encoding used to be a pain in Python 2 but is less of a problem in Python 3, which uses utf-8 by default. However, you can specify the encoding if you need to. The strip() function removes newlines."
   ]
  },
  {
   "cell_type": "code",
   "execution_count": 4,
   "metadata": {},
   "outputs": [
    {
     "name": "stdout",
     "output_type": "stream",
     "text": [
      "Natural language processing (NLP) is a field of computer science, artificial intelligence and computational linguistics concerned with the interactions between computers and human (natural) languages, and, in particular, concerned with programming computers to fruitfully process large natural language corpora. Challenges in natural language processing frequently involve natural language understanding, natural language generation (frequently from formal, machine-readable logical forms), connecting language and machine perception, managing human-computer dialog systems, or some combination thereof.\n",
      "Source: https://en.wikipedia.org/wiki/Natural_language_processing\n"
     ]
    }
   ],
   "source": [
    "# this code block runs on your computer, not in colab\n",
    "\n",
    "with open('sample1.txt', 'r', encoding='utf-8') as f:\n",
    "    for line in f:\n",
    "        print(line.strip())"
   ]
  },
  {
   "attachments": {},
   "cell_type": "markdown",
   "metadata": {},
   "source": [
    "### Get text from the web\n",
    "\n",
    "The urllib library contains functions to handle urls. Below we read text from a web page."
   ]
  },
  {
   "cell_type": "code",
   "execution_count": 5,
   "metadata": {},
   "outputs": [
    {
     "data": {
      "text/plain": [
       "'\\ufeffThe Project Gutenberg eBook of Crime and Punishment, by Fyodor Dostoevsky\\r\\n\\r\\nThis eBook is for the use of anyone anywhere in the United States and\\r\\nmost other parts of the world at no cost and with almost no restrictions\\r\\nwhatsoever. You may copy it, give it away or re-use it under the terms\\r\\nof the Project Gutenberg License included with this eBook or online at\\r\\nwww.gutenberg.org. If you are not located in the United States, you\\r\\nwill have to check the laws of the country where you are located before\\r\\nusing this eBook.\\r\\n\\r\\nTitle: Crime and Punishment\\r\\n\\r\\nAuthor: Fyodor Dostoevsky\\r\\n\\r\\nTranslator: Constance Garnett\\r\\n\\r\\nRelease Date: March, 2001 [eBook #2554]\\r\\n[Most recently updated: August 6, 2021]\\r\\n\\r\\nLanguage: English\\r\\n\\r\\nCharacter set encoding: UTF-8\\r\\n\\r\\nProduced by: John Bickers, Dagny and David Widger\\r\\n\\r\\n*** START OF THE PROJECT GUTENBERG EBOOK CRIME AND PUNISHMENT ***\\r\\n\\r\\n\\r\\n\\r\\n\\r\\nCRIME AND PUNISHMENT\\r\\n\\r\\nBy Fyodor Dostoevsky\\r\\n\\r\\n\\r\\n\\r\\nTranslated By Constance Garnett\\r\\n\\r\\n\\r\\n\\r\\n\\r\\nTRANSLATOR’S PREFA'"
      ]
     },
     "execution_count": 5,
     "metadata": {},
     "output_type": "execute_result"
    }
   ],
   "source": [
    "from urllib import request\n",
    "url = \"http://www.gutenberg.org/files/2554/2554-0.txt\"\n",
    "crime = request.urlopen(url).read().decode('utf8')\n",
    "crime[:1000]"
   ]
  },
  {
   "attachments": {},
   "cell_type": "markdown",
   "metadata": {},
   "source": [
    "# Write to a file\n",
    "\n",
    "Writing to a file involves 3 steps:\n",
    "* open the file\n",
    "* write to the file\n",
    "* close the file\n",
    "\n",
    "All 3 are demonstrated below. Note that the write() function doesn't write newline so we need to.\n",
    "\n",
    "The following code blocks will run on a local machine. If you are running on Google colab, see how to upload a file at the end of the notebook. "
   ]
  },
  {
   "cell_type": "code",
   "execution_count": 6,
   "metadata": {},
   "outputs": [],
   "source": [
    "# this code block runs on your computer, not in colab\n",
    "\n",
    "f = open('temp.txt', 'w')\n",
    "f.write('This is the first line\\n')\n",
    "f.write('This is another line\\n')\n",
    "f.close()"
   ]
  },
  {
   "attachments": {},
   "cell_type": "markdown",
   "metadata": {},
   "source": [
    "Let's read the file in and print each line to the screen.\n",
    "\n",
    "f.read() reads the file while .splitlines() separates on newline, getting rid of newline in the process."
   ]
  },
  {
   "cell_type": "code",
   "execution_count": 7,
   "metadata": {},
   "outputs": [
    {
     "name": "stdout",
     "output_type": "stream",
     "text": [
      "This is the first line\n",
      "This is another line\n"
     ]
    }
   ],
   "source": [
    "# this code block runs on your computer, not in colab\n",
    "\n",
    "with open('temp.txt','r') as f:\n",
    "    lines = f.read().splitlines()\n",
    "for line in lines:\n",
    "    print(line)"
   ]
  },
  {
   "attachments": {},
   "cell_type": "markdown",
   "metadata": {},
   "source": [
    "## Formatting output\n",
    "\n",
    "There are a few ways to format output:\n",
    "\n",
    "* the old way: '%d %s' % (number, name)\n",
    "* a newer way: '{} {}'.format(number, name)\n",
    "* the f-string way: f'{number} {name}'\n",
    "\n",
    "Python f-strings have been available since Python 3.6. The {} in fstrings can contain variables or expressions. \n"
   ]
  },
  {
   "cell_type": "code",
   "execution_count": 8,
   "metadata": {},
   "outputs": [
    {
     "name": "stdout",
     "output_type": "stream",
     "text": [
      "42 Who\n",
      "42 Who\n",
      "42 Who\n"
     ]
    }
   ],
   "source": [
    "number = 42\n",
    "name = 'Who'\n",
    "\n",
    "print('%d %s' % (number, name))\n",
    "print('{} {}'.format(number, name))\n",
    "print(f'{number} {name}')"
   ]
  },
  {
   "cell_type": "code",
   "execution_count": 12,
   "metadata": {},
   "outputs": [
    {
     "name": "stdout",
     "output_type": "stream",
     "text": [
      "Name: Ralph    Favorite number is 3 GPA is 3.70\n"
     ]
    }
   ],
   "source": [
    "# this code block runs on your computer, not in colab\n",
    "\n",
    "num = 3\n",
    "gpa = 3.7\n",
    "name = 'Ralph'\n",
    "f = open('temp.txt', 'w')\n",
    "\n",
    "f.write(f'Name: {name:8} Favorite number is {num} GPA is {gpa:.2f}')\n",
    "f.close\n",
    "\n",
    "# read back in\n",
    "with open('temp.txt', 'r') as f:\n",
    "    lines = f.read().splitlines()\n",
    "for line in lines:\n",
    "    print(line)"
   ]
  },
  {
   "attachments": {},
   "cell_type": "markdown",
   "metadata": {},
   "source": [
    "Formatting is a lengthy and boring subject. When you need to know details, refer to the Python documentation or [this link](https://realpython.com/python-f-strings/)."
   ]
  },
  {
   "attachments": {},
   "cell_type": "markdown",
   "metadata": {},
   "source": [
    "### Path\n"
   ]
  },
  {
   "cell_type": "code",
   "execution_count": 10,
   "metadata": {},
   "outputs": [
    {
     "name": "stdout",
     "output_type": "stream",
     "text": [
      "pclass,survived,name,sex,age,sibsp,parch,ticket,fare,cabin,embarked,boat,body,home.dest\n",
      "1,1,\"Allen, Miss. Elisabeth Walton\",female,29,0,0,24160,211.3375,B5,S,2,,\"St Louis, MO\"\n",
      "1,1,\"Allison, Master. Hu\n"
     ]
    }
   ],
   "source": [
    "# this code block was written to run on your computer\n",
    "\n",
    "from pathlib import Path\n",
    "\n",
    "folder = Path('data/')\n",
    "file_path = folder / 'titanic3.csv'\n",
    "\n",
    "f = open(file_path)\n",
    "\n",
    "contents = f.read()\n",
    "print(contents[:200])"
   ]
  },
  {
   "cell_type": "code",
   "execution_count": 11,
   "metadata": {},
   "outputs": [
    {
     "data": {
      "text/plain": [
       "PosixPath('/Users/janicemazidi/Dropbox/book_nlp_ed2/code/Chapter_02_intro_python/Python_Fundamentals')"
      ]
     },
     "execution_count": 11,
     "metadata": {},
     "output_type": "execute_result"
    }
   ],
   "source": [
    "# this code block was written to run on your computer\n",
    "\n",
    "# get current working directory\n",
    "import pathlib\n",
    "\n",
    "pathlib.Path.cwd()"
   ]
  },
  {
   "attachments": {},
   "cell_type": "markdown",
   "metadata": {},
   "source": [
    "### Uploading a file to Google colab\n",
    "\n",
    "If you are running a notebook on Google colab, you will need to upload any files you want to read.\n",
    "\n",
    "Step 1 is to run the following boilerplate code, which will open a dialog with you to find the file that you want to upload from your local disk. "
   ]
  },
  {
   "cell_type": "code",
   "execution_count": null,
   "metadata": {},
   "outputs": [],
   "source": [
    "# for colab only\n",
    "\n",
    "from google.colab import files\n",
    "uploaded = files.upload()"
   ]
  },
  {
   "attachments": {},
   "cell_type": "markdown",
   "metadata": {},
   "source": [
    "The following code chunk (when run in colab) will read a csv into a pandas data frame. We will discuss pandas in the machine learning part of the book. "
   ]
  },
  {
   "cell_type": "code",
   "execution_count": null,
   "metadata": {},
   "outputs": [],
   "source": [
    "# for colab only\n",
    "\n",
    "import io\n",
    "df2 = pd.read_csv(io.BytesIO(uploaded['Filename.csv']))\n",
    "# Dataset is now stored in a Pandas Dataframe"
   ]
  },
  {
   "attachments": {},
   "cell_type": "markdown",
   "metadata": {},
   "source": [
    "### Other options when using colab\n",
    "\n",
    "Other options to utilize local files on colab can be found in the [colab documentation](https://colab.research.google.com/notebooks/io.ipynb)"
   ]
  }
 ],
 "metadata": {
  "kernelspec": {
   "display_name": "Python 3",
   "language": "python",
   "name": "python3"
  },
  "language_info": {
   "codemirror_mode": {
    "name": "ipython",
    "version": 3
   },
   "file_extension": ".py",
   "mimetype": "text/x-python",
   "name": "python",
   "nbconvert_exporter": "python",
   "pygments_lexer": "ipython3",
   "version": "3.9.6"
  }
 },
 "nbformat": 4,
 "nbformat_minor": 4
}
