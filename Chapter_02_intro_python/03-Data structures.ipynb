{
 "cells": [
  {
   "cell_type": "markdown",
   "metadata": {},
   "source": [
    "### Fundamental Containers\n",
    "\n",
    "These general-purpose containers are essential to programming in Python:\n",
    "\n",
    "* lists are mutable and represented in \\[square brackets]\n",
    "* tuples are immutable and represented in (parenthesis)\n",
    "* sets are mutable and represented in { }\n",
    "* dicts are mutable and represented in {key:value} pairs\n",
    "* strings are immutable and enclosed in single, double, or triple quotes\n",
    "\n",
    "Other specialized containers include Counter, OrderedDict, deque, and many more. You can research these in [the docs](https://docs.python.org/3/library/collections.html)"
   ]
  },
  {
   "cell_type": "markdown",
   "metadata": {},
   "source": [
    "#### List example: iterating over a sorted list"
   ]
  },
  {
   "cell_type": "code",
   "execution_count": 2,
   "metadata": {},
   "outputs": [
    {
     "name": "stdout",
     "output_type": "stream",
     "text": [
      "Anika\n",
      "Bob\n",
      "Hamed\n",
      "Xavier\n",
      "Zelda\n"
     ]
    }
   ],
   "source": [
    "friends = ['Bob', 'Xavier', 'Zelda', 'Anika', 'Hamed']\n",
    "\n",
    "for friend in sorted(friends):\n",
    "    print(friend)"
   ]
  },
  {
   "cell_type": "markdown",
   "metadata": {},
   "source": [
    "#### List comprehension example"
   ]
  },
  {
   "cell_type": "code",
   "execution_count": 6,
   "metadata": {},
   "outputs": [
    {
     "data": {
      "text/plain": [
       "[1, 4, 9, 16, 25, 36, 49, 64, 81]"
      ]
     },
     "execution_count": 6,
     "metadata": {},
     "output_type": "execute_result"
    }
   ],
   "source": [
    "new_list = [x**2 for x in range(1, 10)]\n",
    "new_list"
   ]
  },
  {
   "cell_type": "markdown",
   "metadata": {},
   "source": [
    "#### Tuple example  "
   ]
  },
  {
   "cell_type": "code",
   "execution_count": 9,
   "metadata": {},
   "outputs": [
    {
     "name": "stdout",
     "output_type": "stream",
     "text": [
      "1 9 45 5.0\n"
     ]
    }
   ],
   "source": [
    "def calc_list_stats(alist):\n",
    "    min_val = min(alist)\n",
    "    max_val = max(alist)\n",
    "    sum_val = sum(alist)\n",
    "    mean_val = sum(alist) / len(alist)\n",
    "    return min_val, max_val, sum_val, mean_val\n",
    "\n",
    "list1 = list(range(1, 10)) \n",
    "\n",
    "lmin, lmax, lsum, lmean = calc_list_stats(list1)  # tuple unpacking\n",
    "\n",
    "print(lmin, lmax, lsum, lmean)"
   ]
  },
  {
   "cell_type": "markdown",
   "metadata": {},
   "source": [
    "#### Set example"
   ]
  },
  {
   "cell_type": "code",
   "execution_count": 12,
   "metadata": {},
   "outputs": [
    {
     "name": "stdout",
     "output_type": "stream",
     "text": [
      "{'d', 'v', 's', 'n', 'u', 'x', 't', 'e', 'r', ' ', 'i', 'f', 'h', 'o', 'a', 'y', 'l'}\n"
     ]
    }
   ],
   "source": [
    "string1 = 'The University of Texas at Dallas'.lower()\n",
    "\n",
    "letters = set(string1)\n",
    "print(letters)"
   ]
  },
  {
   "cell_type": "markdown",
   "metadata": {},
   "source": [
    "#### Dict example"
   ]
  },
  {
   "cell_type": "code",
   "execution_count": 13,
   "metadata": {},
   "outputs": [
    {
     "data": {
      "text/plain": [
       "{'d': 1,\n",
       " 'v': 1,\n",
       " 's': 3,\n",
       " 'n': 1,\n",
       " 'u': 1,\n",
       " 'x': 1,\n",
       " 't': 4,\n",
       " 'e': 3,\n",
       " 'r': 1,\n",
       " ' ': 5,\n",
       " 'i': 2,\n",
       " 'f': 1,\n",
       " 'h': 1,\n",
       " 'o': 1,\n",
       " 'a': 4,\n",
       " 'y': 1,\n",
       " 'l': 2}"
      ]
     },
     "execution_count": 13,
     "metadata": {},
     "output_type": "execute_result"
    }
   ],
   "source": [
    "dict_counts = {}\n",
    "\n",
    "for letter in letters:\n",
    "    dict_counts[letter] = string1.count(letter)\n",
    "    \n",
    "dict_counts"
   ]
  },
  {
   "cell_type": "markdown",
   "metadata": {},
   "source": [
    "#### String examples"
   ]
  },
  {
   "cell_type": "code",
   "execution_count": 15,
   "metadata": {},
   "outputs": [
    {
     "name": "stdout",
     "output_type": "stream",
     "text": [
      "THE UNIVERSITY OF TEXAS AT DALLAS\n",
      "True\n"
     ]
    }
   ],
   "source": [
    "print(string1.upper())\n",
    "print(string1[0].isalpha())"
   ]
  },
  {
   "cell_type": "markdown",
   "metadata": {},
   "source": [
    "#### Format text and write to a file"
   ]
  },
  {
   "cell_type": "code",
   "execution_count": 24,
   "metadata": {},
   "outputs": [
    {
     "name": "stdout",
     "output_type": "stream",
     "text": [
      "Name: Ralph    Favorite number is 3 \t GPA is 3.70\n"
     ]
    }
   ],
   "source": [
    "num = 3\n",
    "gpa = 3.7\n",
    "name = 'Ralph'\n",
    "f = open('temp.txt', 'w')\n",
    "f.write(f'Name: {name:8} Favorite number is {num:d} \\t GPA is {gpa:.2f}')\n",
    "f.close()\n",
    "\n",
    "# print to console\n",
    "print(f'Name: {name:8} Favorite number is {num:d} \\t GPA is {gpa:.2f}')"
   ]
  },
  {
   "cell_type": "markdown",
   "metadata": {},
   "source": [
    "#### Read from a file"
   ]
  },
  {
   "cell_type": "code",
   "execution_count": 23,
   "metadata": {},
   "outputs": [
    {
     "name": "stdout",
     "output_type": "stream",
     "text": [
      "Name: Ralph    Favorite number is 3 \t GPA is 3.70\n"
     ]
    }
   ],
   "source": [
    "with open('temp.txt', 'r') as f:\n",
    "    text = f.read()\n",
    "    \n",
    "print(text)"
   ]
  },
  {
   "cell_type": "code",
   "execution_count": null,
   "metadata": {},
   "outputs": [],
   "source": []
  }
 ],
 "metadata": {
  "kernelspec": {
   "display_name": "Python 3",
   "language": "python",
   "name": "python3"
  },
  "language_info": {
   "codemirror_mode": {
    "name": "ipython",
    "version": 3
   },
   "file_extension": ".py",
   "mimetype": "text/x-python",
   "name": "python",
   "nbconvert_exporter": "python",
   "pygments_lexer": "ipython3",
   "version": "3.8.2"
  }
 },
 "nbformat": 4,
 "nbformat_minor": 4
}
