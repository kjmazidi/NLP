{
 "cells": [
  {
   "cell_type": "markdown",
   "metadata": {},
   "source": [
    "## Dependency Parse with Stanza\n",
    "### Stanford NLP Python Library\n",
    "\n",
    "This notebook demonstrates how to get a dependency parse using Stanza, the official Python library associated with Stanford CoreNLP. \n",
    "\n",
    "Stanza runs on top of CoreNLP, so you need to download CoreNLP first: https://stanfordnlp.github.io/CoreNLP/download.html\n",
    "\n",
    "Next, install stanza with pip/pip3:\n",
    "\n",
    "```\n",
    "pip3 install stanza\n",
    "```\n",
    "\n",
    "See the Stanza GitHub for further information: https://github.com/stanfordnlp/stanza\n",
    "\n"
   ]
  },
  {
   "cell_type": "code",
   "execution_count": 1,
   "metadata": {},
   "outputs": [],
   "source": [
    "import stanza"
   ]
  },
  {
   "cell_type": "markdown",
   "metadata": {},
   "source": [
    "Run the following code to download the English models for the neural pipeline. You will get a message telling you where it was downloaded, for example:\n",
    "```\n",
    "/Users/mazidi/stanza_resources\n",
    "```"
   ]
  },
  {
   "cell_type": "raw",
   "metadata": {},
   "source": [
    "stanza.download('en')"
   ]
  },
  {
   "cell_type": "code",
   "execution_count": 2,
   "metadata": {},
   "outputs": [
    {
     "name": "stderr",
     "output_type": "stream",
     "text": [
      "2020-09-23 16:44:15 INFO: Loading these models for language: en (English):\n",
      "=========================\n",
      "| Processor | Package   |\n",
      "-------------------------\n",
      "| tokenize  | ewt       |\n",
      "| pos       | ewt       |\n",
      "| lemma     | ewt       |\n",
      "| depparse  | ewt       |\n",
      "| sentiment | sstplus   |\n",
      "| ner       | ontonotes |\n",
      "=========================\n",
      "\n",
      "2020-09-23 16:44:15 INFO: Use device: cpu\n",
      "2020-09-23 16:44:15 INFO: Loading: tokenize\n",
      "2020-09-23 16:44:15 INFO: Loading: pos\n",
      "2020-09-23 16:44:16 INFO: Loading: lemma\n",
      "2020-09-23 16:44:16 INFO: Loading: depparse\n",
      "2020-09-23 16:44:17 INFO: Loading: sentiment\n",
      "2020-09-23 16:44:18 INFO: Loading: ner\n",
      "2020-09-23 16:44:19 INFO: Done loading processors!\n"
     ]
    }
   ],
   "source": [
    "# set up the pipeline\n",
    "nlp = stanza.Pipeline('en')"
   ]
  },
  {
   "cell_type": "code",
   "execution_count": 3,
   "metadata": {},
   "outputs": [],
   "source": [
    "# set up the doc object on text\n",
    "\n",
    "text = \"Barack Obama was born in Hawaii.  He was elected president in 2008.\"\n",
    "doc = nlp(text)"
   ]
  },
  {
   "cell_type": "code",
   "execution_count": 4,
   "metadata": {},
   "outputs": [
    {
     "name": "stdout",
     "output_type": "stream",
     "text": [
      "('Barack', 4, 'nsubj:pass')\n",
      "('Obama', 1, 'flat')\n",
      "('was', 4, 'aux:pass')\n",
      "('born', 0, 'root')\n",
      "('in', 6, 'case')\n",
      "('Hawaii', 4, 'obl')\n",
      "('.', 4, 'punct')\n",
      "('He', 3, 'nsubj:pass')\n",
      "('was', 3, 'aux:pass')\n",
      "('elected', 0, 'root')\n",
      "('president', 3, 'xcomp')\n",
      "('in', 6, 'case')\n",
      "('2008', 3, 'obl')\n",
      "('.', 3, 'punct')\n"
     ]
    }
   ],
   "source": [
    "for sentence in doc.sentences:\n",
    "    sentence.print_dependencies()"
   ]
  },
  {
   "cell_type": "markdown",
   "metadata": {},
   "source": [
    "### Running a client-server\n",
    "\n",
    "The rest of the notebook shows how to run the CoreNLP client-server. You will need to modify the code that specifies the core nlp path. The code shown is for Mac."
   ]
  },
  {
   "cell_type": "code",
   "execution_count": 5,
   "metadata": {},
   "outputs": [],
   "source": [
    "from stanza.server import CoreNLPClient"
   ]
  },
  {
   "cell_type": "code",
   "execution_count": 6,
   "metadata": {},
   "outputs": [],
   "source": [
    "import os\n",
    "os.environ[\"CORENLP_HOME\"] = r'/Users/mazidi/stanford-corenlp-4.1 2.0'"
   ]
  },
  {
   "cell_type": "markdown",
   "metadata": {},
   "source": [
    "Using 'with' will shut down the server a second or two after the notebook closes. "
   ]
  },
  {
   "cell_type": "code",
   "execution_count": 7,
   "metadata": {},
   "outputs": [
    {
     "name": "stderr",
     "output_type": "stream",
     "text": [
      "2020-09-23 16:46:02 INFO: Writing properties to tmp file: corenlp_server-20edcb664aca4d38.props\n",
      "2020-09-23 16:46:02 INFO: Starting server with command: java -Xmx16G -cp /Users/mazidi/stanford-corenlp-4.1 2.0/* edu.stanford.nlp.pipeline.StanfordCoreNLPServer -port 9000 -timeout 30000 -threads 5 -maxCharLength 100000 -quiet True -serverProperties corenlp_server-20edcb664aca4d38.props -annotators tokenize,ssplit,pos,lemma,ner,parse,depparse,coref -preload -outputFormat serialized\n"
     ]
    }
   ],
   "source": [
    "with CoreNLPClient(\n",
    "        annotators=['tokenize','ssplit','pos','lemma','ner', 'parse', 'depparse','coref'],\n",
    "        timeout=30000,\n",
    "        memory='16G', be_quiet=True) as client:\n",
    "    ann = client.annotate(text)"
   ]
  },
  {
   "cell_type": "code",
   "execution_count": 8,
   "metadata": {},
   "outputs": [
    {
     "name": "stdout",
     "output_type": "stream",
     "text": [
      "id: 1\tword: Barack\thead id: 4\thead: born\tdeprel: nsubj:pass\n",
      "id: 2\tword: Obama\thead id: 1\thead: Barack\tdeprel: flat\n",
      "id: 3\tword: was\thead id: 4\thead: born\tdeprel: aux:pass\n",
      "id: 4\tword: born\thead id: 0\thead: root\tdeprel: root\n",
      "id: 5\tword: in\thead id: 6\thead: Hawaii\tdeprel: case\n",
      "id: 6\tword: Hawaii\thead id: 4\thead: born\tdeprel: obl\n",
      "id: 7\tword: .\thead id: 4\thead: born\tdeprel: punct\n",
      "id: 1\tword: He\thead id: 3\thead: elected\tdeprel: nsubj:pass\n",
      "id: 2\tword: was\thead id: 3\thead: elected\tdeprel: aux:pass\n",
      "id: 3\tword: elected\thead id: 0\thead: root\tdeprel: root\n",
      "id: 4\tword: president\thead id: 3\thead: elected\tdeprel: xcomp\n",
      "id: 5\tword: in\thead id: 6\thead: 2008\tdeprel: case\n",
      "id: 6\tword: 2008\thead id: 3\thead: elected\tdeprel: obl\n",
      "id: 7\tword: .\thead id: 3\thead: elected\tdeprel: punct\n",
      "id: 1\tword: Barack\thead id: 4\thead: born\tdeprel: nsubj:pass\n",
      "id: 2\tword: Obama\thead id: 1\thead: Barack\tdeprel: flat\n",
      "id: 3\tword: was\thead id: 4\thead: born\tdeprel: aux:pass\n",
      "id: 4\tword: born\thead id: 0\thead: root\tdeprel: root\n",
      "id: 5\tword: in\thead id: 6\thead: Hawaii\tdeprel: case\n",
      "id: 6\tword: Hawaii\thead id: 4\thead: born\tdeprel: obl\n",
      "id: 7\tword: .\thead id: 4\thead: born\tdeprel: punct\n",
      "id: 1\tword: He\thead id: 3\thead: elected\tdeprel: nsubj:pass\n",
      "id: 2\tword: was\thead id: 3\thead: elected\tdeprel: aux:pass\n",
      "id: 3\tword: elected\thead id: 0\thead: root\tdeprel: root\n",
      "id: 4\tword: president\thead id: 3\thead: elected\tdeprel: xcomp\n",
      "id: 5\tword: in\thead id: 6\thead: 2008\tdeprel: case\n",
      "id: 6\tword: 2008\thead id: 3\thead: elected\tdeprel: obl\n",
      "id: 7\tword: .\thead id: 3\thead: elected\tdeprel: punct\n"
     ]
    }
   ],
   "source": [
    "for sentence in ann.sentence:\n",
    "    print(*[f'id: {word.id}\\tword: {word.text}\\thead id: {word.head}\\thead: {sent.words[word.head-1].text if word.head > 0 else \"root\"}\\tdeprel: {word.deprel}' for sent in doc.sentences for word in sent.words], sep='\\n')"
   ]
  },
  {
   "cell_type": "code",
   "execution_count": null,
   "metadata": {},
   "outputs": [],
   "source": []
  }
 ],
 "metadata": {
  "kernelspec": {
   "display_name": "Python 3",
   "language": "python",
   "name": "python3"
  },
  "language_info": {
   "codemirror_mode": {
    "name": "ipython",
    "version": 3
   },
   "file_extension": ".py",
   "mimetype": "text/x-python",
   "name": "python",
   "nbconvert_exporter": "python",
   "pygments_lexer": "ipython3",
   "version": "3.8.2"
  }
 },
 "nbformat": 4,
 "nbformat_minor": 4
}
